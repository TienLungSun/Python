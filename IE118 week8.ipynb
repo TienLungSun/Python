{
  "nbformat": 4,
  "nbformat_minor": 0,
  "metadata": {
    "colab": {
      "name": "Untitled3.ipynb",
      "provenance": [],
      "include_colab_link": true
    },
    "kernelspec": {
      "name": "python3",
      "display_name": "Python 3"
    },
    "language_info": {
      "name": "python"
    }
  },
  "cells": [
    {
      "cell_type": "markdown",
      "metadata": {
        "id": "view-in-github",
        "colab_type": "text"
      },
      "source": [
        "<a href=\"https://colab.research.google.com/github/TienLungSun/Python/blob/main/IE118%20week8.ipynb\" target=\"_parent\"><img src=\"https://colab.research.google.com/assets/colab-badge.svg\" alt=\"Open In Colab\"/></a>"
      ]
    },
    {
      "cell_type": "markdown",
      "metadata": {
        "id": "8Yxl2vTh6TDS"
      },
      "source": [
        "p.1-62 for loop"
      ]
    },
    {
      "cell_type": "code",
      "metadata": {
        "id": "6FISwoP97QCJ",
        "colab": {
          "base_uri": "https://localhost:8080/"
        },
        "outputId": "0c442c28-2ac4-4507-8b06-1925f59f2e79"
      },
      "source": [
        "for i in range(5):\n",
        "  print(i, end = \", \")"
      ],
      "execution_count": null,
      "outputs": [
        {
          "output_type": "stream",
          "name": "stdout",
          "text": [
            "0, 1, 2, 3, 4, "
          ]
        }
      ]
    },
    {
      "cell_type": "code",
      "metadata": {
        "id": "Ed5veJIc7_31",
        "colab": {
          "base_uri": "https://localhost:8080/"
        },
        "outputId": "d9ffd4be-917a-4901-d593-ecd7d87cd5b5"
      },
      "source": [
        "s=0\n",
        "for i in range(1, 101):\n",
        "  s = s + i\n",
        "print(s)"
      ],
      "execution_count": null,
      "outputs": [
        {
          "output_type": "stream",
          "name": "stdout",
          "text": [
            "5050\n"
          ]
        }
      ]
    },
    {
      "cell_type": "code",
      "metadata": {
        "id": "LP4tLUKpxDmR"
      },
      "source": [
        "s=1\n",
        "for i in range(1, 101):\n",
        "  s = s + i\n",
        "print(s)"
      ],
      "execution_count": null,
      "outputs": []
    },
    {
      "cell_type": "code",
      "metadata": {
        "id": "JbV5T1gA4P22",
        "colab": {
          "base_uri": "https://localhost:8080/"
        },
        "outputId": "d2020796-be2c-41ad-d7d7-edc6bf7f4f6b"
      },
      "source": [
        "s=0\n",
        "for i in range(1, 101):\n",
        "  s = s + i*i\n",
        "print(s)"
      ],
      "execution_count": null,
      "outputs": [
        {
          "output_type": "stream",
          "name": "stdout",
          "text": [
            "338350\n"
          ]
        }
      ]
    },
    {
      "cell_type": "code",
      "metadata": {
        "colab": {
          "base_uri": "https://localhost:8080/"
        },
        "id": "XrhIMsBs3CJN",
        "outputId": "c00b1a56-6c4a-46c6-eb5f-c1723b594ca3"
      },
      "source": [
        "s=1\n",
        "for i in range(1, 101):\n",
        "  s = s * i\n",
        "print(s)"
      ],
      "execution_count": null,
      "outputs": [
        {
          "output_type": "stream",
          "name": "stdout",
          "text": [
            "93326215443944152681699238856266700490715968264381621468592963895217599993229915608941463976156518286253697920827223758251185210916864000000000000000000000000\n"
          ]
        }
      ]
    },
    {
      "cell_type": "markdown",
      "metadata": {
        "id": "KB9HNZKR4oA_"
      },
      "source": [
        "練習:畫一顆聖誕樹"
      ]
    },
    {
      "cell_type": "markdown",
      "metadata": {
        "id": "UygiDdSt3Twl"
      },
      "source": [
        "p. 1-66 while"
      ]
    },
    {
      "cell_type": "code",
      "metadata": {
        "colab": {
          "base_uri": "https://localhost:8080/"
        },
        "id": "BwCCxCK_3Jj5",
        "outputId": "d2dec6fb-6f6c-417f-d3e8-5da8d57ad650"
      },
      "source": [
        "face = \"( ͡° ͜ʖ ͡°)\"\n",
        "i=1\n",
        "while (i<=5):\n",
        "  print(face*i)\n",
        "  i = i+1"
      ],
      "execution_count": null,
      "outputs": [
        {
          "output_type": "stream",
          "name": "stdout",
          "text": [
            "( ͡° ͜ʖ ͡°)\n",
            "( ͡° ͜ʖ ͡°)( ͡° ͜ʖ ͡°)\n",
            "( ͡° ͜ʖ ͡°)( ͡° ͜ʖ ͡°)( ͡° ͜ʖ ͡°)\n",
            "( ͡° ͜ʖ ͡°)( ͡° ͜ʖ ͡°)( ͡° ͜ʖ ͡°)( ͡° ͜ʖ ͡°)\n",
            "( ͡° ͜ʖ ͡°)( ͡° ͜ʖ ͡°)( ͡° ͜ʖ ͡°)( ͡° ͜ʖ ͡°)( ͡° ͜ʖ ͡°)\n"
          ]
        }
      ]
    },
    {
      "cell_type": "code",
      "metadata": {
        "id": "MgCIu8u63XBH"
      },
      "source": [
        "# 無窮迴圈, 注意!!!!!!!!!!\n",
        "face = \"( ͡° ͜ʖ ͡°)\"\n",
        "i=1\n",
        "while (i<=5):\n",
        "  print(face*i)"
      ],
      "execution_count": null,
      "outputs": []
    },
    {
      "cell_type": "code",
      "metadata": {
        "colab": {
          "base_uri": "https://localhost:8080/"
        },
        "id": "rMB3pA-83oyL",
        "outputId": "3f80a7a4-cb69-4319-d325-e3fa242bc8a2"
      },
      "source": [
        "msg = \"\"\n",
        "while (msg != \"bye\"):\n",
        "  msg = input(\">\")\n",
        "  print(\"嗨!哩賀\")"
      ],
      "execution_count": null,
      "outputs": [
        {
          "output_type": "stream",
          "name": "stdout",
          "text": [
            ">wang\n",
            "嗨!哩賀\n",
            ">bye\n",
            "嗨!哩賀\n"
          ]
        }
      ]
    },
    {
      "cell_type": "markdown",
      "metadata": {
        "id": "Y9y1N6kf5ONH"
      },
      "source": [
        "練習: 用 while 迴圈算 1+2+3+...+100"
      ]
    },
    {
      "cell_type": "markdown",
      "metadata": {
        "id": "sfXSC2rX5Xkl"
      },
      "source": [
        "練習: 用 while 迴圈算 1$*$2$*$3 ...*100"
      ]
    },
    {
      "cell_type": "markdown",
      "metadata": {
        "id": "SGIJrmAq6HsY"
      },
      "source": [
        "練習: 用 while 迴圈算 1<sup>2</sup>+2<sup>2</sup>+3<sup>2</sup>+...+100<sup>2</sup>"
      ]
    }
  ]
}