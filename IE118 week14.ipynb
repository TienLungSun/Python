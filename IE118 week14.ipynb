{
  "nbformat": 4,
  "nbformat_minor": 0,
  "metadata": {
    "colab": {
      "name": "Untitled3.ipynb",
      "provenance": [],
      "include_colab_link": true
    },
    "kernelspec": {
      "name": "python3",
      "display_name": "Python 3"
    },
    "language_info": {
      "name": "python"
    }
  },
  "cells": [
    {
      "cell_type": "markdown",
      "metadata": {
        "id": "view-in-github",
        "colab_type": "text"
      },
      "source": [
        "<a href=\"https://colab.research.google.com/github/TienLungSun/Python/blob/main/IE118%20week14.ipynb\" target=\"_parent\"><img src=\"https://colab.research.google.com/assets/colab-badge.svg\" alt=\"Open In Colab\"/></a>"
      ]
    },
    {
      "cell_type": "markdown",
      "source": [
        "用OpenAI GPT 複習python 重要觀念: if-else, loop, def 等"
      ],
      "metadata": {
        "id": "IkJoNmYfJRLy"
      }
    },
    {
      "cell_type": "code",
      "source": [],
      "metadata": {
        "id": "wL_7JW1vJf-p"
      },
      "execution_count": null,
      "outputs": []
    }
  ]
}