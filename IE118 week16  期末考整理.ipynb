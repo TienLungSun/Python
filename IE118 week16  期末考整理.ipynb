{
  "nbformat": 4,
  "nbformat_minor": 0,
  "metadata": {
    "colab": {
      "name": "Untitled3.ipynb",
      "provenance": [],
      "include_colab_link": true
    },
    "kernelspec": {
      "name": "python3",
      "display_name": "Python 3"
    },
    "language_info": {
      "name": "python"
    },
    "widgets": {
      "application/vnd.jupyter.widget-state+json": {
        "2dc1d27417364fbca53cfccf222facac": {
          "model_module": "@jupyter-widgets/controls",
          "model_name": "VBoxModel",
          "model_module_version": "1.5.0",
          "state": {
            "_view_name": "VBoxView",
            "_dom_classes": [
              "widget-interact"
            ],
            "_model_name": "VBoxModel",
            "_view_module": "@jupyter-widgets/controls",
            "_model_module_version": "1.5.0",
            "_view_count": null,
            "_view_module_version": "1.5.0",
            "box_style": "",
            "layout": "IPY_MODEL_bc4266f2632d404683122b2c3a879af4",
            "_model_module": "@jupyter-widgets/controls",
            "children": [
              "IPY_MODEL_b76270d1eb604fefae5ddf5ddb5513cc",
              "IPY_MODEL_bf3320eb9d62448793be8e1bb37ba7b1"
            ]
          }
        },
        "bc4266f2632d404683122b2c3a879af4": {
          "model_module": "@jupyter-widgets/base",
          "model_name": "LayoutModel",
          "model_module_version": "1.2.0",
          "state": {
            "_view_name": "LayoutView",
            "grid_template_rows": null,
            "right": null,
            "justify_content": null,
            "_view_module": "@jupyter-widgets/base",
            "overflow": null,
            "_model_module_version": "1.2.0",
            "_view_count": null,
            "flex_flow": null,
            "width": null,
            "min_width": null,
            "border": null,
            "align_items": null,
            "bottom": null,
            "_model_module": "@jupyter-widgets/base",
            "top": null,
            "grid_column": null,
            "overflow_y": null,
            "overflow_x": null,
            "grid_auto_flow": null,
            "grid_area": null,
            "grid_template_columns": null,
            "flex": null,
            "_model_name": "LayoutModel",
            "justify_items": null,
            "grid_row": null,
            "max_height": null,
            "align_content": null,
            "visibility": null,
            "align_self": null,
            "height": null,
            "min_height": null,
            "padding": null,
            "grid_auto_rows": null,
            "grid_gap": null,
            "max_width": null,
            "order": null,
            "_view_module_version": "1.2.0",
            "grid_template_areas": null,
            "object_position": null,
            "object_fit": null,
            "grid_auto_columns": null,
            "margin": null,
            "display": null,
            "left": null
          }
        },
        "b76270d1eb604fefae5ddf5ddb5513cc": {
          "model_module": "@jupyter-widgets/controls",
          "model_name": "IntSliderModel",
          "model_module_version": "1.5.0",
          "state": {
            "_view_name": "IntSliderView",
            "style": "IPY_MODEL_5778118cd1014579aeac5452d1372824",
            "_dom_classes": [],
            "description": "x",
            "step": 1,
            "_model_name": "IntSliderModel",
            "orientation": "horizontal",
            "max": 9,
            "_view_module": "@jupyter-widgets/controls",
            "_model_module_version": "1.5.0",
            "value": 6,
            "_view_count": null,
            "disabled": false,
            "_view_module_version": "1.5.0",
            "min": -3,
            "continuous_update": true,
            "readout_format": "d",
            "description_tooltip": null,
            "readout": true,
            "_model_module": "@jupyter-widgets/controls",
            "layout": "IPY_MODEL_90808b8237c041d9a70cefeb68bcd426"
          }
        },
        "bf3320eb9d62448793be8e1bb37ba7b1": {
          "model_module": "@jupyter-widgets/output",
          "model_name": "OutputModel",
          "model_module_version": "1.0.0",
          "state": {
            "_view_name": "OutputView",
            "msg_id": "",
            "_dom_classes": [],
            "_model_name": "OutputModel",
            "outputs": [
              {
                "output_type": "stream",
                "name": "stdout",
                "text": [
                  "6\n"
                ]
              }
            ],
            "_view_module": "@jupyter-widgets/output",
            "_model_module_version": "1.0.0",
            "_view_count": null,
            "_view_module_version": "1.0.0",
            "layout": "IPY_MODEL_f0f30c31f43e4d96ad20a3e90c2f00aa",
            "_model_module": "@jupyter-widgets/output"
          }
        },
        "5778118cd1014579aeac5452d1372824": {
          "model_module": "@jupyter-widgets/controls",
          "model_name": "SliderStyleModel",
          "model_module_version": "1.5.0",
          "state": {
            "_view_name": "StyleView",
            "handle_color": null,
            "_model_name": "SliderStyleModel",
            "description_width": "",
            "_view_module": "@jupyter-widgets/base",
            "_model_module_version": "1.5.0",
            "_view_count": null,
            "_view_module_version": "1.2.0",
            "_model_module": "@jupyter-widgets/controls"
          }
        },
        "90808b8237c041d9a70cefeb68bcd426": {
          "model_module": "@jupyter-widgets/base",
          "model_name": "LayoutModel",
          "model_module_version": "1.2.0",
          "state": {
            "_view_name": "LayoutView",
            "grid_template_rows": null,
            "right": null,
            "justify_content": null,
            "_view_module": "@jupyter-widgets/base",
            "overflow": null,
            "_model_module_version": "1.2.0",
            "_view_count": null,
            "flex_flow": null,
            "width": null,
            "min_width": null,
            "border": null,
            "align_items": null,
            "bottom": null,
            "_model_module": "@jupyter-widgets/base",
            "top": null,
            "grid_column": null,
            "overflow_y": null,
            "overflow_x": null,
            "grid_auto_flow": null,
            "grid_area": null,
            "grid_template_columns": null,
            "flex": null,
            "_model_name": "LayoutModel",
            "justify_items": null,
            "grid_row": null,
            "max_height": null,
            "align_content": null,
            "visibility": null,
            "align_self": null,
            "height": null,
            "min_height": null,
            "padding": null,
            "grid_auto_rows": null,
            "grid_gap": null,
            "max_width": null,
            "order": null,
            "_view_module_version": "1.2.0",
            "grid_template_areas": null,
            "object_position": null,
            "object_fit": null,
            "grid_auto_columns": null,
            "margin": null,
            "display": null,
            "left": null
          }
        },
        "f0f30c31f43e4d96ad20a3e90c2f00aa": {
          "model_module": "@jupyter-widgets/base",
          "model_name": "LayoutModel",
          "model_module_version": "1.2.0",
          "state": {
            "_view_name": "LayoutView",
            "grid_template_rows": null,
            "right": null,
            "justify_content": null,
            "_view_module": "@jupyter-widgets/base",
            "overflow": null,
            "_model_module_version": "1.2.0",
            "_view_count": null,
            "flex_flow": null,
            "width": null,
            "min_width": null,
            "border": null,
            "align_items": null,
            "bottom": null,
            "_model_module": "@jupyter-widgets/base",
            "top": null,
            "grid_column": null,
            "overflow_y": null,
            "overflow_x": null,
            "grid_auto_flow": null,
            "grid_area": null,
            "grid_template_columns": null,
            "flex": null,
            "_model_name": "LayoutModel",
            "justify_items": null,
            "grid_row": null,
            "max_height": null,
            "align_content": null,
            "visibility": null,
            "align_self": null,
            "height": null,
            "min_height": null,
            "padding": null,
            "grid_auto_rows": null,
            "grid_gap": null,
            "max_width": null,
            "order": null,
            "_view_module_version": "1.2.0",
            "grid_template_areas": null,
            "object_position": null,
            "object_fit": null,
            "grid_auto_columns": null,
            "margin": null,
            "display": null,
            "left": null
          }
        }
      }
    }
  },
  "cells": [
    {
      "cell_type": "markdown",
      "metadata": {
        "id": "view-in-github",
        "colab_type": "text"
      },
      "source": [
        "<a href=\"https://colab.research.google.com/github/TienLungSun/Python/blob/main/IE118%20week16%20%20%E6%9C%9F%E6%9C%AB%E8%80%83%E6%95%B4%E7%90%86.ipynb\" target=\"_parent\"><img src=\"https://colab.research.google.com/assets/colab-badge.svg\" alt=\"Open In Colab\"/></a>"
      ]
    },
    {
      "cell_type": "markdown",
      "source": [
        "期中考後內容重點整理,60%"
      ],
      "metadata": {
        "id": "8j96TpeFssxk"
      }
    },
    {
      "cell_type": "code",
      "source": [
        "# 計算 list 的個數\n",
        "lst = [1, 2, 3, 4]\n",
        "len(lst)"
      ],
      "metadata": {
        "colab": {
          "base_uri": "https://localhost:8080/"
        },
        "id": "w24AnJ_gtUM6",
        "outputId": "be4b2e78-827d-4142-b3d5-4c9613f91e1e"
      },
      "execution_count": 4,
      "outputs": [
        {
          "output_type": "execute_result",
          "data": {
            "text/plain": [
              "4"
            ]
          },
          "metadata": {},
          "execution_count": 4
        }
      ]
    },
    {
      "cell_type": "code",
      "source": [
        "# list append\n",
        "lst1 = [3000, 2500, 100]\n",
        "lst2 = []\n",
        "for item in lst1:\n",
        "  lst2.append(item*2)\n",
        "print(lst2)"
      ],
      "metadata": {
        "colab": {
          "base_uri": "https://localhost:8080/"
        },
        "id": "bXSMbmNLs_DR",
        "outputId": "c28c6891-922e-4a10-caf8-883dc96aced4"
      },
      "execution_count": 2,
      "outputs": [
        {
          "output_type": "stream",
          "name": "stdout",
          "text": [
            "[6000, 5000, 200]\n"
          ]
        }
      ]
    },
    {
      "cell_type": "code",
      "source": [
        "# string 轉 list\n",
        "s = \"32.4, 56.7, 23\"\n",
        "lst = s.split(\",\")\n",
        "print(lst)"
      ],
      "metadata": {
        "colab": {
          "base_uri": "https://localhost:8080/"
        },
        "id": "dUfvUWwVszpq",
        "outputId": "e64bfd56-78cd-4536-d213-63c536ea3f23"
      },
      "execution_count": 1,
      "outputs": [
        {
          "output_type": "stream",
          "name": "stdout",
          "text": [
            "['32.4', ' 56.7', ' 23']\n"
          ]
        }
      ]
    },
    {
      "cell_type": "code",
      "source": [
        "ss = \"32.4, 56.7, 23\"\n",
        "numberLst = []\n",
        "for a in ss.split(\",\"):\n",
        "  value = float(a)\n",
        "  numberLst.append(value)\n",
        "print(numberLst)"
      ],
      "metadata": {
        "colab": {
          "base_uri": "https://localhost:8080/"
        },
        "id": "IHPmMfXYsztS",
        "outputId": "3584eadb-77c4-4196-bb71-0013570f4ef8"
      },
      "execution_count": 3,
      "outputs": [
        {
          "output_type": "stream",
          "name": "stdout",
          "text": [
            "[32.4, 56.7, 23.0]\n"
          ]
        }
      ]
    },
    {
      "cell_type": "code",
      "source": [
        "# list comprehension\n",
        "[2*k for k in range(5)]"
      ],
      "metadata": {
        "colab": {
          "base_uri": "https://localhost:8080/"
        },
        "id": "MeQ4FEjFszwq",
        "outputId": "113933f2-d72c-4cda-9f2f-e8ac0bfa29a7"
      },
      "execution_count": 5,
      "outputs": [
        {
          "output_type": "execute_result",
          "data": {
            "text/plain": [
              "[0, 2, 4, 6, 8]"
            ]
          },
          "metadata": {},
          "execution_count": 5
        }
      ]
    },
    {
      "cell_type": "code",
      "source": [
        "lst1 = [3000, 2500, 100]\n",
        "lst2 = [item*2 for item in lst1]\n",
        "print(lst2)"
      ],
      "metadata": {
        "colab": {
          "base_uri": "https://localhost:8080/"
        },
        "id": "hf5kuElCszzy",
        "outputId": "3653bdca-83bf-497a-801a-a1b947ec3528"
      },
      "execution_count": 6,
      "outputs": [
        {
          "output_type": "stream",
          "name": "stdout",
          "text": [
            "[6000, 5000, 200]\n"
          ]
        }
      ]
    },
    {
      "cell_type": "code",
      "source": [
        "# string to list + list comprehension\n",
        "st=\"23, 68, 99\"\n",
        "lst = [int(x) for x in st.split(\",\")]\n",
        "print(lst)"
      ],
      "metadata": {
        "colab": {
          "base_uri": "https://localhost:8080/"
        },
        "id": "2OQfxJSwsz26",
        "outputId": "9255b9e0-b620-45a7-a978-079b60ecef89"
      },
      "execution_count": 7,
      "outputs": [
        {
          "output_type": "stream",
          "name": "stdout",
          "text": [
            "[23, 68, 99]\n"
          ]
        }
      ]
    },
    {
      "cell_type": "code",
      "source": [
        "# list comprehension\n",
        "m = [1, 2, 3, 4]\n",
        "n = [\"a\", \"b\"]\n",
        "k = [(i, j) for i in m for j in n]\n",
        "print(k)"
      ],
      "metadata": {
        "colab": {
          "base_uri": "https://localhost:8080/"
        },
        "id": "5YUef-ZFtv6K",
        "outputId": "48567d4d-cc23-4001-930f-57c92aa3672a"
      },
      "execution_count": 8,
      "outputs": [
        {
          "output_type": "stream",
          "name": "stdout",
          "text": [
            "[(1, 'a'), (1, 'b'), (2, 'a'), (2, 'b'), (3, 'a'), (3, 'b'), (4, 'a'), (4, 'b')]\n"
          ]
        }
      ]
    },
    {
      "cell_type": "code",
      "source": [
        "# function\n",
        "def square1 (x):\n",
        "  return x*x\n",
        "\n",
        "def square2 (x):\n",
        "  print(x*x)\n",
        "\n",
        "a = square1(3)\n",
        "b = square2(3)\n",
        "print(\"a=\", a, \"b=\", b)"
      ],
      "metadata": {
        "colab": {
          "base_uri": "https://localhost:8080/"
        },
        "id": "RRyoVE0qtv_l",
        "outputId": "98928749-baf4-408d-b6b6-31fc9d230f6e"
      },
      "execution_count": 10,
      "outputs": [
        {
          "output_type": "stream",
          "name": "stdout",
          "text": [
            "9\n",
            "a= 9 b= None\n"
          ]
        }
      ]
    },
    {
      "cell_type": "code",
      "source": [
        "def square1 (x):\n",
        "  return x*x"
      ],
      "metadata": {
        "id": "ocW4W62QtwDX"
      },
      "execution_count": null,
      "outputs": []
    },
    {
      "cell_type": "code",
      "source": [
        "s = \"abcde\"\n",
        "print(s[-1], s[:-1], s[::], s[::1], s[::2], s[::3], s[::-1])"
      ],
      "metadata": {
        "colab": {
          "base_uri": "https://localhost:8080/"
        },
        "id": "nXrrb_qtuQAQ",
        "outputId": "8c22f710-a934-4a50-ba7e-df4531c4b5ad"
      },
      "execution_count": 11,
      "outputs": [
        {
          "output_type": "stream",
          "name": "stdout",
          "text": [
            "e abcd abcde abcde ace ad edcba\n"
          ]
        }
      ]
    },
    {
      "cell_type": "code",
      "source": [
        "def reverse(s):\n",
        "  return s[::-1]\n",
        "\n",
        "print(reverse([1, 2, 3]))\n",
        "print(reverse('Apple'))"
      ],
      "metadata": {
        "colab": {
          "base_uri": "https://localhost:8080/"
        },
        "id": "qvvs6bVyuSri",
        "outputId": "d7b29a18-5a6b-4816-a245-7559044e144b"
      },
      "execution_count": 13,
      "outputs": [
        {
          "output_type": "stream",
          "name": "stdout",
          "text": [
            "[3, 2, 1]\n",
            "elppA\n"
          ]
        }
      ]
    },
    {
      "cell_type": "code",
      "source": [
        "# interact function\n",
        "from ipywidgets import interact\n",
        "\n",
        "def f(x):\n",
        "  print(x)\n",
        "\n",
        "interact(f, x=3)"
      ],
      "metadata": {
        "colab": {
          "base_uri": "https://localhost:8080/",
          "height": 84,
          "referenced_widgets": [
            "2dc1d27417364fbca53cfccf222facac",
            "bc4266f2632d404683122b2c3a879af4",
            "b76270d1eb604fefae5ddf5ddb5513cc",
            "bf3320eb9d62448793be8e1bb37ba7b1",
            "5778118cd1014579aeac5452d1372824",
            "90808b8237c041d9a70cefeb68bcd426",
            "f0f30c31f43e4d96ad20a3e90c2f00aa"
          ]
        },
        "id": "uDhNr-QYucok",
        "outputId": "09d796f1-5cbf-4b45-ff75-d514e616fc70"
      },
      "execution_count": 14,
      "outputs": [
        {
          "output_type": "display_data",
          "data": {
            "application/vnd.jupyter.widget-view+json": {
              "model_id": "2dc1d27417364fbca53cfccf222facac",
              "version_minor": 0,
              "version_major": 2
            },
            "text/plain": [
              "interactive(children=(IntSlider(value=3, description='x', max=9, min=-3), Output()), _dom_classes=('widget-int…"
            ]
          },
          "metadata": {}
        },
        {
          "output_type": "execute_result",
          "data": {
            "text/plain": [
              "<function __main__.f>"
            ]
          },
          "metadata": {},
          "execution_count": 14
        }
      ]
    },
    {
      "cell_type": "code",
      "source": [
        "# map\n",
        "def f(x):\n",
        "  return x*2\n",
        "\n",
        "lst = [1, 2, 3]\n",
        "\n",
        "list(map (f, lst))"
      ],
      "metadata": {
        "id": "_LPps-jdv96u",
        "outputId": "020ca300-9f24-402d-ddfc-0763434c2fe9",
        "colab": {
          "base_uri": "https://localhost:8080/"
        }
      },
      "execution_count": 15,
      "outputs": [
        {
          "output_type": "execute_result",
          "data": {
            "text/plain": [
              "[2, 4, 6]"
            ]
          },
          "metadata": {},
          "execution_count": 15
        }
      ]
    },
    {
      "cell_type": "code",
      "source": [
        "# lambda\n",
        "lst = [1, 2, 3]\n",
        "list(map (lambda x:x*2, lst))"
      ],
      "metadata": {
        "id": "HxtGmos5wQ1N",
        "outputId": "874f61c4-7107-44b4-d32f-feedc1ff051f",
        "colab": {
          "base_uri": "https://localhost:8080/"
        }
      },
      "execution_count": 17,
      "outputs": [
        {
          "output_type": "execute_result",
          "data": {
            "text/plain": [
              "[2, 4, 6]"
            ]
          },
          "metadata": {},
          "execution_count": 17
        }
      ]
    },
    {
      "cell_type": "code",
      "source": [
        "# filter\n",
        "def f(x):\n",
        "  return x%2==0\n",
        "\n",
        "lst = [1, 2, 3]\n",
        "\n",
        "list(filter (f, lst))"
      ],
      "metadata": {
        "id": "zOIaFhVIwx4Z",
        "outputId": "17a3c073-ad5f-4f23-8d99-df8379f4a071",
        "colab": {
          "base_uri": "https://localhost:8080/"
        }
      },
      "execution_count": 18,
      "outputs": [
        {
          "output_type": "execute_result",
          "data": {
            "text/plain": [
              "[2]"
            ]
          },
          "metadata": {},
          "execution_count": 18
        }
      ]
    },
    {
      "cell_type": "code",
      "source": [
        "lst = [1, 2, 3]\n",
        "list(filter (lambda x:x%2==0, lst))"
      ],
      "metadata": {
        "id": "k09Uxa3Ww99B",
        "outputId": "bc13197a-aab5-4878-a05e-5768e162d7a8",
        "colab": {
          "base_uri": "https://localhost:8080/"
        }
      },
      "execution_count": 19,
      "outputs": [
        {
          "output_type": "execute_result",
          "data": {
            "text/plain": [
              "[2]"
            ]
          },
          "metadata": {},
          "execution_count": 19
        }
      ]
    },
    {
      "cell_type": "code",
      "source": [
        "# class\n",
        "class Student:\n",
        "  def __init__(self, x, y):\n",
        "    self.id=x  \n",
        "    self.grade=y  \n",
        "\n",
        "s1 = Student(1101290, 91)\n",
        "s2 = Student(1101390, 92)\n",
        "\n",
        "print(s1.grade, s2.grade)"
      ],
      "metadata": {
        "id": "DJFH8SRlxNBB",
        "outputId": "25e02d92-d69f-4519-b751-f6b63287e76a",
        "colab": {
          "base_uri": "https://localhost:8080/"
        }
      },
      "execution_count": 20,
      "outputs": [
        {
          "output_type": "stream",
          "name": "stdout",
          "text": [
            "91 92\n"
          ]
        }
      ]
    },
    {
      "cell_type": "code",
      "source": [
        "# class\n",
        "class Company:\n",
        "  def __init__(self, x, y):\n",
        "    self.name=x  \n",
        "    self.stockPrice=y  \n",
        "\n",
        "c1 = Company(\"AAA\", 91)\n",
        "c2 = Company(\"BBB\", 92)\n",
        "\n",
        "print(c1.name, c2.stockPrice)"
      ],
      "metadata": {
        "id": "j2GyAo2txq58",
        "outputId": "2af11aea-e407-4e52-86e1-5391c9aa3d37",
        "colab": {
          "base_uri": "https://localhost:8080/"
        }
      },
      "execution_count": 21,
      "outputs": [
        {
          "output_type": "stream",
          "name": "stdout",
          "text": [
            "AAA 92\n"
          ]
        }
      ]
    },
    {
      "cell_type": "markdown",
      "source": [
        "以下為期中考重點整理, 40%"
      ],
      "metadata": {
        "id": "W1wroG04smML"
      }
    },
    {
      "cell_type": "code",
      "metadata": {
        "colab": {
          "base_uri": "https://localhost:8080/"
        },
        "id": "oh0aVMu5xYaq",
        "outputId": "1ebaa241-18d0-4dce-d457-834413d8c1a2"
      },
      "source": [
        "print(71/3, 71//3, 71%3, (71+2)/3*2) #答案寫到小數下一位即可"
      ],
      "execution_count": null,
      "outputs": [
        {
          "output_type": "stream",
          "name": "stdout",
          "text": [
            "23.666666666666668 23 2 48.666666666666664\n"
          ]
        }
      ]
    },
    {
      "cell_type": "code",
      "metadata": {
        "colab": {
          "base_uri": "https://localhost:8080/"
        },
        "id": "fnsu2BR6xbyq",
        "outputId": "760c4a94-8d29-44fc-e9f8-562e60f62927"
      },
      "source": [
        "b = (2+6)*3/5\n",
        "print(b+5) #答案寫到小數下一位即可"
      ],
      "execution_count": null,
      "outputs": [
        {
          "output_type": "stream",
          "name": "stdout",
          "text": [
            "9.8\n"
          ]
        }
      ]
    },
    {
      "cell_type": "code",
      "metadata": {
        "colab": {
          "base_uri": "https://localhost:8080/"
        },
        "id": "0PUmIr5Dxb2K",
        "outputId": "020dc9fb-8ee7-4274-f8ed-65faf443525d"
      },
      "source": [
        "b = 3+2*6\n",
        "c = b+5-4\n",
        "print(c)"
      ],
      "execution_count": null,
      "outputs": [
        {
          "output_type": "stream",
          "name": "stdout",
          "text": [
            "16\n"
          ]
        }
      ]
    },
    {
      "cell_type": "code",
      "metadata": {
        "colab": {
          "base_uri": "https://localhost:8080/",
          "height": 265
        },
        "id": "y3KBGdJqxb5T",
        "outputId": "de6bb463-47cd-4ce1-c83c-8d80ff8c786c"
      },
      "source": [
        "#畫出並解釋下面程式會產生的圖形\n",
        "import matplotlib.pyplot as plt\n",
        "plt.plot([1, 2])\n",
        "plt.show()"
      ],
      "execution_count": null,
      "outputs": [
        {
          "output_type": "display_data",
          "data": {
            "image/png": "[encoded data removed]",
            "text/plain": [
              "<Figure size 432x288 with 1 Axes>"
            ]
          },
          "metadata": {
            "needs_background": "light"
          }
        }
      ]
    },
    {
      "cell_type": "code",
      "metadata": {
        "colab": {
          "base_uri": "https://localhost:8080/",
          "height": 265
        },
        "id": "4tg--SS2xb8q",
        "outputId": "a58bd119-3ce7-4f82-90ea-5535e08e9039"
      },
      "source": [
        "#畫出並解釋下面程式會產生的圖形\n",
        "plt.plot([1, 2])\n",
        "plt.plot([2, 1])\n",
        "plt.show()"
      ],
      "execution_count": null,
      "outputs": [
        {
          "output_type": "display_data",
          "data": {
            "image/png": "[encoded data removed]",
            "text/plain": [
              "<Figure size 432x288 with 1 Axes>"
            ]
          },
          "metadata": {
            "needs_background": "light"
          }
        }
      ]
    },
    {
      "cell_type": "code",
      "metadata": {
        "colab": {
          "base_uri": "https://localhost:8080/"
        },
        "id": "6diswqGgxb_x",
        "outputId": "54c7b519-ac63-4387-e211-45e191cc4f0e"
      },
      "source": [
        "import numpy as np\n",
        "np.random.randn(2) #隨機變數答案寫法: 隨機[min, max]"
      ],
      "execution_count": null,
      "outputs": [
        {
          "output_type": "execute_result",
          "data": {
            "text/plain": [
              "array([1.2368005, 0.9566715])"
            ]
          },
          "metadata": {},
          "execution_count": 6
        }
      ]
    },
    {
      "cell_type": "code",
      "metadata": {
        "colab": {
          "base_uri": "https://localhost:8080/",
          "height": 265
        },
        "id": "p4qd5GevycXy",
        "outputId": "d6b7c238-97bd-4077-9ee5-7a3e5101d4c3"
      },
      "source": [
        "#畫出並解釋下面程式會產生的圖形\n",
        "x = [1, 5]\n",
        "y = [3, 8]\n",
        "plt.scatter(x, y)\n",
        "plt.show() "
      ],
      "execution_count": null,
      "outputs": [
        {
          "output_type": "display_data",
          "data": {
            "image/png": "[encoded data removed]",
            "text/plain": [
              "<Figure size 432x288 with 1 Axes>"
            ]
          },
          "metadata": {
            "needs_background": "light"
          }
        }
      ]
    },
    {
      "cell_type": "code",
      "metadata": {
        "colab": {
          "base_uri": "https://localhost:8080/",
          "height": 265
        },
        "id": "xDDWzgutychZ",
        "outputId": "5f7c842f-2f8c-4795-9fa9-34810540cce1"
      },
      "source": [
        "#畫出並解釋下面程式會產生的圖形\n",
        "x = np.linspace(-10, 10, 3)\n",
        "y = x**2 + 1\n",
        "plt.plot(x, y)\n",
        "plt.show()"
      ],
      "execution_count": null,
      "outputs": [
        {
          "output_type": "display_data",
          "data": {
            "image/png": "[encoded data removed]",
            "text/plain": [
              "<Figure size 432x288 with 1 Axes>"
            ]
          },
          "metadata": {
            "needs_background": "light"
          }
        }
      ]
    },
    {
      "cell_type": "code",
      "metadata": {
        "colab": {
          "base_uri": "https://localhost:8080/",
          "height": 265
        },
        "id": "1Mzd_vi4ycpQ",
        "outputId": "c95f71cc-aa99-4351-9380-fc02ecd468a0"
      },
      "source": [
        "#畫出並解釋下面程式會產生的圖形\n",
        "theta = np.linspace(0, 8*np.pi, 100)\n",
        "y = np.sin(theta)\n",
        "plt.plot(theta, y)\n",
        "plt.show()"
      ],
      "execution_count": null,
      "outputs": [
        {
          "output_type": "display_data",
          "data": {
            "image/png": "[encoded data removed]",
            "text/plain": [
              "<Figure size 432x288 with 1 Axes>"
            ]
          },
          "metadata": {
            "needs_background": "light"
          }
        }
      ]
    },
    {
      "cell_type": "code",
      "metadata": {
        "colab": {
          "base_uri": "https://localhost:8080/",
          "height": 265
        },
        "id": "xyPs-pb-ze88",
        "outputId": "41de7a0c-8fd8-41a9-958e-94f33a6a974f"
      },
      "source": [
        "#畫出並解釋下面程式會產生的圖形\n",
        "radian1=np.linspace(0, 2*np.pi, 100) \n",
        "r=3\n",
        "x=r*np.cos(radian1)\n",
        "y=r*np.sin(radian1)\n",
        "plt.plot(x, y)\n",
        "plt.axis('equal')\n",
        "plt.show()"
      ],
      "execution_count": null,
      "outputs": [
        {
          "output_type": "display_data",
          "data": {
            "image/png": "[encoded data removed]",
            "text/plain": [
              "<Figure size 432x288 with 1 Axes>"
            ]
          },
          "metadata": {
            "needs_background": "light"
          }
        }
      ]
    },
    {
      "cell_type": "code",
      "metadata": {
        "colab": {
          "base_uri": "https://localhost:8080/",
          "height": 265
        },
        "id": "cj0B5XPkzfAk",
        "outputId": "734bd0d5-4611-4afb-b317-19c9580cf02e"
      },
      "source": [
        "#畫出並解釋下面程式會產生的圖形\n",
        "radian1=np.linspace(0, np.pi, 100) \n",
        "r=3\n",
        "x=r*np.cos(radian1)\n",
        "y=r*np.sin(radian1)\n",
        "plt.plot(x, y)\n",
        "plt.axis('equal')\n",
        "plt.show()"
      ],
      "execution_count": null,
      "outputs": [
        {
          "output_type": "display_data",
          "data": {
            "image/png": "[encoded data removed]",
            "text/plain": [
              "<Figure size 432x288 with 1 Axes>"
            ]
          },
          "metadata": {
            "needs_background": "light"
          }
        }
      ]
    },
    {
      "cell_type": "code",
      "metadata": {
        "colab": {
          "base_uri": "https://localhost:8080/"
        },
        "id": "b90wD-iczfTC",
        "outputId": "9a2f9bff-7cbd-4da9-8545-39040c300430"
      },
      "source": [
        "lst = [\"Hi\", 123]\n",
        "print(lst*3)"
      ],
      "execution_count": null,
      "outputs": [
        {
          "output_type": "stream",
          "name": "stdout",
          "text": [
            "['Hi', 123, 'Hi', 123, 'Hi', 123]\n"
          ]
        }
      ]
    },
    {
      "cell_type": "code",
      "metadata": {
        "colab": {
          "base_uri": "https://localhost:8080/"
        },
        "id": "6L4FGyAM0L-s",
        "outputId": "6091437e-4ef3-44f1-98af-6b5767cececc"
      },
      "source": [
        "str1 = \"你好\"\n",
        "print(str1*3)"
      ],
      "execution_count": null,
      "outputs": [
        {
          "output_type": "stream",
          "name": "stdout",
          "text": [
            "你好你好你好\n"
          ]
        }
      ]
    },
    {
      "cell_type": "code",
      "metadata": {
        "colab": {
          "base_uri": "https://localhost:8080/"
        },
        "id": "K6cY45W70MDB",
        "outputId": "a3db6a91-80e9-4fe5-dceb-932d28098594"
      },
      "source": [
        "my_dict = {\"元智\":\"YZU\", \"工工管\": \"IEM\", \"大一\":\"Freshman\"}\n",
        "print(my_dict[\"元智\"])"
      ],
      "execution_count": null,
      "outputs": [
        {
          "output_type": "stream",
          "name": "stdout",
          "text": [
            "YZU\n"
          ]
        }
      ]
    },
    {
      "cell_type": "code",
      "metadata": {
        "colab": {
          "base_uri": "https://localhost:8080/"
        },
        "id": "-zaKmJ0V0MHC",
        "outputId": "719cc4cb-e2dd-456d-f939-3f8796bdea43"
      },
      "source": [
        "my_dict = {\"元智\":\"YZU\"}\n",
        "my_dict[\"蘋果\"]=\"apple\"\n",
        "print(my_dict)"
      ],
      "execution_count": null,
      "outputs": [
        {
          "output_type": "stream",
          "name": "stdout",
          "text": [
            "{'元智': 'YZU', '蘋果': 'apple'}\n"
          ]
        }
      ]
    },
    {
      "cell_type": "code",
      "metadata": {
        "colab": {
          "base_uri": "https://localhost:8080/"
        },
        "id": "xSIqh3AEycwZ",
        "outputId": "8cbf34f5-ded9-470f-ac78-445952382bb7"
      },
      "source": [
        "my_dict = {\"元智\":\"YZU\", \"工工管\": \"IEM\", \"大一\":\"Freshman\"}\n",
        "del my_dict[\"大一\"]\n",
        "print(my_dict)"
      ],
      "execution_count": null,
      "outputs": [
        {
          "output_type": "stream",
          "name": "stdout",
          "text": [
            "{'元智': 'YZU', '工工管': 'IEM'}\n"
          ]
        }
      ]
    },
    {
      "cell_type": "code",
      "metadata": {
        "colab": {
          "base_uri": "https://localhost:8080/"
        },
        "id": "yRaVvCKu0mGc",
        "outputId": "9a57a83b-2784-4b65-e965-10c34008de23"
      },
      "source": [
        "my_dict = {'元智': 'YZU', '工工管': 'IEM'}\n",
        "print(my_dict.keys())\n",
        "print(my_dict.values())"
      ],
      "execution_count": null,
      "outputs": [
        {
          "output_type": "stream",
          "name": "stdout",
          "text": [
            "dict_keys(['元智', '工工管'])\n",
            "dict_values(['YZU', 'IEM'])\n"
          ]
        }
      ]
    },
    {
      "cell_type": "code",
      "metadata": {
        "id": "F56_4dhm0mJ0",
        "colab": {
          "base_uri": "https://localhost:8080/"
        },
        "outputId": "f927f7a5-babf-43e1-e0f8-fe15c1a9c72c"
      },
      "source": [
        "#解釋下面程式與使用者互動的過程\n",
        "c=0.272174\n",
        "yen = input(\"請輸入日圓金額: \")\n",
        "print(\"換算成台幣是: \", float(yen)*c)"
      ],
      "execution_count": null,
      "outputs": [
        {
          "output_type": "stream",
          "name": "stdout",
          "text": [
            "請輸入日圓金額: 32\n",
            "換算成台幣是:  8.709568\n"
          ]
        }
      ]
    },
    {
      "cell_type": "code",
      "metadata": {
        "id": "sy3iqCHG1LAT",
        "colab": {
          "base_uri": "https://localhost:8080/"
        },
        "outputId": "115903d3-8228-47c5-95fb-7691b32b04c5"
      },
      "source": [
        "#解釋下面程式與使用者互動的過程\n",
        "h = float(input(\"請輸入身高: \"))\n",
        "w = float(input(\"請輸入體重: \"))\n",
        "print(\"your BMI = \", h/w)"
      ],
      "execution_count": null,
      "outputs": [
        {
          "output_type": "stream",
          "name": "stdout",
          "text": [
            "請輸入身高: 170\n",
            "請輸入體重: 96\n",
            "your BMI =  1.7708333333333333\n"
          ]
        }
      ]
    },
    {
      "cell_type": "code",
      "metadata": {
        "id": "DHf5Wrsf1LEa",
        "colab": {
          "base_uri": "https://localhost:8080/"
        },
        "outputId": "48b4a83a-0bf1-4638-bfda-36653ef7f043"
      },
      "source": [
        "grade =87\n",
        "if (grade >= 60):\n",
        "  print(\"及格\")\n",
        "else: \n",
        "  print(\"重修\")"
      ],
      "execution_count": null,
      "outputs": [
        {
          "output_type": "stream",
          "name": "stdout",
          "text": [
            "及格\n"
          ]
        }
      ]
    },
    {
      "cell_type": "code",
      "metadata": {
        "id": "eMfZbgEY1aBT",
        "colab": {
          "base_uri": "https://localhost:8080/"
        },
        "outputId": "d4e0abe5-888f-4ce9-cb59-157a307105dc"
      },
      "source": [
        "grade =87\n",
        "if (grade >= 80):\n",
        "  print(\"A\")\n",
        "elif (grade >= 70): \n",
        "  print(\"B\")\n",
        "elif (grade >=60):\n",
        "  print(\"C\")\n",
        "else:\n",
        "  print(\"D\")"
      ],
      "execution_count": null,
      "outputs": [
        {
          "output_type": "stream",
          "name": "stdout",
          "text": [
            "A\n"
          ]
        }
      ]
    },
    {
      "cell_type": "code",
      "metadata": {
        "id": "OYyutOge1aE7",
        "colab": {
          "base_uri": "https://localhost:8080/"
        },
        "outputId": "9782da5f-6eb1-40f9-99cb-2dbb27c92f8e"
      },
      "source": [
        "\"a\" > \"b\""
      ],
      "execution_count": null,
      "outputs": [
        {
          "output_type": "execute_result",
          "data": {
            "text/plain": [
              "False"
            ]
          },
          "metadata": {},
          "execution_count": 22
        }
      ]
    },
    {
      "cell_type": "code",
      "metadata": {
        "id": "uNdN_PTG1aIL",
        "colab": {
          "base_uri": "https://localhost:8080/"
        },
        "outputId": "3071d8c9-d50d-4e96-c283-c9e0332f009e"
      },
      "source": [
        "\"zoo\" > \"zip\""
      ],
      "execution_count": null,
      "outputs": [
        {
          "output_type": "execute_result",
          "data": {
            "text/plain": [
              "True"
            ]
          },
          "metadata": {},
          "execution_count": 23
        }
      ]
    },
    {
      "cell_type": "code",
      "metadata": {
        "id": "L6OqqtoX0mNS",
        "colab": {
          "base_uri": "https://localhost:8080/"
        },
        "outputId": "ec012801-5e27-4829-ddf9-16873a084357"
      },
      "source": [
        "\"悲傷\" in \"把我的悲傷都一起送走\""
      ],
      "execution_count": null,
      "outputs": [
        {
          "output_type": "execute_result",
          "data": {
            "text/plain": [
              "True"
            ]
          },
          "metadata": {},
          "execution_count": 24
        }
      ]
    },
    {
      "cell_type": "code",
      "metadata": {
        "id": "xfmJ6FRt1krT",
        "colab": {
          "base_uri": "https://localhost:8080/"
        },
        "outputId": "23974e70-8e3b-45c5-d4cd-6b56da59af2c"
      },
      "source": [
        "\"快樂\" in \"把我的悲傷都一起送走\""
      ],
      "execution_count": null,
      "outputs": [
        {
          "output_type": "execute_result",
          "data": {
            "text/plain": [
              "False"
            ]
          },
          "metadata": {},
          "execution_count": 25
        }
      ]
    },
    {
      "cell_type": "code",
      "metadata": {
        "id": "bjQib5mj1ku6",
        "colab": {
          "base_uri": "https://localhost:8080/"
        },
        "outputId": "9ea8fe12-7e47-4c1d-e06c-4ffeb314629b"
      },
      "source": [
        "lst = ['A', 'B', 'C', 'D', 'E']\n",
        "print(lst[3], lst[0:2], lst[3:4], lst[2:])\n",
        "print(lst[:4], lst[:], lst[-1], lst[:-2])"
      ],
      "execution_count": null,
      "outputs": [
        {
          "output_type": "stream",
          "name": "stdout",
          "text": [
            "D ['A', 'B'] ['D'] ['C', 'D', 'E']\n",
            "['A', 'B', 'C', 'D'] ['A', 'B', 'C', 'D', 'E'] E ['A', 'B', 'C']\n"
          ]
        }
      ]
    },
    {
      "cell_type": "code",
      "metadata": {
        "id": "_R1qniFk1kyL",
        "colab": {
          "base_uri": "https://localhost:8080/"
        },
        "outputId": "41d63d1c-938c-4128-d910-c9202f71eddb"
      },
      "source": [
        "egg=\"ABCDEFGH\"\n",
        "print(egg[3], egg[0:2], egg[3:4], egg[2:])\n",
        "print(egg[:4], egg[:], egg[-1], egg[:-2])"
      ],
      "execution_count": null,
      "outputs": [
        {
          "output_type": "stream",
          "name": "stdout",
          "text": [
            "D AB D CDEFGH\n",
            "ABCD ABCDEFGH H ABCDEF\n"
          ]
        }
      ]
    },
    {
      "cell_type": "code",
      "metadata": {
        "id": "K22rZiln1k1q",
        "colab": {
          "base_uri": "https://localhost:8080/"
        },
        "outputId": "471ea21f-3bef-42fc-8874-c1691c27c772"
      },
      "source": [
        "A=[[1, 2], [3, 4]]\n",
        "print(A[0], A[0][1], A[1], A[1][0])"
      ],
      "execution_count": null,
      "outputs": [
        {
          "output_type": "stream",
          "name": "stdout",
          "text": [
            "[1, 2] 2 [3, 4] 3\n"
          ]
        }
      ]
    },
    {
      "cell_type": "code",
      "metadata": {
        "id": "6FISwoP97QCJ",
        "colab": {
          "base_uri": "https://localhost:8080/"
        },
        "outputId": "4aa5810f-ed0e-44cc-bf62-8bae8f719f38"
      },
      "source": [
        "for i in range(5):\n",
        "  print(i, end = \", \")"
      ],
      "execution_count": null,
      "outputs": [
        {
          "output_type": "stream",
          "name": "stdout",
          "text": [
            "0, 1, 2, 3, 4, "
          ]
        }
      ]
    },
    {
      "cell_type": "code",
      "metadata": {
        "id": "Ed5veJIc7_31",
        "colab": {
          "base_uri": "https://localhost:8080/"
        },
        "outputId": "4ecaaa5b-19aa-4548-8aa7-7bc70ee893ca"
      },
      "source": [
        "s=0\n",
        "for i in range(1, 101):\n",
        "  s = s + i\n",
        "print(s)"
      ],
      "execution_count": null,
      "outputs": [
        {
          "output_type": "stream",
          "name": "stdout",
          "text": [
            "5050\n"
          ]
        }
      ]
    },
    {
      "cell_type": "code",
      "metadata": {
        "id": "LP4tLUKpxDmR",
        "colab": {
          "base_uri": "https://localhost:8080/"
        },
        "outputId": "486f0b82-8f43-4c6b-9ecc-eebed77ef006"
      },
      "source": [
        "s=1\n",
        "for i in range(1, 101):\n",
        "  s = s + i\n",
        "print(s)"
      ],
      "execution_count": null,
      "outputs": [
        {
          "output_type": "stream",
          "name": "stdout",
          "text": [
            "5051\n"
          ]
        }
      ]
    },
    {
      "cell_type": "code",
      "metadata": {
        "id": "JbV5T1gA4P22",
        "colab": {
          "base_uri": "https://localhost:8080/"
        },
        "outputId": "df24c204-485b-4c7b-a3b7-faceecbe9e9f"
      },
      "source": [
        "s=0\n",
        "for i in range(1, 101):\n",
        "  s = s + i*i\n",
        "print(s)"
      ],
      "execution_count": null,
      "outputs": [
        {
          "output_type": "stream",
          "name": "stdout",
          "text": [
            "338350\n"
          ]
        }
      ]
    },
    {
      "cell_type": "code",
      "metadata": {
        "colab": {
          "base_uri": "https://localhost:8080/"
        },
        "id": "XrhIMsBs3CJN",
        "outputId": "d2d4729b-431f-4a3c-95be-00eee8d3ec39"
      },
      "source": [
        "s=1\n",
        "for i in range(1, 101):\n",
        "  s = s * i\n",
        "print(s)"
      ],
      "execution_count": null,
      "outputs": [
        {
          "output_type": "stream",
          "name": "stdout",
          "text": [
            "93326215443944152681699238856266700490715968264381621468592963895217599993229915608941463976156518286253697920827223758251185210916864000000000000000000000000\n"
          ]
        }
      ]
    },
    {
      "cell_type": "code",
      "metadata": {
        "id": "PwhN9E5T3tbs",
        "colab": {
          "base_uri": "https://localhost:8080/",
          "height": 221
        },
        "outputId": "bafbbb8a-1bd7-4cce-ddc0-4db7c561660b"
      },
      "source": [
        "s=0\n",
        "i=1\n",
        "while(i<=100):\n",
        "  s = s + i\n",
        "print(s)"
      ],
      "execution_count": null,
      "outputs": [
        {
          "output_type": "error",
          "ename": "KeyboardInterrupt",
          "evalue": "ignored",
          "traceback": [
            "\u001b[0;31m---------------------------------------------------------------------------\u001b[0m",
            "\u001b[0;31mKeyboardInterrupt\u001b[0m                         Traceback (most recent call last)",
            "\u001b[0;32m<ipython-input-35-f7abc4884c86>\u001b[0m in \u001b[0;36m<module>\u001b[0;34m()\u001b[0m\n\u001b[1;32m      2\u001b[0m \u001b[0mi\u001b[0m\u001b[0;34m=\u001b[0m\u001b[0;36m1\u001b[0m\u001b[0;34m\u001b[0m\u001b[0;34m\u001b[0m\u001b[0m\n\u001b[1;32m      3\u001b[0m \u001b[0;32mwhile\u001b[0m\u001b[0;34m(\u001b[0m\u001b[0mi\u001b[0m\u001b[0;34m<=\u001b[0m\u001b[0;36m100\u001b[0m\u001b[0;34m)\u001b[0m\u001b[0;34m:\u001b[0m\u001b[0;34m\u001b[0m\u001b[0;34m\u001b[0m\u001b[0m\n\u001b[0;32m----> 4\u001b[0;31m   \u001b[0ms\u001b[0m \u001b[0;34m=\u001b[0m \u001b[0ms\u001b[0m \u001b[0;34m+\u001b[0m \u001b[0mi\u001b[0m\u001b[0;34m\u001b[0m\u001b[0;34m\u001b[0m\u001b[0m\n\u001b[0m\u001b[1;32m      5\u001b[0m \u001b[0mprint\u001b[0m\u001b[0;34m(\u001b[0m\u001b[0ms\u001b[0m\u001b[0;34m)\u001b[0m\u001b[0;34m\u001b[0m\u001b[0;34m\u001b[0m\u001b[0m\n",
            "\u001b[0;31mKeyboardInterrupt\u001b[0m: "
          ]
        }
      ]
    },
    {
      "cell_type": "code",
      "metadata": {
        "id": "yq0fqVn738V0",
        "colab": {
          "base_uri": "https://localhost:8080/"
        },
        "outputId": "24ac1587-0841-429d-f5e0-e862716d5a2f"
      },
      "source": [
        "s=0\n",
        "i=1\n",
        "while(i<=100):\n",
        "  s = s + i\n",
        "  i = i + 1\n",
        "print(s)"
      ],
      "execution_count": null,
      "outputs": [
        {
          "output_type": "stream",
          "name": "stdout",
          "text": [
            "5050\n"
          ]
        }
      ]
    },
    {
      "cell_type": "code",
      "metadata": {
        "id": "vHEn410l4AWT",
        "colab": {
          "base_uri": "https://localhost:8080/"
        },
        "outputId": "fc804074-c87c-48cf-b84a-80984f1d1d18"
      },
      "source": [
        "s=1\n",
        "i=1\n",
        "while(i<=100):\n",
        "  s = s * i\n",
        "  i = i + 1\n",
        "print(s)"
      ],
      "execution_count": null,
      "outputs": [
        {
          "output_type": "stream",
          "name": "stdout",
          "text": [
            "93326215443944152681699238856266700490715968264381621468592963895217599993229915608941463976156518286253697920827223758251185210916864000000000000000000000000\n"
          ]
        }
      ]
    },
    {
      "cell_type": "code",
      "metadata": {
        "colab": {
          "base_uri": "https://localhost:8080/"
        },
        "id": "rMB3pA-83oyL",
        "outputId": "6caaec09-54b1-4f6c-e070-581d4ac877ad"
      },
      "source": [
        "#解釋下面程式與使用者互動的過程\n",
        "msg = \"\"\n",
        "while (msg != \"bye\"):\n",
        "  msg = input(\">\")\n",
        "  print(\"嗨!哩賀\")"
      ],
      "execution_count": null,
      "outputs": [
        {
          "output_type": "stream",
          "name": "stdout",
          "text": [
            ">ha ha\n",
            "嗨!哩賀\n",
            ">bye\n",
            "嗨!哩賀\n"
          ]
        }
      ]
    },
    {
      "cell_type": "code",
      "metadata": {
        "id": "FsVrV6Q_3l7h"
      },
      "source": [
        ""
      ],
      "execution_count": null,
      "outputs": []
    }
  ]
}