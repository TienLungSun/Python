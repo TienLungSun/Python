{
  "nbformat": 4,
  "nbformat_minor": 0,
  "metadata": {
    "colab": {
      "name": "Untitled3.ipynb",
      "provenance": [],
      "include_colab_link": true
    },
    "kernelspec": {
      "name": "python3",
      "display_name": "Python 3"
    },
    "language_info": {
      "name": "python"
    }
  },
  "cells": [
    {
      "cell_type": "markdown",
      "metadata": {
        "id": "view-in-github",
        "colab_type": "text"
      },
      "source": [
        "<a href=\"https://colab.research.google.com/github/TienLungSun/Python/blob/main/IE118%20week16%20%20%E6%9C%9F%E6%9C%AB%E8%80%83%E6%95%B4%E7%90%86.ipynb\" target=\"_parent\"><img src=\"https://colab.research.google.com/assets/colab-badge.svg\" alt=\"Open In Colab\"/></a>"
      ]
    },
    {
      "cell_type": "markdown",
      "source": [
        "期中考後內容重點整理,60%"
      ],
      "metadata": {
        "id": "8j96TpeFssxk"
      }
    },
    {
      "cell_type": "code",
      "source": [
        "# 計算 list 的個數\n",
        "lst = [1, 2, 3, 4]\n",
        "len(lst)"
      ],
      "metadata": {
        "colab": {
          "base_uri": "https://localhost:8080/"
        },
        "id": "w24AnJ_gtUM6",
        "outputId": "5ada24c3-20ec-46db-9e5f-d0c58e40572c"
      },
      "execution_count": 1,
      "outputs": [
        {
          "output_type": "execute_result",
          "data": {
            "text/plain": [
              "4"
            ]
          },
          "metadata": {},
          "execution_count": 1
        }
      ]
    },
    {
      "cell_type": "code",
      "source": [
        "# append an element to list\n",
        "lst1 = [3000, 2500, 100]\n",
        "lst2 = []\n",
        "for elt in lst1:\n",
        "  lst2.append(elt*2)\n",
        "print(lst2)"
      ],
      "metadata": {
        "colab": {
          "base_uri": "https://localhost:8080/"
        },
        "id": "bXSMbmNLs_DR",
        "outputId": "0fbcfebb-b15a-42ab-eefc-9949fce83565"
      },
      "execution_count": 2,
      "outputs": [
        {
          "output_type": "stream",
          "name": "stdout",
          "text": [
            "[6000, 5000, 200]\n"
          ]
        }
      ]
    },
    {
      "cell_type": "code",
      "source": [
        "# string 轉 list\n",
        "s = \"32.4, 56.7, 23\"\n",
        "lst = s.split(\",\")\n",
        "print(lst)"
      ],
      "metadata": {
        "colab": {
          "base_uri": "https://localhost:8080/"
        },
        "id": "dUfvUWwVszpq",
        "outputId": "3ab72ce9-f001-402b-f93c-d47319bd4000"
      },
      "execution_count": 3,
      "outputs": [
        {
          "output_type": "stream",
          "name": "stdout",
          "text": [
            "['32.4', ' 56.7', ' 23']\n"
          ]
        }
      ]
    },
    {
      "cell_type": "code",
      "source": [
        "ss = \"32.4, 56.7, 23\"\n",
        "numberLst = []\n",
        "for a in ss.split(\",\"):\n",
        "  value = float(a)\n",
        "  numberLst.append(value)\n",
        "print(numberLst)"
      ],
      "metadata": {
        "colab": {
          "base_uri": "https://localhost:8080/"
        },
        "id": "IHPmMfXYsztS",
        "outputId": "e3f2ad84-32f4-4e31-dc49-4e768a7ccbe3"
      },
      "execution_count": 4,
      "outputs": [
        {
          "output_type": "stream",
          "name": "stdout",
          "text": [
            "[32.4, 56.7, 23.0]\n"
          ]
        }
      ]
    },
    {
      "cell_type": "code",
      "source": [
        "# list comprehension\n",
        "[2*k for k in range(5)]"
      ],
      "metadata": {
        "colab": {
          "base_uri": "https://localhost:8080/"
        },
        "id": "MeQ4FEjFszwq",
        "outputId": "ebb6c16c-2b1b-4d80-e925-c8f9ac7ff855"
      },
      "execution_count": 5,
      "outputs": [
        {
          "output_type": "execute_result",
          "data": {
            "text/plain": [
              "[0, 2, 4, 6, 8]"
            ]
          },
          "metadata": {},
          "execution_count": 5
        }
      ]
    },
    {
      "cell_type": "code",
      "source": [
        "# list comprehension\n",
        "lst1 = [3000, 2500, 100]\n",
        "lst2 = [item*2 for item in lst1]\n",
        "print(lst2)"
      ],
      "metadata": {
        "colab": {
          "base_uri": "https://localhost:8080/"
        },
        "id": "hf5kuElCszzy",
        "outputId": "b5363904-ece8-4987-b9a3-a49059558ec1"
      },
      "execution_count": 6,
      "outputs": [
        {
          "output_type": "stream",
          "name": "stdout",
          "text": [
            "[6000, 5000, 200]\n"
          ]
        }
      ]
    },
    {
      "cell_type": "code",
      "source": [
        "# string to list + list comprehension\n",
        "st=\"23, 68, 99\"\n",
        "lst = [int(x) for x in st.split(\",\")]\n",
        "print(lst)"
      ],
      "metadata": {
        "colab": {
          "base_uri": "https://localhost:8080/"
        },
        "id": "2OQfxJSwsz26",
        "outputId": "eec843cb-c519-41ea-fee7-3192a940bc0d"
      },
      "execution_count": 7,
      "outputs": [
        {
          "output_type": "stream",
          "name": "stdout",
          "text": [
            "[23, 68, 99]\n"
          ]
        }
      ]
    },
    {
      "cell_type": "code",
      "source": [
        "# list comprehension\n",
        "m = [1, 2, 3]\n",
        "n = [\"a\", \"b\"]\n",
        "k = [(i, j) for i in m for j in n]\n",
        "print(k)"
      ],
      "metadata": {
        "colab": {
          "base_uri": "https://localhost:8080/"
        },
        "id": "5YUef-ZFtv6K",
        "outputId": "82ac2694-a1bf-4d64-c876-edaab17dd5ef"
      },
      "execution_count": 8,
      "outputs": [
        {
          "output_type": "stream",
          "name": "stdout",
          "text": [
            "[(1, 'a'), (1, 'b'), (2, 'a'), (2, 'b'), (3, 'a'), (3, 'b')]\n"
          ]
        }
      ]
    },
    {
      "cell_type": "code",
      "source": [
        "# function\n",
        "def square1 (x):\n",
        "  return x*x\n",
        "\n",
        "def square2 (x):\n",
        "  print(x*x)\n",
        "\n",
        "a = square1(3)\n",
        "b = square2(3)\n",
        "print(\"a=\", a, \"b=\", b)"
      ],
      "metadata": {
        "colab": {
          "base_uri": "https://localhost:8080/"
        },
        "id": "RRyoVE0qtv_l",
        "outputId": "a8583eea-c405-4ad0-9832-6491742cd333"
      },
      "execution_count": 9,
      "outputs": [
        {
          "output_type": "stream",
          "name": "stdout",
          "text": [
            "9\n",
            "a= 9 b= None\n"
          ]
        }
      ]
    },
    {
      "cell_type": "code",
      "source": [
        "s = \"abcde\"\n",
        "print(s[-1], s[:-1], s[::], s[::1], s[::2], s[::3], s[::-1])"
      ],
      "metadata": {
        "colab": {
          "base_uri": "https://localhost:8080/"
        },
        "id": "nXrrb_qtuQAQ",
        "outputId": "522fd910-38e0-414b-bf5a-b77170575226"
      },
      "execution_count": 10,
      "outputs": [
        {
          "output_type": "stream",
          "name": "stdout",
          "text": [
            "e abcd abcde abcde ace ad edcba\n"
          ]
        }
      ]
    },
    {
      "cell_type": "code",
      "source": [
        "def reverse(s):\n",
        "  return s[::-1]\n",
        "\n",
        "print(reverse([1, 2, 3]))\n",
        "print(reverse('Apple'))"
      ],
      "metadata": {
        "colab": {
          "base_uri": "https://localhost:8080/"
        },
        "id": "qvvs6bVyuSri",
        "outputId": "75a4d0ad-b549-4d06-b2d6-b268cf06add3"
      },
      "execution_count": 11,
      "outputs": [
        {
          "output_type": "stream",
          "name": "stdout",
          "text": [
            "[3, 2, 1]\n",
            "elppA\n"
          ]
        }
      ]
    },
    {
      "cell_type": "code",
      "source": [
        "# map\n",
        "def f(x):\n",
        "  return x*2\n",
        "\n",
        "lst = [1, 2, 3]\n",
        "\n",
        "list(map (f, lst))"
      ],
      "metadata": {
        "colab": {
          "base_uri": "https://localhost:8080/"
        },
        "id": "_LPps-jdv96u",
        "outputId": "f93d8118-d9d9-4af7-ffc8-af25934ee0e4"
      },
      "execution_count": 12,
      "outputs": [
        {
          "output_type": "execute_result",
          "data": {
            "text/plain": [
              "[2, 4, 6]"
            ]
          },
          "metadata": {},
          "execution_count": 12
        }
      ]
    },
    {
      "cell_type": "code",
      "source": [
        "# map + lambda\n",
        "lst = [1, 2, 3]\n",
        "list(map (lambda x:x*2, lst))"
      ],
      "metadata": {
        "colab": {
          "base_uri": "https://localhost:8080/"
        },
        "id": "HxtGmos5wQ1N",
        "outputId": "06570d33-1bc9-4c5f-c57d-31f252af0de3"
      },
      "execution_count": 13,
      "outputs": [
        {
          "output_type": "execute_result",
          "data": {
            "text/plain": [
              "[2, 4, 6]"
            ]
          },
          "metadata": {},
          "execution_count": 13
        }
      ]
    },
    {
      "cell_type": "code",
      "source": [
        "# filter\n",
        "def f(x):\n",
        "  return x%2==0\n",
        "\n",
        "lst = [1, 2, 3]\n",
        "\n",
        "list(filter (f, lst))"
      ],
      "metadata": {
        "colab": {
          "base_uri": "https://localhost:8080/"
        },
        "id": "zOIaFhVIwx4Z",
        "outputId": "fb265db7-4d26-4d2d-9c77-27a85533fc1b"
      },
      "execution_count": 14,
      "outputs": [
        {
          "output_type": "execute_result",
          "data": {
            "text/plain": [
              "[2]"
            ]
          },
          "metadata": {},
          "execution_count": 14
        }
      ]
    },
    {
      "cell_type": "code",
      "source": [
        "lst = [1, 2, 3]\n",
        "list(filter (lambda x:x%2==0, lst))"
      ],
      "metadata": {
        "colab": {
          "base_uri": "https://localhost:8080/"
        },
        "id": "k09Uxa3Ww99B",
        "outputId": "65168529-3762-4816-f5ef-9451ca6b938a"
      },
      "execution_count": 15,
      "outputs": [
        {
          "output_type": "execute_result",
          "data": {
            "text/plain": [
              "[2]"
            ]
          },
          "metadata": {},
          "execution_count": 15
        }
      ]
    },
    {
      "cell_type": "code",
      "source": [
        "# class\n",
        "class Student:\n",
        "  def __init__(self, x, y):\n",
        "    self.id=x  \n",
        "    self.grade=y  \n",
        "\n",
        "s1 = Student(1101290, 91)\n",
        "s2 = Student(1101390, 92)\n",
        "\n",
        "print(s1.grade, s2.grade)"
      ],
      "metadata": {
        "colab": {
          "base_uri": "https://localhost:8080/"
        },
        "id": "DJFH8SRlxNBB",
        "outputId": "f1657147-03b9-4be0-e133-5ca32b8e00e8"
      },
      "execution_count": 16,
      "outputs": [
        {
          "output_type": "stream",
          "name": "stdout",
          "text": [
            "91 92\n"
          ]
        }
      ]
    },
    {
      "cell_type": "code",
      "source": [
        "# class\n",
        "class Company:\n",
        "  def __init__(self, x, y):\n",
        "    self.name=x  \n",
        "    self.stockPrice=y  \n",
        "\n",
        "c1 = Company(\"AAA\", 91)\n",
        "c2 = Company(\"BBB\", 92)\n",
        "\n",
        "print(c1.name, c2.stockPrice)"
      ],
      "metadata": {
        "colab": {
          "base_uri": "https://localhost:8080/"
        },
        "id": "j2GyAo2txq58",
        "outputId": "26f994a3-001a-410d-c783-286f8b53c5dd"
      },
      "execution_count": 17,
      "outputs": [
        {
          "output_type": "stream",
          "name": "stdout",
          "text": [
            "AAA 92\n"
          ]
        }
      ]
    },
    {
      "cell_type": "markdown",
      "source": [
        "以下為期中考重點整理, 40%"
      ],
      "metadata": {
        "id": "W1wroG04smML"
      }
    },
    {
      "cell_type": "code",
      "metadata": {
        "colab": {
          "base_uri": "https://localhost:8080/"
        },
        "id": "oh0aVMu5xYaq",
        "outputId": "892540c5-c1ef-448a-b171-293e9c11e608"
      },
      "source": [
        "print(71/3, 71//3, 71%3, (71+2)/3*2) #答案寫到小數下一位即可"
      ],
      "execution_count": 18,
      "outputs": [
        {
          "output_type": "stream",
          "name": "stdout",
          "text": [
            "23.666666666666668 23 2 48.666666666666664\n"
          ]
        }
      ]
    },
    {
      "cell_type": "code",
      "metadata": {
        "colab": {
          "base_uri": "https://localhost:8080/"
        },
        "id": "0PUmIr5Dxb2K",
        "outputId": "4c676b53-f39e-4065-c1bf-4d156a22278a"
      },
      "source": [
        "b = 3+2*6\n",
        "c = b+5-4\n",
        "print(c)"
      ],
      "execution_count": 19,
      "outputs": [
        {
          "output_type": "stream",
          "name": "stdout",
          "text": [
            "16\n"
          ]
        }
      ]
    },
    {
      "cell_type": "code",
      "metadata": {
        "colab": {
          "base_uri": "https://localhost:8080/",
          "height": 265
        },
        "id": "1Mzd_vi4ycpQ",
        "outputId": "4d6e1b23-19f3-446a-9a2b-3e985db65f4f"
      },
      "source": [
        "#畫出並解釋下面程式會產生的圖形\n",
        "import matplotlib.pyplot as plt\n",
        "import numpy as np\n",
        "theta = np.linspace(0, 8*np.pi, 100)\n",
        "y = np.sin(theta)\n",
        "plt.plot(theta, y)\n",
        "plt.show()"
      ],
      "execution_count": 20,
      "outputs": [
        {
          "output_type": "display_data",
          "data": {
            "image/png": "[encoded data removed]",
            "text/plain": [
              "<Figure size 432x288 with 1 Axes>"
            ]
          },
          "metadata": {
            "needs_background": "light"
          }
        }
      ]
    },
    {
      "cell_type": "code",
      "metadata": {
        "colab": {
          "base_uri": "https://localhost:8080/",
          "height": 265
        },
        "id": "xyPs-pb-ze88",
        "outputId": "faf6b729-bf84-4f67-c84a-9b1126cf53de"
      },
      "source": [
        "#畫出並解釋下面程式會產生的圖形\n",
        "radian1=np.linspace(0, 2*np.pi, 100) \n",
        "r=3\n",
        "x=r*np.cos(radian1)\n",
        "y=r*np.sin(radian1)\n",
        "plt.plot(x, y)\n",
        "plt.axis('equal')\n",
        "plt.show()"
      ],
      "execution_count": 21,
      "outputs": [
        {
          "output_type": "display_data",
          "data": {
            "image/png": "[encoded data removed]",
            "text/plain": [
              "<Figure size 432x288 with 1 Axes>"
            ]
          },
          "metadata": {
            "needs_background": "light"
          }
        }
      ]
    },
    {
      "cell_type": "code",
      "metadata": {
        "colab": {
          "base_uri": "https://localhost:8080/",
          "height": 265
        },
        "id": "cj0B5XPkzfAk",
        "outputId": "e5c69dfe-7bbc-4d75-984d-3bfa40366048"
      },
      "source": [
        "#畫出並解釋下面程式會產生的圖形\n",
        "radian1=np.linspace(0, np.pi, 100) \n",
        "r=3\n",
        "x=r*np.cos(radian1)\n",
        "y=r*np.sin(radian1)\n",
        "plt.plot(x, y)\n",
        "plt.axis('equal')\n",
        "plt.show()"
      ],
      "execution_count": 22,
      "outputs": [
        {
          "output_type": "display_data",
          "data": {
            "image/png": "[encoded data removed]",
            "text/plain": [
              "<Figure size 432x288 with 1 Axes>"
            ]
          },
          "metadata": {
            "needs_background": "light"
          }
        }
      ]
    },
    {
      "cell_type": "code",
      "metadata": {
        "colab": {
          "base_uri": "https://localhost:8080/"
        },
        "id": "b90wD-iczfTC",
        "outputId": "848f6823-cbf5-41aa-943a-fbf7d03013ac"
      },
      "source": [
        "lst = [\"Hi\", 123]\n",
        "print(lst*3)"
      ],
      "execution_count": 23,
      "outputs": [
        {
          "output_type": "stream",
          "name": "stdout",
          "text": [
            "['Hi', 123, 'Hi', 123, 'Hi', 123]\n"
          ]
        }
      ]
    },
    {
      "cell_type": "code",
      "metadata": {
        "colab": {
          "base_uri": "https://localhost:8080/"
        },
        "id": "6L4FGyAM0L-s",
        "outputId": "8e720afa-9ccc-4c9a-c7a6-5b015a2f3749"
      },
      "source": [
        "str1 = \"你好\"\n",
        "print(str1*3)"
      ],
      "execution_count": 24,
      "outputs": [
        {
          "output_type": "stream",
          "name": "stdout",
          "text": [
            "你好你好你好\n"
          ]
        }
      ]
    },
    {
      "cell_type": "code",
      "metadata": {
        "colab": {
          "base_uri": "https://localhost:8080/"
        },
        "id": "K6cY45W70MDB",
        "outputId": "3957af1e-10de-4541-f237-96e0c62f85f7"
      },
      "source": [
        "my_dict = {\"元智\":\"YZU\", \"工工管\": \"IEM\", \"大一\":\"Freshman\"}\n",
        "print(my_dict[\"元智\"])"
      ],
      "execution_count": 25,
      "outputs": [
        {
          "output_type": "stream",
          "name": "stdout",
          "text": [
            "YZU\n"
          ]
        }
      ]
    },
    {
      "cell_type": "code",
      "metadata": {
        "colab": {
          "base_uri": "https://localhost:8080/"
        },
        "id": "-zaKmJ0V0MHC",
        "outputId": "a30caaeb-8d41-4d44-cb0d-3b38fd7f0be4"
      },
      "source": [
        "my_dict = {\"元智\":\"YZU\"}\n",
        "my_dict[\"蘋果\"]=\"apple\"\n",
        "print(my_dict)"
      ],
      "execution_count": 26,
      "outputs": [
        {
          "output_type": "stream",
          "name": "stdout",
          "text": [
            "{'元智': 'YZU', '蘋果': 'apple'}\n"
          ]
        }
      ]
    },
    {
      "cell_type": "code",
      "metadata": {
        "colab": {
          "base_uri": "https://localhost:8080/"
        },
        "id": "xSIqh3AEycwZ",
        "outputId": "49467d37-9fc1-4a4a-d66e-00e33cb436f2"
      },
      "source": [
        "my_dict = {\"元智\":\"YZU\", \"工工管\": \"IEM\", \"大一\":\"Freshman\"}\n",
        "del my_dict[\"大一\"]\n",
        "print(my_dict)"
      ],
      "execution_count": 27,
      "outputs": [
        {
          "output_type": "stream",
          "name": "stdout",
          "text": [
            "{'元智': 'YZU', '工工管': 'IEM'}\n"
          ]
        }
      ]
    },
    {
      "cell_type": "code",
      "metadata": {
        "colab": {
          "base_uri": "https://localhost:8080/"
        },
        "id": "yRaVvCKu0mGc",
        "outputId": "555ebfb7-8b7c-4cff-d043-cd010d97ef74"
      },
      "source": [
        "my_dict = {'元智': 'YZU', '工工管': 'IEM'}\n",
        "print(my_dict.keys())\n",
        "print(my_dict.values())"
      ],
      "execution_count": 28,
      "outputs": [
        {
          "output_type": "stream",
          "name": "stdout",
          "text": [
            "dict_keys(['元智', '工工管'])\n",
            "dict_values(['YZU', 'IEM'])\n"
          ]
        }
      ]
    },
    {
      "cell_type": "code",
      "metadata": {
        "id": "DHf5Wrsf1LEa",
        "colab": {
          "base_uri": "https://localhost:8080/"
        },
        "outputId": "d7e62b85-980c-4a48-aa8f-95985b212146"
      },
      "source": [
        "grade =87\n",
        "if (grade >= 60):\n",
        "  print(\"及格\")\n",
        "else: \n",
        "  print(\"重修\")"
      ],
      "execution_count": 29,
      "outputs": [
        {
          "output_type": "stream",
          "name": "stdout",
          "text": [
            "及格\n"
          ]
        }
      ]
    },
    {
      "cell_type": "code",
      "metadata": {
        "id": "eMfZbgEY1aBT",
        "colab": {
          "base_uri": "https://localhost:8080/"
        },
        "outputId": "80ae0b46-e969-4d04-cde6-0a412d9af7be"
      },
      "source": [
        "grade =87\n",
        "if (grade >= 80):\n",
        "  print(\"A\")\n",
        "elif (grade >= 70): \n",
        "  print(\"B\")\n",
        "elif (grade >=60):\n",
        "  print(\"C\")\n",
        "else:\n",
        "  print(\"D\")"
      ],
      "execution_count": 30,
      "outputs": [
        {
          "output_type": "stream",
          "name": "stdout",
          "text": [
            "A\n"
          ]
        }
      ]
    },
    {
      "cell_type": "code",
      "metadata": {
        "id": "bjQib5mj1ku6",
        "colab": {
          "base_uri": "https://localhost:8080/"
        },
        "outputId": "33a791b8-86de-4eb3-9de9-93894a4778f9"
      },
      "source": [
        "lst = ['A', 'B', 'C', 'D', 'E']\n",
        "print(lst[3], lst[0:2], lst[3:4], lst[2:])\n",
        "print(lst[:4], lst[:], lst[-1], lst[:-2])"
      ],
      "execution_count": 31,
      "outputs": [
        {
          "output_type": "stream",
          "name": "stdout",
          "text": [
            "D ['A', 'B'] ['D'] ['C', 'D', 'E']\n",
            "['A', 'B', 'C', 'D'] ['A', 'B', 'C', 'D', 'E'] E ['A', 'B', 'C']\n"
          ]
        }
      ]
    },
    {
      "cell_type": "code",
      "metadata": {
        "id": "_R1qniFk1kyL",
        "colab": {
          "base_uri": "https://localhost:8080/"
        },
        "outputId": "d1923efa-de81-4ceb-895c-fd9c8e64bc6f"
      },
      "source": [
        "egg=\"ABCDEFGH\"\n",
        "print(egg[3], egg[0:2], egg[3:4], egg[2:])\n",
        "print(egg[:4], egg[:], egg[-1], egg[:-2])"
      ],
      "execution_count": 32,
      "outputs": [
        {
          "output_type": "stream",
          "name": "stdout",
          "text": [
            "D AB D CDEFGH\n",
            "ABCD ABCDEFGH H ABCDEF\n"
          ]
        }
      ]
    },
    {
      "cell_type": "code",
      "metadata": {
        "id": "K22rZiln1k1q",
        "colab": {
          "base_uri": "https://localhost:8080/"
        },
        "outputId": "3ab019eb-792e-425f-8b06-1032a3588f6d"
      },
      "source": [
        "A=[[1, 2], [3, 4]]\n",
        "print(A[0], A[0][1], A[1], A[1][0])"
      ],
      "execution_count": 33,
      "outputs": [
        {
          "output_type": "stream",
          "name": "stdout",
          "text": [
            "[1, 2] 2 [3, 4] 3\n"
          ]
        }
      ]
    },
    {
      "cell_type": "code",
      "metadata": {
        "id": "6FISwoP97QCJ",
        "colab": {
          "base_uri": "https://localhost:8080/"
        },
        "outputId": "6a14088a-6ee0-48b2-f3d0-1aa5389cdfb0"
      },
      "source": [
        "for i in range(5):\n",
        "  print(i, end = \", \")"
      ],
      "execution_count": 34,
      "outputs": [
        {
          "output_type": "stream",
          "name": "stdout",
          "text": [
            "0, 1, 2, 3, 4, "
          ]
        }
      ]
    },
    {
      "cell_type": "code",
      "metadata": {
        "id": "Ed5veJIc7_31",
        "colab": {
          "base_uri": "https://localhost:8080/"
        },
        "outputId": "0927d245-d03d-4b2d-fb9e-6e8d316a0e8a"
      },
      "source": [
        "s=0\n",
        "for i in range(1, 101):\n",
        "  s = s + i\n",
        "print(s)"
      ],
      "execution_count": 35,
      "outputs": [
        {
          "output_type": "stream",
          "name": "stdout",
          "text": [
            "5050\n"
          ]
        }
      ]
    },
    {
      "cell_type": "code",
      "metadata": {
        "id": "LP4tLUKpxDmR",
        "colab": {
          "base_uri": "https://localhost:8080/"
        },
        "outputId": "5f351a9b-c44c-4c54-9d89-85c445c1b37d"
      },
      "source": [
        "s=1\n",
        "for i in range(1, 101):\n",
        "  s = s + i\n",
        "print(s)"
      ],
      "execution_count": 36,
      "outputs": [
        {
          "output_type": "stream",
          "name": "stdout",
          "text": [
            "5051\n"
          ]
        }
      ]
    },
    {
      "cell_type": "code",
      "metadata": {
        "id": "JbV5T1gA4P22",
        "colab": {
          "base_uri": "https://localhost:8080/"
        },
        "outputId": "4adcbb5b-75f1-428c-c6fb-a25769fe7b16"
      },
      "source": [
        "s=0\n",
        "for i in range(1, 101):\n",
        "  s = s + i*i\n",
        "print(s)"
      ],
      "execution_count": 37,
      "outputs": [
        {
          "output_type": "stream",
          "name": "stdout",
          "text": [
            "338350\n"
          ]
        }
      ]
    },
    {
      "cell_type": "code",
      "metadata": {
        "colab": {
          "base_uri": "https://localhost:8080/"
        },
        "id": "XrhIMsBs3CJN",
        "outputId": "aea0e17b-6c0b-41a6-fbca-008c0b4fbeed"
      },
      "source": [
        "s=1\n",
        "for i in range(1, 101):\n",
        "  s = s * i\n",
        "print(s)"
      ],
      "execution_count": 38,
      "outputs": [
        {
          "output_type": "stream",
          "name": "stdout",
          "text": [
            "93326215443944152681699238856266700490715968264381621468592963895217599993229915608941463976156518286253697920827223758251185210916864000000000000000000000000\n"
          ]
        }
      ]
    },
    {
      "cell_type": "code",
      "metadata": {
        "id": "yq0fqVn738V0",
        "colab": {
          "base_uri": "https://localhost:8080/"
        },
        "outputId": "0b78c3b8-c050-486c-b13d-96a957efd885"
      },
      "source": [
        "s=0\n",
        "i=1\n",
        "while(i<=100):\n",
        "  s = s + i\n",
        "  i = i + 1\n",
        "print(s)"
      ],
      "execution_count": 39,
      "outputs": [
        {
          "output_type": "stream",
          "name": "stdout",
          "text": [
            "5050\n"
          ]
        }
      ]
    },
    {
      "cell_type": "code",
      "metadata": {
        "id": "vHEn410l4AWT",
        "colab": {
          "base_uri": "https://localhost:8080/"
        },
        "outputId": "cdf65e41-3eea-457d-c420-414193f623b2"
      },
      "source": [
        "s=1\n",
        "i=1\n",
        "while(i<=100):\n",
        "  s = s * i\n",
        "  i = i + 1\n",
        "print(s)"
      ],
      "execution_count": 40,
      "outputs": [
        {
          "output_type": "stream",
          "name": "stdout",
          "text": [
            "93326215443944152681699238856266700490715968264381621468592963895217599993229915608941463976156518286253697920827223758251185210916864000000000000000000000000\n"
          ]
        }
      ]
    }
  ]
}