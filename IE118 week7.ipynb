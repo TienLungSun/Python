{
  "nbformat": 4,
  "nbformat_minor": 0,
  "metadata": {
    "colab": {
      "name": "Untitled3.ipynb",
      "provenance": [],
      "include_colab_link": true
    },
    "kernelspec": {
      "name": "python3",
      "display_name": "Python 3"
    },
    "language_info": {
      "name": "python"
    }
  },
  "cells": [
    {
      "cell_type": "markdown",
      "metadata": {
        "id": "view-in-github",
        "colab_type": "text"
      },
      "source": [
        "<a href=\"https://colab.research.google.com/github/TienLungSun/Python/blob/main/IE118%20week7.ipynb\" target=\"_parent\"><img src=\"https://colab.research.google.com/assets/colab-badge.svg\" alt=\"Open In Colab\"/></a>"
      ]
    },
    {
      "cell_type": "markdown",
      "metadata": {
        "id": "8Yxl2vTh6TDS"
      },
      "source": [
        "p.1-62 for loop"
      ]
    },
    {
      "cell_type": "code",
      "metadata": {
        "id": "pXPbn9RD6BI1",
        "colab": {
          "base_uri": "https://localhost:8080/"
        },
        "outputId": "e3767749-eb95-418d-ecfe-e3e96f8016a5"
      },
      "source": [
        "lst = [\"桃園\", \"中壢\", \"楊梅\", \"林口\"]\n",
        "print(lst)"
      ],
      "execution_count": null,
      "outputs": [
        {
          "output_type": "stream",
          "name": "stdout",
          "text": [
            "['桃園', '中壢', '楊梅', '林口']\n"
          ]
        }
      ]
    },
    {
      "cell_type": "code",
      "metadata": {
        "id": "OzQ-YKF76g1u",
        "colab": {
          "base_uri": "https://localhost:8080/"
        },
        "outputId": "9194a391-3f55-4281-9c67-8c1d00985e3a"
      },
      "source": [
        "for city in lst:\n",
        "  print(city)"
      ],
      "execution_count": null,
      "outputs": [
        {
          "output_type": "stream",
          "name": "stdout",
          "text": [
            "桃園\n",
            "中壢\n",
            "楊梅\n",
            "林口\n"
          ]
        }
      ]
    },
    {
      "cell_type": "code",
      "metadata": {
        "id": "t5dX28yy7Htf",
        "colab": {
          "base_uri": "https://localhost:8080/"
        },
        "outputId": "36b92e48-e3ad-4f01-80d8-45f07b698ae1"
      },
      "source": [
        "list(range(5))"
      ],
      "execution_count": null,
      "outputs": [
        {
          "output_type": "execute_result",
          "data": {
            "text/plain": [
              "[0, 1, 2, 3, 4]"
            ]
          },
          "metadata": {},
          "execution_count": 30
        }
      ]
    },
    {
      "cell_type": "code",
      "metadata": {
        "id": "jcHR5N3C7TFw",
        "colab": {
          "base_uri": "https://localhost:8080/"
        },
        "outputId": "23c9598e-04f1-4791-d956-9c406b0f7686"
      },
      "source": [
        "for i in list(range(5)):\n",
        "  print(i)"
      ],
      "execution_count": null,
      "outputs": [
        {
          "output_type": "stream",
          "name": "stdout",
          "text": [
            "0\n",
            "1\n",
            "2\n",
            "3\n",
            "4\n"
          ]
        }
      ]
    },
    {
      "cell_type": "code",
      "metadata": {
        "id": "UZrzhY0I7MU0",
        "colab": {
          "base_uri": "https://localhost:8080/"
        },
        "outputId": "9c7fe248-3a60-4c72-b208-bcead543cab1"
      },
      "source": [
        "#可以直接寫 \n",
        "for i in range(5):\n",
        "  print(i)"
      ],
      "execution_count": null,
      "outputs": [
        {
          "output_type": "stream",
          "name": "stdout",
          "text": [
            "0\n",
            "1\n",
            "2\n",
            "3\n",
            "4\n"
          ]
        }
      ]
    },
    {
      "cell_type": "code",
      "metadata": {
        "id": "6FISwoP97QCJ",
        "colab": {
          "base_uri": "https://localhost:8080/"
        },
        "outputId": "0c442c28-2ac4-4507-8b06-1925f59f2e79"
      },
      "source": [
        "for i in range(5):\n",
        "  print(i, end = \", \")"
      ],
      "execution_count": null,
      "outputs": [
        {
          "output_type": "stream",
          "name": "stdout",
          "text": [
            "0, 1, 2, 3, 4, "
          ]
        }
      ]
    },
    {
      "cell_type": "code",
      "metadata": {
        "id": "No2V-dGS7jbN",
        "colab": {
          "base_uri": "https://localhost:8080/"
        },
        "outputId": "ebe9a202-908f-4a43-c843-b305acecccbf"
      },
      "source": [
        "for i in range(5):\n",
        "  print(i, end = \" \")"
      ],
      "execution_count": null,
      "outputs": [
        {
          "output_type": "stream",
          "name": "stdout",
          "text": [
            "0 1 2 3 4 "
          ]
        }
      ]
    },
    {
      "cell_type": "code",
      "metadata": {
        "id": "b_9CYJSn7oV5",
        "colab": {
          "base_uri": "https://localhost:8080/"
        },
        "outputId": "f29fb708-4214-4188-ae8c-340328a092e3"
      },
      "source": [
        "face = \"( ͡° ͜ʖ ͡°)\"\n",
        "print(face)"
      ],
      "execution_count": null,
      "outputs": [
        {
          "output_type": "stream",
          "name": "stdout",
          "text": [
            "( ͡° ͜ʖ ͡°)\n"
          ]
        }
      ]
    },
    {
      "cell_type": "code",
      "metadata": {
        "id": "YUDODC3H75Hm",
        "colab": {
          "base_uri": "https://localhost:8080/"
        },
        "outputId": "8f0bf81b-fca4-4ea1-984f-7eb795dc8a82"
      },
      "source": [
        "for i in range(1, 6):\n",
        "  print(face*i)"
      ],
      "execution_count": null,
      "outputs": [
        {
          "output_type": "stream",
          "name": "stdout",
          "text": [
            "( ͡° ͜ʖ ͡°)\n",
            "( ͡° ͜ʖ ͡°)( ͡° ͜ʖ ͡°)\n",
            "( ͡° ͜ʖ ͡°)( ͡° ͜ʖ ͡°)( ͡° ͜ʖ ͡°)\n",
            "( ͡° ͜ʖ ͡°)( ͡° ͜ʖ ͡°)( ͡° ͜ʖ ͡°)( ͡° ͜ʖ ͡°)\n",
            "( ͡° ͜ʖ ͡°)( ͡° ͜ʖ ͡°)( ͡° ͜ʖ ͡°)( ͡° ͜ʖ ͡°)( ͡° ͜ʖ ͡°)\n"
          ]
        }
      ]
    },
    {
      "cell_type": "code",
      "metadata": {
        "id": "Ed5veJIc7_31"
      },
      "source": [
        ""
      ],
      "execution_count": null,
      "outputs": []
    }
  ]
}