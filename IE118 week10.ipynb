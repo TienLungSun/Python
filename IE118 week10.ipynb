{
  "nbformat": 4,
  "nbformat_minor": 0,
  "metadata": {
    "colab": {
      "name": "Untitled3.ipynb",
      "provenance": [],
      "include_colab_link": true
    },
    "kernelspec": {
      "name": "python3",
      "display_name": "Python 3"
    },
    "language_info": {
      "name": "python"
    }
  },
  "cells": [
    {
      "cell_type": "markdown",
      "metadata": {
        "id": "view-in-github",
        "colab_type": "text"
      },
      "source": [
        "<a href=\"https://colab.research.google.com/github/TienLungSun/Python/blob/main/IE118%20week10.ipynb\" target=\"_parent\"><img src=\"https://colab.research.google.com/assets/colab-badge.svg\" alt=\"Open In Colab\"/></a>"
      ]
    },
    {
      "cell_type": "markdown",
      "metadata": {
        "id": "-_Ecv6ezhxEo"
      },
      "source": [
        "p.1-69 append"
      ]
    },
    {
      "cell_type": "code",
      "metadata": {
        "colab": {
          "base_uri": "https://localhost:8080/"
        },
        "id": "q6C5BsvUhj_I",
        "outputId": "4fcc76cc-a96c-4829-9cbb-23eca335f85a"
      },
      "source": [
        "price = [3000, 2500, 100]\n",
        "rate = 30.25\n",
        "priceNTS = []\n",
        "for p in price:\n",
        "  ptw = p*rate\n",
        "  priceNTS.append(ptw)\n",
        "print(priceNTS)"
      ],
      "execution_count": 1,
      "outputs": [
        {
          "output_type": "stream",
          "name": "stdout",
          "text": [
            "[90750.0, 75625.0, 3025.0]\n"
          ]
        }
      ]
    },
    {
      "cell_type": "code",
      "metadata": {
        "colab": {
          "base_uri": "https://localhost:8080/"
        },
        "id": "8x13FgC2iHGq",
        "outputId": "dd5ad002-3f01-4446-b9c0-1be7a1941940"
      },
      "source": [
        "s = \"32.4, 56.7, 23\"\n",
        "lst = s.split(\",\")\n",
        "print(lst)"
      ],
      "execution_count": 2,
      "outputs": [
        {
          "output_type": "stream",
          "name": "stdout",
          "text": [
            "['32.4', ' 56.7', ' 23']\n"
          ]
        }
      ]
    },
    {
      "cell_type": "code",
      "metadata": {
        "colab": {
          "base_uri": "https://localhost:8080/"
        },
        "id": "JoK-pW4ziU6U",
        "outputId": "525f20ac-d4b9-446c-81f5-3b1201b4f9da"
      },
      "source": [
        "ss = \"32.4, 56.7, 23\"\n",
        "numberLst = []\n",
        "for a in ss.split(\",\"):\n",
        "  value = float(a)\n",
        "  numberLst.append(value)\n",
        "print(numberLst)"
      ],
      "execution_count": 3,
      "outputs": [
        {
          "output_type": "stream",
          "name": "stdout",
          "text": [
            "[32.4, 56.7, 23.0]\n"
          ]
        }
      ]
    },
    {
      "cell_type": "code",
      "metadata": {
        "colab": {
          "base_uri": "https://localhost:8080/"
        },
        "id": "TIz-68IXisoi",
        "outputId": "f0f950a9-0b04-46c3-f582-ae48acd78e50"
      },
      "source": [
        "ss = \"32.4, 56.7, 23\"\n",
        "total = 0\n",
        "for a in s.split(\",\"):\n",
        "  value = float(a)\n",
        "  total = total + value\n",
        "print(total)"
      ],
      "execution_count": 4,
      "outputs": [
        {
          "output_type": "stream",
          "name": "stdout",
          "text": [
            "112.1\n"
          ]
        }
      ]
    },
    {
      "cell_type": "code",
      "metadata": {
        "colab": {
          "base_uri": "https://localhost:8080/"
        },
        "id": "8v9sEoRJi72M",
        "outputId": "f4ab8d46-50fe-4448-f15d-47a57f8c6c6d"
      },
      "source": [
        "#直接呼叫 python 的 sum 函數\n",
        "lst = [1, 2, 3, 4]\n",
        "b = sum(lst)\n",
        "print(b)"
      ],
      "execution_count": 5,
      "outputs": [
        {
          "output_type": "stream",
          "name": "stdout",
          "text": [
            "10\n"
          ]
        }
      ]
    },
    {
      "cell_type": "code",
      "metadata": {
        "colab": {
          "base_uri": "https://localhost:8080/"
        },
        "id": "imOXgf3fjHSk",
        "outputId": "03a40a67-2ac8-48ea-d823-380c22932c4a"
      },
      "source": [
        "lst = [1, 2, 3, 4]\n",
        "len(lst)"
      ],
      "execution_count": 6,
      "outputs": [
        {
          "output_type": "execute_result",
          "data": {
            "text/plain": [
              "4"
            ]
          },
          "metadata": {},
          "execution_count": 6
        }
      ]
    },
    {
      "cell_type": "markdown",
      "metadata": {
        "id": "zdtnjov8kvzo"
      },
      "source": [
        "p.1-73 冰雹數列"
      ]
    },
    {
      "cell_type": "code",
      "metadata": {
        "colab": {
          "base_uri": "https://localhost:8080/",
          "height": 293
        },
        "id": "RkwxN3XCkckc",
        "outputId": "bf627793-dd82-4710-bfef-90f5f481be72"
      },
      "source": [
        "import matplotlib.pyplot as plt\n",
        "i = int(input('用你學號輸入一個正整數: '))\n",
        "lst = [i]\n",
        "while(i!=1):  \n",
        "  if(i%2==0):\n",
        "    i = int(i/2)\n",
        "  else:\n",
        "    i = 3*i+1\n",
        "  lst.append(i)\n",
        "plt.plot(lst)\n",
        "plt.show()"
      ],
      "execution_count": 13,
      "outputs": [
        {
          "name": "stdout",
          "output_type": "stream",
          "text": [
            "用你學號輸入一個正整數: 1101235\n"
          ]
        },
        {
          "output_type": "display_data",
          "data": {
            "image/png": "[encoded data removed]",
            "text/plain": [
              "<Figure size 432x288 with 1 Axes>"
            ]
          },
          "metadata": {
            "needs_background": "light"
          }
        }
      ]
    },
    {
      "cell_type": "markdown",
      "metadata": {
        "id": "P3GZqZNDm5kG"
      },
      "source": [
        "p.1-74 list comprehension"
      ]
    },
    {
      "cell_type": "code",
      "metadata": {
        "colab": {
          "base_uri": "https://localhost:8080/"
        },
        "id": "qb6XMz_vmhNj",
        "outputId": "8c8f53c0-dd3c-4632-f4b2-39f93b246c76"
      },
      "source": [
        "[2*k for k in range(5)]"
      ],
      "execution_count": 11,
      "outputs": [
        {
          "output_type": "execute_result",
          "data": {
            "text/plain": [
              "[0, 2, 4, 6, 8]"
            ]
          },
          "metadata": {},
          "execution_count": 11
        }
      ]
    },
    {
      "cell_type": "code",
      "metadata": {
        "colab": {
          "base_uri": "https://localhost:8080/"
        },
        "id": "To5GG3EPnBs3",
        "outputId": "ef6a21cb-9a5e-4dd8-87ab-973aca9cb757"
      },
      "source": [
        "price = [3000, 2500, 100]\n",
        "rate = 30.25\n",
        "priceNTS = [p*rate for p in price]\n",
        "print(priceNTS)"
      ],
      "execution_count": 12,
      "outputs": [
        {
          "output_type": "stream",
          "name": "stdout",
          "text": [
            "[90750.0, 75625.0, 3025.0]\n"
          ]
        }
      ]
    },
    {
      "cell_type": "code",
      "metadata": {
        "id": "dzCBgmminOw4"
      },
      "source": [
        ""
      ],
      "execution_count": null,
      "outputs": []
    }
  ]
}