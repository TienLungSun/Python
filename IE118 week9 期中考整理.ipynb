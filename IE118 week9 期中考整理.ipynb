{
  "nbformat": 4,
  "nbformat_minor": 0,
  "metadata": {
    "colab": {
      "name": "Untitled3.ipynb",
      "provenance": [],
      "include_colab_link": true
    },
    "kernelspec": {
      "name": "python3",
      "display_name": "Python 3"
    },
    "language_info": {
      "name": "python"
    }
  },
  "cells": [
    {
      "cell_type": "markdown",
      "metadata": {
        "id": "view-in-github",
        "colab_type": "text"
      },
      "source": [
        "<a href=\"https://colab.research.google.com/github/TienLungSun/Python/blob/main/IE118%20week9%20%E6%9C%9F%E4%B8%AD%E8%80%83%E6%95%B4%E7%90%86.ipynb\" target=\"_parent\"><img src=\"https://colab.research.google.com/assets/colab-badge.svg\" alt=\"Open In Colab\"/></a>"
      ]
    },
    {
      "cell_type": "code",
      "metadata": {
        "colab": {
          "base_uri": "https://localhost:8080/"
        },
        "id": "oh0aVMu5xYaq",
        "outputId": "a28280a2-e3dc-46dc-911c-648da525ac9d"
      },
      "source": [
        "print(71/3, 71//3, 71%3, (71+2)/3*2) #答案到小數下一位即可"
      ],
      "execution_count": 1,
      "outputs": [
        {
          "output_type": "stream",
          "name": "stdout",
          "text": [
            "23.666666666666668 23 2 48.666666666666664\n"
          ]
        }
      ]
    },
    {
      "cell_type": "code",
      "metadata": {
        "colab": {
          "base_uri": "https://localhost:8080/"
        },
        "id": "fnsu2BR6xbyq",
        "outputId": "0c2be945-5470-4996-e2e6-9c00b7994f74"
      },
      "source": [
        "b = (2+6)*3/5\n",
        "print(b+5) #答案到小數下一位即可"
      ],
      "execution_count": 3,
      "outputs": [
        {
          "output_type": "stream",
          "name": "stdout",
          "text": [
            "9.8\n"
          ]
        }
      ]
    },
    {
      "cell_type": "code",
      "metadata": {
        "colab": {
          "base_uri": "https://localhost:8080/"
        },
        "id": "0PUmIr5Dxb2K",
        "outputId": "9146a854-c161-4ca1-d50f-aa1f9af2cad8"
      },
      "source": [
        "b = 3+2*6\n",
        "c = b+5-4\n",
        "print(c)"
      ],
      "execution_count": 4,
      "outputs": [
        {
          "output_type": "stream",
          "name": "stdout",
          "text": [
            "16\n"
          ]
        }
      ]
    },
    {
      "cell_type": "code",
      "metadata": {
        "colab": {
          "base_uri": "https://localhost:8080/",
          "height": 265
        },
        "id": "y3KBGdJqxb5T",
        "outputId": "d6e32313-273e-4ae4-9900-5665386662d4"
      },
      "source": [
        "#畫出並解釋下面程式會產生的圖形\n",
        "import matplotlib.pyplot as plt\n",
        "plt.plot([1, 2])\n",
        "plt.show()"
      ],
      "execution_count": 5,
      "outputs": [
        {
          "output_type": "display_data",
          "data": {
            "image/png": "[encoded data removed]",
            "text/plain": [
              "<Figure size 432x288 with 1 Axes>"
            ]
          },
          "metadata": {
            "needs_background": "light"
          }
        }
      ]
    },
    {
      "cell_type": "code",
      "metadata": {
        "colab": {
          "base_uri": "https://localhost:8080/",
          "height": 265
        },
        "id": "4tg--SS2xb8q",
        "outputId": "c3328be3-7353-4fe2-c979-fce3542622fc"
      },
      "source": [
        "#畫出並解釋下面程式會產生的圖形\n",
        "plt.plot([1, 2])\n",
        "plt.plot([2, 1])\n",
        "plt.show()"
      ],
      "execution_count": 6,
      "outputs": [
        {
          "output_type": "display_data",
          "data": {
            "image/png": "[encoded data removed]",
            "text/plain": [
              "<Figure size 432x288 with 1 Axes>"
            ]
          },
          "metadata": {
            "needs_background": "light"
          }
        }
      ]
    },
    {
      "cell_type": "code",
      "metadata": {
        "colab": {
          "base_uri": "https://localhost:8080/"
        },
        "id": "6diswqGgxb_x",
        "outputId": "d93295f9-7c37-47ec-87f6-51ecae24c178"
      },
      "source": [
        "import numpy as np\n",
        "np.random.randn(2) #隨機變數答案寫法: [min, max]隨機"
      ],
      "execution_count": 9,
      "outputs": [
        {
          "output_type": "execute_result",
          "data": {
            "text/plain": [
              "array([-0.0111173 ,  1.83392485])"
            ]
          },
          "metadata": {},
          "execution_count": 9
        }
      ]
    },
    {
      "cell_type": "code",
      "metadata": {
        "colab": {
          "base_uri": "https://localhost:8080/",
          "height": 265
        },
        "id": "p4qd5GevycXy",
        "outputId": "db116b66-f478-4f47-ec10-13e93ef58be8"
      },
      "source": [
        "#畫出並解釋下面程式會產生的圖形\n",
        "x = [1, 2]\n",
        "y = [7, 8]\n",
        "plt.scatter(x, y)\n",
        "plt.show() "
      ],
      "execution_count": 10,
      "outputs": [
        {
          "output_type": "display_data",
          "data": {
            "image/png": "[encoded data removed]",
            "text/plain": [
              "<Figure size 432x288 with 1 Axes>"
            ]
          },
          "metadata": {
            "needs_background": "light"
          }
        }
      ]
    },
    {
      "cell_type": "code",
      "metadata": {
        "colab": {
          "base_uri": "https://localhost:8080/",
          "height": 265
        },
        "id": "xDDWzgutychZ",
        "outputId": "fe3ca131-27eb-474f-e1a6-d8e6467aef3d"
      },
      "source": [
        "#畫出並解釋下面程式會產生的圖形\n",
        "x = np.linspace(-10, 10, 5)\n",
        "y = x**2 + 1\n",
        "plt.plot(x, y)\n",
        "plt.show()"
      ],
      "execution_count": 14,
      "outputs": [
        {
          "output_type": "display_data",
          "data": {
            "image/png": "[encoded data removed]",
            "text/plain": [
              "<Figure size 432x288 with 1 Axes>"
            ]
          },
          "metadata": {
            "needs_background": "light"
          }
        }
      ]
    },
    {
      "cell_type": "code",
      "metadata": {
        "colab": {
          "base_uri": "https://localhost:8080/",
          "height": 265
        },
        "id": "1Mzd_vi4ycpQ",
        "outputId": "e0ebd891-0712-488f-be52-bd087e86ba97"
      },
      "source": [
        "#畫出並解釋下面程式會產生的圖形\n",
        "theta = np.linspace(0, 8*np.pi, 100)\n",
        "y = np.sin(theta)\n",
        "plt.plot(theta, y)\n",
        "plt.show()"
      ],
      "execution_count": 15,
      "outputs": [
        {
          "output_type": "display_data",
          "data": {
            "image/png": "[encoded data removed]",
            "text/plain": [
              "<Figure size 432x288 with 1 Axes>"
            ]
          },
          "metadata": {
            "needs_background": "light"
          }
        }
      ]
    },
    {
      "cell_type": "code",
      "metadata": {
        "colab": {
          "base_uri": "https://localhost:8080/",
          "height": 265
        },
        "id": "xyPs-pb-ze88",
        "outputId": "fec2d161-5ec8-4be1-9173-3bbfd9150c9b"
      },
      "source": [
        "#畫出並解釋下面程式會產生的圖形\n",
        "radian1=np.linspace(0, 2*np.pi, 100) \n",
        "r=3\n",
        "x=r*np.cos(radian1)\n",
        "y=r*np.sin(radian1)\n",
        "plt.plot(x, y)\n",
        "plt.axis('equal')\n",
        "plt.show()"
      ],
      "execution_count": 12,
      "outputs": [
        {
          "output_type": "display_data",
          "data": {
            "image/png": "[encoded data removed]",
            "text/plain": [
              "<Figure size 432x288 with 1 Axes>"
            ]
          },
          "metadata": {
            "needs_background": "light"
          }
        }
      ]
    },
    {
      "cell_type": "code",
      "metadata": {
        "colab": {
          "base_uri": "https://localhost:8080/",
          "height": 265
        },
        "id": "cj0B5XPkzfAk",
        "outputId": "4541e9b1-a354-47f2-cdae-517b84e3b3bc"
      },
      "source": [
        "#畫出並解釋下面程式會產生的圖形\n",
        "radian1=np.linspace(0, np.pi, 100) \n",
        "r=3\n",
        "x=r*np.cos(radian1)\n",
        "y=r*np.sin(radian1)\n",
        "plt.plot(x, y)\n",
        "plt.axis('equal')\n",
        "plt.show()"
      ],
      "execution_count": 16,
      "outputs": [
        {
          "output_type": "display_data",
          "data": {
            "image/png": "[encoded data removed]",
            "text/plain": [
              "<Figure size 432x288 with 1 Axes>"
            ]
          },
          "metadata": {
            "needs_background": "light"
          }
        }
      ]
    },
    {
      "cell_type": "code",
      "metadata": {
        "colab": {
          "base_uri": "https://localhost:8080/"
        },
        "id": "b90wD-iczfTC",
        "outputId": "bf4b394c-7313-47ff-a376-0f7bc88803bd"
      },
      "source": [
        "lst = [\"Hi\", 123]\n",
        "print(lst*3)"
      ],
      "execution_count": 17,
      "outputs": [
        {
          "output_type": "stream",
          "name": "stdout",
          "text": [
            "['Hi', 123, 'Hi', 123, 'Hi', 123]\n"
          ]
        }
      ]
    },
    {
      "cell_type": "code",
      "metadata": {
        "colab": {
          "base_uri": "https://localhost:8080/"
        },
        "id": "6L4FGyAM0L-s",
        "outputId": "0e122b56-9aba-4657-b5ac-e23fb1e05ee5"
      },
      "source": [
        "str1 = \"你好\"\n",
        "print(str1*3)"
      ],
      "execution_count": 18,
      "outputs": [
        {
          "output_type": "stream",
          "name": "stdout",
          "text": [
            "你好你好你好\n"
          ]
        }
      ]
    },
    {
      "cell_type": "code",
      "metadata": {
        "colab": {
          "base_uri": "https://localhost:8080/"
        },
        "id": "K6cY45W70MDB",
        "outputId": "91f4ff69-7602-4e00-d0dd-bd92dcbc9bad"
      },
      "source": [
        "my_dict = {\"元智\":\"YZU\", \"工工管\": \"IEM\", \"大一\":\"Freshman\"}\n",
        "print(my_dict[\"元智\"])"
      ],
      "execution_count": 19,
      "outputs": [
        {
          "output_type": "stream",
          "name": "stdout",
          "text": [
            "YZU\n"
          ]
        }
      ]
    },
    {
      "cell_type": "code",
      "metadata": {
        "colab": {
          "base_uri": "https://localhost:8080/"
        },
        "id": "-zaKmJ0V0MHC",
        "outputId": "66746bad-ac06-433e-e423-dd946a78960d"
      },
      "source": [
        "my_dict = {\"元智\":\"YZU\"}\n",
        "my_dict[\"蘋果\"]=\"apple\"\n",
        "print(my_dict)"
      ],
      "execution_count": 20,
      "outputs": [
        {
          "output_type": "stream",
          "name": "stdout",
          "text": [
            "{'元智': 'YZU', '蘋果': 'apple'}\n"
          ]
        }
      ]
    },
    {
      "cell_type": "code",
      "metadata": {
        "colab": {
          "base_uri": "https://localhost:8080/"
        },
        "id": "xSIqh3AEycwZ",
        "outputId": "e03cbfc2-baf0-48ef-a987-80cc1dbe3985"
      },
      "source": [
        "my_dict = {\"元智\":\"YZU\", \"工工管\": \"IEM\", \"大一\":\"Freshman\"}\n",
        "del my_dict[\"大一\"]\n",
        "print(my_dict)"
      ],
      "execution_count": 21,
      "outputs": [
        {
          "output_type": "stream",
          "name": "stdout",
          "text": [
            "{'元智': 'YZU', '工工管': 'IEM'}\n"
          ]
        }
      ]
    },
    {
      "cell_type": "code",
      "metadata": {
        "colab": {
          "base_uri": "https://localhost:8080/"
        },
        "id": "yRaVvCKu0mGc",
        "outputId": "1f8c73d0-209a-4225-dc53-5658cfdf57a6"
      },
      "source": [
        "my_dict = {'元智': 'YZU', '工工管': 'IEM'}\n",
        "print(my_dict.keys())\n",
        "print(my_dict.values())"
      ],
      "execution_count": 22,
      "outputs": [
        {
          "output_type": "stream",
          "name": "stdout",
          "text": [
            "dict_keys(['元智', '工工管'])\n",
            "dict_values(['YZU', 'IEM'])\n"
          ]
        }
      ]
    },
    {
      "cell_type": "code",
      "metadata": {
        "id": "F56_4dhm0mJ0"
      },
      "source": [
        "#解釋下面與使用者互動的程式\n",
        "c=0.272174\n",
        "yen = input(\"請輸入日圓金額: \")\n",
        "print(\"換算成台幣是: \", float(yen)*c)"
      ],
      "execution_count": null,
      "outputs": []
    },
    {
      "cell_type": "code",
      "metadata": {
        "id": "sy3iqCHG1LAT"
      },
      "source": [
        "#解釋下面與使用者互動的程式\n",
        "h = float(input(\"請輸入身高: \"))\n",
        "w = float(input(\"請輸入體重: \"))\n",
        "print(\"your BMI = \", h/w)"
      ],
      "execution_count": null,
      "outputs": []
    },
    {
      "cell_type": "code",
      "metadata": {
        "id": "DHf5Wrsf1LEa"
      },
      "source": [
        "grade =87\n",
        "if (grade >= 60):\n",
        "  print(\"及格\")\n",
        "else: \n",
        "  print(\"重修\")"
      ],
      "execution_count": null,
      "outputs": []
    },
    {
      "cell_type": "code",
      "metadata": {
        "id": "eMfZbgEY1aBT"
      },
      "source": [
        "grade =87\n",
        "if (grade >= 80):\n",
        "  print(\"A\")\n",
        "elif (grade >= 70): \n",
        "  print(\"B\")\n",
        "elif (grade >=60):\n",
        "  print(\"C\")\n",
        "else:\n",
        "  print(\"D\")"
      ],
      "execution_count": null,
      "outputs": []
    },
    {
      "cell_type": "code",
      "metadata": {
        "id": "OYyutOge1aE7"
      },
      "source": [
        "\"a\" > \"b\""
      ],
      "execution_count": null,
      "outputs": []
    },
    {
      "cell_type": "code",
      "metadata": {
        "id": "uNdN_PTG1aIL"
      },
      "source": [
        "\"zoo\" > \"zip\""
      ],
      "execution_count": null,
      "outputs": []
    },
    {
      "cell_type": "code",
      "metadata": {
        "id": "L6OqqtoX0mNS"
      },
      "source": [
        "\"悲傷\" in \"把我的悲傷都一起送走\""
      ],
      "execution_count": null,
      "outputs": []
    },
    {
      "cell_type": "code",
      "metadata": {
        "id": "xfmJ6FRt1krT"
      },
      "source": [
        "\"快樂\" in \"把我的悲傷都一起送走\""
      ],
      "execution_count": null,
      "outputs": []
    },
    {
      "cell_type": "code",
      "metadata": {
        "id": "bjQib5mj1ku6",
        "outputId": "29eaaac8-61d4-451a-ad2f-f857508103da",
        "colab": {
          "base_uri": "https://localhost:8080/"
        }
      },
      "source": [
        "lst = ['A', 'B', 'C', 'D', 'E']\n",
        "print(lst[3], lst[0:2], lst[3:4], lst[2:])\n",
        "print(lst[:4], lst[:], lst[-1], lst[:-2])"
      ],
      "execution_count": 25,
      "outputs": [
        {
          "output_type": "stream",
          "name": "stdout",
          "text": [
            "D ['A', 'B'] ['D'] ['C', 'D', 'E']\n",
            "['A', 'B', 'C', 'D'] ['A', 'B', 'C', 'D', 'E'] E ['A', 'B', 'C']\n"
          ]
        }
      ]
    },
    {
      "cell_type": "code",
      "metadata": {
        "id": "_R1qniFk1kyL",
        "outputId": "a4b305d9-dd3d-45e2-f026-2074d1320b7e",
        "colab": {
          "base_uri": "https://localhost:8080/"
        }
      },
      "source": [
        "egg=\"ABCDEFGH\"\n",
        "print(egg[3], egg[0:2], egg[3:4], egg[2:])\n",
        "print(egg[:4], egg[:], egg[-1], egg[:-2])"
      ],
      "execution_count": 26,
      "outputs": [
        {
          "output_type": "stream",
          "name": "stdout",
          "text": [
            "D AB D CDEFGH\n",
            "ABCD ABCDEFGH H ABCDEF\n"
          ]
        }
      ]
    },
    {
      "cell_type": "code",
      "metadata": {
        "id": "K22rZiln1k1q",
        "outputId": "8a215f20-7ace-40f7-af8c-49e12b3c5b2b",
        "colab": {
          "base_uri": "https://localhost:8080/"
        }
      },
      "source": [
        "A=[[1, 2], [3, 4]]\n",
        "print(A[0], A[0][1], A[1], A[1][0])"
      ],
      "execution_count": 27,
      "outputs": [
        {
          "output_type": "stream",
          "name": "stdout",
          "text": [
            "[1, 2] 2 [3, 4] 3\n"
          ]
        }
      ]
    },
    {
      "cell_type": "code",
      "metadata": {
        "id": "6FISwoP97QCJ",
        "colab": {
          "base_uri": "https://localhost:8080/"
        },
        "outputId": "0c442c28-2ac4-4507-8b06-1925f59f2e79"
      },
      "source": [
        "for i in range(5):\n",
        "  print(i, end = \", \")"
      ],
      "execution_count": null,
      "outputs": [
        {
          "output_type": "stream",
          "name": "stdout",
          "text": [
            "0, 1, 2, 3, 4, "
          ]
        }
      ]
    },
    {
      "cell_type": "code",
      "metadata": {
        "id": "Ed5veJIc7_31",
        "colab": {
          "base_uri": "https://localhost:8080/"
        },
        "outputId": "d9ffd4be-917a-4901-d593-ecd7d87cd5b5"
      },
      "source": [
        "s=0\n",
        "for i in range(1, 101):\n",
        "  s = s + i\n",
        "print(s)"
      ],
      "execution_count": null,
      "outputs": [
        {
          "output_type": "stream",
          "name": "stdout",
          "text": [
            "5050\n"
          ]
        }
      ]
    },
    {
      "cell_type": "code",
      "metadata": {
        "id": "LP4tLUKpxDmR"
      },
      "source": [
        "s=1\n",
        "for i in range(1, 101):\n",
        "  s = s + i\n",
        "print(s)"
      ],
      "execution_count": null,
      "outputs": []
    },
    {
      "cell_type": "code",
      "metadata": {
        "id": "JbV5T1gA4P22",
        "colab": {
          "base_uri": "https://localhost:8080/"
        },
        "outputId": "d2020796-be2c-41ad-d7d7-edc6bf7f4f6b"
      },
      "source": [
        "s=0\n",
        "for i in range(1, 101):\n",
        "  s = s + i*i\n",
        "print(s)"
      ],
      "execution_count": null,
      "outputs": [
        {
          "output_type": "stream",
          "name": "stdout",
          "text": [
            "338350\n"
          ]
        }
      ]
    },
    {
      "cell_type": "code",
      "metadata": {
        "colab": {
          "base_uri": "https://localhost:8080/"
        },
        "id": "XrhIMsBs3CJN",
        "outputId": "c00b1a56-6c4a-46c6-eb5f-c1723b594ca3"
      },
      "source": [
        "s=1\n",
        "for i in range(1, 101):\n",
        "  s = s * i\n",
        "print(s)"
      ],
      "execution_count": null,
      "outputs": [
        {
          "output_type": "stream",
          "name": "stdout",
          "text": [
            "93326215443944152681699238856266700490715968264381621468592963895217599993229915608941463976156518286253697920827223758251185210916864000000000000000000000000\n"
          ]
        }
      ]
    },
    {
      "cell_type": "code",
      "metadata": {
        "id": "MgCIu8u63XBH"
      },
      "source": [
        "# 無窮迴圈, 注意!!!!!!!!!!\n",
        "face = \"( ͡° ͜ʖ ͡°)\"\n",
        "i=1\n",
        "while (i<=5):\n",
        "  print(face*i)"
      ],
      "execution_count": null,
      "outputs": []
    },
    {
      "cell_type": "code",
      "metadata": {
        "colab": {
          "base_uri": "https://localhost:8080/"
        },
        "id": "rMB3pA-83oyL",
        "outputId": "3f80a7a4-cb69-4319-d325-e3fa242bc8a2"
      },
      "source": [
        "msg = \"\"\n",
        "while (msg != \"bye\"):\n",
        "  msg = input(\">\")\n",
        "  print(\"嗨!哩賀\")"
      ],
      "execution_count": null,
      "outputs": [
        {
          "output_type": "stream",
          "name": "stdout",
          "text": [
            ">wang\n",
            "嗨!哩賀\n",
            ">bye\n",
            "嗨!哩賀\n"
          ]
        }
      ]
    }
  ]
}