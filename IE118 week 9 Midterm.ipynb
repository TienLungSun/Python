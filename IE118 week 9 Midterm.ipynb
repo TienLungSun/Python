{
  "nbformat": 4,
  "nbformat_minor": 0,
  "metadata": {
    "colab": {
      "name": "Untitled3.ipynb",
      "provenance": [],
      "include_colab_link": true
    },
    "kernelspec": {
      "name": "python3",
      "display_name": "Python 3"
    },
    "language_info": {
      "name": "python"
    }
  },
  "cells": [
    {
      "cell_type": "markdown",
      "metadata": {
        "id": "view-in-github",
        "colab_type": "text"
      },
      "source": [
        "<a href=\"https://colab.research.google.com/github/TienLungSun/Python/blob/main/IE118%20week%209%20Midterm.ipynb\" target=\"_parent\"><img src=\"https://colab.research.google.com/assets/colab-badge.svg\" alt=\"Open In Colab\"/></a>"
      ]
    },
    {
      "cell_type": "code",
      "metadata": {
        "colab": {
          "base_uri": "https://localhost:8080/"
        },
        "id": "oh0aVMu5xYaq",
        "outputId": "d4b1083a-4c50-46be-e2a5-28c15f7c062c"
      },
      "source": [
        "print(\"Hello World !\")"
      ],
      "execution_count": null,
      "outputs": [
        {
          "output_type": "stream",
          "name": "stdout",
          "text": [
            "Hello World !\n"
          ]
        }
      ]
    },
    {
      "cell_type": "code",
      "metadata": {
        "colab": {
          "base_uri": "https://localhost:8080/"
        },
        "id": "fnsu2BR6xbyq",
        "outputId": "d4f70e27-d0cb-4423-8b0f-7dc43208c6d7"
      },
      "source": [
        "b = 3\n",
        "a = b+2\n",
        "print(a) "
      ],
      "execution_count": null,
      "outputs": [
        {
          "output_type": "stream",
          "name": "stdout",
          "text": [
            "5\n"
          ]
        }
      ]
    },
    {
      "cell_type": "code",
      "metadata": {
        "colab": {
          "base_uri": "https://localhost:8080/"
        },
        "id": "0PUmIr5Dxb2K",
        "outputId": "fe3af2c0-5696-49b3-f618-00cbebb8c9d3"
      },
      "source": [
        "s = \"Hello\"\n",
        "print(s*2)"
      ],
      "execution_count": null,
      "outputs": [
        {
          "output_type": "stream",
          "name": "stdout",
          "text": [
            "HelloHello\n"
          ]
        }
      ]
    },
    {
      "cell_type": "code",
      "metadata": {
        "colab": {
          "base_uri": "https://localhost:8080/"
        },
        "id": "qzSYgyyN3UTV",
        "outputId": "9e83520f-bba3-4dad-9cf0-aa7b20a05855"
      },
      "source": [
        "b = (2+6)*3//5\n",
        "print(b) \n",
        "#答案寫到小數下一位即可"
      ],
      "execution_count": null,
      "outputs": [
        {
          "output_type": "stream",
          "name": "stdout",
          "text": [
            "4\n"
          ]
        }
      ]
    },
    {
      "cell_type": "code",
      "metadata": {
        "colab": {
          "base_uri": "https://localhost:8080/"
        },
        "id": "LSK2aymu3WsG",
        "outputId": "d48459d5-6717-4006-b71a-80e976e599a4"
      },
      "source": [
        "b = 3.5\n",
        "b = b+2\n",
        "print(b)"
      ],
      "execution_count": null,
      "outputs": [
        {
          "output_type": "stream",
          "name": "stdout",
          "text": [
            "5.5\n"
          ]
        }
      ]
    },
    {
      "cell_type": "code",
      "metadata": {
        "id": "z-NLBYYB-PwK",
        "colab": {
          "base_uri": "https://localhost:8080/",
          "height": 265
        },
        "outputId": "a953ef55-07f5-47f2-9a51-2923464a8cec"
      },
      "source": [
        "#畫出並解釋下面程式會產生的圖形\n",
        "import matplotlib.pyplot as plt\n",
        "import numpy as np\n",
        "x = np.linspace(-10, 10, 3)\n",
        "y = x + 1\n",
        "plt.plot(x, y)\n",
        "plt.show()"
      ],
      "execution_count": null,
      "outputs": [
        {
          "output_type": "display_data",
          "data": {
            "image/png": "[encoded data removed]",
            "text/plain": [
              "<Figure size 432x288 with 1 Axes>"
            ]
          },
          "metadata": {
            "needs_background": "light"
          }
        }
      ]
    },
    {
      "cell_type": "code",
      "metadata": {
        "colab": {
          "base_uri": "https://localhost:8080/",
          "height": 265
        },
        "id": "p4qd5GevycXy",
        "outputId": "d70a2d9d-2cd1-46c3-b96f-664a53ebb305"
      },
      "source": [
        "#畫出並解釋下面程式會產生的圖形\n",
        "theta = np.linspace(0, 2*np.pi, 20)\n",
        "y = np.sin(theta)\n",
        "plt.plot(theta, y)\n",
        "plt.show()"
      ],
      "execution_count": null,
      "outputs": [
        {
          "output_type": "display_data",
          "data": {
            "image/png": "[encoded data removed]",
            "text/plain": [
              "<Figure size 432x288 with 1 Axes>"
            ]
          },
          "metadata": {
            "needs_background": "light"
          }
        }
      ]
    },
    {
      "cell_type": "code",
      "metadata": {
        "colab": {
          "base_uri": "https://localhost:8080/"
        },
        "id": "xyPs-pb-ze88",
        "outputId": "124f6c1a-7fdb-4f49-f9cf-ec09c4c4b507"
      },
      "source": [
        "str1 = \"你好\"\n",
        "print(str1*3)"
      ],
      "execution_count": null,
      "outputs": [
        {
          "output_type": "stream",
          "name": "stdout",
          "text": [
            "你好你好你好\n"
          ]
        }
      ]
    },
    {
      "cell_type": "code",
      "metadata": {
        "colab": {
          "base_uri": "https://localhost:8080/"
        },
        "id": "cj0B5XPkzfAk",
        "outputId": "933520dc-3bac-4da2-a030-f565ebabcf17"
      },
      "source": [
        "my_dict = {\"元智\":\"YZU\"}\n",
        "my_dict[\"蘋果\"]=\"apple\"\n",
        "print(my_dict)"
      ],
      "execution_count": null,
      "outputs": [
        {
          "output_type": "stream",
          "name": "stdout",
          "text": [
            "{'元智': 'YZU', '蘋果': 'apple'}\n"
          ]
        }
      ]
    },
    {
      "cell_type": "code",
      "metadata": {
        "colab": {
          "base_uri": "https://localhost:8080/"
        },
        "id": "b90wD-iczfTC",
        "outputId": "2ec1fd46-dd0b-4170-bfbf-6ab65e737e78"
      },
      "source": [
        "my_dict = {\"工工管\": \"IEM\", \"大一\":\"Freshman\"}\n",
        "del my_dict[\"大一\"]\n",
        "print(my_dict)\n",
        "print(my_dict.keys())"
      ],
      "execution_count": null,
      "outputs": [
        {
          "output_type": "stream",
          "name": "stdout",
          "text": [
            "{'工工管': 'IEM'}\n",
            "dict_keys(['工工管'])\n"
          ]
        }
      ]
    },
    {
      "cell_type": "code",
      "metadata": {
        "colab": {
          "base_uri": "https://localhost:8080/"
        },
        "id": "6L4FGyAM0L-s",
        "outputId": "e5f4abee-fd03-4e12-f637-8bcee099738d"
      },
      "source": [
        "#解釋下面程式與使用者互動的過程\n",
        "c=0.25\n",
        "yen = input(\"請輸入日圓金額: \")\n",
        "print(\"換算成台幣是: \", float(yen)*c)"
      ],
      "execution_count": null,
      "outputs": [
        {
          "output_type": "stream",
          "name": "stdout",
          "text": [
            "請輸入日圓金額: 20\n",
            "換算成台幣是:  5.0\n"
          ]
        }
      ]
    },
    {
      "cell_type": "code",
      "metadata": {
        "colab": {
          "base_uri": "https://localhost:8080/"
        },
        "id": "K6cY45W70MDB",
        "outputId": "cb30450a-501e-415f-ee01-2d686e7e912c"
      },
      "source": [
        "grade =65\n",
        "if (grade >= 70):\n",
        "  print(\"A\")\n",
        "elif (grade >= 60): \n",
        "  print(\"B\")\n",
        "else:\n",
        "  print(\"加油!\")"
      ],
      "execution_count": null,
      "outputs": [
        {
          "output_type": "stream",
          "name": "stdout",
          "text": [
            "B\n"
          ]
        }
      ]
    },
    {
      "cell_type": "code",
      "metadata": {
        "id": "jYb2k1Pe-mbC",
        "colab": {
          "base_uri": "https://localhost:8080/"
        },
        "outputId": "3672edd1-e3d2-416b-de01-4fe00bcb1aee"
      },
      "source": [
        "a =3\n",
        "b = 4\n",
        "if (a >= 5):\n",
        "  print(\"A\")\n",
        "elif (b >= 3): \n",
        "  print(\"B\")\n",
        "else:\n",
        "  print(\"加油!\")"
      ],
      "execution_count": null,
      "outputs": [
        {
          "output_type": "stream",
          "name": "stdout",
          "text": [
            "B\n"
          ]
        }
      ]
    },
    {
      "cell_type": "code",
      "metadata": {
        "colab": {
          "base_uri": "https://localhost:8080/"
        },
        "id": "xSIqh3AEycwZ",
        "outputId": "e23fe237-790a-4e98-ab77-e706b840e18f"
      },
      "source": [
        "egg=\"ABCDEFGH\"\n",
        "print(egg[1:], egg [:3])\n",
        "print(egg[:], egg[-1], egg[:-3])"
      ],
      "execution_count": null,
      "outputs": [
        {
          "output_type": "stream",
          "name": "stdout",
          "text": [
            "BCDEFGH ABC\n",
            "ABCDEFGH H ABCDE\n"
          ]
        }
      ]
    },
    {
      "cell_type": "code",
      "metadata": {
        "colab": {
          "base_uri": "https://localhost:8080/"
        },
        "id": "-zaKmJ0V0MHC",
        "outputId": "09bfa30c-8eea-49a8-a04c-206d75da2ba8"
      },
      "source": [
        "lst = ['A', 'B', 'C', 'D', 'E']\n",
        "print(lst[0], lst[1:2], lst[1:])\n",
        "print(lst[-1], lst[:-3])"
      ],
      "execution_count": null,
      "outputs": [
        {
          "output_type": "stream",
          "name": "stdout",
          "text": [
            "A ['B'] ['B', 'C', 'D', 'E']\n",
            "E ['A', 'B']\n"
          ]
        }
      ]
    },
    {
      "cell_type": "code",
      "metadata": {
        "colab": {
          "base_uri": "https://localhost:8080/"
        },
        "id": "yRaVvCKu0mGc",
        "outputId": "9fe40949-51f6-4212-d070-77bcd14d589c"
      },
      "source": [
        "s=2\n",
        "for i in range(1, 6):\n",
        "  s = s + i\n",
        "print(s)"
      ],
      "execution_count": null,
      "outputs": [
        {
          "output_type": "stream",
          "name": "stdout",
          "text": [
            "17\n"
          ]
        }
      ]
    },
    {
      "cell_type": "code",
      "metadata": {
        "id": "F56_4dhm0mJ0",
        "colab": {
          "base_uri": "https://localhost:8080/"
        },
        "outputId": "d6d0cbcb-2573-401b-fb07-66c11e5de7dd"
      },
      "source": [
        "s=0\n",
        "for i in range(1, 8):\n",
        "  s = s * i\n",
        "print(s)"
      ],
      "execution_count": null,
      "outputs": [
        {
          "output_type": "stream",
          "name": "stdout",
          "text": [
            "0\n"
          ]
        }
      ]
    },
    {
      "cell_type": "code",
      "metadata": {
        "id": "PwhN9E5T3tbs",
        "colab": {
          "base_uri": "https://localhost:8080/"
        },
        "outputId": "980244bd-36d8-43bb-c7d6-5e8881b381a7"
      },
      "source": [
        "s=0\n",
        "i=1\n",
        "while(i<=3):\n",
        "  s = s + i\n",
        "  i = i + 1\n",
        "print(s)"
      ],
      "execution_count": null,
      "outputs": [
        {
          "output_type": "stream",
          "name": "stdout",
          "text": [
            "6\n"
          ]
        }
      ]
    },
    {
      "cell_type": "code",
      "metadata": {
        "id": "0Kz8sD74-smI",
        "colab": {
          "base_uri": "https://localhost:8080/"
        },
        "outputId": "790a4155-4b4e-41e8-9a0c-fae4c1b3e695"
      },
      "source": [
        "for i in range(3):\n",
        "  print(i, end=\",\")\n",
        "print(i)"
      ],
      "execution_count": null,
      "outputs": [
        {
          "output_type": "stream",
          "name": "stdout",
          "text": [
            "0,1,2,2\n"
          ]
        }
      ]
    },
    {
      "cell_type": "code",
      "metadata": {
        "id": "bUdilwFL-t8I",
        "colab": {
          "base_uri": "https://localhost:8080/"
        },
        "outputId": "216307ef-147d-45c0-b4b7-80aceef80e5d"
      },
      "source": [
        "s=0\n",
        "for i in range(1, 5):\n",
        "  print(s, end=\", \")\n",
        "  s = s + i\n",
        "print(s)"
      ],
      "execution_count": null,
      "outputs": [
        {
          "output_type": "stream",
          "name": "stdout",
          "text": [
            "0, 1, 3, 6, 10\n"
          ]
        }
      ]
    }
  ]
}