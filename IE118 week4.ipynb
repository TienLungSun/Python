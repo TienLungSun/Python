{
  "nbformat": 4,
  "nbformat_minor": 0,
  "metadata": {
    "colab": {
      "name": "Untitled3.ipynb",
      "provenance": [],
      "include_colab_link": true
    },
    "kernelspec": {
      "name": "python3",
      "display_name": "Python 3"
    },
    "language_info": {
      "name": "python"
    }
  },
  "cells": [
    {
      "cell_type": "markdown",
      "metadata": {
        "id": "view-in-github",
        "colab_type": "text"
      },
      "source": [
        "<a href=\"https://colab.research.google.com/github/TienLungSun/Python-/blob/main/IE118%20week4.ipynb\" target=\"_parent\"><img src=\"https://colab.research.google.com/assets/colab-badge.svg\" alt=\"Open In Colab\"/></a>"
      ]
    },
    {
      "cell_type": "markdown",
      "metadata": {
        "id": "Ttm67LnpERQO"
      },
      "source": [
        "p.1-31 資料型態"
      ]
    },
    {
      "cell_type": "code",
      "metadata": {
        "id": "mISBFBfZe3DI"
      },
      "source": [
        "i=73\n",
        "str1 = \"你好\"\n",
        "lst = [9, 4, 8, 7]"
      ],
      "execution_count": null,
      "outputs": []
    },
    {
      "cell_type": "code",
      "metadata": {
        "colab": {
          "base_uri": "https://localhost:8080/",
          "height": 35
        },
        "id": "t6Ib5c43ETur",
        "outputId": "32ba9eca-d224-4681-8cda-52f186d2c122"
      },
      "source": [
        "str1"
      ],
      "execution_count": null,
      "outputs": [
        {
          "output_type": "execute_result",
          "data": {
            "application/vnd.google.colaboratory.intrinsic+json": {
              "type": "string"
            },
            "text/plain": [
              "'你好'"
            ]
          },
          "metadata": {},
          "execution_count": 35
        }
      ]
    },
    {
      "cell_type": "code",
      "metadata": {
        "id": "P_x9axB_EsFl",
        "colab": {
          "base_uri": "https://localhost:8080/",
          "height": 35
        },
        "outputId": "29dc6ff0-4da7-4122-b4bd-cbbb8f54d324"
      },
      "source": [
        "str1*3"
      ],
      "execution_count": null,
      "outputs": [
        {
          "output_type": "execute_result",
          "data": {
            "application/vnd.google.colaboratory.intrinsic+json": {
              "type": "string"
            },
            "text/plain": [
              "'你好你好你好'"
            ]
          },
          "metadata": {},
          "execution_count": 36
        }
      ]
    },
    {
      "cell_type": "code",
      "metadata": {
        "id": "2aJ5iZEoEtpO",
        "colab": {
          "base_uri": "https://localhost:8080/"
        },
        "outputId": "e478388c-2a69-41ba-ff8c-3a0e85d9d06f"
      },
      "source": [
        "lst*3"
      ],
      "execution_count": null,
      "outputs": [
        {
          "output_type": "execute_result",
          "data": {
            "text/plain": [
              "[9, 4, 8, 7, 9, 4, 8, 7, 9, 4, 8, 7]"
            ]
          },
          "metadata": {},
          "execution_count": 37
        }
      ]
    },
    {
      "cell_type": "code",
      "metadata": {
        "id": "IYVba0xNExVp"
      },
      "source": [
        "# this will give error\n",
        "# str1 + 87 "
      ],
      "execution_count": null,
      "outputs": []
    },
    {
      "cell_type": "code",
      "metadata": {
        "id": "cbvIHOn8E3Fz",
        "colab": {
          "base_uri": "https://localhost:8080/",
          "height": 35
        },
        "outputId": "705724b9-048e-46ec-dfbe-459814616e25"
      },
      "source": [
        "str1 + \"87\""
      ],
      "execution_count": null,
      "outputs": [
        {
          "output_type": "execute_result",
          "data": {
            "application/vnd.google.colaboratory.intrinsic+json": {
              "type": "string"
            },
            "text/plain": [
              "'你好87'"
            ]
          },
          "metadata": {},
          "execution_count": 42
        }
      ]
    },
    {
      "cell_type": "markdown",
      "metadata": {
        "id": "3YwxmqmJFPmr"
      },
      "source": [
        "p.1-34 字典"
      ]
    },
    {
      "cell_type": "code",
      "metadata": {
        "id": "B8BBM4PYE_5A"
      },
      "source": [
        "my_dict = {\"元智\":\"YZU\", \"工工管\": \"IEM\", \"大一\":\"Freshman\"}"
      ],
      "execution_count": null,
      "outputs": []
    },
    {
      "cell_type": "code",
      "metadata": {
        "id": "wSlW5UoDFp7b",
        "colab": {
          "base_uri": "https://localhost:8080/"
        },
        "outputId": "9980e370-4bbd-4e1b-8ca9-a6fd3f3c7cc1"
      },
      "source": [
        "print(my_dict)"
      ],
      "execution_count": null,
      "outputs": [
        {
          "output_type": "stream",
          "name": "stdout",
          "text": [
            "{'元智': 'YZU', '工工管': 'IEM', '大一': 'Freshman'}\n"
          ]
        }
      ]
    },
    {
      "cell_type": "code",
      "metadata": {
        "id": "h5os-YmmFrC9",
        "colab": {
          "base_uri": "https://localhost:8080/",
          "height": 35
        },
        "outputId": "74d41a6e-6abc-49a4-eff0-890b0e9f7741"
      },
      "source": [
        "my_dict[\"元智\"]"
      ],
      "execution_count": null,
      "outputs": [
        {
          "output_type": "execute_result",
          "data": {
            "application/vnd.google.colaboratory.intrinsic+json": {
              "type": "string"
            },
            "text/plain": [
              "'YZU'"
            ]
          },
          "metadata": {},
          "execution_count": 46
        }
      ]
    },
    {
      "cell_type": "code",
      "metadata": {
        "id": "SbpdOzCpFw8O"
      },
      "source": [
        "#this will give error\n",
        "#my_dict[\"YZU\"]"
      ],
      "execution_count": null,
      "outputs": []
    },
    {
      "cell_type": "code",
      "metadata": {
        "id": "8zJAWOAAF4BN"
      },
      "source": [
        "my_dict[\"蘋果\"]=\"apple\""
      ],
      "execution_count": null,
      "outputs": []
    },
    {
      "cell_type": "code",
      "metadata": {
        "id": "gEgrR8c_GCp_",
        "colab": {
          "base_uri": "https://localhost:8080/"
        },
        "outputId": "497face9-268b-48b8-ea88-bcb8694e09d4"
      },
      "source": [
        "print(my_dict)"
      ],
      "execution_count": null,
      "outputs": [
        {
          "output_type": "stream",
          "name": "stdout",
          "text": [
            "{'元智': 'YZU', '工工管': 'IEM', '大一': 'Freshman', '蘋果': 'apple'}\n"
          ]
        }
      ]
    },
    {
      "cell_type": "code",
      "metadata": {
        "id": "-JDtAxFUGEa4"
      },
      "source": [
        "del my_dict[\"蘋果\"]"
      ],
      "execution_count": null,
      "outputs": []
    },
    {
      "cell_type": "code",
      "metadata": {
        "id": "K0x0DMa_GMFx",
        "colab": {
          "base_uri": "https://localhost:8080/"
        },
        "outputId": "2758b3f0-67b3-458c-c066-6673e3ee2be4"
      },
      "source": [
        "my_dict"
      ],
      "execution_count": null,
      "outputs": [
        {
          "output_type": "execute_result",
          "data": {
            "text/plain": [
              "{'元智': 'YZU', '大一': 'Freshman', '工工管': 'IEM'}"
            ]
          },
          "metadata": {},
          "execution_count": 52
        }
      ]
    },
    {
      "cell_type": "code",
      "metadata": {
        "id": "bK6n67etGNHg",
        "colab": {
          "base_uri": "https://localhost:8080/"
        },
        "outputId": "3a44f9d0-6839-46b7-d372-6a760d089b26"
      },
      "source": [
        "my_dict.keys()"
      ],
      "execution_count": null,
      "outputs": [
        {
          "output_type": "execute_result",
          "data": {
            "text/plain": [
              "dict_keys(['元智', '工工管', '大一'])"
            ]
          },
          "metadata": {},
          "execution_count": 53
        }
      ]
    },
    {
      "cell_type": "code",
      "metadata": {
        "id": "geALnE4aGYZY",
        "colab": {
          "base_uri": "https://localhost:8080/"
        },
        "outputId": "19ada3d9-2ec2-448c-bf72-d6898ea46cdf"
      },
      "source": [
        "my_dict.values()"
      ],
      "execution_count": null,
      "outputs": [
        {
          "output_type": "execute_result",
          "data": {
            "text/plain": [
              "dict_values(['YZU', 'IEM', 'Freshman'])"
            ]
          },
          "metadata": {},
          "execution_count": 54
        }
      ]
    },
    {
      "cell_type": "code",
      "metadata": {
        "id": "EfuALSDeGb4q"
      },
      "source": [
        ""
      ],
      "execution_count": null,
      "outputs": []
    }
  ]
}