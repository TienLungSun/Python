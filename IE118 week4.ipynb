{
  "nbformat": 4,
  "nbformat_minor": 0,
  "metadata": {
    "colab": {
      "name": "Untitled3.ipynb",
      "provenance": [],
      "include_colab_link": true
    },
    "kernelspec": {
      "name": "python3",
      "display_name": "Python 3"
    },
    "language_info": {
      "name": "python"
    }
  },
  "cells": [
    {
      "cell_type": "markdown",
      "metadata": {
        "id": "view-in-github",
        "colab_type": "text"
      },
      "source": [
        "<a href=\"https://colab.research.google.com/github/TienLungSun/Python-/blob/main/IE118%20week4.ipynb\" target=\"_parent\"><img src=\"https://colab.research.google.com/assets/colab-badge.svg\" alt=\"Open In Colab\"/></a>"
      ]
    },
    {
      "cell_type": "markdown",
      "metadata": {
        "id": "Ttm67LnpERQO"
      },
      "source": [
        "p.1-31 資料型態"
      ]
    },
    {
      "cell_type": "code",
      "metadata": {
        "id": "mISBFBfZe3DI"
      },
      "source": [
        "i=73\n",
        "str1 = \"你好\"\n",
        "lst = [9, 4, 8, 7]"
      ],
      "execution_count": null,
      "outputs": []
    },
    {
      "cell_type": "code",
      "metadata": {
        "colab": {
          "base_uri": "https://localhost:8080/",
          "height": 35
        },
        "id": "t6Ib5c43ETur",
        "outputId": "32ba9eca-d224-4681-8cda-52f186d2c122"
      },
      "source": [
        "str1"
      ],
      "execution_count": null,
      "outputs": [
        {
          "output_type": "execute_result",
          "data": {
            "application/vnd.google.colaboratory.intrinsic+json": {
              "type": "string"
            },
            "text/plain": [
              "'你好'"
            ]
          },
          "metadata": {},
          "execution_count": 35
        }
      ]
    },
    {
      "cell_type": "code",
      "metadata": {
        "id": "P_x9axB_EsFl",
        "colab": {
          "base_uri": "https://localhost:8080/",
          "height": 35
        },
        "outputId": "29dc6ff0-4da7-4122-b4bd-cbbb8f54d324"
      },
      "source": [
        "str1*3"
      ],
      "execution_count": null,
      "outputs": [
        {
          "output_type": "execute_result",
          "data": {
            "application/vnd.google.colaboratory.intrinsic+json": {
              "type": "string"
            },
            "text/plain": [
              "'你好你好你好'"
            ]
          },
          "metadata": {},
          "execution_count": 36
        }
      ]
    },
    {
      "cell_type": "code",
      "metadata": {
        "id": "2aJ5iZEoEtpO",
        "colab": {
          "base_uri": "https://localhost:8080/"
        },
        "outputId": "e478388c-2a69-41ba-ff8c-3a0e85d9d06f"
      },
      "source": [
        "lst*3"
      ],
      "execution_count": null,
      "outputs": [
        {
          "output_type": "execute_result",
          "data": {
            "text/plain": [
              "[9, 4, 8, 7, 9, 4, 8, 7, 9, 4, 8, 7]"
            ]
          },
          "metadata": {},
          "execution_count": 37
        }
      ]
    },
    {
      "cell_type": "code",
      "metadata": {
        "id": "IYVba0xNExVp"
      },
      "source": [
        "# this will give error, 不同資料型態不能相加\n",
        "# str1 + 87 "
      ],
      "execution_count": null,
      "outputs": []
    },
    {
      "cell_type": "code",
      "metadata": {
        "id": "cbvIHOn8E3Fz",
        "colab": {
          "base_uri": "https://localhost:8080/",
          "height": 35
        },
        "outputId": "705724b9-048e-46ec-dfbe-459814616e25"
      },
      "source": [
        "str1 + \"87\""
      ],
      "execution_count": null,
      "outputs": [
        {
          "output_type": "execute_result",
          "data": {
            "application/vnd.google.colaboratory.intrinsic+json": {
              "type": "string"
            },
            "text/plain": [
              "'你好87'"
            ]
          },
          "metadata": {},
          "execution_count": 42
        }
      ]
    },
    {
      "cell_type": "markdown",
      "metadata": {
        "id": "3YwxmqmJFPmr"
      },
      "source": [
        "p.1-34 字典"
      ]
    },
    {
      "cell_type": "code",
      "metadata": {
        "id": "B8BBM4PYE_5A"
      },
      "source": [
        "my_dict = {\"元智\":\"YZU\", \"工工管\": \"IEM\", \"大一\":\"Freshman\"}"
      ],
      "execution_count": null,
      "outputs": []
    },
    {
      "cell_type": "code",
      "metadata": {
        "id": "wSlW5UoDFp7b",
        "colab": {
          "base_uri": "https://localhost:8080/"
        },
        "outputId": "9980e370-4bbd-4e1b-8ca9-a6fd3f3c7cc1"
      },
      "source": [
        "print(my_dict)"
      ],
      "execution_count": null,
      "outputs": [
        {
          "output_type": "stream",
          "name": "stdout",
          "text": [
            "{'元智': 'YZU', '工工管': 'IEM', '大一': 'Freshman'}\n"
          ]
        }
      ]
    },
    {
      "cell_type": "code",
      "metadata": {
        "id": "h5os-YmmFrC9",
        "colab": {
          "base_uri": "https://localhost:8080/",
          "height": 35
        },
        "outputId": "74d41a6e-6abc-49a4-eff0-890b0e9f7741"
      },
      "source": [
        "my_dict[\"元智\"]"
      ],
      "execution_count": null,
      "outputs": [
        {
          "output_type": "execute_result",
          "data": {
            "application/vnd.google.colaboratory.intrinsic+json": {
              "type": "string"
            },
            "text/plain": [
              "'YZU'"
            ]
          },
          "metadata": {},
          "execution_count": 46
        }
      ]
    },
    {
      "cell_type": "code",
      "metadata": {
        "id": "SbpdOzCpFw8O"
      },
      "source": [
        "#this will give error\n",
        "#my_dict[\"YZU\"]"
      ],
      "execution_count": null,
      "outputs": []
    },
    {
      "cell_type": "code",
      "metadata": {
        "id": "8zJAWOAAF4BN"
      },
      "source": [
        "my_dict[\"蘋果\"]=\"apple\""
      ],
      "execution_count": null,
      "outputs": []
    },
    {
      "cell_type": "code",
      "metadata": {
        "id": "gEgrR8c_GCp_",
        "colab": {
          "base_uri": "https://localhost:8080/"
        },
        "outputId": "497face9-268b-48b8-ea88-bcb8694e09d4"
      },
      "source": [
        "print(my_dict)"
      ],
      "execution_count": null,
      "outputs": [
        {
          "output_type": "stream",
          "name": "stdout",
          "text": [
            "{'元智': 'YZU', '工工管': 'IEM', '大一': 'Freshman', '蘋果': 'apple'}\n"
          ]
        }
      ]
    },
    {
      "cell_type": "code",
      "metadata": {
        "id": "-JDtAxFUGEa4"
      },
      "source": [
        "del my_dict[\"蘋果\"]"
      ],
      "execution_count": null,
      "outputs": []
    },
    {
      "cell_type": "code",
      "metadata": {
        "id": "K0x0DMa_GMFx",
        "colab": {
          "base_uri": "https://localhost:8080/"
        },
        "outputId": "2758b3f0-67b3-458c-c066-6673e3ee2be4"
      },
      "source": [
        "my_dict"
      ],
      "execution_count": null,
      "outputs": [
        {
          "output_type": "execute_result",
          "data": {
            "text/plain": [
              "{'元智': 'YZU', '大一': 'Freshman', '工工管': 'IEM'}"
            ]
          },
          "metadata": {},
          "execution_count": 52
        }
      ]
    },
    {
      "cell_type": "code",
      "metadata": {
        "id": "bK6n67etGNHg",
        "colab": {
          "base_uri": "https://localhost:8080/"
        },
        "outputId": "3a44f9d0-6839-46b7-d372-6a760d089b26"
      },
      "source": [
        "my_dict.keys()"
      ],
      "execution_count": null,
      "outputs": [
        {
          "output_type": "execute_result",
          "data": {
            "text/plain": [
              "dict_keys(['元智', '工工管', '大一'])"
            ]
          },
          "metadata": {},
          "execution_count": 53
        }
      ]
    },
    {
      "cell_type": "code",
      "metadata": {
        "id": "geALnE4aGYZY",
        "colab": {
          "base_uri": "https://localhost:8080/"
        },
        "outputId": "19ada3d9-2ec2-448c-bf72-d6898ea46cdf"
      },
      "source": [
        "my_dict.values()"
      ],
      "execution_count": null,
      "outputs": [
        {
          "output_type": "execute_result",
          "data": {
            "text/plain": [
              "dict_values(['YZU', 'IEM', 'Freshman'])"
            ]
          },
          "metadata": {},
          "execution_count": 54
        }
      ]
    },
    {
      "cell_type": "markdown",
      "metadata": {
        "id": "EfuALSDeGb4q"
      },
      "source": [
        "p.1-45 print"
      ]
    },
    {
      "cell_type": "code",
      "metadata": {
        "id": "vnkf7ol3n5x8",
        "outputId": "81aa97c6-5273-4583-80a3-69e48f75513a",
        "colab": {
          "base_uri": "https://localhost:8080/"
        }
      },
      "source": [
        "print(\"Hello World!\")"
      ],
      "execution_count": 1,
      "outputs": [
        {
          "output_type": "stream",
          "name": "stdout",
          "text": [
            "Hello World!\n"
          ]
        }
      ]
    },
    {
      "cell_type": "code",
      "metadata": {
        "id": "E3ZWZKv7n9PJ",
        "outputId": "8b92a8b8-29b3-4ec7-ce49-401db16e4011",
        "colab": {
          "base_uri": "https://localhost:8080/"
        }
      },
      "source": [
        "name = \"元智工管\"\n",
        "print(\"my dept is:\" + name + \"!\")"
      ],
      "execution_count": 2,
      "outputs": [
        {
          "output_type": "stream",
          "name": "stdout",
          "text": [
            "my dept is:元智工管!\n"
          ]
        }
      ]
    },
    {
      "cell_type": "code",
      "metadata": {
        "id": "lue6Ulj5oQVF"
      },
      "source": [
        "message = ''' 我\n",
        "跳一行\n",
        "跳 N 行\n",
        "...\n",
        "'''"
      ],
      "execution_count": 4,
      "outputs": []
    },
    {
      "cell_type": "code",
      "metadata": {
        "id": "L0VjjuJGoa-g",
        "outputId": "5494e914-6b36-4abf-afe5-0c4e7a3c92c3",
        "colab": {
          "base_uri": "https://localhost:8080/"
        }
      },
      "source": [
        "print(message)"
      ],
      "execution_count": 5,
      "outputs": [
        {
          "output_type": "stream",
          "name": "stdout",
          "text": [
            " 我\n",
            "跳一行\n",
            "跳 N 行\n",
            "...\n",
            "\n"
          ]
        }
      ]
    },
    {
      "cell_type": "code",
      "metadata": {
        "id": "yNS7Cz4loeso",
        "outputId": "2f8a8708-9d0c-4180-a21d-f587a38fb569",
        "colab": {
          "base_uri": "https://localhost:8080/"
        }
      },
      "source": [
        "print(\"🧡\")"
      ],
      "execution_count": 6,
      "outputs": [
        {
          "output_type": "stream",
          "name": "stdout",
          "text": [
            "🧡\n"
          ]
        }
      ]
    },
    {
      "cell_type": "markdown",
      "metadata": {
        "id": "S7EpNJrho0KD"
      },
      "source": [
        "print(100*\"🧡\")"
      ]
    },
    {
      "cell_type": "markdown",
      "metadata": {
        "id": "YEilCFxYo2nZ"
      },
      "source": [
        "p.1-48 輸入"
      ]
    },
    {
      "cell_type": "code",
      "metadata": {
        "id": "WFRe_0Fho_2e",
        "outputId": "2c441bd5-89c9-424a-ddae-1aa487a8b3a5",
        "colab": {
          "base_uri": "https://localhost:8080/"
        }
      },
      "source": [
        "name = input(\"請輸入您的名字: \")"
      ],
      "execution_count": 9,
      "outputs": [
        {
          "name": "stdout",
          "output_type": "stream",
          "text": [
            "請輸入您的名字: aaa\n"
          ]
        }
      ]
    },
    {
      "cell_type": "code",
      "metadata": {
        "id": "ZeH9NXncpIU3",
        "outputId": "8e4ceb93-b681-47ae-f264-9b743e6d8222",
        "colab": {
          "base_uri": "https://localhost:8080/"
        }
      },
      "source": [
        "print(name + \"你好!\")"
      ],
      "execution_count": 10,
      "outputs": [
        {
          "output_type": "stream",
          "name": "stdout",
          "text": [
            "aaa你好!\n"
          ]
        }
      ]
    },
    {
      "cell_type": "code",
      "metadata": {
        "id": "oYKsnKIIpNpt",
        "outputId": "d5d80517-0dd9-483d-c4fb-6ccf790eaa96",
        "colab": {
          "base_uri": "https://localhost:8080/",
          "height": 219
        }
      },
      "source": [
        "# 這個是錯的!!!\n",
        "c=0.272174\n",
        "yen = input(\"請輸入日圓金額: \")\n",
        "print(\"換算成台幣是: \", yen*c)"
      ],
      "execution_count": 11,
      "outputs": [
        {
          "name": "stdout",
          "output_type": "stream",
          "text": [
            "請輸入日圓金額: 2356\n"
          ]
        },
        {
          "output_type": "error",
          "ename": "TypeError",
          "evalue": "ignored",
          "traceback": [
            "\u001b[0;31m---------------------------------------------------------------------------\u001b[0m",
            "\u001b[0;31mTypeError\u001b[0m                                 Traceback (most recent call last)",
            "\u001b[0;32m<ipython-input-11-94fe815c6729>\u001b[0m in \u001b[0;36m<module>\u001b[0;34m()\u001b[0m\n\u001b[1;32m      1\u001b[0m \u001b[0mc\u001b[0m\u001b[0;34m=\u001b[0m\u001b[0;36m0.272174\u001b[0m\u001b[0;34m\u001b[0m\u001b[0;34m\u001b[0m\u001b[0m\n\u001b[1;32m      2\u001b[0m \u001b[0myen\u001b[0m \u001b[0;34m=\u001b[0m \u001b[0minput\u001b[0m\u001b[0;34m(\u001b[0m\u001b[0;34m\"請輸入日圓金額: \"\u001b[0m\u001b[0;34m)\u001b[0m\u001b[0;34m\u001b[0m\u001b[0;34m\u001b[0m\u001b[0m\n\u001b[0;32m----> 3\u001b[0;31m \u001b[0mprint\u001b[0m\u001b[0;34m(\u001b[0m\u001b[0;34m\"換算成台幣是: \"\u001b[0m\u001b[0;34m,\u001b[0m \u001b[0myen\u001b[0m\u001b[0;34m*\u001b[0m\u001b[0mc\u001b[0m\u001b[0;34m)\u001b[0m\u001b[0;34m\u001b[0m\u001b[0;34m\u001b[0m\u001b[0m\n\u001b[0m",
            "\u001b[0;31mTypeError\u001b[0m: can't multiply sequence by non-int of type 'float'"
          ]
        }
      ]
    },
    {
      "cell_type": "code",
      "metadata": {
        "id": "3WS1IrC4pfud",
        "outputId": "1e262d43-e55b-4c45-8569-7f6f11facda4",
        "colab": {
          "base_uri": "https://localhost:8080/"
        }
      },
      "source": [
        "c=0.272174\n",
        "yen = input(\"請輸入日圓金額: \")\n",
        "print(\"換算成台幣是: \", float(yen)*c)"
      ],
      "execution_count": 12,
      "outputs": [
        {
          "output_type": "stream",
          "name": "stdout",
          "text": [
            "請輸入日圓金額: 2354\n",
            "換算成台幣是:  640.6975960000001\n"
          ]
        }
      ]
    },
    {
      "cell_type": "code",
      "metadata": {
        "id": "fbWzTz-opo0R",
        "outputId": "4320326e-c0e8-4ae7-86cc-e266f70632bf",
        "colab": {
          "base_uri": "https://localhost:8080/"
        }
      },
      "source": [
        "h = float(input(\"請輸入身高: \"))\n",
        "w = float(input(\"請輸入體重: \"))\n",
        "print(\"your BMI = \", h/w)"
      ],
      "execution_count": 13,
      "outputs": [
        {
          "output_type": "stream",
          "name": "stdout",
          "text": [
            "請輸入身高: 170\n",
            "請輸入體重: 55\n",
            "your BMI =  3.090909090909091\n"
          ]
        }
      ]
    },
    {
      "cell_type": "markdown",
      "metadata": {
        "id": "4Sll4FltqUBj"
      },
      "source": [
        "p.1-53 True/False"
      ]
    },
    {
      "cell_type": "code",
      "metadata": {
        "id": "YV1g3UtSqfoC",
        "outputId": "ceaad48d-912a-4163-d611-4ea89c33a3b4",
        "colab": {
          "base_uri": "https://localhost:8080/"
        }
      },
      "source": [
        "2<3"
      ],
      "execution_count": 15,
      "outputs": [
        {
          "output_type": "execute_result",
          "data": {
            "text/plain": [
              "True"
            ]
          },
          "metadata": {},
          "execution_count": 15
        }
      ]
    },
    {
      "cell_type": "code",
      "metadata": {
        "id": "l4l8GrfeqhER"
      },
      "source": [
        "a=7"
      ],
      "execution_count": 16,
      "outputs": []
    },
    {
      "cell_type": "code",
      "metadata": {
        "id": "V1hXvkNAqktH",
        "outputId": "dc3fd8b8-8a0e-4c5e-95c1-e5b7a650e9b9",
        "colab": {
          "base_uri": "https://localhost:8080/"
        }
      },
      "source": [
        "a==8"
      ],
      "execution_count": 17,
      "outputs": [
        {
          "output_type": "execute_result",
          "data": {
            "text/plain": [
              "False"
            ]
          },
          "metadata": {},
          "execution_count": 17
        }
      ]
    },
    {
      "cell_type": "code",
      "metadata": {
        "id": "wfrqgRKcql-N",
        "outputId": "4710d097-6501-4058-d1db-1404d2eb17d3",
        "colab": {
          "base_uri": "https://localhost:8080/"
        }
      },
      "source": [
        "a!=8"
      ],
      "execution_count": 18,
      "outputs": [
        {
          "output_type": "execute_result",
          "data": {
            "text/plain": [
              "True"
            ]
          },
          "metadata": {},
          "execution_count": 18
        }
      ]
    },
    {
      "cell_type": "code",
      "metadata": {
        "id": "YFUktB3gqnc9",
        "outputId": "43c7e75d-7101-41a6-e1f0-815ac71c0312",
        "colab": {
          "base_uri": "https://localhost:8080/"
        }
      },
      "source": [
        "a>=6"
      ],
      "execution_count": 19,
      "outputs": [
        {
          "output_type": "execute_result",
          "data": {
            "text/plain": [
              "True"
            ]
          },
          "metadata": {},
          "execution_count": 19
        }
      ]
    },
    {
      "cell_type": "code",
      "metadata": {
        "id": "okLoIHqKqpb5",
        "outputId": "8bf320e7-3367-4d52-b214-baf3167e9a52",
        "colab": {
          "base_uri": "https://localhost:8080/"
        }
      },
      "source": [
        "a<=6"
      ],
      "execution_count": 20,
      "outputs": [
        {
          "output_type": "execute_result",
          "data": {
            "text/plain": [
              "False"
            ]
          },
          "metadata": {},
          "execution_count": 20
        }
      ]
    },
    {
      "cell_type": "code",
      "metadata": {
        "id": "wiEHLJiFqqTV"
      },
      "source": [
        ""
      ],
      "execution_count": null,
      "outputs": []
    }
  ]
}