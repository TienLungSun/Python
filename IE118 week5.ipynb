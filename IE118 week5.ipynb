{
  "nbformat": 4,
  "nbformat_minor": 0,
  "metadata": {
    "colab": {
      "name": "Untitled3.ipynb",
      "provenance": [],
      "include_colab_link": true
    },
    "kernelspec": {
      "name": "python3",
      "display_name": "Python 3"
    },
    "language_info": {
      "name": "python"
    }
  },
  "cells": [
    {
      "cell_type": "markdown",
      "metadata": {
        "id": "view-in-github",
        "colab_type": "text"
      },
      "source": [
        "<a href=\"https://colab.research.google.com/github/TienLungSun/Python/blob/main/IE118%20week5.ipynb\" target=\"_parent\"><img src=\"https://colab.research.google.com/assets/colab-badge.svg\" alt=\"Open In Colab\"/></a>"
      ]
    },
    {
      "cell_type": "markdown",
      "metadata": {
        "id": "YEilCFxYo2nZ"
      },
      "source": [
        "p.1-48 輸入"
      ]
    },
    {
      "cell_type": "code",
      "metadata": {
        "id": "WFRe_0Fho_2e",
        "colab": {
          "base_uri": "https://localhost:8080/"
        },
        "outputId": "2c441bd5-89c9-424a-ddae-1aa487a8b3a5"
      },
      "source": [
        "name = input(\"請輸入您的名字: \")"
      ],
      "execution_count": null,
      "outputs": [
        {
          "name": "stdout",
          "output_type": "stream",
          "text": [
            "請輸入您的名字: aaa\n"
          ]
        }
      ]
    },
    {
      "cell_type": "code",
      "metadata": {
        "id": "ZeH9NXncpIU3",
        "colab": {
          "base_uri": "https://localhost:8080/"
        },
        "outputId": "8e4ceb93-b681-47ae-f264-9b743e6d8222"
      },
      "source": [
        "print(name + \"你好!\")"
      ],
      "execution_count": null,
      "outputs": [
        {
          "output_type": "stream",
          "name": "stdout",
          "text": [
            "aaa你好!\n"
          ]
        }
      ]
    },
    {
      "cell_type": "code",
      "metadata": {
        "id": "oYKsnKIIpNpt",
        "colab": {
          "base_uri": "https://localhost:8080/",
          "height": 219
        },
        "outputId": "d5d80517-0dd9-483d-c4fb-6ccf790eaa96"
      },
      "source": [
        "# 這個是錯的!!!\n",
        "c=0.272174\n",
        "yen = input(\"請輸入日圓金額: \")\n",
        "print(\"換算成台幣是: \", yen*c)"
      ],
      "execution_count": null,
      "outputs": [
        {
          "name": "stdout",
          "output_type": "stream",
          "text": [
            "請輸入日圓金額: 2356\n"
          ]
        },
        {
          "output_type": "error",
          "ename": "TypeError",
          "evalue": "ignored",
          "traceback": [
            "\u001b[0;31m---------------------------------------------------------------------------\u001b[0m",
            "\u001b[0;31mTypeError\u001b[0m                                 Traceback (most recent call last)",
            "\u001b[0;32m<ipython-input-11-94fe815c6729>\u001b[0m in \u001b[0;36m<module>\u001b[0;34m()\u001b[0m\n\u001b[1;32m      1\u001b[0m \u001b[0mc\u001b[0m\u001b[0;34m=\u001b[0m\u001b[0;36m0.272174\u001b[0m\u001b[0;34m\u001b[0m\u001b[0;34m\u001b[0m\u001b[0m\n\u001b[1;32m      2\u001b[0m \u001b[0myen\u001b[0m \u001b[0;34m=\u001b[0m \u001b[0minput\u001b[0m\u001b[0;34m(\u001b[0m\u001b[0;34m\"請輸入日圓金額: \"\u001b[0m\u001b[0;34m)\u001b[0m\u001b[0;34m\u001b[0m\u001b[0;34m\u001b[0m\u001b[0m\n\u001b[0;32m----> 3\u001b[0;31m \u001b[0mprint\u001b[0m\u001b[0;34m(\u001b[0m\u001b[0;34m\"換算成台幣是: \"\u001b[0m\u001b[0;34m,\u001b[0m \u001b[0myen\u001b[0m\u001b[0;34m*\u001b[0m\u001b[0mc\u001b[0m\u001b[0;34m)\u001b[0m\u001b[0;34m\u001b[0m\u001b[0;34m\u001b[0m\u001b[0m\n\u001b[0m",
            "\u001b[0;31mTypeError\u001b[0m: can't multiply sequence by non-int of type 'float'"
          ]
        }
      ]
    },
    {
      "cell_type": "code",
      "metadata": {
        "id": "3WS1IrC4pfud",
        "colab": {
          "base_uri": "https://localhost:8080/"
        },
        "outputId": "1e262d43-e55b-4c45-8569-7f6f11facda4"
      },
      "source": [
        "c=0.272174\n",
        "yen = input(\"請輸入日圓金額: \")\n",
        "print(\"換算成台幣是: \", float(yen)*c)"
      ],
      "execution_count": null,
      "outputs": [
        {
          "output_type": "stream",
          "name": "stdout",
          "text": [
            "請輸入日圓金額: 2354\n",
            "換算成台幣是:  640.6975960000001\n"
          ]
        }
      ]
    },
    {
      "cell_type": "code",
      "metadata": {
        "id": "fbWzTz-opo0R",
        "colab": {
          "base_uri": "https://localhost:8080/"
        },
        "outputId": "4320326e-c0e8-4ae7-86cc-e266f70632bf"
      },
      "source": [
        "h = float(input(\"請輸入身高: \"))\n",
        "w = float(input(\"請輸入體重: \"))\n",
        "print(\"your BMI = \", h/w)"
      ],
      "execution_count": null,
      "outputs": [
        {
          "output_type": "stream",
          "name": "stdout",
          "text": [
            "請輸入身高: 170\n",
            "請輸入體重: 55\n",
            "your BMI =  3.090909090909091\n"
          ]
        }
      ]
    },
    {
      "cell_type": "markdown",
      "metadata": {
        "id": "4Sll4FltqUBj"
      },
      "source": [
        "p.1-53 True/False"
      ]
    },
    {
      "cell_type": "code",
      "metadata": {
        "id": "YV1g3UtSqfoC",
        "colab": {
          "base_uri": "https://localhost:8080/"
        },
        "outputId": "ceaad48d-912a-4163-d611-4ea89c33a3b4"
      },
      "source": [
        "2<3"
      ],
      "execution_count": null,
      "outputs": [
        {
          "output_type": "execute_result",
          "data": {
            "text/plain": [
              "True"
            ]
          },
          "metadata": {},
          "execution_count": 15
        }
      ]
    },
    {
      "cell_type": "code",
      "metadata": {
        "id": "l4l8GrfeqhER"
      },
      "source": [
        "a=7"
      ],
      "execution_count": null,
      "outputs": []
    },
    {
      "cell_type": "code",
      "metadata": {
        "id": "V1hXvkNAqktH",
        "colab": {
          "base_uri": "https://localhost:8080/"
        },
        "outputId": "dc3fd8b8-8a0e-4c5e-95c1-e5b7a650e9b9"
      },
      "source": [
        "a==8"
      ],
      "execution_count": null,
      "outputs": [
        {
          "output_type": "execute_result",
          "data": {
            "text/plain": [
              "False"
            ]
          },
          "metadata": {},
          "execution_count": 17
        }
      ]
    },
    {
      "cell_type": "code",
      "metadata": {
        "id": "wfrqgRKcql-N",
        "colab": {
          "base_uri": "https://localhost:8080/"
        },
        "outputId": "4710d097-6501-4058-d1db-1404d2eb17d3"
      },
      "source": [
        "a!=8"
      ],
      "execution_count": null,
      "outputs": [
        {
          "output_type": "execute_result",
          "data": {
            "text/plain": [
              "True"
            ]
          },
          "metadata": {},
          "execution_count": 18
        }
      ]
    },
    {
      "cell_type": "code",
      "metadata": {
        "id": "YFUktB3gqnc9",
        "colab": {
          "base_uri": "https://localhost:8080/"
        },
        "outputId": "43c7e75d-7101-41a6-e1f0-815ac71c0312"
      },
      "source": [
        "a>=6"
      ],
      "execution_count": null,
      "outputs": [
        {
          "output_type": "execute_result",
          "data": {
            "text/plain": [
              "True"
            ]
          },
          "metadata": {},
          "execution_count": 19
        }
      ]
    },
    {
      "cell_type": "code",
      "metadata": {
        "id": "tk4odVHPkO5r"
      },
      "source": [
        "a<=6"
      ],
      "execution_count": null,
      "outputs": []
    },
    {
      "cell_type": "markdown",
      "metadata": {
        "id": "1XvL2iG6kTP5"
      },
      "source": [
        "p.1-54 條件判斷"
      ]
    },
    {
      "cell_type": "code",
      "metadata": {
        "id": "wiEHLJiFqqTV",
        "colab": {
          "base_uri": "https://localhost:8080/"
        },
        "outputId": "7236cd7e-29d5-497c-c3c6-87ccf69d7c5d"
      },
      "source": [
        "grade =87\n",
        "\n",
        "if (grade >= 60):\n",
        "  print(\"及格\")"
      ],
      "execution_count": null,
      "outputs": [
        {
          "output_type": "stream",
          "name": "stdout",
          "text": [
            "及格\n"
          ]
        }
      ]
    },
    {
      "cell_type": "code",
      "metadata": {
        "colab": {
          "base_uri": "https://localhost:8080/"
        },
        "id": "kPBJBinjkiv1",
        "outputId": "b867155a-4d61-468e-cc98-139aafc5fdf4"
      },
      "source": [
        "grade =87\n",
        "\n",
        "if (grade >= 60):\n",
        "  print(\"及格\")\n",
        "else: \n",
        "  print(\"重修\")"
      ],
      "execution_count": null,
      "outputs": [
        {
          "output_type": "stream",
          "name": "stdout",
          "text": [
            "及格\n"
          ]
        }
      ]
    },
    {
      "cell_type": "code",
      "metadata": {
        "colab": {
          "base_uri": "https://localhost:8080/"
        },
        "id": "8ax1S8RKkrdc",
        "outputId": "a42a8670-a815-4e98-a0e6-3bfabf6d6d03"
      },
      "source": [
        "grade =87\n",
        "\n",
        "if (grade >= 80):\n",
        "  print(\"A\")\n",
        "elif (grade >= 70): \n",
        "  print(\"B\")\n",
        "elif (grade >=60):\n",
        "  print(\"C\")\n",
        "else:\n",
        "  print(\"D\")"
      ],
      "execution_count": null,
      "outputs": [
        {
          "output_type": "stream",
          "name": "stdout",
          "text": [
            "A\n"
          ]
        }
      ]
    },
    {
      "cell_type": "markdown",
      "metadata": {
        "id": "n2Hl5tExk9zz"
      },
      "source": [
        "p. 1-56 字串比大小"
      ]
    },
    {
      "cell_type": "code",
      "metadata": {
        "colab": {
          "base_uri": "https://localhost:8080/"
        },
        "id": "AmqTUolulDZI",
        "outputId": "59accf49-af0a-4554-b22c-be5a7cecb0cb"
      },
      "source": [
        "\"a\" > \"b\""
      ],
      "execution_count": null,
      "outputs": [
        {
          "output_type": "execute_result",
          "data": {
            "text/plain": [
              "False"
            ]
          },
          "metadata": {},
          "execution_count": 4
        }
      ]
    },
    {
      "cell_type": "code",
      "metadata": {
        "colab": {
          "base_uri": "https://localhost:8080/"
        },
        "id": "D9SGIHURlHD7",
        "outputId": "27ab5192-cdac-4a1e-feff-548b9203581c"
      },
      "source": [
        "\"zoo\" > \"zip\""
      ],
      "execution_count": null,
      "outputs": [
        {
          "output_type": "execute_result",
          "data": {
            "text/plain": [
              "True"
            ]
          },
          "metadata": {},
          "execution_count": 5
        }
      ]
    },
    {
      "cell_type": "markdown",
      "metadata": {
        "id": "avRPtNA-lQrL"
      },
      "source": [
        "p.1-56 字串 in"
      ]
    },
    {
      "cell_type": "code",
      "metadata": {
        "colab": {
          "base_uri": "https://localhost:8080/"
        },
        "id": "5aNWwENUlU9c",
        "outputId": "95787aa2-84f4-41ca-c358-e905d4c958e1"
      },
      "source": [
        "\"悲傷\" in \"把我的悲傷都一起送走\""
      ],
      "execution_count": null,
      "outputs": [
        {
          "output_type": "execute_result",
          "data": {
            "text/plain": [
              "True"
            ]
          },
          "metadata": {},
          "execution_count": 6
        }
      ]
    },
    {
      "cell_type": "markdown",
      "metadata": {
        "id": "Sac8IzJaljvZ"
      },
      "source": [
        "p.1-57 串列索引"
      ]
    },
    {
      "cell_type": "code",
      "metadata": {
        "colab": {
          "base_uri": "https://localhost:8080/"
        },
        "id": "fAGeuyJRlpMu",
        "outputId": "917f7d4c-1a58-4171-ff37-e0abb85b510a"
      },
      "source": [
        "range(10)"
      ],
      "execution_count": null,
      "outputs": [
        {
          "output_type": "execute_result",
          "data": {
            "text/plain": [
              "range(0, 10)"
            ]
          },
          "metadata": {},
          "execution_count": 7
        }
      ]
    },
    {
      "cell_type": "code",
      "metadata": {
        "colab": {
          "base_uri": "https://localhost:8080/"
        },
        "id": "jYcBUajUlqqM",
        "outputId": "51596864-fa04-492a-a763-0f5abceb0337"
      },
      "source": [
        "list(range(10))"
      ],
      "execution_count": null,
      "outputs": [
        {
          "output_type": "execute_result",
          "data": {
            "text/plain": [
              "[0, 1, 2, 3, 4, 5, 6, 7, 8, 9]"
            ]
          },
          "metadata": {},
          "execution_count": 8
        }
      ]
    },
    {
      "cell_type": "code",
      "metadata": {
        "colab": {
          "base_uri": "https://localhost:8080/"
        },
        "id": "Ka1g-Ch9lt_X",
        "outputId": "094e8be4-37b5-42c2-d1f3-9f4599d6d497"
      },
      "source": [
        "list(range(2, 10))"
      ],
      "execution_count": null,
      "outputs": [
        {
          "output_type": "execute_result",
          "data": {
            "text/plain": [
              "[2, 3, 4, 5, 6, 7, 8, 9]"
            ]
          },
          "metadata": {},
          "execution_count": 9
        }
      ]
    },
    {
      "cell_type": "code",
      "metadata": {
        "colab": {
          "base_uri": "https://localhost:8080/"
        },
        "id": "HVh6mVs5lzah",
        "outputId": "f3c4ecc5-2acd-4642-9c31-081d862decf6"
      },
      "source": [
        "list(range(2, 10, 3))"
      ],
      "execution_count": null,
      "outputs": [
        {
          "output_type": "execute_result",
          "data": {
            "text/plain": [
              "[2, 5, 8]"
            ]
          },
          "metadata": {},
          "execution_count": 10
        }
      ]
    },
    {
      "cell_type": "markdown",
      "metadata": {
        "id": "dY6G800El-Kw"
      },
      "source": [
        "p.1-58 串列"
      ]
    },
    {
      "cell_type": "code",
      "metadata": {
        "colab": {
          "base_uri": "https://localhost:8080/"
        },
        "id": "VHGWWnxIl1qm",
        "outputId": "203eae15-8576-4f06-b2c6-97ac76d2ad00"
      },
      "source": [
        "[3, 5, [1, 2], \"ABC\"]"
      ],
      "execution_count": null,
      "outputs": [
        {
          "output_type": "execute_result",
          "data": {
            "text/plain": [
              "[3, 5, [1, 2], 'ABC']"
            ]
          },
          "metadata": {},
          "execution_count": 11
        }
      ]
    },
    {
      "cell_type": "code",
      "metadata": {
        "colab": {
          "base_uri": "https://localhost:8080/"
        },
        "id": "jC93mBXOmFL3",
        "outputId": "765ec848-fa42-4dea-ef20-9d21678d04c3"
      },
      "source": [
        "list(\"ABCDE\")"
      ],
      "execution_count": null,
      "outputs": [
        {
          "output_type": "execute_result",
          "data": {
            "text/plain": [
              "['A', 'B', 'C', 'D', 'E']"
            ]
          },
          "metadata": {},
          "execution_count": 12
        }
      ]
    },
    {
      "cell_type": "code",
      "metadata": {
        "id": "_ERyucvTmHrn"
      },
      "source": [
        "ham = list(\"ABCDE\")"
      ],
      "execution_count": null,
      "outputs": []
    },
    {
      "cell_type": "code",
      "metadata": {
        "colab": {
          "base_uri": "https://localhost:8080/",
          "height": 34
        },
        "id": "x7y3vyFqmLxF",
        "outputId": "5d3d28ca-7a8c-4d0f-c43f-6d809c3af399"
      },
      "source": [
        "ham[2]"
      ],
      "execution_count": null,
      "outputs": [
        {
          "output_type": "execute_result",
          "data": {
            "application/vnd.google.colaboratory.intrinsic+json": {
              "type": "string"
            },
            "text/plain": [
              "'C'"
            ]
          },
          "metadata": {},
          "execution_count": 14
        }
      ]
    },
    {
      "cell_type": "code",
      "metadata": {
        "colab": {
          "base_uri": "https://localhost:8080/",
          "height": 34
        },
        "id": "hAY_JZqZmNeo",
        "outputId": "0001dc1b-0ea8-4e1d-abdb-71c86570ddf6"
      },
      "source": [
        "ham[-2]"
      ],
      "execution_count": null,
      "outputs": [
        {
          "output_type": "execute_result",
          "data": {
            "application/vnd.google.colaboratory.intrinsic+json": {
              "type": "string"
            },
            "text/plain": [
              "'D'"
            ]
          },
          "metadata": {},
          "execution_count": 15
        }
      ]
    },
    {
      "cell_type": "code",
      "metadata": {
        "colab": {
          "base_uri": "https://localhost:8080/"
        },
        "id": "buaUtNGumPSB",
        "outputId": "35eba718-5e59-40ba-ec47-b850430ea76d"
      },
      "source": [
        "ham[3:6]"
      ],
      "execution_count": null,
      "outputs": [
        {
          "output_type": "execute_result",
          "data": {
            "text/plain": [
              "['D', 'E']"
            ]
          },
          "metadata": {},
          "execution_count": 16
        }
      ]
    },
    {
      "cell_type": "code",
      "metadata": {
        "colab": {
          "base_uri": "https://localhost:8080/"
        },
        "id": "jAj5dq1xmRgi",
        "outputId": "649ad8d7-a849-44b3-b5e9-81f4dc773f7b"
      },
      "source": [
        "ham[2:]"
      ],
      "execution_count": null,
      "outputs": [
        {
          "output_type": "execute_result",
          "data": {
            "text/plain": [
              "['C', 'D', 'E']"
            ]
          },
          "metadata": {},
          "execution_count": 18
        }
      ]
    },
    {
      "cell_type": "code",
      "metadata": {
        "colab": {
          "base_uri": "https://localhost:8080/"
        },
        "id": "o7oJqZ6cmTao",
        "outputId": "082a8366-f9a6-4cff-c782-852532637887"
      },
      "source": [
        "ham[:5]"
      ],
      "execution_count": null,
      "outputs": [
        {
          "output_type": "execute_result",
          "data": {
            "text/plain": [
              "['A', 'B', 'C', 'D', 'E']"
            ]
          },
          "metadata": {},
          "execution_count": 19
        }
      ]
    },
    {
      "cell_type": "code",
      "metadata": {
        "colab": {
          "base_uri": "https://localhost:8080/"
        },
        "id": "_l7AxQGZmXQQ",
        "outputId": "dae56703-0063-4d54-ead3-56dc271c936d"
      },
      "source": [
        "ham[:-4]"
      ],
      "execution_count": null,
      "outputs": [
        {
          "output_type": "execute_result",
          "data": {
            "text/plain": [
              "['A']"
            ]
          },
          "metadata": {},
          "execution_count": 21
        }
      ]
    },
    {
      "cell_type": "code",
      "metadata": {
        "colab": {
          "base_uri": "https://localhost:8080/"
        },
        "id": "rwaIelRQmbTG",
        "outputId": "e970cee1-ed82-43aa-a140-8ecc391834bf"
      },
      "source": [
        "ham[:]"
      ],
      "execution_count": null,
      "outputs": [
        {
          "output_type": "execute_result",
          "data": {
            "text/plain": [
              "['A', 'B', 'C', 'D', 'E']"
            ]
          },
          "metadata": {},
          "execution_count": 22
        }
      ]
    },
    {
      "cell_type": "markdown",
      "metadata": {
        "id": "T94cCEZdmnJp"
      },
      "source": [
        "p.1-60 字串操作跟串列一樣"
      ]
    },
    {
      "cell_type": "code",
      "metadata": {
        "id": "p-siCxn6mfVG"
      },
      "source": [
        "egg=\"ABCDEFGH\""
      ],
      "execution_count": null,
      "outputs": []
    },
    {
      "cell_type": "code",
      "metadata": {
        "colab": {
          "base_uri": "https://localhost:8080/",
          "height": 34
        },
        "id": "aBEOL1Xym1kF",
        "outputId": "1e9a97da-4213-416e-d0e5-084aedcd669f"
      },
      "source": [
        "egg[:-4]"
      ],
      "execution_count": null,
      "outputs": [
        {
          "output_type": "execute_result",
          "data": {
            "application/vnd.google.colaboratory.intrinsic+json": {
              "type": "string"
            },
            "text/plain": [
              "'ABCD'"
            ]
          },
          "metadata": {},
          "execution_count": 24
        }
      ]
    },
    {
      "cell_type": "code",
      "metadata": {
        "colab": {
          "base_uri": "https://localhost:8080/",
          "height": 34
        },
        "id": "rQUlfQi8m3Yr",
        "outputId": "f7c433cf-9d4c-4904-95ac-a8bdba9b0026"
      },
      "source": [
        "egg[: : 2]"
      ],
      "execution_count": null,
      "outputs": [
        {
          "output_type": "execute_result",
          "data": {
            "application/vnd.google.colaboratory.intrinsic+json": {
              "type": "string"
            },
            "text/plain": [
              "'ACEG'"
            ]
          },
          "metadata": {},
          "execution_count": 25
        }
      ]
    },
    {
      "cell_type": "code",
      "metadata": {
        "colab": {
          "base_uri": "https://localhost:8080/",
          "height": 34
        },
        "id": "hDBEWOgJm6QO",
        "outputId": "00015ff9-0e11-4a87-c990-97e69857ec82"
      },
      "source": [
        "egg[: : -1]"
      ],
      "execution_count": null,
      "outputs": [
        {
          "output_type": "execute_result",
          "data": {
            "application/vnd.google.colaboratory.intrinsic+json": {
              "type": "string"
            },
            "text/plain": [
              "'HGFEDCBA'"
            ]
          },
          "metadata": {},
          "execution_count": 26
        }
      ]
    },
    {
      "cell_type": "markdown",
      "metadata": {
        "id": "EC3idWK0nGq5"
      },
      "source": [
        "p.1-61 2維串列"
      ]
    },
    {
      "cell_type": "code",
      "metadata": {
        "colab": {
          "base_uri": "https://localhost:8080/"
        },
        "id": "qy61CAmunBtt",
        "outputId": "e081fed0-a5e7-40f7-8ff6-96b26b218228"
      },
      "source": [
        "A=[[1, 2], [3, 4]]\n",
        "print(A)"
      ],
      "execution_count": null,
      "outputs": [
        {
          "output_type": "stream",
          "name": "stdout",
          "text": [
            "[[1, 2], [3, 4]]\n"
          ]
        }
      ]
    },
    {
      "cell_type": "code",
      "metadata": {
        "colab": {
          "base_uri": "https://localhost:8080/"
        },
        "id": "W2OKI06VnRl6",
        "outputId": "8ffdb188-f3c6-49a7-932c-a1305838acac"
      },
      "source": [
        "A[0]"
      ],
      "execution_count": null,
      "outputs": [
        {
          "output_type": "execute_result",
          "data": {
            "text/plain": [
              "[1, 2]"
            ]
          },
          "metadata": {},
          "execution_count": 28
        }
      ]
    },
    {
      "cell_type": "code",
      "metadata": {
        "colab": {
          "base_uri": "https://localhost:8080/"
        },
        "id": "fg0mcXzZnTmi",
        "outputId": "fbbd6f38-196e-423c-d3a3-dd971b37f7e7"
      },
      "source": [
        "A[0][0]"
      ],
      "execution_count": null,
      "outputs": [
        {
          "output_type": "execute_result",
          "data": {
            "text/plain": [
              "1"
            ]
          },
          "metadata": {},
          "execution_count": 29
        }
      ]
    }
  ]
}