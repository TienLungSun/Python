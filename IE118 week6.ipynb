{
  "nbformat": 4,
  "nbformat_minor": 0,
  "metadata": {
    "colab": {
      "name": "Untitled3.ipynb",
      "provenance": [],
      "include_colab_link": true
    },
    "kernelspec": {
      "name": "python3",
      "display_name": "Python 3"
    },
    "language_info": {
      "name": "python"
    }
  },
  "cells": [
    {
      "cell_type": "markdown",
      "metadata": {
        "id": "view-in-github",
        "colab_type": "text"
      },
      "source": [
        "<a href=\"https://colab.research.google.com/github/TienLungSun/Python/blob/main/IE118%20week6.ipynb\" target=\"_parent\"><img src=\"https://colab.research.google.com/assets/colab-badge.svg\" alt=\"Open In Colab\"/></a>"
      ]
    },
    {
      "cell_type": "markdown",
      "metadata": {
        "id": "1XvL2iG6kTP5"
      },
      "source": [
        "p.1-54 條件判斷"
      ]
    },
    {
      "cell_type": "markdown",
      "metadata": {
        "id": "t0wnlAZa4lco"
      },
      "source": [
        "slide 1 - 印出 A, B, C, D"
      ]
    },
    {
      "cell_type": "code",
      "metadata": {
        "colab": {
          "base_uri": "https://localhost:8080/"
        },
        "id": "8ax1S8RKkrdc",
        "outputId": "1ebfd0d5-829d-4566-b5da-a16d92109d89"
      },
      "source": [
        "grade =87\n",
        "\n",
        "if (grade >= 80):\n",
        "  print(\"A\")\n",
        "elif (grade >= 70): \n",
        "  print(\"B\")\n",
        "elif (grade >=60):\n",
        "  print(\"C\")\n",
        "else:\n",
        "  print(\"D\")"
      ],
      "execution_count": 1,
      "outputs": [
        {
          "output_type": "stream",
          "name": "stdout",
          "text": [
            "A\n"
          ]
        }
      ]
    },
    {
      "cell_type": "markdown",
      "metadata": {
        "id": "n2Hl5tExk9zz"
      },
      "source": [
        "p. 1-56 字串比大小"
      ]
    },
    {
      "cell_type": "code",
      "metadata": {
        "colab": {
          "base_uri": "https://localhost:8080/"
        },
        "id": "AmqTUolulDZI",
        "outputId": "9255e119-dafc-4c7b-83d1-b2708c975092"
      },
      "source": [
        "\"a\" > \"b\""
      ],
      "execution_count": 2,
      "outputs": [
        {
          "output_type": "execute_result",
          "data": {
            "text/plain": [
              "False"
            ]
          },
          "metadata": {},
          "execution_count": 2
        }
      ]
    },
    {
      "cell_type": "code",
      "metadata": {
        "id": "B0N0wCud5GSL",
        "outputId": "c40d4e6a-a7b2-4699-bf3d-25dc81c2a3fd",
        "colab": {
          "base_uri": "https://localhost:8080/"
        }
      },
      "source": [
        "'c'< 'e'"
      ],
      "execution_count": 3,
      "outputs": [
        {
          "output_type": "execute_result",
          "data": {
            "text/plain": [
              "True"
            ]
          },
          "metadata": {},
          "execution_count": 3
        }
      ]
    },
    {
      "cell_type": "code",
      "metadata": {
        "colab": {
          "base_uri": "https://localhost:8080/"
        },
        "id": "D9SGIHURlHD7",
        "outputId": "b949f863-3f42-434c-f42c-a2afb5a0b1eb"
      },
      "source": [
        "\"zoo\" > \"zip\""
      ],
      "execution_count": 4,
      "outputs": [
        {
          "output_type": "execute_result",
          "data": {
            "text/plain": [
              "True"
            ]
          },
          "metadata": {},
          "execution_count": 4
        }
      ]
    },
    {
      "cell_type": "markdown",
      "metadata": {
        "id": "avRPtNA-lQrL"
      },
      "source": [
        "p.1-56 字串 in"
      ]
    },
    {
      "cell_type": "code",
      "metadata": {
        "colab": {
          "base_uri": "https://localhost:8080/"
        },
        "id": "5aNWwENUlU9c",
        "outputId": "22ac33d1-4bb1-442c-d1e3-60cb47cf55d5"
      },
      "source": [
        "\"悲傷\" in \"把我的悲傷都一起送走\""
      ],
      "execution_count": 5,
      "outputs": [
        {
          "output_type": "execute_result",
          "data": {
            "text/plain": [
              "True"
            ]
          },
          "metadata": {},
          "execution_count": 5
        }
      ]
    },
    {
      "cell_type": "markdown",
      "metadata": {
        "id": "Sac8IzJaljvZ"
      },
      "source": [
        "p.1-57 串列索引"
      ]
    },
    {
      "cell_type": "code",
      "metadata": {
        "colab": {
          "base_uri": "https://localhost:8080/"
        },
        "id": "fAGeuyJRlpMu",
        "outputId": "7eb28fd0-df25-453c-97bb-7cdd8cade5c7"
      },
      "source": [
        "range(10)"
      ],
      "execution_count": 6,
      "outputs": [
        {
          "output_type": "execute_result",
          "data": {
            "text/plain": [
              "range(0, 10)"
            ]
          },
          "metadata": {},
          "execution_count": 6
        }
      ]
    },
    {
      "cell_type": "code",
      "metadata": {
        "colab": {
          "base_uri": "https://localhost:8080/"
        },
        "id": "jYcBUajUlqqM",
        "outputId": "d8244b07-b9c2-4c29-a2ed-30a886d738f9"
      },
      "source": [
        "list(range(10))"
      ],
      "execution_count": 7,
      "outputs": [
        {
          "output_type": "execute_result",
          "data": {
            "text/plain": [
              "[0, 1, 2, 3, 4, 5, 6, 7, 8, 9]"
            ]
          },
          "metadata": {},
          "execution_count": 7
        }
      ]
    },
    {
      "cell_type": "code",
      "metadata": {
        "colab": {
          "base_uri": "https://localhost:8080/"
        },
        "id": "Ka1g-Ch9lt_X",
        "outputId": "4cb2d175-5ed2-43c7-c0fd-97f12ef4d9a5"
      },
      "source": [
        "list(range(2, 10))"
      ],
      "execution_count": 8,
      "outputs": [
        {
          "output_type": "execute_result",
          "data": {
            "text/plain": [
              "[2, 3, 4, 5, 6, 7, 8, 9]"
            ]
          },
          "metadata": {},
          "execution_count": 8
        }
      ]
    },
    {
      "cell_type": "code",
      "metadata": {
        "colab": {
          "base_uri": "https://localhost:8080/"
        },
        "id": "HVh6mVs5lzah",
        "outputId": "7e9a5fdc-4d7a-4463-de32-5bcb4409df69"
      },
      "source": [
        "list(range(2, 10, 3))"
      ],
      "execution_count": 9,
      "outputs": [
        {
          "output_type": "execute_result",
          "data": {
            "text/plain": [
              "[2, 5, 8]"
            ]
          },
          "metadata": {},
          "execution_count": 9
        }
      ]
    },
    {
      "cell_type": "markdown",
      "metadata": {
        "id": "dY6G800El-Kw"
      },
      "source": [
        "p.1-58 串列"
      ]
    },
    {
      "cell_type": "code",
      "metadata": {
        "colab": {
          "base_uri": "https://localhost:8080/"
        },
        "id": "VHGWWnxIl1qm",
        "outputId": "081a9752-ea48-492b-d06f-631ccda5a2a0"
      },
      "source": [
        "[3, 5, [1, 2], \"ABC\"]"
      ],
      "execution_count": 10,
      "outputs": [
        {
          "output_type": "execute_result",
          "data": {
            "text/plain": [
              "[3, 5, [1, 2], 'ABC']"
            ]
          },
          "metadata": {},
          "execution_count": 10
        }
      ]
    },
    {
      "cell_type": "code",
      "metadata": {
        "colab": {
          "base_uri": "https://localhost:8080/"
        },
        "id": "jC93mBXOmFL3",
        "outputId": "a01774c6-4f68-411b-95eb-45341e40d9ee"
      },
      "source": [
        "list(\"ABCDE\")"
      ],
      "execution_count": 11,
      "outputs": [
        {
          "output_type": "execute_result",
          "data": {
            "text/plain": [
              "['A', 'B', 'C', 'D', 'E']"
            ]
          },
          "metadata": {},
          "execution_count": 11
        }
      ]
    },
    {
      "cell_type": "code",
      "metadata": {
        "id": "_ERyucvTmHrn"
      },
      "source": [
        "ham = list(\"ABCDE\")"
      ],
      "execution_count": 12,
      "outputs": []
    },
    {
      "cell_type": "code",
      "metadata": {
        "colab": {
          "base_uri": "https://localhost:8080/",
          "height": 34
        },
        "id": "x7y3vyFqmLxF",
        "outputId": "957bd06f-fb56-4c7e-d2df-a2398024fd05"
      },
      "source": [
        "ham[2]"
      ],
      "execution_count": 13,
      "outputs": [
        {
          "output_type": "execute_result",
          "data": {
            "application/vnd.google.colaboratory.intrinsic+json": {
              "type": "string"
            },
            "text/plain": [
              "'C'"
            ]
          },
          "metadata": {},
          "execution_count": 13
        }
      ]
    },
    {
      "cell_type": "code",
      "metadata": {
        "colab": {
          "base_uri": "https://localhost:8080/",
          "height": 34
        },
        "id": "hAY_JZqZmNeo",
        "outputId": "a2c78c85-41ef-4c98-da20-d1d5df8bcdaf"
      },
      "source": [
        "ham[-2]"
      ],
      "execution_count": 14,
      "outputs": [
        {
          "output_type": "execute_result",
          "data": {
            "application/vnd.google.colaboratory.intrinsic+json": {
              "type": "string"
            },
            "text/plain": [
              "'D'"
            ]
          },
          "metadata": {},
          "execution_count": 14
        }
      ]
    },
    {
      "cell_type": "code",
      "metadata": {
        "colab": {
          "base_uri": "https://localhost:8080/"
        },
        "id": "buaUtNGumPSB",
        "outputId": "96ebb4e4-aa8a-46b4-8535-8cb622e29dec"
      },
      "source": [
        "ham[3:6]"
      ],
      "execution_count": 15,
      "outputs": [
        {
          "output_type": "execute_result",
          "data": {
            "text/plain": [
              "['D', 'E']"
            ]
          },
          "metadata": {},
          "execution_count": 15
        }
      ]
    },
    {
      "cell_type": "code",
      "metadata": {
        "colab": {
          "base_uri": "https://localhost:8080/"
        },
        "id": "jAj5dq1xmRgi",
        "outputId": "8ca0ec32-3807-43ee-e29f-aad492784b99"
      },
      "source": [
        "ham[2:]"
      ],
      "execution_count": 16,
      "outputs": [
        {
          "output_type": "execute_result",
          "data": {
            "text/plain": [
              "['C', 'D', 'E']"
            ]
          },
          "metadata": {},
          "execution_count": 16
        }
      ]
    },
    {
      "cell_type": "code",
      "metadata": {
        "colab": {
          "base_uri": "https://localhost:8080/"
        },
        "id": "o7oJqZ6cmTao",
        "outputId": "cd364a4a-2989-4599-bd07-06ad1ee77d6b"
      },
      "source": [
        "ham[:5]"
      ],
      "execution_count": 17,
      "outputs": [
        {
          "output_type": "execute_result",
          "data": {
            "text/plain": [
              "['A', 'B', 'C', 'D', 'E']"
            ]
          },
          "metadata": {},
          "execution_count": 17
        }
      ]
    },
    {
      "cell_type": "code",
      "metadata": {
        "colab": {
          "base_uri": "https://localhost:8080/"
        },
        "id": "_l7AxQGZmXQQ",
        "outputId": "4608fd13-24a4-4c48-c7d9-5e8308052b00"
      },
      "source": [
        "ham[:-4]"
      ],
      "execution_count": 18,
      "outputs": [
        {
          "output_type": "execute_result",
          "data": {
            "text/plain": [
              "['A']"
            ]
          },
          "metadata": {},
          "execution_count": 18
        }
      ]
    },
    {
      "cell_type": "code",
      "metadata": {
        "colab": {
          "base_uri": "https://localhost:8080/"
        },
        "id": "rwaIelRQmbTG",
        "outputId": "3373a877-88fe-4a8b-8fa3-a0b65e1f234d"
      },
      "source": [
        "ham[:]"
      ],
      "execution_count": 19,
      "outputs": [
        {
          "output_type": "execute_result",
          "data": {
            "text/plain": [
              "['A', 'B', 'C', 'D', 'E']"
            ]
          },
          "metadata": {},
          "execution_count": 19
        }
      ]
    },
    {
      "cell_type": "markdown",
      "metadata": {
        "id": "T94cCEZdmnJp"
      },
      "source": [
        "p.1-60 字串操作跟串列一樣"
      ]
    },
    {
      "cell_type": "code",
      "metadata": {
        "id": "p-siCxn6mfVG"
      },
      "source": [
        "egg=\"ABCDEFGH\""
      ],
      "execution_count": 20,
      "outputs": []
    },
    {
      "cell_type": "code",
      "metadata": {
        "colab": {
          "base_uri": "https://localhost:8080/",
          "height": 34
        },
        "id": "aBEOL1Xym1kF",
        "outputId": "38544653-eb32-43f6-c0eb-6c420a238f2d"
      },
      "source": [
        "egg[:-4]"
      ],
      "execution_count": 21,
      "outputs": [
        {
          "output_type": "execute_result",
          "data": {
            "application/vnd.google.colaboratory.intrinsic+json": {
              "type": "string"
            },
            "text/plain": [
              "'ABCD'"
            ]
          },
          "metadata": {},
          "execution_count": 21
        }
      ]
    },
    {
      "cell_type": "code",
      "metadata": {
        "colab": {
          "base_uri": "https://localhost:8080/",
          "height": 34
        },
        "id": "rQUlfQi8m3Yr",
        "outputId": "b1b33ccc-1b43-4987-ec03-c2392a6a1079"
      },
      "source": [
        "egg[: : 2]"
      ],
      "execution_count": 22,
      "outputs": [
        {
          "output_type": "execute_result",
          "data": {
            "application/vnd.google.colaboratory.intrinsic+json": {
              "type": "string"
            },
            "text/plain": [
              "'ACEG'"
            ]
          },
          "metadata": {},
          "execution_count": 22
        }
      ]
    },
    {
      "cell_type": "code",
      "metadata": {
        "colab": {
          "base_uri": "https://localhost:8080/",
          "height": 34
        },
        "id": "hDBEWOgJm6QO",
        "outputId": "d397cb28-bba3-4821-a731-3de6737b4402"
      },
      "source": [
        "egg[: : -1]"
      ],
      "execution_count": 23,
      "outputs": [
        {
          "output_type": "execute_result",
          "data": {
            "application/vnd.google.colaboratory.intrinsic+json": {
              "type": "string"
            },
            "text/plain": [
              "'HGFEDCBA'"
            ]
          },
          "metadata": {},
          "execution_count": 23
        }
      ]
    },
    {
      "cell_type": "markdown",
      "metadata": {
        "id": "EC3idWK0nGq5"
      },
      "source": [
        "p.1-61 2維串列"
      ]
    },
    {
      "cell_type": "code",
      "metadata": {
        "colab": {
          "base_uri": "https://localhost:8080/"
        },
        "id": "qy61CAmunBtt",
        "outputId": "8e322047-0d46-4d0f-9658-a97ed6bf7466"
      },
      "source": [
        "A=[[1, 2], [3, 4]]\n",
        "print(A)"
      ],
      "execution_count": 24,
      "outputs": [
        {
          "output_type": "stream",
          "name": "stdout",
          "text": [
            "[[1, 2], [3, 4]]\n"
          ]
        }
      ]
    },
    {
      "cell_type": "code",
      "metadata": {
        "colab": {
          "base_uri": "https://localhost:8080/"
        },
        "id": "W2OKI06VnRl6",
        "outputId": "85e1bfef-da38-4f5b-dd4d-96cf7167eb4d"
      },
      "source": [
        "A[0]"
      ],
      "execution_count": 25,
      "outputs": [
        {
          "output_type": "execute_result",
          "data": {
            "text/plain": [
              "[1, 2]"
            ]
          },
          "metadata": {},
          "execution_count": 25
        }
      ]
    },
    {
      "cell_type": "code",
      "metadata": {
        "colab": {
          "base_uri": "https://localhost:8080/"
        },
        "id": "fg0mcXzZnTmi",
        "outputId": "d4093d72-f704-4324-ce1f-8214afa57f9a"
      },
      "source": [
        "A[0][0]"
      ],
      "execution_count": 26,
      "outputs": [
        {
          "output_type": "execute_result",
          "data": {
            "text/plain": [
              "1"
            ]
          },
          "metadata": {},
          "execution_count": 26
        }
      ]
    },
    {
      "cell_type": "markdown",
      "metadata": {
        "id": "8Yxl2vTh6TDS"
      },
      "source": [
        "p.1-62 for loop"
      ]
    },
    {
      "cell_type": "code",
      "metadata": {
        "id": "pXPbn9RD6BI1",
        "outputId": "e3767749-eb95-418d-ecfe-e3e96f8016a5",
        "colab": {
          "base_uri": "https://localhost:8080/"
        }
      },
      "source": [
        "lst = [\"桃園\", \"中壢\", \"楊梅\", \"林口\"]\n",
        "print(lst)"
      ],
      "execution_count": 28,
      "outputs": [
        {
          "output_type": "stream",
          "name": "stdout",
          "text": [
            "['桃園', '中壢', '楊梅', '林口']\n"
          ]
        }
      ]
    },
    {
      "cell_type": "code",
      "metadata": {
        "id": "OzQ-YKF76g1u",
        "outputId": "9194a391-3f55-4281-9c67-8c1d00985e3a",
        "colab": {
          "base_uri": "https://localhost:8080/"
        }
      },
      "source": [
        "for city in lst:\n",
        "  print(city)"
      ],
      "execution_count": 29,
      "outputs": [
        {
          "output_type": "stream",
          "name": "stdout",
          "text": [
            "桃園\n",
            "中壢\n",
            "楊梅\n",
            "林口\n"
          ]
        }
      ]
    },
    {
      "cell_type": "code",
      "metadata": {
        "id": "t5dX28yy7Htf",
        "outputId": "36b92e48-e3ad-4f01-80d8-45f07b698ae1",
        "colab": {
          "base_uri": "https://localhost:8080/"
        }
      },
      "source": [
        "list(range(5))"
      ],
      "execution_count": 30,
      "outputs": [
        {
          "output_type": "execute_result",
          "data": {
            "text/plain": [
              "[0, 1, 2, 3, 4]"
            ]
          },
          "metadata": {},
          "execution_count": 30
        }
      ]
    },
    {
      "cell_type": "code",
      "metadata": {
        "id": "jcHR5N3C7TFw",
        "outputId": "23c9598e-04f1-4791-d956-9c406b0f7686",
        "colab": {
          "base_uri": "https://localhost:8080/"
        }
      },
      "source": [
        "for i in list(range(5)):\n",
        "  print(i)"
      ],
      "execution_count": 32,
      "outputs": [
        {
          "output_type": "stream",
          "name": "stdout",
          "text": [
            "0\n",
            "1\n",
            "2\n",
            "3\n",
            "4\n"
          ]
        }
      ]
    },
    {
      "cell_type": "code",
      "metadata": {
        "id": "UZrzhY0I7MU0",
        "outputId": "9c7fe248-3a60-4c72-b208-bcead543cab1",
        "colab": {
          "base_uri": "https://localhost:8080/"
        }
      },
      "source": [
        "#可以直接寫 \n",
        "for i in range(5):\n",
        "  print(i)"
      ],
      "execution_count": 31,
      "outputs": [
        {
          "output_type": "stream",
          "name": "stdout",
          "text": [
            "0\n",
            "1\n",
            "2\n",
            "3\n",
            "4\n"
          ]
        }
      ]
    },
    {
      "cell_type": "code",
      "metadata": {
        "id": "6FISwoP97QCJ",
        "outputId": "0c442c28-2ac4-4507-8b06-1925f59f2e79",
        "colab": {
          "base_uri": "https://localhost:8080/"
        }
      },
      "source": [
        "for i in range(5):\n",
        "  print(i, end = \", \")"
      ],
      "execution_count": 34,
      "outputs": [
        {
          "output_type": "stream",
          "name": "stdout",
          "text": [
            "0, 1, 2, 3, 4, "
          ]
        }
      ]
    },
    {
      "cell_type": "code",
      "metadata": {
        "id": "No2V-dGS7jbN",
        "outputId": "ebe9a202-908f-4a43-c843-b305acecccbf",
        "colab": {
          "base_uri": "https://localhost:8080/"
        }
      },
      "source": [
        "for i in range(5):\n",
        "  print(i, end = \" \")"
      ],
      "execution_count": 35,
      "outputs": [
        {
          "output_type": "stream",
          "name": "stdout",
          "text": [
            "0 1 2 3 4 "
          ]
        }
      ]
    },
    {
      "cell_type": "code",
      "metadata": {
        "id": "b_9CYJSn7oV5",
        "outputId": "f29fb708-4214-4188-ae8c-340328a092e3",
        "colab": {
          "base_uri": "https://localhost:8080/"
        }
      },
      "source": [
        "face = \"( ͡° ͜ʖ ͡°)\"\n",
        "print(face)"
      ],
      "execution_count": 37,
      "outputs": [
        {
          "output_type": "stream",
          "name": "stdout",
          "text": [
            "( ͡° ͜ʖ ͡°)\n"
          ]
        }
      ]
    },
    {
      "cell_type": "code",
      "metadata": {
        "id": "YUDODC3H75Hm",
        "outputId": "8f0bf81b-fca4-4ea1-984f-7eb795dc8a82",
        "colab": {
          "base_uri": "https://localhost:8080/"
        }
      },
      "source": [
        "for i in range(1, 6):\n",
        "  print(face*i)"
      ],
      "execution_count": 38,
      "outputs": [
        {
          "output_type": "stream",
          "name": "stdout",
          "text": [
            "( ͡° ͜ʖ ͡°)\n",
            "( ͡° ͜ʖ ͡°)( ͡° ͜ʖ ͡°)\n",
            "( ͡° ͜ʖ ͡°)( ͡° ͜ʖ ͡°)( ͡° ͜ʖ ͡°)\n",
            "( ͡° ͜ʖ ͡°)( ͡° ͜ʖ ͡°)( ͡° ͜ʖ ͡°)( ͡° ͜ʖ ͡°)\n",
            "( ͡° ͜ʖ ͡°)( ͡° ͜ʖ ͡°)( ͡° ͜ʖ ͡°)( ͡° ͜ʖ ͡°)( ͡° ͜ʖ ͡°)\n"
          ]
        }
      ]
    },
    {
      "cell_type": "code",
      "metadata": {
        "id": "Ed5veJIc7_31"
      },
      "source": [
        ""
      ],
      "execution_count": null,
      "outputs": []
    }
  ]
}