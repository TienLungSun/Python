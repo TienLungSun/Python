{
  "nbformat": 4,
  "nbformat_minor": 0,
  "metadata": {
    "colab": {
      "name": "Untitled3.ipynb",
      "provenance": [],
      "include_colab_link": true
    },
    "kernelspec": {
      "name": "python3",
      "display_name": "Python 3"
    },
    "language_info": {
      "name": "python"
    },
    "widgets": {
      "application/vnd.jupyter.widget-state+json": {
        "ed312a5c98e64133a8c9d0d3be9e187e": {
          "model_module": "@jupyter-widgets/controls",
          "model_name": "VBoxModel",
          "model_module_version": "1.5.0",
          "state": {
            "_view_name": "VBoxView",
            "_dom_classes": [
              "widget-interact"
            ],
            "_model_name": "VBoxModel",
            "_view_module": "@jupyter-widgets/controls",
            "_model_module_version": "1.5.0",
            "_view_count": null,
            "_view_module_version": "1.5.0",
            "box_style": "",
            "layout": "IPY_MODEL_dd83399a776b49b88d43ccb2fcd68c05",
            "_model_module": "@jupyter-widgets/controls",
            "children": [
              "IPY_MODEL_ec6b508a1703440c90ad6dcac4753e0f",
              "IPY_MODEL_097acf22d74f42068630d0bc2a8ecde3"
            ]
          }
        },
        "dd83399a776b49b88d43ccb2fcd68c05": {
          "model_module": "@jupyter-widgets/base",
          "model_name": "LayoutModel",
          "model_module_version": "1.2.0",
          "state": {
            "_view_name": "LayoutView",
            "grid_template_rows": null,
            "right": null,
            "justify_content": null,
            "_view_module": "@jupyter-widgets/base",
            "overflow": null,
            "_model_module_version": "1.2.0",
            "_view_count": null,
            "flex_flow": null,
            "width": null,
            "min_width": null,
            "border": null,
            "align_items": null,
            "bottom": null,
            "_model_module": "@jupyter-widgets/base",
            "top": null,
            "grid_column": null,
            "overflow_y": null,
            "overflow_x": null,
            "grid_auto_flow": null,
            "grid_area": null,
            "grid_template_columns": null,
            "flex": null,
            "_model_name": "LayoutModel",
            "justify_items": null,
            "grid_row": null,
            "max_height": null,
            "align_content": null,
            "visibility": null,
            "align_self": null,
            "height": null,
            "min_height": null,
            "padding": null,
            "grid_auto_rows": null,
            "grid_gap": null,
            "max_width": null,
            "order": null,
            "_view_module_version": "1.2.0",
            "grid_template_areas": null,
            "object_position": null,
            "object_fit": null,
            "grid_auto_columns": null,
            "margin": null,
            "display": null,
            "left": null
          }
        },
        "ec6b508a1703440c90ad6dcac4753e0f": {
          "model_module": "@jupyter-widgets/controls",
          "model_name": "TextModel",
          "model_module_version": "1.5.0",
          "state": {
            "_view_name": "TextView",
            "style": "IPY_MODEL_1ebca29805084075b478605d3579896f",
            "_dom_classes": [],
            "description": "x",
            "_model_name": "TextModel",
            "placeholder": "​",
            "_view_module": "@jupyter-widgets/controls",
            "_model_module_version": "1.5.0",
            "value": "你的姓名=aaa",
            "_view_count": null,
            "disabled": false,
            "_view_module_version": "1.5.0",
            "continuous_update": true,
            "description_tooltip": null,
            "_model_module": "@jupyter-widgets/controls",
            "layout": "IPY_MODEL_6a76614ce7ce4bd589ccfe7cd74aaf3f"
          }
        },
        "097acf22d74f42068630d0bc2a8ecde3": {
          "model_module": "@jupyter-widgets/output",
          "model_name": "OutputModel",
          "model_module_version": "1.0.0",
          "state": {
            "_view_name": "OutputView",
            "msg_id": "",
            "_dom_classes": [],
            "_model_name": "OutputModel",
            "outputs": [
              {
                "output_type": "stream",
                "name": "stdout",
                "text": [
                  "你的姓名=aaa\n"
                ]
              }
            ],
            "_view_module": "@jupyter-widgets/output",
            "_model_module_version": "1.0.0",
            "_view_count": null,
            "_view_module_version": "1.0.0",
            "layout": "IPY_MODEL_ca0cf189274c4c0898d729422d041399",
            "_model_module": "@jupyter-widgets/output"
          }
        },
        "1ebca29805084075b478605d3579896f": {
          "model_module": "@jupyter-widgets/controls",
          "model_name": "DescriptionStyleModel",
          "model_module_version": "1.5.0",
          "state": {
            "_view_name": "StyleView",
            "_model_name": "DescriptionStyleModel",
            "description_width": "",
            "_view_module": "@jupyter-widgets/base",
            "_model_module_version": "1.5.0",
            "_view_count": null,
            "_view_module_version": "1.2.0",
            "_model_module": "@jupyter-widgets/controls"
          }
        },
        "6a76614ce7ce4bd589ccfe7cd74aaf3f": {
          "model_module": "@jupyter-widgets/base",
          "model_name": "LayoutModel",
          "model_module_version": "1.2.0",
          "state": {
            "_view_name": "LayoutView",
            "grid_template_rows": null,
            "right": null,
            "justify_content": null,
            "_view_module": "@jupyter-widgets/base",
            "overflow": null,
            "_model_module_version": "1.2.0",
            "_view_count": null,
            "flex_flow": null,
            "width": null,
            "min_width": null,
            "border": null,
            "align_items": null,
            "bottom": null,
            "_model_module": "@jupyter-widgets/base",
            "top": null,
            "grid_column": null,
            "overflow_y": null,
            "overflow_x": null,
            "grid_auto_flow": null,
            "grid_area": null,
            "grid_template_columns": null,
            "flex": null,
            "_model_name": "LayoutModel",
            "justify_items": null,
            "grid_row": null,
            "max_height": null,
            "align_content": null,
            "visibility": null,
            "align_self": null,
            "height": null,
            "min_height": null,
            "padding": null,
            "grid_auto_rows": null,
            "grid_gap": null,
            "max_width": null,
            "order": null,
            "_view_module_version": "1.2.0",
            "grid_template_areas": null,
            "object_position": null,
            "object_fit": null,
            "grid_auto_columns": null,
            "margin": null,
            "display": null,
            "left": null
          }
        },
        "ca0cf189274c4c0898d729422d041399": {
          "model_module": "@jupyter-widgets/base",
          "model_name": "LayoutModel",
          "model_module_version": "1.2.0",
          "state": {
            "_view_name": "LayoutView",
            "grid_template_rows": null,
            "right": null,
            "justify_content": null,
            "_view_module": "@jupyter-widgets/base",
            "overflow": null,
            "_model_module_version": "1.2.0",
            "_view_count": null,
            "flex_flow": null,
            "width": null,
            "min_width": null,
            "border": null,
            "align_items": null,
            "bottom": null,
            "_model_module": "@jupyter-widgets/base",
            "top": null,
            "grid_column": null,
            "overflow_y": null,
            "overflow_x": null,
            "grid_auto_flow": null,
            "grid_area": null,
            "grid_template_columns": null,
            "flex": null,
            "_model_name": "LayoutModel",
            "justify_items": null,
            "grid_row": null,
            "max_height": null,
            "align_content": null,
            "visibility": null,
            "align_self": null,
            "height": null,
            "min_height": null,
            "padding": null,
            "grid_auto_rows": null,
            "grid_gap": null,
            "max_width": null,
            "order": null,
            "_view_module_version": "1.2.0",
            "grid_template_areas": null,
            "object_position": null,
            "object_fit": null,
            "grid_auto_columns": null,
            "margin": null,
            "display": null,
            "left": null
          }
        },
        "07c6f2e70aac40e3aef6e2ba68d9106a": {
          "model_module": "@jupyter-widgets/controls",
          "model_name": "VBoxModel",
          "model_module_version": "1.5.0",
          "state": {
            "_view_name": "VBoxView",
            "_dom_classes": [
              "widget-interact"
            ],
            "_model_name": "VBoxModel",
            "_view_module": "@jupyter-widgets/controls",
            "_model_module_version": "1.5.0",
            "_view_count": null,
            "_view_module_version": "1.5.0",
            "box_style": "",
            "layout": "IPY_MODEL_fe044b7d1123478db4c11ef7c8a8937e",
            "_model_module": "@jupyter-widgets/controls",
            "children": [
              "IPY_MODEL_eb0a609128b74fc59af1990d38728447",
              "IPY_MODEL_71716d11365145a7a6df6f11228e6b04"
            ]
          }
        },
        "fe044b7d1123478db4c11ef7c8a8937e": {
          "model_module": "@jupyter-widgets/base",
          "model_name": "LayoutModel",
          "model_module_version": "1.2.0",
          "state": {
            "_view_name": "LayoutView",
            "grid_template_rows": null,
            "right": null,
            "justify_content": null,
            "_view_module": "@jupyter-widgets/base",
            "overflow": null,
            "_model_module_version": "1.2.0",
            "_view_count": null,
            "flex_flow": null,
            "width": null,
            "min_width": null,
            "border": null,
            "align_items": null,
            "bottom": null,
            "_model_module": "@jupyter-widgets/base",
            "top": null,
            "grid_column": null,
            "overflow_y": null,
            "overflow_x": null,
            "grid_auto_flow": null,
            "grid_area": null,
            "grid_template_columns": null,
            "flex": null,
            "_model_name": "LayoutModel",
            "justify_items": null,
            "grid_row": null,
            "max_height": null,
            "align_content": null,
            "visibility": null,
            "align_self": null,
            "height": null,
            "min_height": null,
            "padding": null,
            "grid_auto_rows": null,
            "grid_gap": null,
            "max_width": null,
            "order": null,
            "_view_module_version": "1.2.0",
            "grid_template_areas": null,
            "object_position": null,
            "object_fit": null,
            "grid_auto_columns": null,
            "margin": null,
            "display": null,
            "left": null
          }
        },
        "eb0a609128b74fc59af1990d38728447": {
          "model_module": "@jupyter-widgets/controls",
          "model_name": "DropdownModel",
          "model_module_version": "1.5.0",
          "state": {
            "_options_labels": [
              "python",
              "C#",
              "Java"
            ],
            "_view_name": "DropdownView",
            "style": "IPY_MODEL_46edeebdb4f646328b8fc620385e1a3f",
            "_dom_classes": [],
            "description": "x",
            "_model_name": "DropdownModel",
            "index": 1,
            "_view_module": "@jupyter-widgets/controls",
            "_model_module_version": "1.5.0",
            "_view_count": null,
            "disabled": false,
            "_view_module_version": "1.5.0",
            "description_tooltip": null,
            "_model_module": "@jupyter-widgets/controls",
            "layout": "IPY_MODEL_21ff048242a942d1951c0248b82d7c50"
          }
        },
        "71716d11365145a7a6df6f11228e6b04": {
          "model_module": "@jupyter-widgets/output",
          "model_name": "OutputModel",
          "model_module_version": "1.0.0",
          "state": {
            "_view_name": "OutputView",
            "msg_id": "",
            "_dom_classes": [],
            "_model_name": "OutputModel",
            "outputs": [
              {
                "output_type": "stream",
                "name": "stdout",
                "text": [
                  "C#\n"
                ]
              }
            ],
            "_view_module": "@jupyter-widgets/output",
            "_model_module_version": "1.0.0",
            "_view_count": null,
            "_view_module_version": "1.0.0",
            "layout": "IPY_MODEL_8fa16420e3ae4eb3a76715c0bd8db147",
            "_model_module": "@jupyter-widgets/output"
          }
        },
        "46edeebdb4f646328b8fc620385e1a3f": {
          "model_module": "@jupyter-widgets/controls",
          "model_name": "DescriptionStyleModel",
          "model_module_version": "1.5.0",
          "state": {
            "_view_name": "StyleView",
            "_model_name": "DescriptionStyleModel",
            "description_width": "",
            "_view_module": "@jupyter-widgets/base",
            "_model_module_version": "1.5.0",
            "_view_count": null,
            "_view_module_version": "1.2.0",
            "_model_module": "@jupyter-widgets/controls"
          }
        },
        "21ff048242a942d1951c0248b82d7c50": {
          "model_module": "@jupyter-widgets/base",
          "model_name": "LayoutModel",
          "model_module_version": "1.2.0",
          "state": {
            "_view_name": "LayoutView",
            "grid_template_rows": null,
            "right": null,
            "justify_content": null,
            "_view_module": "@jupyter-widgets/base",
            "overflow": null,
            "_model_module_version": "1.2.0",
            "_view_count": null,
            "flex_flow": null,
            "width": null,
            "min_width": null,
            "border": null,
            "align_items": null,
            "bottom": null,
            "_model_module": "@jupyter-widgets/base",
            "top": null,
            "grid_column": null,
            "overflow_y": null,
            "overflow_x": null,
            "grid_auto_flow": null,
            "grid_area": null,
            "grid_template_columns": null,
            "flex": null,
            "_model_name": "LayoutModel",
            "justify_items": null,
            "grid_row": null,
            "max_height": null,
            "align_content": null,
            "visibility": null,
            "align_self": null,
            "height": null,
            "min_height": null,
            "padding": null,
            "grid_auto_rows": null,
            "grid_gap": null,
            "max_width": null,
            "order": null,
            "_view_module_version": "1.2.0",
            "grid_template_areas": null,
            "object_position": null,
            "object_fit": null,
            "grid_auto_columns": null,
            "margin": null,
            "display": null,
            "left": null
          }
        },
        "8fa16420e3ae4eb3a76715c0bd8db147": {
          "model_module": "@jupyter-widgets/base",
          "model_name": "LayoutModel",
          "model_module_version": "1.2.0",
          "state": {
            "_view_name": "LayoutView",
            "grid_template_rows": null,
            "right": null,
            "justify_content": null,
            "_view_module": "@jupyter-widgets/base",
            "overflow": null,
            "_model_module_version": "1.2.0",
            "_view_count": null,
            "flex_flow": null,
            "width": null,
            "min_width": null,
            "border": null,
            "align_items": null,
            "bottom": null,
            "_model_module": "@jupyter-widgets/base",
            "top": null,
            "grid_column": null,
            "overflow_y": null,
            "overflow_x": null,
            "grid_auto_flow": null,
            "grid_area": null,
            "grid_template_columns": null,
            "flex": null,
            "_model_name": "LayoutModel",
            "justify_items": null,
            "grid_row": null,
            "max_height": null,
            "align_content": null,
            "visibility": null,
            "align_self": null,
            "height": null,
            "min_height": null,
            "padding": null,
            "grid_auto_rows": null,
            "grid_gap": null,
            "max_width": null,
            "order": null,
            "_view_module_version": "1.2.0",
            "grid_template_areas": null,
            "object_position": null,
            "object_fit": null,
            "grid_auto_columns": null,
            "margin": null,
            "display": null,
            "left": null
          }
        },
        "074b2002d3b64f1aaa1257d5277d7fe5": {
          "model_module": "@jupyter-widgets/controls",
          "model_name": "VBoxModel",
          "model_module_version": "1.5.0",
          "state": {
            "_view_name": "VBoxView",
            "_dom_classes": [
              "widget-interact"
            ],
            "_model_name": "VBoxModel",
            "_view_module": "@jupyter-widgets/controls",
            "_model_module_version": "1.5.0",
            "_view_count": null,
            "_view_module_version": "1.5.0",
            "box_style": "",
            "layout": "IPY_MODEL_a935a58141f54b0fb3f38b0e89717bf2",
            "_model_module": "@jupyter-widgets/controls",
            "children": [
              "IPY_MODEL_58328e4a59d64b4fb7d836c73062729f",
              "IPY_MODEL_013f76af2ea84e13a61c0c599b7baff8"
            ]
          }
        },
        "a935a58141f54b0fb3f38b0e89717bf2": {
          "model_module": "@jupyter-widgets/base",
          "model_name": "LayoutModel",
          "model_module_version": "1.2.0",
          "state": {
            "_view_name": "LayoutView",
            "grid_template_rows": null,
            "right": null,
            "justify_content": null,
            "_view_module": "@jupyter-widgets/base",
            "overflow": null,
            "_model_module_version": "1.2.0",
            "_view_count": null,
            "flex_flow": null,
            "width": null,
            "min_width": null,
            "border": null,
            "align_items": null,
            "bottom": null,
            "_model_module": "@jupyter-widgets/base",
            "top": null,
            "grid_column": null,
            "overflow_y": null,
            "overflow_x": null,
            "grid_auto_flow": null,
            "grid_area": null,
            "grid_template_columns": null,
            "flex": null,
            "_model_name": "LayoutModel",
            "justify_items": null,
            "grid_row": null,
            "max_height": null,
            "align_content": null,
            "visibility": null,
            "align_self": null,
            "height": null,
            "min_height": null,
            "padding": null,
            "grid_auto_rows": null,
            "grid_gap": null,
            "max_width": null,
            "order": null,
            "_view_module_version": "1.2.0",
            "grid_template_areas": null,
            "object_position": null,
            "object_fit": null,
            "grid_auto_columns": null,
            "margin": null,
            "display": null,
            "left": null
          }
        },
        "58328e4a59d64b4fb7d836c73062729f": {
          "model_module": "@jupyter-widgets/controls",
          "model_name": "DropdownModel",
          "model_module_version": "1.5.0",
          "state": {
            "_options_labels": [
              "python",
              "C#",
              "Java"
            ],
            "_view_name": "DropdownView",
            "style": "IPY_MODEL_67f803f8e1a24e6e92b2ed468892d01d",
            "_dom_classes": [],
            "description": "x",
            "_model_name": "DropdownModel",
            "index": 1,
            "_view_module": "@jupyter-widgets/controls",
            "_model_module_version": "1.5.0",
            "_view_count": null,
            "disabled": false,
            "_view_module_version": "1.5.0",
            "description_tooltip": null,
            "_model_module": "@jupyter-widgets/controls",
            "layout": "IPY_MODEL_e0616923981a45daaaea1bd7e3f0b381"
          }
        },
        "013f76af2ea84e13a61c0c599b7baff8": {
          "model_module": "@jupyter-widgets/output",
          "model_name": "OutputModel",
          "model_module_version": "1.0.0",
          "state": {
            "_view_name": "OutputView",
            "msg_id": "",
            "_dom_classes": [],
            "_model_name": "OutputModel",
            "outputs": [
              {
                "output_type": "stream",
                "name": "stdout",
                "text": [
                  "2\n"
                ]
              }
            ],
            "_view_module": "@jupyter-widgets/output",
            "_model_module_version": "1.0.0",
            "_view_count": null,
            "_view_module_version": "1.0.0",
            "layout": "IPY_MODEL_ad8cb574ef164901a45c5e7452b39947",
            "_model_module": "@jupyter-widgets/output"
          }
        },
        "67f803f8e1a24e6e92b2ed468892d01d": {
          "model_module": "@jupyter-widgets/controls",
          "model_name": "DescriptionStyleModel",
          "model_module_version": "1.5.0",
          "state": {
            "_view_name": "StyleView",
            "_model_name": "DescriptionStyleModel",
            "description_width": "",
            "_view_module": "@jupyter-widgets/base",
            "_model_module_version": "1.5.0",
            "_view_count": null,
            "_view_module_version": "1.2.0",
            "_model_module": "@jupyter-widgets/controls"
          }
        },
        "e0616923981a45daaaea1bd7e3f0b381": {
          "model_module": "@jupyter-widgets/base",
          "model_name": "LayoutModel",
          "model_module_version": "1.2.0",
          "state": {
            "_view_name": "LayoutView",
            "grid_template_rows": null,
            "right": null,
            "justify_content": null,
            "_view_module": "@jupyter-widgets/base",
            "overflow": null,
            "_model_module_version": "1.2.0",
            "_view_count": null,
            "flex_flow": null,
            "width": null,
            "min_width": null,
            "border": null,
            "align_items": null,
            "bottom": null,
            "_model_module": "@jupyter-widgets/base",
            "top": null,
            "grid_column": null,
            "overflow_y": null,
            "overflow_x": null,
            "grid_auto_flow": null,
            "grid_area": null,
            "grid_template_columns": null,
            "flex": null,
            "_model_name": "LayoutModel",
            "justify_items": null,
            "grid_row": null,
            "max_height": null,
            "align_content": null,
            "visibility": null,
            "align_self": null,
            "height": null,
            "min_height": null,
            "padding": null,
            "grid_auto_rows": null,
            "grid_gap": null,
            "max_width": null,
            "order": null,
            "_view_module_version": "1.2.0",
            "grid_template_areas": null,
            "object_position": null,
            "object_fit": null,
            "grid_auto_columns": null,
            "margin": null,
            "display": null,
            "left": null
          }
        },
        "ad8cb574ef164901a45c5e7452b39947": {
          "model_module": "@jupyter-widgets/base",
          "model_name": "LayoutModel",
          "model_module_version": "1.2.0",
          "state": {
            "_view_name": "LayoutView",
            "grid_template_rows": null,
            "right": null,
            "justify_content": null,
            "_view_module": "@jupyter-widgets/base",
            "overflow": null,
            "_model_module_version": "1.2.0",
            "_view_count": null,
            "flex_flow": null,
            "width": null,
            "min_width": null,
            "border": null,
            "align_items": null,
            "bottom": null,
            "_model_module": "@jupyter-widgets/base",
            "top": null,
            "grid_column": null,
            "overflow_y": null,
            "overflow_x": null,
            "grid_auto_flow": null,
            "grid_area": null,
            "grid_template_columns": null,
            "flex": null,
            "_model_name": "LayoutModel",
            "justify_items": null,
            "grid_row": null,
            "max_height": null,
            "align_content": null,
            "visibility": null,
            "align_self": null,
            "height": null,
            "min_height": null,
            "padding": null,
            "grid_auto_rows": null,
            "grid_gap": null,
            "max_width": null,
            "order": null,
            "_view_module_version": "1.2.0",
            "grid_template_areas": null,
            "object_position": null,
            "object_fit": null,
            "grid_auto_columns": null,
            "margin": null,
            "display": null,
            "left": null
          }
        },
        "78b44eed13f84205a5bf3b6ce442e962": {
          "model_module": "@jupyter-widgets/controls",
          "model_name": "VBoxModel",
          "model_module_version": "1.5.0",
          "state": {
            "_view_name": "VBoxView",
            "_dom_classes": [
              "widget-interact"
            ],
            "_model_name": "VBoxModel",
            "_view_module": "@jupyter-widgets/controls",
            "_model_module_version": "1.5.0",
            "_view_count": null,
            "_view_module_version": "1.5.0",
            "box_style": "",
            "layout": "IPY_MODEL_ae65fed879974156bd3d7a6751fe29dc",
            "_model_module": "@jupyter-widgets/controls",
            "children": [
              "IPY_MODEL_395f40a896c6456ab686dd33323bc7f5",
              "IPY_MODEL_ff243089a8da4b4fa987c8ccfb6e63e2"
            ]
          }
        },
        "ae65fed879974156bd3d7a6751fe29dc": {
          "model_module": "@jupyter-widgets/base",
          "model_name": "LayoutModel",
          "model_module_version": "1.2.0",
          "state": {
            "_view_name": "LayoutView",
            "grid_template_rows": null,
            "right": null,
            "justify_content": null,
            "_view_module": "@jupyter-widgets/base",
            "overflow": null,
            "_model_module_version": "1.2.0",
            "_view_count": null,
            "flex_flow": null,
            "width": null,
            "min_width": null,
            "border": null,
            "align_items": null,
            "bottom": null,
            "_model_module": "@jupyter-widgets/base",
            "top": null,
            "grid_column": null,
            "overflow_y": null,
            "overflow_x": null,
            "grid_auto_flow": null,
            "grid_area": null,
            "grid_template_columns": null,
            "flex": null,
            "_model_name": "LayoutModel",
            "justify_items": null,
            "grid_row": null,
            "max_height": null,
            "align_content": null,
            "visibility": null,
            "align_self": null,
            "height": null,
            "min_height": null,
            "padding": null,
            "grid_auto_rows": null,
            "grid_gap": null,
            "max_width": null,
            "order": null,
            "_view_module_version": "1.2.0",
            "grid_template_areas": null,
            "object_position": null,
            "object_fit": null,
            "grid_auto_columns": null,
            "margin": null,
            "display": null,
            "left": null
          }
        },
        "395f40a896c6456ab686dd33323bc7f5": {
          "model_module": "@jupyter-widgets/controls",
          "model_name": "IntSliderModel",
          "model_module_version": "1.5.0",
          "state": {
            "_view_name": "IntSliderView",
            "style": "IPY_MODEL_fd3bf738a39942a9bff10f8c56e9a750",
            "_dom_classes": [],
            "description": "n",
            "step": 1,
            "_model_name": "IntSliderModel",
            "orientation": "horizontal",
            "max": 100,
            "_view_module": "@jupyter-widgets/controls",
            "_model_module_version": "1.5.0",
            "value": 30,
            "_view_count": null,
            "disabled": false,
            "_view_module_version": "1.5.0",
            "min": 1,
            "continuous_update": true,
            "readout_format": "d",
            "description_tooltip": null,
            "readout": true,
            "_model_module": "@jupyter-widgets/controls",
            "layout": "IPY_MODEL_5353499e5b0342429c7ada3ff0ed7f23"
          }
        },
        "ff243089a8da4b4fa987c8ccfb6e63e2": {
          "model_module": "@jupyter-widgets/output",
          "model_name": "OutputModel",
          "model_module_version": "1.0.0",
          "state": {
            "_view_name": "OutputView",
            "msg_id": "",
            "_dom_classes": [],
            "_model_name": "OutputModel",
            "outputs": [
              {
                "output_type": "stream",
                "name": "stdout",
                "text": [
                  "❤❤❤❤❤❤❤❤❤❤❤❤❤❤❤❤❤❤❤❤❤❤❤❤❤❤❤❤❤❤\n"
                ]
              }
            ],
            "_view_module": "@jupyter-widgets/output",
            "_model_module_version": "1.0.0",
            "_view_count": null,
            "_view_module_version": "1.0.0",
            "layout": "IPY_MODEL_b81c81d23cf04b5a982ed18694d0f820",
            "_model_module": "@jupyter-widgets/output"
          }
        },
        "fd3bf738a39942a9bff10f8c56e9a750": {
          "model_module": "@jupyter-widgets/controls",
          "model_name": "SliderStyleModel",
          "model_module_version": "1.5.0",
          "state": {
            "_view_name": "StyleView",
            "handle_color": null,
            "_model_name": "SliderStyleModel",
            "description_width": "",
            "_view_module": "@jupyter-widgets/base",
            "_model_module_version": "1.5.0",
            "_view_count": null,
            "_view_module_version": "1.2.0",
            "_model_module": "@jupyter-widgets/controls"
          }
        },
        "5353499e5b0342429c7ada3ff0ed7f23": {
          "model_module": "@jupyter-widgets/base",
          "model_name": "LayoutModel",
          "model_module_version": "1.2.0",
          "state": {
            "_view_name": "LayoutView",
            "grid_template_rows": null,
            "right": null,
            "justify_content": null,
            "_view_module": "@jupyter-widgets/base",
            "overflow": null,
            "_model_module_version": "1.2.0",
            "_view_count": null,
            "flex_flow": null,
            "width": null,
            "min_width": null,
            "border": null,
            "align_items": null,
            "bottom": null,
            "_model_module": "@jupyter-widgets/base",
            "top": null,
            "grid_column": null,
            "overflow_y": null,
            "overflow_x": null,
            "grid_auto_flow": null,
            "grid_area": null,
            "grid_template_columns": null,
            "flex": null,
            "_model_name": "LayoutModel",
            "justify_items": null,
            "grid_row": null,
            "max_height": null,
            "align_content": null,
            "visibility": null,
            "align_self": null,
            "height": null,
            "min_height": null,
            "padding": null,
            "grid_auto_rows": null,
            "grid_gap": null,
            "max_width": null,
            "order": null,
            "_view_module_version": "1.2.0",
            "grid_template_areas": null,
            "object_position": null,
            "object_fit": null,
            "grid_auto_columns": null,
            "margin": null,
            "display": null,
            "left": null
          }
        },
        "b81c81d23cf04b5a982ed18694d0f820": {
          "model_module": "@jupyter-widgets/base",
          "model_name": "LayoutModel",
          "model_module_version": "1.2.0",
          "state": {
            "_view_name": "LayoutView",
            "grid_template_rows": null,
            "right": null,
            "justify_content": null,
            "_view_module": "@jupyter-widgets/base",
            "overflow": null,
            "_model_module_version": "1.2.0",
            "_view_count": null,
            "flex_flow": null,
            "width": null,
            "min_width": null,
            "border": null,
            "align_items": null,
            "bottom": null,
            "_model_module": "@jupyter-widgets/base",
            "top": null,
            "grid_column": null,
            "overflow_y": null,
            "overflow_x": null,
            "grid_auto_flow": null,
            "grid_area": null,
            "grid_template_columns": null,
            "flex": null,
            "_model_name": "LayoutModel",
            "justify_items": null,
            "grid_row": null,
            "max_height": null,
            "align_content": null,
            "visibility": null,
            "align_self": null,
            "height": null,
            "min_height": null,
            "padding": null,
            "grid_auto_rows": null,
            "grid_gap": null,
            "max_width": null,
            "order": null,
            "_view_module_version": "1.2.0",
            "grid_template_areas": null,
            "object_position": null,
            "object_fit": null,
            "grid_auto_columns": null,
            "margin": null,
            "display": null,
            "left": null
          }
        },
        "df3de679c97b49219f197a1f606df4d8": {
          "model_module": "@jupyter-widgets/controls",
          "model_name": "VBoxModel",
          "model_module_version": "1.5.0",
          "state": {
            "_view_name": "VBoxView",
            "_dom_classes": [
              "widget-interact"
            ],
            "_model_name": "VBoxModel",
            "_view_module": "@jupyter-widgets/controls",
            "_model_module_version": "1.5.0",
            "_view_count": null,
            "_view_module_version": "1.5.0",
            "box_style": "",
            "layout": "IPY_MODEL_4283397b23c34d5b846b100829b6394e",
            "_model_module": "@jupyter-widgets/controls",
            "children": [
              "IPY_MODEL_206444bae50346ee9830db05a39ad4bd",
              "IPY_MODEL_0c4804dacd7e42e6b0ba842ca7f07bea"
            ]
          }
        },
        "4283397b23c34d5b846b100829b6394e": {
          "model_module": "@jupyter-widgets/base",
          "model_name": "LayoutModel",
          "model_module_version": "1.2.0",
          "state": {
            "_view_name": "LayoutView",
            "grid_template_rows": null,
            "right": null,
            "justify_content": null,
            "_view_module": "@jupyter-widgets/base",
            "overflow": null,
            "_model_module_version": "1.2.0",
            "_view_count": null,
            "flex_flow": null,
            "width": null,
            "min_width": null,
            "border": null,
            "align_items": null,
            "bottom": null,
            "_model_module": "@jupyter-widgets/base",
            "top": null,
            "grid_column": null,
            "overflow_y": null,
            "overflow_x": null,
            "grid_auto_flow": null,
            "grid_area": null,
            "grid_template_columns": null,
            "flex": null,
            "_model_name": "LayoutModel",
            "justify_items": null,
            "grid_row": null,
            "max_height": null,
            "align_content": null,
            "visibility": null,
            "align_self": null,
            "height": null,
            "min_height": null,
            "padding": null,
            "grid_auto_rows": null,
            "grid_gap": null,
            "max_width": null,
            "order": null,
            "_view_module_version": "1.2.0",
            "grid_template_areas": null,
            "object_position": null,
            "object_fit": null,
            "grid_auto_columns": null,
            "margin": null,
            "display": null,
            "left": null
          }
        },
        "206444bae50346ee9830db05a39ad4bd": {
          "model_module": "@jupyter-widgets/controls",
          "model_name": "FloatSliderModel",
          "model_module_version": "1.5.0",
          "state": {
            "_view_name": "FloatSliderView",
            "style": "IPY_MODEL_16e722755da647409712cf5a5be33e05",
            "_dom_classes": [],
            "description": "n",
            "step": 0.1,
            "_model_name": "FloatSliderModel",
            "orientation": "horizontal",
            "max": 10,
            "_view_module": "@jupyter-widgets/controls",
            "_model_module_version": "1.5.0",
            "value": 3.1,
            "_view_count": null,
            "disabled": false,
            "_view_module_version": "1.5.0",
            "min": 1,
            "continuous_update": true,
            "readout_format": ".2f",
            "description_tooltip": null,
            "readout": true,
            "_model_module": "@jupyter-widgets/controls",
            "layout": "IPY_MODEL_d18f19b0cfc3418a81d5864bcba247b2"
          }
        },
        "0c4804dacd7e42e6b0ba842ca7f07bea": {
          "model_module": "@jupyter-widgets/output",
          "model_name": "OutputModel",
          "model_module_version": "1.0.0",
          "state": {
            "_view_name": "OutputView",
            "msg_id": "",
            "_dom_classes": [],
            "_model_name": "OutputModel",
            "outputs": [
              {
                "output_type": "display_data",
                "data": {
                  "image/png": "iVBORw0KGgoAAAANSUhEUgAAAXwAAAD4CAYAAADvsV2wAAAABHNCSVQICAgIfAhkiAAAAAlwSFlzAAALEgAACxIB0t1+/AAAADh0RVh0U29mdHdhcmUAbWF0cGxvdGxpYiB2ZXJzaW9uMy4yLjIsIGh0dHA6Ly9tYXRwbG90bGliLm9yZy+WH4yJAAAgAElEQVR4nO3dd3yb1dn/8c+l5W0njh1nOMGZhEwSTJhhlD3KKKOMtkCBlFIKLTztQx/4tZROOiktpdBSKKPMMgKEPRogCYmzd+JsJ3bsJI7teGmd3x8alqxbtoxlx8LX+/XKK7J0rPu2xvc+us65j8QYg1JKqS8+26HeAaWUUr1DA18ppfoJDXyllOonNPCVUqqf0MBXSql+wnGodyCegoICU1JScqh3QymlUsqSJUv2GmMKrW7rs4FfUlJCWVnZod4NpZRKKSKyPd5tWtJRSql+QgNfKaX6CQ18pZTqJzTwlVKqn0hK4IvIP0WkWkRWx7ldROQBESkXkZUiMiMZ21VKKZW4ZPXwHwfO7uD2c4BxwX+zgYeStF2llFIJSkrgG2PmAfs7aHIh8IQJWAgMEJGhydi2UkqpxPRWDX84sDPi54rgdVFEZLaIlIlIWU1NTS/tmlKJ8/r8/H3eFt5ZU3Wod0WpLutTg7bGmEeMMaXGmNLCQssTxZQ6pFZU1PGLueuY/eSSQ70rSnVZbwX+LmBExM/FweuUSin7G93hyz6/fnmQSi29FfhzgG8EZ+scC9QZYyp7adtKJU1tU1vg1zd7DuGeKNV1SVlLR0SeAU4BCkSkAvgJ4AQwxvwNmAucC5QDTcB1ydiuUr3tQETg729yMzDLdQj3RqmuSUrgG2Ou7OR2A3wnGdtS6lCqbWrr1UeGv1KpoE8N2irV19VG1PBrG7Wko1KLBr5SXVDb5CbDaQ9fViqVaOAr1QW1TR5GFWQFL2vgq9Siga9UF9Q3exg+MAO7TajTWToqxWjgK9UFzR4fWS47GU47zW7/od4dpbpEA1+pLmh2+8hw2Ul32mn2+A717ijVJRr4SnVBs8dHutNOhstGiwa+SjEa+Ep1QbPbR4YzVNLRwFepRQNfqQR5fH68fkOmy06Gy6ElHZVyNPCVSlAo4NOddjKcNg18lXI08JVKUEuwhJMRnKWjNXyVajTwlUpQqEef4bST4dIavko9GvhKJSgy8HVapkpFGvhKJSjUo0/Xko5KURr4SiUoqqTjtNOkJR2VYjTwlUpQS/savsdH4KselEoNGvhKJSi0dk5oaQVjoNWr6+mo1KGBr1SCmtxeoK2kA2gdX6UUDXylEhQK9zSnjQxXIPC1jq9SiQa+UgkKlW/SnXbSHIG3jltLOiqFaOArlaBQ4LvsNlzBwNcavkolGvhKJSgU7mkOG2mOQElHe/gqlWjgK5Ugt9ePy25DRMI9fLdPa/gqdWjgK5Ugt9cfDnqXXUs6KvUkJfBF5GwR2SAi5SJyp8XtI0XkQxFZJiIrReTcZGxXqd7U6vW1Bb7W8FUK6nbgi4gdeBA4B5gIXCkiE9s1uxt43hgzHbgC+Gt3t6tUb3N7/eHZOTpLR6WiZPTwZwLlxpgtxhg38CxwYbs2BsgNXs4Ddidhu0r1KrevraSjga9SUTICfziwM+LniuB1ke4BviYiFcBc4LtWdyQis0WkTETKampqkrBrSiVPaNAW2ko6GvgqlfTWoO2VwOPGmGLgXOBJEYnZtjHmEWNMqTGmtLCwsJd2TanERA3ahmfpaOCr1JGMwN8FjIj4uTh4XaTrgecBjDELgHSgIAnbVqrXtEbV8APz8Ft1LR2VQpIR+IuBcSIySkRcBAZl57RrswM4DUBEjiAQ+FqzUSlFe/gq1XU78I0xXuAW4G1gHYHZOGtE5F4RuSDY7A7gRhFZATwDXGt0IXGVYlp9flzBnn2olq81fJVKHMm4E2PMXAKDsZHX/Tji8lrghGRsS6lDJXLQ1mmX8HVKpQo901apBLV6faQ5A28ZESHNYdMTr1RK0cBXKkFur580e9tbxqWBr1KMBr5SCYoctIXAyVc6aKtSiQa+UgmKPNMWAgO3WsNXqUQDX6kEtXra5uEDpDntWtJRKUUDX6kEWffw9cQrlTo08JVKgM9v8PkNLrs9fJ3LoSUdlVo08JVKQCjYo3r4OmirUowGvlIJCAV76IQrCJR0PF49YVylDg18pRLg8cX28J3aw1cpRgNfqQR4wj38yEFb0Rq+Sika+EolwOsLlG4iA99pt4UPBEqlAg18pRJgWcN3aOCr1KKBr1QCwjX8mB6+Dtqq1KGBr1QCQrNx2pd09ExblUo08JVKQKik44ialila0lEpRQNfqQTEL+lo4KvUoYGvVALC0zLbnWmrga9SiQa+UgmIPy3ToF/PrFKFBr5SCYg3LTPyNqX6Og18pRJgXcOX4G3aw1epQQNfqQRYL60QuOzRqZkqRWjgK5WA0Dz8yGmZoQFcHbhVqSIpgS8iZ4vIBhEpF5E747S5XETWisgaEfl3MrarVG9xx5mWGXmbUn2do7t3ICJ24EHgDKACWCwic4wxayPajAN+BJxgjKkVkcHd3a5Svamjko6umKlSRTJ6+DOBcmPMFmOMG3gWuLBdmxuBB40xtQDGmOokbFepXhOelumI7eHroK1KFckI/OHAzoifK4LXRRoPjBeRT0VkoYicnYTtKtVrOpqWqTV8lSq6XdLpwnbGAacAxcA8EZlijDkQ2UhEZgOzAUaOHNlLu6ZU58IlHVvstEyt4atUkYwe/i5gRMTPxcHrIlUAc4wxHmPMVmAjgQNAFGPMI8aYUmNMaWFhYRJ2Tank8Pj8OGyCzRb9nbagNXyVOpIR+IuBcSIySkRcwBXAnHZtXiHQu0dECgiUeLYkYdtK9QqPz0QN2IJOy1Spp9uBb4zxArcAbwPrgOeNMWtE5F4RuSDY7G1gn4isBT4EfmCM2dfdbSvVW9xef9QcfIg48UoDX6WIpNTwjTFzgbntrvtxxGUD3B78p1TK8fj8UXPwIWIevldn6ajUoGfaKpUAr0VJx+UIraWjPXyVGjTwlUqAx+fH6Ygu6Th10FalGA18pRLg9vljB221hq9SjAa+UgmwquHriVcq1WjgK5UAy2mZ4cXTdNBWpQYNfKUS4PHFn5apNXyVKjTwlUqA22tVw9dZOiq1aOArlQCv38TU8O02QUQDX6UODXylEuDx+aNWygQQEVx2my6eplKGBr5SCbAq6UCgju/RM21VitDAVyoBgROvYt8uTocNt893CPZIqa7TwFcqAR5fbA0fAgO32sNXqUIDX6kEhNbDb8/lsOmgrUoZGvhKJSBuSUcHbVUK0cBXKgFub+zSChActNXAVylCA1+pBHj9JmZaJgR7+HqmrUoRGvhKJcBjsVomBAdtdS0dlSI08JXqhDHGcvE0CAzaag1fpQoNfKU6EerBu+IM2moNX6UKDXylOhEKdMtpmVrDVylEA1+pToQC37qGrz18lTo08JXqRKhGbzUPP3DilQ7aqtSgga9UJ7yhGr5Oy1QpTgNfqU50VNJxOURLOiplJCXwReRsEdkgIuUicmcH7S4RESMipcnYrlK9obMavk7LVKmi24EvInbgQeAcYCJwpYhMtGiXA9wGfNbdbSrVm9zB1TDjDtpqSUeliGT08GcC5caYLcYYN/AscKFFu58B9wEtSdimUr0m1MN3OeKtlqmDtio1JCPwhwM7I36uCF4XJiIzgBHGmDc6uiMRmS0iZSJSVlNTk4RdU6r72ubhxy/pGKOhr/q+Hh+0FREb8Afgjs7aGmMeMcaUGmNKCwsLe3rXlEpIqEbvsJilE5q5o718lQqSEfi7gBERPxcHrwvJASYDH4nINuBYYI4O3KpUEQrztDhLKwTaaB1f9X3JCPzFwDgRGSUiLuAKYE7oRmNMnTGmwBhTYowpARYCFxhjypKwbaV6XGhQNt6gLWjgq9TQ7cA3xniBW4C3gXXA88aYNSJyr4hc0N37V+pQ63gefuA6nZqpUoEjGXdijJkLzG133Y/jtD0lGdtUqre4Owr8cA9fa/iq79MzbZXqRHh5ZKuSTnCqpi6voFKBBr5SnQiXdCzm4WsNX6USDXylOtFhDT94nfbwVSrQwFeqE+6OZuk4tIevUocGvlKd6Ggevg7aqlSiga9UJzpbLRO0pKNSgwa+Up3w+PzYBOwW32nrDC+toIGv+j4NfKU64fb5LXv3oCdeqdSiga9UJzxeYzkHHyJr+Br4qu/TwFeqEx6f3/ILzEFr+Cq1aOAr1QmPzx+u1ben0zJVKtHAV6oTHdXwQwcCt07LVClAA1+pTnh88Wv4aXZ7oI2WdFQK0MBXqhMebwc9fIdOy1SpQwNfqU4EBm3j1PB10FalEA18pTrRUQ3fYdMevkodGvhKdcLTQeCLCC6HTQdtVUrQwFeqEx0N2kLg5Cvt4atUoIGvVCc6mocPgamZGvgqFWjgK9UJdwezdCAwcKuDtioVaOAr1YmOllaAYOBrD1+lAA18pTrRWQ0/zWHTL0BRKUEDX6lOdF7Dt+mZtiolaOAr1YmOpmVC4GxbLemoVJCUwBeRs0Vkg4iUi8idFrffLiJrRWSliLwvIoclY7tK9YZEBm11lo5KBd0OfBGxAw8C5wATgStFZGK7ZsuAUmPMVOBF4Dfd3a5SvcXjM+FvtrLi0lk6KkUko4c/Eyg3xmwxxriBZ4ELIxsYYz40xjQFf1wIFCdhu0r1is5q+C6H9vBVakhG4A8Hdkb8XBG8Lp7rgTetbhCR2SJSJiJlNTU1Sdg1pbrH7zd4/SaBko7O0lF9X68O2orI14BS4LdWtxtjHjHGlBpjSgsLC3tz15Sy5PEHeu4dB75oSUelBEcS7mMXMCLi5+LgdVFE5HTgLuBkY0xrErarVI8L9dw7moevg7YqVSSjh78YGCcio0TEBVwBzIlsICLTgYeBC4wx1UnYplK9IjS/vrMavk7LVKmg24FvjPECtwBvA+uA540xa0TkXhG5INjst0A28IKILBeROXHuTqk+JdRz72hpBV0tU6WKZJR0MMbMBea2u+7HEZdPT8Z2lOptoZ67Lp6mvgj0TFulOpB4DV9n6ai+TwNfqQ54Eunh69IKKkVo4CvVAXcCg7ZpwRq+MdrLV32bBr5SHUhk0NZpt2EM+Pwa+Kpv08BX/Z7fb/DGKckkVMMPHgzilXV0Bo/qKzTwVb+292ArM3/5Pne+tMry9oRq+MHbPN7YHn6r18cJv/6A2U+UaclHHXIa+Kpf+8+SCvYebOXFJRX4LUoybdMyOz7xKrJtpJUVdVQ3tPLO2j1s2duYpL1W6vPRwFf92oaqhvDlzTUHY24PnWnb8fLIgYOBVelm8bb94cvrKxtibleqN2ngq35tfVUDQ/PSAVhbWR9ze6Lz8ANtYwN/XWUDg3PSsAls2KOBrw4tDXzVb/n8hvKag5xyeGBl1j31LTFtulLDtzrbdk9dCyUFWZQUZLGxSgNfHVoa+Krf2tfYitvr54ihuWS67FTVxS7i6k5wWmZk20hV9S0MyU1nZH4muw40J2nPlfp8NPBVv1VdHwj4wTnpDMlN76SH38GJV45QSSd60NcYEwj8vHSG5qVTWRd7/0r1pqQsnqZUKqpuCARwUW4aRbnpVFkFfmjQ9nPU8A80eXB7/RTlppPlcrD3YCutXh9pDnuy/gSlukR7+Krf2hPq4eemMyQvnSqLHnio197ZN15BbA0/dAAZkpseHhgOfapQ6lDQwFdfSM1uH3f+ZyWPzNsct00ofAuz0yjMSWNfY/wavqODkk68M233N7oBGJTtYkgw8OOVdepbPPzopVX84+MtcbejVHdpSUd9Ib22YjfPLt4JwHlThzF8QEZMmz0NLeRnuXA5bAzIdNLi8dPi8ZHubCu5tCZQ0nGFz7SNDvy6Zg8AeRlO7LbAAcOqbATw6rJdPLNoBwAXTBvG4Nz0hP5OpbpCe/jqC2nOit3hkH1zVaVlm+r6VgbnpAEwIMMFBOrukdxeP2kOGyKdn2nbftA2MvBD26lpsC7pzF1VFd7f11Za769S3aWBr1JOZV0zde2COZIxhtW767i8dAQj8zNZuqPWsl11Q0u4Jz0g0wlAbZM7qk2r19fhWbYQf9C2PiLw8zKcOO1iGfg+v2HZzlquOa6E4QMy4u5vyM79TRxs9XbYRikrGvgqpew60MwZf5jHsb96ny0WSyEA1Bxs5UCTh/FF2RwxNIf1cU54qq5vpSjUww8GfvsefqvX3+msmniDtnXNHuw2IdNlR0QozE6zDPwd+5to8fg5YmgO00bksbLiQNxtPbtoB7N+8yHXP77Ycu0fpTqiga/6jM01B1mweV+Hq0o+/N/NHGz10uzx8fj8bZZtNu0JHAjGF+UwYUgu2/Y20uLxRbXx+Q01B1sZnNu+pBPdww+VdDriinPiVV2zh7wMZ7gcVJiTRs3B2MBfH1zS4YihuUwZPoCd+5tj9iO0z3/5sByAz7bu5+PyvXH3qcXj463VVfpJQEXRwFc9rtXro7zaujcesn1fIxc9+ClX/n0h/4oT5H6/4Z01ezh70hDOmzqUN1dXWR4cNgbXrBlXlM3hQ3Lwm9iF0fY3uvH5DUXBks7ArGAPv9mqh99J4DusSzqhwA8pzEm37OFv3HMQERg7OJvDh2QDWD5eG6oaqKht5pcXTyHTZeftNVWW+2OM4cYnyrjpqSVc+89FHX4S8Pj8bNI1fvoNDXz1ue1vdPPysoq4A5EQmB558YPzOf0P/+WXc9fFbffIvC00tnoZlpfOAx+U0+r1xbTZsKeBqvoWTp9YxIljC6hpaLVccnjjnoMMyHRSmJ3GyPxMIFD3jhQ66aqzQdtWTzdq+C1ecqMC37qkU1HbRFFOOulOO2MLcwDrlTtX76oD4LgxgzhpXCEfra+23J/F22r5eNNeigdmULa9lv9uqrFs1+LxccFfPuWMP87r8LkJbfut1VVxvyhGpQYN/C8Ir89vGZKRPD4/c1dVsnDLvg7bfbB+Dxc9+Cn3zFkT99uaGlo8XPTgp3z/uRV8+c+fWJYgAP756VbWVtYzqiCLv3+8hfVVsStSur1+Xl2+m4unF/Pziyezv9HN/M2x+7hke2Awc2ZJPseMygfgsy37Y9pt2tPA+ME5iAgjBwUCf0dM4Afn4OcEevgZLjsuhy22pOPrvIcfb/G0umYPueltM59Dc/3bh2ZFbTPFAwPTRocPzMDlsFn28FfuOkBOmoPD8jM5dnQ+u+taLNfneXdtFS67jTdunUVBdhovllVY7vdjn25jXcRzs2Z3nWW7jzfVcP6fP+Gmp5bwozhfFAOBg+p1jy3i2scWUVHbFLed2+tnzordLNke+9y11+z26RfHJFFSAl9EzhaRDSJSLiJ3WtyeJiLPBW//TERKkrHdZGls9cbUeNvz+w2rd9VZrrcSaU99C/9ZUtHhx2RjDG+truTnr6+NWi+9vQNNbn744gouf3gB767dE7fdhxuqmfGzdznyp+/yQtnOuNv89lNLufnppVzxyMK4JyRtrjnITU8tZUvNQR6fv40/vbfJst3D/93CztomfnDW4dQcbOXBYG05kt9v+PdnO5g1roCXbz4ep93GM5/tiGlXtn0/B1u9nDWpiOPHFJDlsvPOmti/d+mOWgqyXYzIz2BUQRZ5GU5W7Yoe4DTGsHFPA+OKAqWR3HQnAzKdMYFfE15HJy18XW66k/qW6Jp3q6cLg7btpmXWx5R00jCm7YSskJ21TeHAt9uE0QVZbK6J/eSyqqKOycPzsNmE0pLAAa/M4vXzSfk+jjpsIHkZTk6bMJh5m2piDtzGGF5YspNjRuXzyndOIM1h49lFsa8dv9/wk1fXMLogiyuOHsELSypYZjGLyOvz8+2nlzB/8z7mb97H7CeWWH7Hr9fn59rHFnHrM8u45KEFPP3Z9pg2EBiv+J8XVnDEj9/ivAc+ibvwnNfn54/vbuQrf/2UR+Ztjntw8PkNzy/eyS/nrov6DoT2jDHM21jD3FWVHWZC6HW2Y1/8A1tIXZOnz3zNZbcDX0TswIPAOcBE4EoRmdiu2fVArTFmLPBH4L7ubrczry7fxYn3fcDUe97mV3PXWX4U9fr83DNnDVN/+g5T7nmb+9/baPmCqa5v4aK/fsr5f/6EE379AY9+stVym/PL9/Kl333EHS+s4Kz758V9MT+5cDs3PbWUf3yylcsfXsBrK3bHtPH7Dd99ZhkvLd3FrtpmvvVkGR9tiP0IX13fwm3PLGPYgAwmDcvlzpdWWb4h56zYzXvr9vC908dx5sQi7ntrA9ssyiH3v7cJh014/45TuPDIYfzjky0xAdXi8fH0Z9s5/YgivnPqWM6eNIQXllTEvEHKttey60Azl8woZkCmizMnFjFnxe6Y5+KjDTU47cIJYwtId9o5bkwB8zfHDkgu23GA6SMHIiKICFOL81ixM7pXWt3QSn2Ll/FFOeHrRuZnsmN/c7t2gQN3YWTgZziob2lfw++8pCMiOO3SeQ0/Oy28jyFen5/KuhaKB2aGrxszODumh+/2+llX2cDU4jwgMMCbneaI6TDUNLSyrrKeE8cVAHDqhEIaWrws3R79mlhbWc+WmkYuOHIYeRlOzpg4hNdW7o75lLJgyz627G3ku6eN5e7zJ5KT5uCxT7fFPAZvrq5i9a56fnvZNH532TTWVtbz+srY1/W/F+1g/uZ9/N+5Ezh5fCH3vraW7ftiX4d//mATLy6p4KIjh7FzfxM3P7XE8j388zfW8af3N3GgycMv567nj+9ujGkD8Is31vHD/6zkkXlbuOAvn1h+yjXG8P3nlvONfy7i5qeXctGDn7LXYpDd7fUz+8klnPnHeZz02w+5+5VVlge3umYP1z22iGn3vsPRv3iPORbvcwhMM77usUVM+H9vcvnfFnR4QOquZPTwZwLlxpgtxhg38CxwYbs2FwL/Cl5+EThNOjqTpZse/WQrtz27nEHZacwaV8jD87Zw27PLo96Qfr/hhy+u5PH527i8tJgzJw3h/vc2cd9bG6JC/2Crl2sfW0x59UF+ftFkTp0wmJ+9vpbnFkf3VLftbeSmp5YwfGAG//n28Zw8vpC7X1nNp+1mUpRt28+9r63ltAmDWXnPmRx9WD4/eHFFeKAx5PH52/h4017uuWAS795+EuOLcvjBiyupbRe+97y2hhavn79ePYPHrjuawuw07n5lddQLsLHVyy/eWMe04jxu/dI4fn7xZJx24f73ot8cG6oaeH3lbq49voTCnDRuOXUsLR4/TyzYFtXu1eW7qG3ycN0JJQBcdcxIDjR5eHN1ZUy7DKedMyYWAXD+1KHUNnlY1C6kPtpQzTGjBpGVFih/HDdmENv3NbE7ole3v9HN1r2NzBg5MHzdlOF5bNzTEHWgiRywDRmRnxlTw69paCU33RF1Vm1OupOGdj38REo6EJipE3mmrTHGsocPRM3Uqapvwec3jMhvOxN4bGE2O2ubYv4ut8/P5OGBwLfbhBmHDaRsW3SQhw6UJ44NBP4JYwtw2IQPN0TX8V9bUYndJpwzeSgAF08fxoEmD//dGN3u35/tYECmk3MmDyU7zcFlpSOYu6oyat0hYwwPz9vM6IIszp8ylPOnDGXCkBz+9N6mqJBu8fj4ywflzByVz42zRvObS6ditwm/eXtD1DYrapt46KPNfHnaMO6/Yjq/umQKKyrq+NeC6A7Ugs37eHz+Nq49voT37ziZy0uL+fOH5THvubfXVPHPT7fyjeMOY/Fdp1M8MIObn14a9foC+OtHm3ll+W5uOXUsD109g237Gpn9RFnU82CM4c7/rOTdtXu4/YzxXHdCCU8t3MFPX1sTlRtNbi/XP76YT8r38p1TxzCmMJvbnl3Gq8t3xfytlz+8gEVb9/OVGcVs2dvI5Q8v6HBqbnckI/CHA5GfBSuC11m2McZ4gTpgUPs7EpHZIlImImU1NdYDTZ0prz7IL95YG+h1fus4Hrx6BnedewRvrKrke88ux+vz4/cb/u/lVby0bBc/OOtwfvWVqfzlyulcfcxI/vbfzTwyL7CeSavXx7efWsKGPQ389eoZfO3Yw3jwqhnMGlfA/728mvnBF1Zjq5dvPbkEm0149JqjOeqwgfzlqhmMDT7JoTdHdUMLNz+9lOKBGfzhq0eSm+7kL1dPJzvNyc1PL6XJHQibdZX1/PrN9Zx+xGCuPmYkmS4Hv798GrWNbn4yZ034b31nTRVzV1Vx22njGF2YTU66k7vPP4I1u+t5amHbm+OReVuobmjlJxdMwmYTBuekc83xJby6YndUTf2BDzaR6bRz46zRAIwryuH0Iwbzr/nbwvtmjOGxT7cxYUgOx40OPIXHjR5EyaBM/h1RrnF7/byxqpIzJhaFg/yk8YWkO228tbptdsmuA81s3NP2JSSh+4PAGzok9KllxsgB4eumFufh9RvWRXxT1caIKZkhI/MzqahtijoIVje0RvXuAXLTHeGTpUJaPX7SnJ2/TZwOW1SHosntw+s3UYFvdbbtzuAnj/Y9fGNga8QnsFXBAdtQDx/g6MMGsmFPQ9RJaJ9s2ktehjN8YMhJd3J0ST4frG8rkRljeGPVbk4YW0B+VmCweta4QgZluXhpaVu9v6ahlbfXVHHJjOLwgfHa40vwGRP16fXT8n2s3lXP7JNGY7MJNpvwvdPHs2VvI69HnDX81MLtVDe0cscZ4xERinLTuWHWaN5YWcnynW0B96s31yMCPzpnAgDnTRnKyeML+eO7G8Ml1RaPj/97eRUj8zP537MnICL89ILJjC7I4vbnl4c/le7c38QPXljBlOF53HXeERTmpPHw10txe/3c/PTS8LjXB+v38Lt3NnDBtGHcceZ4zpkylD9cfiRLdxzgf/+zMhzmf3x3Iy8t28UdZ4zn1tPG8ZMvT2L2SaN5YsF2/vJBoKzZ6vXxrSeXsHRHLfd/dTo/OGsCT99wDDNL8rn9+RXMDZ75vetAM1f+fSEHmjw8feOx/PLiKbx88/HkpDu4/fkVlp8auqtPDdoaYx4xxpQaY0oLCws7/wULYwdn8/QNx/Lnq6aHP4rfeNJo7j4vEPqX/m0BV/1jIc8u3sl3vzSWm08ZAwQ+lt974WTOmzqUX725nh+9tB83/KcAABgNSURBVIpr/rmIjzft5ddfmcIphw8GAlPwHrx6BqMLsrjpqSU8tXA71z2+mE3VDfz5yumMCM4KyUpz8NDXZtDk9jH7yTKWbN/Pjf8qo6HFy9++flQ4CAbnpPOnK45kc81B7n5lNfsb3Xz3mWXkZTq575Kp4Tnck4blcetp45izYjdvrqpkf6ObH7+6hglDcph90ujw33/elKGcOLaA372zgZqGVqrrW3hk3hbOmzo0qnf87ZPHkJPm4NdvrgcCA51zV1VyzfElDAyGAMBNJ4+htskTru8u3LKf9VUNXHdCSXjfbDbhipkjWbytlvLqQA973sYaDjR5uGj6sPB9ZbocnDy+kLfXVIWnCobKVKHHF2DCkBwGZjqjBm6X7qjFYROmFkcGfuByKAxDf0d+louC7LYwH5mficdnotaxqWloZXBO9Ho1uelOGmJKOv4O19EJcdptUfPwQ8sqtJ+lE9p2SGhwM1TDh0APH6Jn6qysqCM33RGedQRQWpKPMYTPzDXG8Gn5Xo4fMyi8TAPA6ROL2LjnYLiEt2Z3PTv3N3Pu5CFR+3/BkcN4f111eOD6P0sr8PoNV84cEW43clAmp00o4t+f7Qj3fB/6bzmDc9K4aHpbP+/MiUVMGJLDnz/YhM9vaGjx8NBHm5k1roBjRrf19WafNJqCbBe/mrsOYwzzN+/ljZWV3HTyGIYF1z8KhPkk3MESrDGG37+zga17G/nFxZPJcAUORhkuOw9cOZ3aRg8/fHEldc0ebn56KcbAg1fNCI/FjB2czW8vncrynQe46+XVvLd2D7c9s5yJQ3Oj3nPnThnK/5w5nleX7+b/vbqaX81dxwMflPPV0hHc8qWx4b/hzrMncPH04fz+3Y3838ur+PqjodyYynlTA5+g0p12Hr32aKaPGMB3n1nGbc8u4+IHP+VAk4enrj+GI0cEXssj8jN57lvH8fDXj4p6DpMlGYG/CxgR8XNx8DrLNiLiAPKAjqeKdMNxYwbFLGd7w6zR/P6yaRxocrNzfzP3fHkitwd7GiF2m/CHy6dx1TEjeaFsJ2t21fObS6dyWemIqPvKTXfy2HVHM2xABne/sprVu+r441ePZNa46IPU2ME5PHDFdNZXNXDJQwtYVxU4KEwYkhvV7oSxBXz3S+N4aekuZvzsXXbsa+KBK6YzKDu6B/rtU8YwZXged7wQmBmzv8nNby+dFvW3igg/vXASLR4f3/n3Um58cgk+Y/jBmYdH3deATBe3fGksH20IDFD9/I11pDvs3DBrdFS70pJ8Zpbk8/ePt+D2+nn0ky0MzHRy4ZHRH+IuPaoYp114JnhgeK5sJ4OyXDGPydmTh7CnvpXlwY+sH6yrpnhgBmMKs8JtbDbhmFGDWLil7SSsZTsOcMTQ3PCbG2BoXjoF2S5WVrQF/sY9DYwb3FbOAcIhGTnAZtnDz3DEDNq6EzjTFgIlHbe3rUcWuY5OSLrTTk66o13gNyMCQ/PaAn90YRYi0XPxV+06wJTivKjX65EjBuCwSbiOv2VvI7vrWsL1+5AzgyW10MD/W6ursAnhUlvIpUcV4/b5eW3FbowxPLtoBzNL8hk7OCeq3TdPKGFfo5tXlu1ixc4DfFq+jxtmjYoqj9lswi1fGsvmmkaeWLCNX85dz/4mN//T7nWYnebge6eP57Ot+7nj+RV8/7nllAzK5FsnjYlqV1KQxfdPH8+bq6s46/55/P3jrXzt2JExr69Jw/L44dmH8966PUz76Tusrazn/iuODM/WCjlnylC+c+oYXlxSwQ1PlDEo28Xfv1Ea9foC+M6pY/nGcYfx1MIdPDxvC5fMCMwki3webDbhN5dO5aulI3hm0Q42VDXwu8umcfnR0bmRnebgseuO5ivThzNvYw0lg7J4bvZxTBsxIKrd8AEZjCmMfg0nSzJWy1wMjBORUQSC/QrgqnZt5gDXAAuAS4EPzCGYa3XJUcVcclRxh23SHHZ+efEU/t95E3HaBUec3l3xwEzeuHUW66vqGZaXEdUrjnT6xCLev/1kFm3dz8xR+eFPAO1977RxjMzPZO3uer4yY3j4I3kkp93Gw18/invmrGHvwVbuu2QqU4pj240pzOZnF07m7ldW47Tb+P1l0ygpyIpp943jSnh52W5ufnopAPdeOCn8ET/Sd08by9cfXcR5D3zMpuqD3HHG+Kg3N0BBdhpnThzCC2U7OWvSEN5ft4dvnTwm5sD7pQlFOGzCW6urGFOQzbxNNVxzXEnM4mTHjx3EW2uq2Lm/maED0lmx8wCXtnvuRIQpw/NYFQx8Ywyb9hyM6mkCUXPxjxszCGNMsIcfHfg5lj18X0IlHVe7kk69ReBD7Fz8itpmhuamRw0MpzvtFA/MCM/UafX62FDVwPUnRh+MM1x2Jg/PCwd+qHYdqt+HjMjP5IihubyztoobZo3izdWVHDNqUEyHYtKwPI4YmssTC7ZTkJ3Gtn1N3HrauJi/9bgxg5g2YgA/f2Md2WkO8rNcXHXMYTHtzp08lFMOr+Cnr60F4MZZo2LCDeDqY0aytrKef3+2gyG56Tz0taNighfgppNHYzC8vqKSb508OubgEXL9iaMozElj+c4DfHnasKhPtpF+cNYETjl8MFV1LZx2xGAyXbFxGPrkf8OJgW0fNij2fQSB9+Z9l07lngsmdZgbOelOfnvZNMvbekO3A98Y4xWRW4C3ATvwT2PMGhG5FygzxswBHgWeFJFyYD+Bg0KfZvWCa89uEyYNiw3c9kbkZ8YN+hCbTQKBdlTH9zVsQAaPfKO0021eMXMk5wY/TuamOy3bpDvtPHPjMbxQVkFJQVZMjy9k1rhCbj9jPA99tJlzJg/hplPGWLa79bRxvL2missfXkBehpPrTxwV0yYvw8kphxfyQtlOMpx2PD4T82kB2ur48zfvpaQgi0a3j+PbBRnAlOIB/HfjJprcXuqaPTS0ehlfFN07GpqXjt0m4amZoaUZ2vfwc9IctHj8uL3+cAAnXtKJnqVj1cMHYtbTCUzJjH1tjClsm6mzoaoBj89E1e9Dji4ZyL/mb6fF42Pexr2MyM+wDKWzJhXxp/c38din29hc0xgep2nvttPGcdNTS/j200sZX5TN+VOHxbQREf54+TRmP7mEumYPD141g+y02Cix2YS/fe0onlu8k5x0BxdZPM+h+/vlxVP43unjGJDhijsrSkS4+ZSx3HzKWMvbI9tdeORwy9dVe0cHp7d2pv0nhHgSyY1DKSnr4Rtj5gJz213344jLLcBlydiWSly8oI80INPFjSdZv/kj3XraOMveXqTDh+Twj2tKeWNlJVcfe1hUHT3Sd04dy8V/nc+f3t/ESeMLLT+ljB2czYj8DF5fWcmEITk4bMLxY2LG+Zk6PA+/gbW768Mhe3i7kpnDbmP4gIxw4IemRYbW0QkJ1dsbWjzh3q/bm+Cgrd1mGfjtn4PCnDTW7G4bZN5V2xw+iSzS4UU5zC/fh9vrD5esplh86istyefvH2/low3VzNtYw1XHjLTcv68fexiPfryVe19fy/ABGVw8wzoMz5pUxK+/MoVVu+q46eQxccN3dGE2791+suVtkdKddq45vqTTdkDMmIpKPv0CFJVUpxw+OGoA1sr0kQN5+OtHsWjrfr4d59OCiHDJjGLuf28Tn5Tv5dwpQ8ixOICFDhYrK+qobXJjtwmTh+fGtAvMxQ8EfqiHXZgdHTA5wbNiG1q8DMpOw+vz4/UbXPbOe21Ouy38ZSlAeCygo5KOx+ensq45asA2ZNqIAbh9ftZV1rN0ey35WS7LdrPGFTAg08lNTwXKcpfMsC5ZDspO44nrZ/LCkgpunDU67riESGAAvs9/BFefiwa+OiTOmjSEsyYN6bDNN08cxRsrKznQ7OH7p4+3bFOUm05RbhqrdtWx92Ar44tyLGuxI/IzeSe42FjcHn7wgBI6+So06yahGr7duoafnR69L4Nz0jnY6qXJ7WVvgxu/gWKLcl+o1r1sRy3zN+/juDGDLL+EJdPl4H/PnsBPXl3D5UcXW35aCpk+ciDT49SzVf+gga/6rNx0J2/cOgubEHcQDALTM99YVYnb67ccNwAYkZ/BvkY3B1u9VAenZxZmtx+0bevhQ9vaOAmdeOWw0Rxxgk59i4ecNEfM1LrQuEF1fWv4xJ9ii69fHJaXzqiCLH7z9gaa3D7LclbIlTNHctGRw0lP4MCk+jd9hag+zeWwdRj2AFfOHBEO5/YzeUIiZ+rs3N9Edpoj/KUnIaEafqh33uIJBX4C0zIdtqgzMhtavOEDSKRQWWZnbVN4pU+rGVQigUH8JrePTJedL0+LHTyNlBH8khWlOqI9fJXyTj18MD8+fyIjg9MPrYTn4u9vYuu+JkoKMmMCsn0PP3R2cWYCMy8yXPboHn6zJ+qkq5BRwXDftreRLXsbyXTZGRLnC8tvnDU6sGTy4OyEBuCV6owGvkp5IsI345RyQiJ7+Nv3NVqe5xDu4Qdr+KEAb3/OgZUMp50Wd+c9/ME5aaQ7bWzb18TmmkZGF2Zhi3NGpcthi1uiUurz0JKO6hfyMpzkpDvYtOcgFbXNjLKYq57tciDSNsOmORjgifTwM112mtrV8K165SJCyaAstu5tZNOehh47o1IpKxr4ql8QEY4cMYDnynbi8xsmDYst/dhsQnZa2wJqoR5+IifTZDjt4QMExO/hQ+CM1g/WV1NZ18JRh+msGdV7NPBVvzErYo2ZE8bFnrULoQXUonv4GQmUdNKddlq9/vCicPUt1jV8gJMjVgZtvwyCUj1Ja/iq37ho+nDeX1fNmA4GQXPSHTE1/ER6+KGyT7MnMKumocUbdxunHF7I1OI8phUPCA/iKtUbNPBVvzE4J53nvnVch20il0juSg8/IyLwIfCVevFKOrnpTubccmLC+61UsmhJR6kIOekO6ptD0zK7VtKBwEEi9AkhXklHqUNFA1+pCLkZThpau1fSCY0BxOvhK3Wo6CtSqQiRPfwWjw+RxJZWyIjo4YfW1NGTpVRfo4GvVITcdCcHW70YYwLLGjgTW7Ig9Cmgye0LL7GgPXzV12hJR6kIOekOfP5A2Dd7fAl/oUWoh9/i0Rq+6rs08JWKELm8QrPbl9CyChDdww+duKU9fNXXaOArFSFyAbXm4EqVich0Bn6v2eMLL82gNXzV12jgKxUh/CUozR4Otnotv0zFSlZa4MBwsMVDfYsHl92W8KcDpXqLBr5SESJ7+HXNnpg18+MJlYLqmr2Bs2wztJyj+h4NfKUitAW3hwPNbgYkOPDqtNvITnNwoNlNfbPH8vt3lTrUNPCVipCf6QJgX6ObuiZPzJeQdyQvw0lds4d9B93kZ7l6aheV+tw08JWKkJfhxGkXqhtaqG/xkpeZeHDnZTipa/Kw92BrzPflKtUXaOArFcFmEwZlpbGlJvB9s13p4Q/IDPTw9x5spSBHe/iq7+lW4ItIvoi8KyKbgv/HfJuDiBwpIgtEZI2IrBSRr3Znm0r1tMKcNDZXHwS6Fvh5GU72HmyltslDgfbwVR/U3R7+ncD7xphxwPvBn9trAr5hjJkEnA3cLyIDurldpXpMQbaLLXsDPfxEB20h0MPftq8peB8a+Krv6W7gXwj8K3j5X8BF7RsYYzYaYzYFL+8GqoHC9u2U6isiwzovwWmZEL2UQmGOBr7qe7ob+EXGmMrg5SqgqKPGIjITcAGb49w+W0TKRKSspqamm7um1OczJC89fLl4YEbCv1c8oK1tUW56By2VOjQ6PTtERN4DhljcdFfkD8YYIyKmg/sZCjwJXGOM8Vu1McY8AjwCUFpaGve+lOpJM0a2DUUN6UJwTxvRVqk8YmhOUvdJqWToNPCNMafHu01E9ojIUGNMZTDQq+O0ywXeAO4yxiz83HurVC8oLWkL/ESWRg6ZMCQ3fDnNocsqqL6nu+d/zwGuAX4d/P/V9g1ExAW8DDxhjHmxm9tTqsflpDv5yZcnMnl4Xpd+z+Ww8bOLJjOmUL+YXPVNYsznr5yIyCDgeWAksB243BizX0RKgZuMMTeIyNeAx4A1Eb96rTFmeUf3XVpaasrKyj73vimlVH8kIkuMMaWWt3Un8HuSBr5SSnVdR4GvZ9oqpVQ/oYGvlFL9hAa+Ukr1Exr4SinVT2jgK6VUP6GBr5RS/YQGvlJK9RN9dh6+iNQQOJnr8yoA9iZpd5JJ96trdL+6Rvera76I+3WYMcZyReI+G/jdJSJl8U4+OJR0v7pG96trdL+6pr/tl5Z0lFKqn9DAV0qpfuKLHPiPHOodiEP3q2t0v7pG96tr+tV+fWFr+EoppaJ9kXv4SimlImjgK6VUP5HSgS8il4nIGhHxB790JfK2H4lIuYhsEJGz4vz+KBH5LNjuueC3cyV7H58TkeXBf9tExPKLX4K3rQq26/EvAhCRe0RkV8S+nRun3dnBx7BcRO7shf36rYisF5GVIvKyiAyI065XHq/O/n4RSQs+x+XB11JJT+1LxDZHiMiHIrI2+Pq/zaLNKSJSF/H8/rin9yu43Q6fFwl4IPh4rRSRGb2wT4dHPA7LRaReRL7Xrk2vPF4i8k8RqRaR1RHX5YvIuyKyKfj/wDi/e02wzSYRueZz7YAxJmX/AUcAhwMfAaUR108EVgBpwChgM2C3+P3ngSuCl/8GfLuH9/f3wI/j3LYNKOjFx+4e4H86aWMPPnajAVfwMZ3Yw/t1JuAIXr4PuO9QPV6J/P3AzcDfgpevAJ7rheduKDAjeDkH2GixX6cAr/fW6ynR5wU4F3gTEOBY4LNe3j87UEXg5KRef7yAk4AZwOqI634D3Bm8fKfVax7IB7YE/x8YvDywq9tP6R6+MWadMWaDxU0XAs8aY1qNMVuBcmBmZAMJfDv1l4DQ9+z+C7iop/Y1uL3LgWd6ahs9YCZQbozZYoxxA88SeGx7jDHmHWOMN/jjQqC4J7fXiUT+/gsJvHYg8Fo6TbryzeefgzGm0hizNHi5AVgHDO/JbSbRhQS+39oYYxYCA0RkaC9u/zRgszGmO2fxf27GmHnA/nZXR76G4uXQWcC7xpj9xpha4F3g7K5uP6UDvwPDgZ0RP1cQ+4YYBByICBerNsk0C9hjjNkU53YDvCMiS0Rkdg/uR6Rbgh+r/xnnY2Qij2NP+iaB3qCV3ni8Evn7w22Cr6U6Aq+tXhEsIU0HPrO4+TgRWSEib4rIpF7apc6el0P9mrqC+J2uQ/F4ARQZYyqDl6uAIos2SXncHF3ft94lIu8BQyxuussY82pv74+VBPfxSjru3Z9ojNklIoOBd0VkfbA30CP7BTwE/IzAG/RnBMpN3+zO9pKxX6HHS0TuArzA03HuJumPV6oRkWzgP8D3jDH17W5eSqBscTA4PvMKMK4XdqvPPi/BMboLgB9Z3HyoHq8oxhgjIj02V77PB74x5vTP8Wu7gBERPxcHr4u0j8DHSUewZ2bVJin7KCIO4CvAUR3cx67g/9Ui8jKBckK33iiJPnYi8nfgdYubEnkck75fInItcD5wmgkWMC3uI+mPl4VE/v5Qm4rg85xH4LXVo0TESSDsnzbGvNT+9sgDgDFmroj8VUQKjDE9ulBYAs9Lj7ymEnQOsNQYs6f9DYfq8QraIyJDjTGVwfJWtUWbXQTGGUKKCYxddskXtaQzB7giOINiFIEj9aLIBsEg+RC4NHjVNUBPfWI4HVhvjKmwulFEskQkJ3SZwMDlaqu2ydKubnpxnO0tBsZJYDaTi8DH4Tk9vF9nAz8ELjDGNMVp01uPVyJ//xwCrx0IvJY+iHeQSpbgGMGjwDpjzB/itBkSGksQkZkE3us9eiBK8HmZA3wjOFvnWKAuopzR0+J+yj4Uj1eEyNdQvBx6GzhTRAYGy69nBq/rmp4ele7JfwSCqgJoBfYAb0fcdheBGRYbgHMirp8LDAteHk3gQFAOvACk9dB+Pg7c1O66YcDciP1YEfy3hkBpo6cfuyeBVcDK4AtuaPv9Cv58LoFZIJt7ab/KCdQqlwf//a39fvXm42X19wP3EjggAaQHXzvlwdfS6F54jE4kUIpbGfE4nQvcFHqdAbcEH5sVBAa/j++F/bJ8XtrtlwAPBh/PVUTMruvhfcsiEOB5Edf1+uNF4IBTCXiC2XU9gTGf94FNwHtAfrBtKfCPiN/9ZvB1Vg5c93m2r0srKKVUP/FFLekopZRqRwNfKaX6CQ18pZTqJzTwlVKqn9DAV0qpfkIDXyml+gkNfKWU6if+P8Q56q/gVz2rAAAAAElFTkSuQmCC\n",
                  "text/plain": "<Figure size 432x288 with 1 Axes>"
                },
                "metadata": {
                  "needs_background": "light"
                }
              }
            ],
            "_view_module": "@jupyter-widgets/output",
            "_model_module_version": "1.0.0",
            "_view_count": null,
            "_view_module_version": "1.0.0",
            "layout": "IPY_MODEL_aeaa3d0ce46845f6ac3c25527b995a99",
            "_model_module": "@jupyter-widgets/output"
          }
        },
        "16e722755da647409712cf5a5be33e05": {
          "model_module": "@jupyter-widgets/controls",
          "model_name": "SliderStyleModel",
          "model_module_version": "1.5.0",
          "state": {
            "_view_name": "StyleView",
            "handle_color": null,
            "_model_name": "SliderStyleModel",
            "description_width": "",
            "_view_module": "@jupyter-widgets/base",
            "_model_module_version": "1.5.0",
            "_view_count": null,
            "_view_module_version": "1.2.0",
            "_model_module": "@jupyter-widgets/controls"
          }
        },
        "d18f19b0cfc3418a81d5864bcba247b2": {
          "model_module": "@jupyter-widgets/base",
          "model_name": "LayoutModel",
          "model_module_version": "1.2.0",
          "state": {
            "_view_name": "LayoutView",
            "grid_template_rows": null,
            "right": null,
            "justify_content": null,
            "_view_module": "@jupyter-widgets/base",
            "overflow": null,
            "_model_module_version": "1.2.0",
            "_view_count": null,
            "flex_flow": null,
            "width": null,
            "min_width": null,
            "border": null,
            "align_items": null,
            "bottom": null,
            "_model_module": "@jupyter-widgets/base",
            "top": null,
            "grid_column": null,
            "overflow_y": null,
            "overflow_x": null,
            "grid_auto_flow": null,
            "grid_area": null,
            "grid_template_columns": null,
            "flex": null,
            "_model_name": "LayoutModel",
            "justify_items": null,
            "grid_row": null,
            "max_height": null,
            "align_content": null,
            "visibility": null,
            "align_self": null,
            "height": null,
            "min_height": null,
            "padding": null,
            "grid_auto_rows": null,
            "grid_gap": null,
            "max_width": null,
            "order": null,
            "_view_module_version": "1.2.0",
            "grid_template_areas": null,
            "object_position": null,
            "object_fit": null,
            "grid_auto_columns": null,
            "margin": null,
            "display": null,
            "left": null
          }
        },
        "aeaa3d0ce46845f6ac3c25527b995a99": {
          "model_module": "@jupyter-widgets/base",
          "model_name": "LayoutModel",
          "model_module_version": "1.2.0",
          "state": {
            "_view_name": "LayoutView",
            "grid_template_rows": null,
            "right": null,
            "justify_content": null,
            "_view_module": "@jupyter-widgets/base",
            "overflow": null,
            "_model_module_version": "1.2.0",
            "_view_count": null,
            "flex_flow": null,
            "width": null,
            "min_width": null,
            "border": null,
            "align_items": null,
            "bottom": null,
            "_model_module": "@jupyter-widgets/base",
            "top": null,
            "grid_column": null,
            "overflow_y": null,
            "overflow_x": null,
            "grid_auto_flow": null,
            "grid_area": null,
            "grid_template_columns": null,
            "flex": null,
            "_model_name": "LayoutModel",
            "justify_items": null,
            "grid_row": null,
            "max_height": null,
            "align_content": null,
            "visibility": null,
            "align_self": null,
            "height": null,
            "min_height": null,
            "padding": null,
            "grid_auto_rows": null,
            "grid_gap": null,
            "max_width": null,
            "order": null,
            "_view_module_version": "1.2.0",
            "grid_template_areas": null,
            "object_position": null,
            "object_fit": null,
            "grid_auto_columns": null,
            "margin": null,
            "display": null,
            "left": null
          }
        }
      }
    }
  },
  "cells": [
    {
      "cell_type": "markdown",
      "metadata": {
        "id": "view-in-github",
        "colab_type": "text"
      },
      "source": [
        "<a href=\"https://colab.research.google.com/github/TienLungSun/Python/blob/main/IE118%20week13.ipynb\" target=\"_parent\"><img src=\"https://colab.research.google.com/assets/colab-badge.svg\" alt=\"Open In Colab\"/></a>"
      ]
    },
    {
      "cell_type": "markdown",
      "metadata": {
        "id": "zdtnjov8kvzo"
      },
      "source": [
        "p.1-91 interact"
      ]
    },
    {
      "cell_type": "code",
      "metadata": {
        "id": "RkwxN3XCkckc"
      },
      "source": [
        "from ipywidgets import interact"
      ],
      "execution_count": 1,
      "outputs": []
    },
    {
      "cell_type": "code",
      "source": [
        "def f(x):\n",
        "  print(x)"
      ],
      "metadata": {
        "id": "xJZ5W2wJXwoY"
      },
      "execution_count": 2,
      "outputs": []
    },
    {
      "cell_type": "code",
      "source": [
        "interact(f, x = \"你的姓名=\");"
      ],
      "metadata": {
        "id": "tkn02TzHtMrH",
        "colab": {
          "base_uri": "https://localhost:8080/",
          "height": 68,
          "referenced_widgets": [
            "ed312a5c98e64133a8c9d0d3be9e187e",
            "dd83399a776b49b88d43ccb2fcd68c05",
            "ec6b508a1703440c90ad6dcac4753e0f",
            "097acf22d74f42068630d0bc2a8ecde3",
            "1ebca29805084075b478605d3579896f",
            "6a76614ce7ce4bd589ccfe7cd74aaf3f",
            "ca0cf189274c4c0898d729422d041399"
          ]
        },
        "outputId": "21a4fd2c-9956-44ff-d0b7-0d6f6c55b530"
      },
      "execution_count": 6,
      "outputs": [
        {
          "output_type": "display_data",
          "data": {
            "application/vnd.jupyter.widget-view+json": {
              "model_id": "ed312a5c98e64133a8c9d0d3be9e187e",
              "version_minor": 0,
              "version_major": 2
            },
            "text/plain": [
              "interactive(children=(Text(value='你的姓名=', description='x'), Output()), _dom_classes=('widget-interact',))"
            ]
          },
          "metadata": {}
        }
      ]
    },
    {
      "cell_type": "code",
      "source": [
        "interact(f, x = [\"python\", \"C#\", \"Java\"]);"
      ],
      "metadata": {
        "id": "-3UK3LGytRbh",
        "outputId": "2631a5d2-395d-4ef8-fb03-0e71342deed9",
        "colab": {
          "base_uri": "https://localhost:8080/",
          "height": 66,
          "referenced_widgets": [
            "07c6f2e70aac40e3aef6e2ba68d9106a",
            "fe044b7d1123478db4c11ef7c8a8937e",
            "eb0a609128b74fc59af1990d38728447",
            "71716d11365145a7a6df6f11228e6b04",
            "46edeebdb4f646328b8fc620385e1a3f",
            "21ff048242a942d1951c0248b82d7c50",
            "8fa16420e3ae4eb3a76715c0bd8db147"
          ]
        }
      },
      "execution_count": 7,
      "outputs": [
        {
          "output_type": "display_data",
          "data": {
            "application/vnd.jupyter.widget-view+json": {
              "model_id": "07c6f2e70aac40e3aef6e2ba68d9106a",
              "version_minor": 0,
              "version_major": 2
            },
            "text/plain": [
              "interactive(children=(Dropdown(description='x', options=('python', 'C#', 'Java'), value='python'), Output()), …"
            ]
          },
          "metadata": {}
        }
      ]
    },
    {
      "cell_type": "code",
      "source": [
        "interact(f, x = {\"python\":1, \"C#\":2, \"Java\":3});"
      ],
      "metadata": {
        "id": "q8aBSrEptV6m",
        "outputId": "683f2624-1159-4cd3-8a31-cf718f253caf",
        "colab": {
          "base_uri": "https://localhost:8080/",
          "height": 66,
          "referenced_widgets": [
            "074b2002d3b64f1aaa1257d5277d7fe5",
            "a935a58141f54b0fb3f38b0e89717bf2",
            "58328e4a59d64b4fb7d836c73062729f",
            "013f76af2ea84e13a61c0c599b7baff8",
            "67f803f8e1a24e6e92b2ed468892d01d",
            "e0616923981a45daaaea1bd7e3f0b381",
            "ad8cb574ef164901a45c5e7452b39947"
          ]
        }
      },
      "execution_count": 8,
      "outputs": [
        {
          "output_type": "display_data",
          "data": {
            "application/vnd.jupyter.widget-view+json": {
              "model_id": "074b2002d3b64f1aaa1257d5277d7fe5",
              "version_minor": 0,
              "version_major": 2
            },
            "text/plain": [
              "interactive(children=(Dropdown(description='x', options={'python': 1, 'C#': 2, 'Java': 3}, value=1), Output())…"
            ]
          },
          "metadata": {}
        }
      ]
    },
    {
      "cell_type": "code",
      "source": [
        "def move(n=1):\n",
        "  print(n*\"❤\")"
      ],
      "metadata": {
        "id": "jL7KGa5OtYm7"
      },
      "execution_count": 9,
      "outputs": []
    },
    {
      "cell_type": "code",
      "source": [
        "interact(move, n=(1, 100));"
      ],
      "metadata": {
        "id": "a7ixXdyLuQUg",
        "outputId": "3ef70707-6db6-4e06-abb7-d6b1fff97dd7",
        "colab": {
          "base_uri": "https://localhost:8080/",
          "height": 66,
          "referenced_widgets": [
            "78b44eed13f84205a5bf3b6ce442e962",
            "ae65fed879974156bd3d7a6751fe29dc",
            "395f40a896c6456ab686dd33323bc7f5",
            "ff243089a8da4b4fa987c8ccfb6e63e2",
            "fd3bf738a39942a9bff10f8c56e9a750",
            "5353499e5b0342429c7ada3ff0ed7f23",
            "b81c81d23cf04b5a982ed18694d0f820"
          ]
        }
      },
      "execution_count": 11,
      "outputs": [
        {
          "output_type": "display_data",
          "data": {
            "application/vnd.jupyter.widget-view+json": {
              "model_id": "78b44eed13f84205a5bf3b6ce442e962",
              "version_minor": 0,
              "version_major": 2
            },
            "text/plain": [
              "interactive(children=(IntSlider(value=1, description='n', min=1), Output()), _dom_classes=('widget-interact',)…"
            ]
          },
          "metadata": {}
        }
      ]
    },
    {
      "cell_type": "code",
      "source": [
        "import numpy as np\n",
        "import matplotlib.pyplot as plt\n",
        "\n",
        "x = np.linspace(-10, 10, 500)\n",
        "\n",
        "def myplot(n=1):\n",
        "  y = np.sinc(n*x)\n",
        "  plt.plot(x, y)\n",
        "  plt.show()"
      ],
      "metadata": {
        "id": "3b9Ig6mqtijA"
      },
      "execution_count": 15,
      "outputs": []
    },
    {
      "cell_type": "code",
      "source": [
        "interact(myplot, n = (1.0, 10.0));"
      ],
      "metadata": {
        "id": "rH2U-sTGtptq",
        "outputId": "9d81a86a-f79e-414d-efd0-4801df6df8c5",
        "colab": {
          "base_uri": "https://localhost:8080/",
          "height": 297,
          "referenced_widgets": [
            "df3de679c97b49219f197a1f606df4d8",
            "4283397b23c34d5b846b100829b6394e",
            "206444bae50346ee9830db05a39ad4bd",
            "0c4804dacd7e42e6b0ba842ca7f07bea",
            "16e722755da647409712cf5a5be33e05",
            "d18f19b0cfc3418a81d5864bcba247b2",
            "aeaa3d0ce46845f6ac3c25527b995a99"
          ]
        }
      },
      "execution_count": 16,
      "outputs": [
        {
          "output_type": "display_data",
          "data": {
            "application/vnd.jupyter.widget-view+json": {
              "model_id": "df3de679c97b49219f197a1f606df4d8",
              "version_minor": 0,
              "version_major": 2
            },
            "text/plain": [
              "interactive(children=(FloatSlider(value=1.0, description='n', max=10.0, min=1.0), Output()), _dom_classes=('wi…"
            ]
          },
          "metadata": {}
        }
      ]
    },
    {
      "cell_type": "markdown",
      "metadata": {
        "id": "P3GZqZNDm5kG"
      },
      "source": [
        "p.2-2 map and filter"
      ]
    },
    {
      "cell_type": "code",
      "metadata": {
        "id": "qb6XMz_vmhNj"
      },
      "source": [
        "c = 30.4\n",
        "\n",
        "def USD2TWD (m):\n",
        "  return c*m"
      ],
      "execution_count": 17,
      "outputs": []
    },
    {
      "cell_type": "code",
      "metadata": {
        "colab": {
          "base_uri": "https://localhost:8080/"
        },
        "id": "To5GG3EPnBs3",
        "outputId": "ce13c88f-1e31-4357-e40c-d8f3cb0c7cda"
      },
      "source": [
        "USD2TWD(2)"
      ],
      "execution_count": 18,
      "outputs": [
        {
          "output_type": "execute_result",
          "data": {
            "text/plain": [
              "60.8"
            ]
          },
          "metadata": {},
          "execution_count": 18
        }
      ]
    },
    {
      "cell_type": "code",
      "metadata": {
        "id": "dzCBgmminOw4"
      },
      "source": [
        "price = [20, 5, 10]"
      ],
      "execution_count": 19,
      "outputs": []
    },
    {
      "cell_type": "code",
      "metadata": {
        "id": "XVLUbeOJeaNd",
        "outputId": "0f83f3bb-de2f-4869-f1a8-90c2eb98a3bb",
        "colab": {
          "base_uri": "https://localhost:8080/"
        }
      },
      "source": [
        "list(map(USD2TWD, price))"
      ],
      "execution_count": 21,
      "outputs": [
        {
          "output_type": "execute_result",
          "data": {
            "text/plain": [
              "[608.0, 152.0, 304.0]"
            ]
          },
          "metadata": {},
          "execution_count": 21
        }
      ]
    },
    {
      "cell_type": "code",
      "source": [
        "list(map(lambda x: c*x, price))"
      ],
      "metadata": {
        "id": "cqPWgBZBv1ux",
        "outputId": "b0aa66b4-f8a3-4fd9-a785-0f255b3f15dc",
        "colab": {
          "base_uri": "https://localhost:8080/"
        }
      },
      "execution_count": 22,
      "outputs": [
        {
          "output_type": "execute_result",
          "data": {
            "text/plain": [
              "[608.0, 152.0, 304.0]"
            ]
          },
          "metadata": {},
          "execution_count": 22
        }
      ]
    },
    {
      "cell_type": "code",
      "source": [
        "f = lambda x: c*x"
      ],
      "metadata": {
        "id": "zSguqcYHbPX-"
      },
      "execution_count": 23,
      "outputs": []
    },
    {
      "cell_type": "code",
      "source": [
        "f(2)"
      ],
      "metadata": {
        "colab": {
          "base_uri": "https://localhost:8080/"
        },
        "id": "cJqFl0m6bbb-",
        "outputId": "0082ca46-7815-4303-d999-539200d4fd6f"
      },
      "execution_count": 24,
      "outputs": [
        {
          "output_type": "execute_result",
          "data": {
            "text/plain": [
              "60.8"
            ]
          },
          "metadata": {},
          "execution_count": 24
        }
      ]
    },
    {
      "cell_type": "code",
      "source": [
        "lst = list(range(1, 21))\n",
        "print(lst)"
      ],
      "metadata": {
        "colab": {
          "base_uri": "https://localhost:8080/"
        },
        "id": "-cVEsUi4biHv",
        "outputId": "fcab9377-1c59-4392-c0d0-3dc24d4791b4"
      },
      "execution_count": 25,
      "outputs": [
        {
          "output_type": "stream",
          "name": "stdout",
          "text": [
            "[1, 2, 3, 4, 5, 6, 7, 8, 9, 10, 11, 12, 13, 14, 15, 16, 17, 18, 19, 20]\n"
          ]
        }
      ]
    },
    {
      "cell_type": "code",
      "source": [
        "def isEven(n):\n",
        "  return n%2 == 0"
      ],
      "metadata": {
        "id": "1Rz_Re-Wzzeo"
      },
      "execution_count": 26,
      "outputs": []
    },
    {
      "cell_type": "code",
      "source": [
        "isEven(94)"
      ],
      "metadata": {
        "id": "nn6HuZ56b1Ae",
        "outputId": "6223105f-ce7f-4499-b3fd-45fae52c6ea2",
        "colab": {
          "base_uri": "https://localhost:8080/"
        }
      },
      "execution_count": 27,
      "outputs": [
        {
          "output_type": "execute_result",
          "data": {
            "text/plain": [
              "True"
            ]
          },
          "metadata": {},
          "execution_count": 27
        }
      ]
    },
    {
      "cell_type": "code",
      "source": [
        "list(filter (isEven, lst))"
      ],
      "metadata": {
        "id": "JPYKMYHtb39-",
        "outputId": "4a6f6588-b36a-4668-ce84-8b282ea2c6d8",
        "colab": {
          "base_uri": "https://localhost:8080/"
        }
      },
      "execution_count": 28,
      "outputs": [
        {
          "output_type": "execute_result",
          "data": {
            "text/plain": [
              "[2, 4, 6, 8, 10, 12, 14, 16, 18, 20]"
            ]
          },
          "metadata": {},
          "execution_count": 28
        }
      ]
    },
    {
      "cell_type": "code",
      "source": [
        "list(filter (lambda x:x%2==0, lst))"
      ],
      "metadata": {
        "id": "ub-E-opCb7vu",
        "outputId": "140ff21c-fa74-43a0-89b8-67abea351fb7",
        "colab": {
          "base_uri": "https://localhost:8080/"
        }
      },
      "execution_count": 29,
      "outputs": [
        {
          "output_type": "execute_result",
          "data": {
            "text/plain": [
              "[2, 4, 6, 8, 10, 12, 14, 16, 18, 20]"
            ]
          },
          "metadata": {},
          "execution_count": 29
        }
      ]
    },
    {
      "cell_type": "code",
      "source": [
        "[i for i in lst if i%2 ==0]"
      ],
      "metadata": {
        "id": "iJnVlyGccEge",
        "outputId": "3367776f-154f-4258-f324-f547d94ccf5b",
        "colab": {
          "base_uri": "https://localhost:8080/"
        }
      },
      "execution_count": 30,
      "outputs": [
        {
          "output_type": "execute_result",
          "data": {
            "text/plain": [
              "[2, 4, 6, 8, 10, 12, 14, 16, 18, 20]"
            ]
          },
          "metadata": {},
          "execution_count": 30
        }
      ]
    },
    {
      "cell_type": "code",
      "source": [
        ""
      ],
      "metadata": {
        "id": "av-6GndycK4u"
      },
      "execution_count": null,
      "outputs": []
    }
  ]
}