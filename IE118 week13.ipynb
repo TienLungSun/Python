{
  "nbformat": 4,
  "nbformat_minor": 0,
  "metadata": {
    "colab": {
      "name": "Untitled3.ipynb",
      "provenance": [],
      "include_colab_link": true
    },
    "kernelspec": {
      "name": "python3",
      "display_name": "Python 3"
    },
    "language_info": {
      "name": "python"
    }
  },
  "cells": [
    {
      "cell_type": "markdown",
      "metadata": {
        "id": "view-in-github",
        "colab_type": "text"
      },
      "source": [
        "<a href=\"https://colab.research.google.com/github/TienLungSun/Python/blob/main/IE118%20week13.ipynb\" target=\"_parent\"><img src=\"https://colab.research.google.com/assets/colab-badge.svg\" alt=\"Open In Colab\"/></a>"
      ]
    },
    {
      "cell_type": "code",
      "metadata": {
        "id": "RkwxN3XCkckc"
      },
      "source": [
        "def fun(x):\n",
        "  sum=0\n",
        "  for i in range(1,x):\n",
        "    sum = sum + 1\n",
        "  return sum"
      ],
      "execution_count": null,
      "outputs": []
    },
    {
      "cell_type": "code",
      "source": [
        "fun(50)"
      ],
      "metadata": {
        "id": "xJZ5W2wJXwoY",
        "outputId": "f82a33fa-53a1-498a-cb9e-0d9530b9abf0",
        "colab": {
          "base_uri": "https://localhost:8080/"
        }
      },
      "execution_count": null,
      "outputs": [
        {
          "output_type": "execute_result",
          "data": {
            "text/plain": [
              "49"
            ]
          },
          "metadata": {},
          "execution_count": 2
        }
      ]
    },
    {
      "cell_type": "code",
      "source": [
        "fun(100)"
      ],
      "metadata": {
        "colab": {
          "base_uri": "https://localhost:8080/"
        },
        "id": "j0ykFbIwUjhM",
        "outputId": "a9ca1d15-266a-4523-e7a9-3d38e4ff4882"
      },
      "execution_count": null,
      "outputs": [
        {
          "output_type": "execute_result",
          "data": {
            "text/plain": [
              "99"
            ]
          },
          "metadata": {},
          "execution_count": 3
        }
      ]
    },
    {
      "cell_type": "code",
      "source": [
        "def fun1(x):\n",
        "  product=1\n",
        "  for i in range(1,x):\n",
        "    product = product * i\n",
        "  return product"
      ],
      "metadata": {
        "id": "tkn02TzHtMrH"
      },
      "execution_count": null,
      "outputs": []
    },
    {
      "cell_type": "code",
      "source": [
        "fun1(10)"
      ],
      "metadata": {
        "id": "-3UK3LGytRbh",
        "outputId": "afd4bbc9-832f-42a3-c666-fda5ad67dc1e",
        "colab": {
          "base_uri": "https://localhost:8080/"
        }
      },
      "execution_count": null,
      "outputs": [
        {
          "output_type": "execute_result",
          "data": {
            "text/plain": [
              "362880"
            ]
          },
          "metadata": {},
          "execution_count": 8
        }
      ]
    },
    {
      "cell_type": "code",
      "source": [
        "def fun2(x):\n",
        "  sum=0\n",
        "  for i in range(1,x):\n",
        "    if(i % 3 == 0):\n",
        "      sum = sum + 1\n",
        "  return sum"
      ],
      "metadata": {
        "id": "6uME3WTrIWAw"
      },
      "execution_count": 1,
      "outputs": []
    },
    {
      "cell_type": "code",
      "source": [
        "fun2(100)"
      ],
      "metadata": {
        "id": "-tTIUAOQIekp",
        "outputId": "9c478d4f-ecad-4641-ce82-641134270cbd",
        "colab": {
          "base_uri": "https://localhost:8080/"
        }
      },
      "execution_count": 3,
      "outputs": [
        {
          "output_type": "execute_result",
          "data": {
            "text/plain": [
              "33"
            ]
          },
          "metadata": {},
          "execution_count": 3
        }
      ]
    },
    {
      "cell_type": "code",
      "source": [
        "def fun3(x, y):\n",
        "  sum=0\n",
        "  for i in range(x, y+1):\n",
        "    if(i % 3 == 0):\n",
        "      sum = sum + 1\n",
        "  return sum"
      ],
      "metadata": {
        "id": "jIqs2TsGIlXp"
      },
      "execution_count": 4,
      "outputs": []
    },
    {
      "cell_type": "code",
      "source": [
        "fun3(10, 100)"
      ],
      "metadata": {
        "id": "ODkpq8KQIxD1",
        "outputId": "2646a023-7bad-4482-c37d-f22f6501da5c",
        "colab": {
          "base_uri": "https://localhost:8080/"
        }
      },
      "execution_count": 5,
      "outputs": [
        {
          "output_type": "execute_result",
          "data": {
            "text/plain": [
              "30"
            ]
          },
          "metadata": {},
          "execution_count": 5
        }
      ]
    },
    {
      "cell_type": "code",
      "source": [],
      "metadata": {
        "id": "dtIWr5CtI0rL"
      },
      "execution_count": null,
      "outputs": []
    }
  ]
}