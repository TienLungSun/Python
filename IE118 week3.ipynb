{
  "nbformat": 4,
  "nbformat_minor": 0,
  "metadata": {
    "colab": {
      "name": "Untitled3.ipynb",
      "provenance": [],
      "include_colab_link": true
    },
    "kernelspec": {
      "name": "python3",
      "display_name": "Python 3"
    },
    "language_info": {
      "name": "python"
    }
  },
  "cells": [
    {
      "cell_type": "markdown",
      "metadata": {
        "id": "view-in-github",
        "colab_type": "text"
      },
      "source": [
        "<a href=\"https://colab.research.google.com/github/TienLungSun/Python-/blob/main/IE118%20week3.ipynb\" target=\"_parent\"><img src=\"https://colab.research.google.com/assets/colab-badge.svg\" alt=\"Open In Colab\"/></a>"
      ]
    },
    {
      "cell_type": "markdown",
      "metadata": {
        "id": "AFMN7Yi0WtGQ"
      },
      "source": [
        "p.1-23 畫函數 y=f(x)"
      ]
    },
    {
      "cell_type": "code",
      "metadata": {
        "id": "pvYU5EpqzYsz"
      },
      "source": [
        "import numpy as np\n",
        "import matplotlib.pyplot as plt"
      ],
      "execution_count": null,
      "outputs": []
    },
    {
      "cell_type": "code",
      "metadata": {
        "id": "jF0lcYUybgTh",
        "colab": {
          "base_uri": "https://localhost:8080/"
        },
        "outputId": "2f22286c-abb6-448b-a1bf-979b0406ec90"
      },
      "source": [
        "np.linspace(-10, 10, 5)"
      ],
      "execution_count": null,
      "outputs": [
        {
          "output_type": "execute_result",
          "data": {
            "text/plain": [
              "array([-10.,  -5.,   0.,   5.,  10.])"
            ]
          },
          "metadata": {},
          "execution_count": 4
        }
      ]
    },
    {
      "cell_type": "code",
      "metadata": {
        "colab": {
          "base_uri": "https://localhost:8080/"
        },
        "id": "BGSzdcWHzgEQ",
        "outputId": "c32af902-2f33-4adb-fb6b-aecad4289f32"
      },
      "source": [
        "x = np.linspace(-10, 10, 10)\n",
        "print(x)"
      ],
      "execution_count": null,
      "outputs": [
        {
          "output_type": "stream",
          "name": "stdout",
          "text": [
            "[-10.          -7.77777778  -5.55555556  -3.33333333  -1.11111111\n",
            "   1.11111111   3.33333333   5.55555556   7.77777778  10.        ]\n"
          ]
        }
      ]
    },
    {
      "cell_type": "code",
      "metadata": {
        "colab": {
          "base_uri": "https://localhost:8080/"
        },
        "id": "vLCPQ4vY3NZW",
        "outputId": "1fd9b8fb-ae26-4709-f6a6-39119f0279b5"
      },
      "source": [
        "y = x**2 + 1\n",
        "print(y)"
      ],
      "execution_count": null,
      "outputs": [
        {
          "output_type": "stream",
          "name": "stdout",
          "text": [
            "[101.          61.49382716  31.86419753  12.11111111   2.2345679\n",
            "   2.2345679   12.11111111  31.86419753  61.49382716 101.        ]\n"
          ]
        }
      ]
    },
    {
      "cell_type": "code",
      "metadata": {
        "id": "ropyGohD3QUK",
        "colab": {
          "base_uri": "https://localhost:8080/",
          "height": 265
        },
        "outputId": "59aee42d-b28e-4840-cb42-d104ff778b26"
      },
      "source": [
        "x = np.linspace(-10, 10, 50)\n",
        "y = x**2 + 1\n",
        "plt.plot(x, y)\n",
        "plt.show()"
      ],
      "execution_count": null,
      "outputs": [
        {
          "output_type": "display_data",
          "data": {
            "image/png": "[encoded data removed]",
            "text/plain": [
              "<Figure size 432x288 with 1 Axes>"
            ]
          },
          "metadata": {
            "needs_background": "light"
          }
        }
      ]
    },
    {
      "cell_type": "markdown",
      "metadata": {
        "id": "4eqQqLEIBBXv"
      },
      "source": [
        "畫三角函數"
      ]
    },
    {
      "cell_type": "code",
      "metadata": {
        "colab": {
          "base_uri": "https://localhost:8080/"
        },
        "id": "fOnnqU053faI",
        "outputId": "1fed7465-0136-4bc9-dbe9-b1c088537266"
      },
      "source": [
        "np.pi"
      ],
      "execution_count": null,
      "outputs": [
        {
          "output_type": "execute_result",
          "data": {
            "text/plain": [
              "3.141592653589793"
            ]
          },
          "metadata": {},
          "execution_count": 12
        }
      ]
    },
    {
      "cell_type": "code",
      "metadata": {
        "colab": {
          "base_uri": "https://localhost:8080/"
        },
        "id": "FJMWYccD3g12",
        "outputId": "b29bee05-dda3-421a-829c-b9958ab39c6d"
      },
      "source": [
        "pi = np.pi\n",
        "print(pi)"
      ],
      "execution_count": null,
      "outputs": [
        {
          "output_type": "stream",
          "name": "stdout",
          "text": [
            "3.141592653589793\n"
          ]
        }
      ]
    },
    {
      "cell_type": "code",
      "metadata": {
        "colab": {
          "base_uri": "https://localhost:8080/"
        },
        "id": "SF6UH0i83s1D",
        "outputId": "ebc148ec-135d-4568-e60b-5203ab2e8303"
      },
      "source": [
        "np.sin(pi)"
      ],
      "execution_count": null,
      "outputs": [
        {
          "output_type": "execute_result",
          "data": {
            "text/plain": [
              "1.2246467991473532e-16"
            ]
          },
          "metadata": {},
          "execution_count": 14
        }
      ]
    },
    {
      "cell_type": "code",
      "metadata": {
        "id": "Xz-3svOl4T7K",
        "colab": {
          "base_uri": "https://localhost:8080/"
        },
        "outputId": "fa712e60-e80f-4fd1-b523-a002854b63cd"
      },
      "source": [
        "np.sin(pi*0.5)"
      ],
      "execution_count": null,
      "outputs": [
        {
          "output_type": "execute_result",
          "data": {
            "text/plain": [
              "1.0"
            ]
          },
          "metadata": {},
          "execution_count": 15
        }
      ]
    },
    {
      "cell_type": "code",
      "metadata": {
        "id": "1PdR3s_Hbw47",
        "colab": {
          "base_uri": "https://localhost:8080/",
          "height": 265
        },
        "outputId": "e142cefb-0dcc-4bce-9936-03e81d6489d0"
      },
      "source": [
        "theta = np.linspace(0, 6*pi, 100)\n",
        "y = np.sin(theta)\n",
        "plt.plot(theta, y)\n",
        "plt.show()"
      ],
      "execution_count": null,
      "outputs": [
        {
          "output_type": "display_data",
          "data": {
            "image/png": "[encoded data removed]",
            "text/plain": [
              "<Figure size 432x288 with 1 Axes>"
            ]
          },
          "metadata": {
            "needs_background": "light"
          }
        }
      ]
    },
    {
      "cell_type": "markdown",
      "metadata": {
        "id": "D4yQs0WgB23a"
      },
      "source": [
        "p.1-27 畫圓"
      ]
    },
    {
      "cell_type": "code",
      "metadata": {
        "id": "nDHXx5ZOcFJG",
        "colab": {
          "base_uri": "https://localhost:8080/"
        },
        "outputId": "5a822bbf-a680-4ddb-b5de-f41e05548916"
      },
      "source": [
        "r=3\n",
        "pi=np.pi\n",
        "print(pi)"
      ],
      "execution_count": null,
      "outputs": [
        {
          "output_type": "stream",
          "name": "stdout",
          "text": [
            "3.141592653589793\n"
          ]
        }
      ]
    },
    {
      "cell_type": "code",
      "metadata": {
        "colab": {
          "base_uri": "https://localhost:8080/"
        },
        "id": "DkCKaos-CFKR",
        "outputId": "39edb760-0847-473a-fd77-3a79e2587f6c"
      },
      "source": [
        "theta=90\n",
        "radian=(theta/180)*pi\n",
        "print(radian)"
      ],
      "execution_count": null,
      "outputs": [
        {
          "output_type": "stream",
          "name": "stdout",
          "text": [
            "1.5707963267948966\n"
          ]
        }
      ]
    },
    {
      "cell_type": "code",
      "metadata": {
        "id": "0_c9bN6WcWMH",
        "colab": {
          "base_uri": "https://localhost:8080/"
        },
        "outputId": "ebb42b69-bcbb-49c3-afc9-53100fe29d93"
      },
      "source": [
        "np.sin(radian)"
      ],
      "execution_count": null,
      "outputs": [
        {
          "output_type": "execute_result",
          "data": {
            "text/plain": [
              "1.0"
            ]
          },
          "metadata": {},
          "execution_count": 26
        }
      ]
    },
    {
      "cell_type": "code",
      "metadata": {
        "id": "Ake0eCTJcv6i",
        "colab": {
          "base_uri": "https://localhost:8080/"
        },
        "outputId": "13e52556-b550-44ae-b028-b3020849ff2e"
      },
      "source": [
        "np.cos(radian)"
      ],
      "execution_count": null,
      "outputs": [
        {
          "output_type": "execute_result",
          "data": {
            "text/plain": [
              "6.123233995736766e-17"
            ]
          },
          "metadata": {},
          "execution_count": 27
        }
      ]
    },
    {
      "cell_type": "code",
      "metadata": {
        "id": "HlsBx3tYdUDc",
        "colab": {
          "base_uri": "https://localhost:8080/",
          "height": 265
        },
        "outputId": "5dbb1e2a-fec3-4e35-df9a-a240deb29834"
      },
      "source": [
        "radian1=np.linspace(0, 2*pi, 100) \n",
        "r=3\n",
        "x=r*np.cos(radian1)\n",
        "y=r*np.sin(radian1)\n",
        "plt.plot(x, y)\n",
        "plt.show()"
      ],
      "execution_count": null,
      "outputs": [
        {
          "output_type": "display_data",
          "data": {
            "image/png": "[encoded data removed]",
            "text/plain": [
              "<Figure size 432x288 with 1 Axes>"
            ]
          },
          "metadata": {
            "needs_background": "light"
          }
        }
      ]
    },
    {
      "cell_type": "code",
      "metadata": {
        "id": "6_rsuLTgdeOj",
        "colab": {
          "base_uri": "https://localhost:8080/",
          "height": 265
        },
        "outputId": "071c40ab-925c-4cb5-bc52-197e545b2f4b"
      },
      "source": [
        "radian1=np.linspace(0, 2*pi, 100) \n",
        "r=3\n",
        "x=r*np.cos(radian1)\n",
        "y=r*np.sin(radian1)\n",
        "plt.plot(x, y)\n",
        "plt.axis('equal')\n",
        "plt.show()"
      ],
      "execution_count": null,
      "outputs": [
        {
          "output_type": "display_data",
          "data": {
            "image/png": "[encoded data removed]",
            "text/plain": [
              "<Figure size 432x288 with 1 Axes>"
            ]
          },
          "metadata": {
            "needs_background": "light"
          }
        }
      ]
    },
    {
      "cell_type": "code",
      "metadata": {
        "id": "y9GFD9n1dpRm",
        "colab": {
          "base_uri": "https://localhost:8080/",
          "height": 265
        },
        "outputId": "27f610fa-de86-4648-fe4b-db13e889af5a"
      },
      "source": [
        "radian1=np.linspace(0, 2*pi, 100) \n",
        "r=1-np.sin(radian1)\n",
        "x=r*np.cos(radian1)\n",
        "y=r*np.sin(radian1)\n",
        "plt.plot(x, y)\n",
        "plt.axis('equal')\n",
        "plt.show()"
      ],
      "execution_count": null,
      "outputs": [
        {
          "output_type": "display_data",
          "data": {
            "image/png": "[encoded data removed]",
            "text/plain": [
              "<Figure size 432x288 with 1 Axes>"
            ]
          },
          "metadata": {
            "needs_background": "light"
          }
        }
      ]
    },
    {
      "cell_type": "code",
      "metadata": {
        "id": "vTMw_ZgqeemA",
        "colab": {
          "base_uri": "https://localhost:8080/",
          "height": 265
        },
        "outputId": "30fbb0a2-5882-44e1-9338-a3eac07920d5"
      },
      "source": [
        "radian1=np.linspace(0, 2*pi, 100) \n",
        "r=1-np.sin(radian1)\n",
        "x=r*np.cos(radian1)\n",
        "y=r*np.sin(radian1)\n",
        "plt.plot(x, y, 'red')\n",
        "plt.axis('equal')\n",
        "plt.show()"
      ],
      "execution_count": null,
      "outputs": [
        {
          "output_type": "display_data",
          "data": {
            "image/png": "[encoded data removed]",
            "text/plain": [
              "<Figure size 432x288 with 1 Axes>"
            ]
          },
          "metadata": {
            "needs_background": "light"
          }
        }
      ]
    },
    {
      "cell_type": "markdown",
      "metadata": {
        "id": "Ttm67LnpERQO"
      },
      "source": [
        "p.1-31 資料型態"
      ]
    },
    {
      "cell_type": "code",
      "metadata": {
        "id": "mISBFBfZe3DI"
      },
      "source": [
        "i=73\n",
        "str1 = \"你好\"\n",
        "lst = [9, 4, 8, 7]"
      ],
      "execution_count": null,
      "outputs": []
    },
    {
      "cell_type": "code",
      "metadata": {
        "colab": {
          "base_uri": "https://localhost:8080/",
          "height": 35
        },
        "id": "t6Ib5c43ETur",
        "outputId": "32ba9eca-d224-4681-8cda-52f186d2c122"
      },
      "source": [
        "str1"
      ],
      "execution_count": null,
      "outputs": [
        {
          "output_type": "execute_result",
          "data": {
            "application/vnd.google.colaboratory.intrinsic+json": {
              "type": "string"
            },
            "text/plain": [
              "'你好'"
            ]
          },
          "metadata": {},
          "execution_count": 35
        }
      ]
    },
    {
      "cell_type": "code",
      "metadata": {
        "id": "P_x9axB_EsFl",
        "colab": {
          "base_uri": "https://localhost:8080/",
          "height": 35
        },
        "outputId": "29dc6ff0-4da7-4122-b4bd-cbbb8f54d324"
      },
      "source": [
        "str1*3"
      ],
      "execution_count": null,
      "outputs": [
        {
          "output_type": "execute_result",
          "data": {
            "application/vnd.google.colaboratory.intrinsic+json": {
              "type": "string"
            },
            "text/plain": [
              "'你好你好你好'"
            ]
          },
          "metadata": {},
          "execution_count": 36
        }
      ]
    },
    {
      "cell_type": "code",
      "metadata": {
        "id": "2aJ5iZEoEtpO",
        "colab": {
          "base_uri": "https://localhost:8080/"
        },
        "outputId": "e478388c-2a69-41ba-ff8c-3a0e85d9d06f"
      },
      "source": [
        "lst*3"
      ],
      "execution_count": null,
      "outputs": [
        {
          "output_type": "execute_result",
          "data": {
            "text/plain": [
              "[9, 4, 8, 7, 9, 4, 8, 7, 9, 4, 8, 7]"
            ]
          },
          "metadata": {},
          "execution_count": 37
        }
      ]
    },
    {
      "cell_type": "code",
      "metadata": {
        "id": "IYVba0xNExVp"
      },
      "source": [
        "# this will give error\n",
        "# str1 + 87 "
      ],
      "execution_count": null,
      "outputs": []
    },
    {
      "cell_type": "code",
      "metadata": {
        "id": "cbvIHOn8E3Fz",
        "colab": {
          "base_uri": "https://localhost:8080/",
          "height": 35
        },
        "outputId": "705724b9-048e-46ec-dfbe-459814616e25"
      },
      "source": [
        "str1 + \"87\""
      ],
      "execution_count": null,
      "outputs": [
        {
          "output_type": "execute_result",
          "data": {
            "application/vnd.google.colaboratory.intrinsic+json": {
              "type": "string"
            },
            "text/plain": [
              "'你好87'"
            ]
          },
          "metadata": {},
          "execution_count": 42
        }
      ]
    },
    {
      "cell_type": "markdown",
      "metadata": {
        "id": "3YwxmqmJFPmr"
      },
      "source": [
        "p.1-34 字典"
      ]
    },
    {
      "cell_type": "code",
      "metadata": {
        "id": "B8BBM4PYE_5A"
      },
      "source": [
        "my_dict = {\"元智\":\"YZU\", \"工工管\": \"IEM\", \"大一\":\"Freshman\"}"
      ],
      "execution_count": null,
      "outputs": []
    },
    {
      "cell_type": "code",
      "metadata": {
        "id": "wSlW5UoDFp7b",
        "colab": {
          "base_uri": "https://localhost:8080/"
        },
        "outputId": "9980e370-4bbd-4e1b-8ca9-a6fd3f3c7cc1"
      },
      "source": [
        "print(my_dict)"
      ],
      "execution_count": null,
      "outputs": [
        {
          "output_type": "stream",
          "name": "stdout",
          "text": [
            "{'元智': 'YZU', '工工管': 'IEM', '大一': 'Freshman'}\n"
          ]
        }
      ]
    },
    {
      "cell_type": "code",
      "metadata": {
        "id": "h5os-YmmFrC9",
        "colab": {
          "base_uri": "https://localhost:8080/",
          "height": 35
        },
        "outputId": "74d41a6e-6abc-49a4-eff0-890b0e9f7741"
      },
      "source": [
        "my_dict[\"元智\"]"
      ],
      "execution_count": null,
      "outputs": [
        {
          "output_type": "execute_result",
          "data": {
            "application/vnd.google.colaboratory.intrinsic+json": {
              "type": "string"
            },
            "text/plain": [
              "'YZU'"
            ]
          },
          "metadata": {},
          "execution_count": 46
        }
      ]
    },
    {
      "cell_type": "code",
      "metadata": {
        "id": "SbpdOzCpFw8O"
      },
      "source": [
        "#this will give error\n",
        "#my_dict[\"YZU\"]"
      ],
      "execution_count": null,
      "outputs": []
    },
    {
      "cell_type": "code",
      "metadata": {
        "id": "8zJAWOAAF4BN"
      },
      "source": [
        "my_dict[\"蘋果\"]=\"apple\""
      ],
      "execution_count": null,
      "outputs": []
    },
    {
      "cell_type": "code",
      "metadata": {
        "id": "gEgrR8c_GCp_",
        "colab": {
          "base_uri": "https://localhost:8080/"
        },
        "outputId": "497face9-268b-48b8-ea88-bcb8694e09d4"
      },
      "source": [
        "print(my_dict)"
      ],
      "execution_count": null,
      "outputs": [
        {
          "output_type": "stream",
          "name": "stdout",
          "text": [
            "{'元智': 'YZU', '工工管': 'IEM', '大一': 'Freshman', '蘋果': 'apple'}\n"
          ]
        }
      ]
    },
    {
      "cell_type": "code",
      "metadata": {
        "id": "-JDtAxFUGEa4"
      },
      "source": [
        "del my_dict[\"蘋果\"]"
      ],
      "execution_count": null,
      "outputs": []
    },
    {
      "cell_type": "code",
      "metadata": {
        "id": "K0x0DMa_GMFx",
        "colab": {
          "base_uri": "https://localhost:8080/"
        },
        "outputId": "2758b3f0-67b3-458c-c066-6673e3ee2be4"
      },
      "source": [
        "my_dict"
      ],
      "execution_count": null,
      "outputs": [
        {
          "output_type": "execute_result",
          "data": {
            "text/plain": [
              "{'元智': 'YZU', '大一': 'Freshman', '工工管': 'IEM'}"
            ]
          },
          "metadata": {},
          "execution_count": 52
        }
      ]
    },
    {
      "cell_type": "code",
      "metadata": {
        "id": "bK6n67etGNHg",
        "colab": {
          "base_uri": "https://localhost:8080/"
        },
        "outputId": "3a44f9d0-6839-46b7-d372-6a760d089b26"
      },
      "source": [
        "my_dict.keys()"
      ],
      "execution_count": null,
      "outputs": [
        {
          "output_type": "execute_result",
          "data": {
            "text/plain": [
              "dict_keys(['元智', '工工管', '大一'])"
            ]
          },
          "metadata": {},
          "execution_count": 53
        }
      ]
    },
    {
      "cell_type": "code",
      "metadata": {
        "id": "geALnE4aGYZY",
        "colab": {
          "base_uri": "https://localhost:8080/"
        },
        "outputId": "19ada3d9-2ec2-448c-bf72-d6898ea46cdf"
      },
      "source": [
        "my_dict.values()"
      ],
      "execution_count": null,
      "outputs": [
        {
          "output_type": "execute_result",
          "data": {
            "text/plain": [
              "dict_values(['YZU', 'IEM', 'Freshman'])"
            ]
          },
          "metadata": {},
          "execution_count": 54
        }
      ]
    },
    {
      "cell_type": "code",
      "metadata": {
        "id": "EfuALSDeGb4q"
      },
      "source": [
        ""
      ],
      "execution_count": null,
      "outputs": []
    }
  ]
}