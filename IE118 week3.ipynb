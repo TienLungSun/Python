{
  "nbformat": 4,
  "nbformat_minor": 0,
  "metadata": {
    "colab": {
      "name": "Untitled3.ipynb",
      "provenance": [],
      "include_colab_link": true
    },
    "kernelspec": {
      "name": "python3",
      "display_name": "Python 3"
    },
    "language_info": {
      "name": "python"
    }
  },
  "cells": [
    {
      "cell_type": "markdown",
      "metadata": {
        "id": "view-in-github",
        "colab_type": "text"
      },
      "source": [
        "<a href=\"https://colab.research.google.com/github/TienLungSun/Python-/blob/main/IE118%20week3.ipynb\" target=\"_parent\"><img src=\"https://colab.research.google.com/assets/colab-badge.svg\" alt=\"Open In Colab\"/></a>"
      ]
    },
    {
      "cell_type": "markdown",
      "metadata": {
        "id": "AFMN7Yi0WtGQ"
      },
      "source": [
        "p.1-23 畫函數 y=f(x)"
      ]
    },
    {
      "cell_type": "code",
      "metadata": {
        "id": "pvYU5EpqzYsz"
      },
      "source": [
        "import numpy as np\n",
        "import matplotlib.pyplot as plt"
      ],
      "execution_count": 1,
      "outputs": []
    },
    {
      "cell_type": "code",
      "metadata": {
        "id": "jF0lcYUybgTh",
        "colab": {
          "base_uri": "https://localhost:8080/"
        },
        "outputId": "505d0617-881d-4b7d-81af-98917ceb939a"
      },
      "source": [
        "#     (min, max, min-max 取幾個數字)\n",
        "np.linspace(-2, 100, 10)"
      ],
      "execution_count": 4,
      "outputs": [
        {
          "output_type": "execute_result",
          "data": {
            "text/plain": [
              "array([ -2.        ,   9.33333333,  20.66666667,  32.        ,\n",
              "        43.33333333,  54.66666667,  66.        ,  77.33333333,\n",
              "        88.66666667, 100.        ])"
            ]
          },
          "metadata": {},
          "execution_count": 4
        }
      ]
    },
    {
      "cell_type": "code",
      "metadata": {
        "colab": {
          "base_uri": "https://localhost:8080/"
        },
        "id": "BGSzdcWHzgEQ",
        "outputId": "3ea96a32-b948-4e7a-f6ee-dbb93479fbb5"
      },
      "source": [
        "x = np.linspace(-10, 10, 5)\n",
        "print(x)"
      ],
      "execution_count": 7,
      "outputs": [
        {
          "output_type": "stream",
          "name": "stdout",
          "text": [
            "[-10.  -5.   0.   5.  10.]\n"
          ]
        }
      ]
    },
    {
      "cell_type": "code",
      "metadata": {
        "colab": {
          "base_uri": "https://localhost:8080/"
        },
        "id": "vLCPQ4vY3NZW",
        "outputId": "18ae3e42-ceaa-4e52-a18c-d322086e0d3b"
      },
      "source": [
        "y = x**2 + 1\n",
        "print(y)"
      ],
      "execution_count": 8,
      "outputs": [
        {
          "output_type": "stream",
          "name": "stdout",
          "text": [
            "[101.  26.   1.  26. 101.]\n"
          ]
        }
      ]
    },
    {
      "cell_type": "code",
      "metadata": {
        "id": "ropyGohD3QUK",
        "colab": {
          "base_uri": "https://localhost:8080/",
          "height": 265
        },
        "outputId": "aff73160-012b-4544-9030-c4c7ff1b3d1e"
      },
      "source": [
        "x = np.linspace(-10, 10, 5)\n",
        "y = x**2 + 1\n",
        "plt.plot(x, y)\n",
        "plt.show()"
      ],
      "execution_count": 9,
      "outputs": [
        {
          "output_type": "display_data",
          "data": {
            "image/png": "[encoded data removed]",
            "text/plain": [
              "<Figure size 432x288 with 1 Axes>"
            ]
          },
          "metadata": {
            "needs_background": "light"
          }
        }
      ]
    },
    {
      "cell_type": "markdown",
      "metadata": {
        "id": "4eqQqLEIBBXv"
      },
      "source": [
        "畫三角函數"
      ]
    },
    {
      "cell_type": "code",
      "metadata": {
        "colab": {
          "base_uri": "https://localhost:8080/"
        },
        "id": "fOnnqU053faI",
        "outputId": "ea41f90d-52be-4f6d-b820-62c71ddae863"
      },
      "source": [
        "np.pi"
      ],
      "execution_count": 10,
      "outputs": [
        {
          "output_type": "execute_result",
          "data": {
            "text/plain": [
              "3.141592653589793"
            ]
          },
          "metadata": {},
          "execution_count": 10
        }
      ]
    },
    {
      "cell_type": "code",
      "metadata": {
        "colab": {
          "base_uri": "https://localhost:8080/"
        },
        "id": "FJMWYccD3g12",
        "outputId": "b9d8cfeb-9f65-4dbc-badd-bfd2b0bc32d0"
      },
      "source": [
        "x = np.pi\n",
        "print(x)"
      ],
      "execution_count": 16,
      "outputs": [
        {
          "output_type": "stream",
          "name": "stdout",
          "text": [
            "3.141592653589793\n"
          ]
        }
      ]
    },
    {
      "cell_type": "code",
      "metadata": {
        "colab": {
          "base_uri": "https://localhost:8080/"
        },
        "id": "SF6UH0i83s1D",
        "outputId": "f5fbcfd0-6978-4c43-c9c2-8de5eb518830"
      },
      "source": [
        "# numpy 的 sin(徑度角)\n",
        "np.sin(x)"
      ],
      "execution_count": 17,
      "outputs": [
        {
          "output_type": "execute_result",
          "data": {
            "text/plain": [
              "1.2246467991473532e-16"
            ]
          },
          "metadata": {},
          "execution_count": 17
        }
      ]
    },
    {
      "cell_type": "code",
      "metadata": {
        "id": "Xz-3svOl4T7K",
        "colab": {
          "base_uri": "https://localhost:8080/"
        },
        "outputId": "6d47aaf6-1f17-4954-9a1d-b744ed5d316d"
      },
      "source": [
        "np.sin(x*0.5)"
      ],
      "execution_count": 18,
      "outputs": [
        {
          "output_type": "execute_result",
          "data": {
            "text/plain": [
              "1.0"
            ]
          },
          "metadata": {},
          "execution_count": 18
        }
      ]
    },
    {
      "cell_type": "code",
      "metadata": {
        "id": "1PdR3s_Hbw47",
        "colab": {
          "base_uri": "https://localhost:8080/",
          "height": 265
        },
        "outputId": "e9ffacb1-ea7e-463f-b716-440bdafc6aff"
      },
      "source": [
        "theta = np.linspace(0, 6*x, 100)\n",
        "y = np.sin(theta)\n",
        "plt.plot(theta, y)\n",
        "plt.show()"
      ],
      "execution_count": 19,
      "outputs": [
        {
          "output_type": "display_data",
          "data": {
            "image/png": "[encoded data removed]",
            "text/plain": [
              "<Figure size 432x288 with 1 Axes>"
            ]
          },
          "metadata": {
            "needs_background": "light"
          }
        }
      ]
    },
    {
      "cell_type": "markdown",
      "metadata": {
        "id": "D4yQs0WgB23a"
      },
      "source": [
        "p.1-27 畫圓"
      ]
    },
    {
      "cell_type": "code",
      "metadata": {
        "id": "nDHXx5ZOcFJG",
        "colab": {
          "base_uri": "https://localhost:8080/"
        },
        "outputId": "2bc04d18-8254-4d50-a3b9-da75391f15b7"
      },
      "source": [
        "r=3 #圓的半徑\n",
        "mypi=np.pi\n",
        "print(r, \", \", mypi)"
      ],
      "execution_count": 21,
      "outputs": [
        {
          "output_type": "stream",
          "name": "stdout",
          "text": [
            "3 ,  3.141592653589793\n"
          ]
        }
      ]
    },
    {
      "cell_type": "code",
      "metadata": {
        "colab": {
          "base_uri": "https://localhost:8080/"
        },
        "id": "DkCKaos-CFKR",
        "outputId": "4a0e5b51-b538-4706-bf31-845c591c8bb1"
      },
      "source": [
        "theta=90\n",
        "radian=(theta/180)*mypi\n",
        "print(theta, radian)"
      ],
      "execution_count": 22,
      "outputs": [
        {
          "output_type": "stream",
          "name": "stdout",
          "text": [
            "90 1.5707963267948966\n"
          ]
        }
      ]
    },
    {
      "cell_type": "code",
      "metadata": {
        "id": "0_c9bN6WcWMH",
        "colab": {
          "base_uri": "https://localhost:8080/"
        },
        "outputId": "d4ee3406-3aca-438c-859c-2c2af76ed46c"
      },
      "source": [
        "np.sin(radian)"
      ],
      "execution_count": 23,
      "outputs": [
        {
          "output_type": "execute_result",
          "data": {
            "text/plain": [
              "1.0"
            ]
          },
          "metadata": {},
          "execution_count": 23
        }
      ]
    },
    {
      "cell_type": "code",
      "metadata": {
        "id": "Ake0eCTJcv6i",
        "colab": {
          "base_uri": "https://localhost:8080/"
        },
        "outputId": "70985ad3-ddb1-4678-c314-5884f3b66f60"
      },
      "source": [
        "np.cos(radian)"
      ],
      "execution_count": 24,
      "outputs": [
        {
          "output_type": "execute_result",
          "data": {
            "text/plain": [
              "6.123233995736766e-17"
            ]
          },
          "metadata": {},
          "execution_count": 24
        }
      ]
    },
    {
      "cell_type": "code",
      "metadata": {
        "id": "HlsBx3tYdUDc",
        "colab": {
          "base_uri": "https://localhost:8080/",
          "height": 265
        },
        "outputId": "f7b8f4d0-8d9b-4b76-ab90-ebdbcbbd2eeb"
      },
      "source": [
        "radian1=np.linspace(0, 2*mypi, 100) \n",
        "r=3\n",
        "x=r*np.cos(radian1)\n",
        "y=r*np.sin(radian1)\n",
        "plt.plot(x, y)\n",
        "plt.show()"
      ],
      "execution_count": 25,
      "outputs": [
        {
          "output_type": "display_data",
          "data": {
            "image/png": "[encoded data removed]",
            "text/plain": [
              "<Figure size 432x288 with 1 Axes>"
            ]
          },
          "metadata": {
            "needs_background": "light"
          }
        }
      ]
    },
    {
      "cell_type": "code",
      "metadata": {
        "id": "6_rsuLTgdeOj",
        "colab": {
          "base_uri": "https://localhost:8080/",
          "height": 265
        },
        "outputId": "d60a7b7b-21dd-4973-8608-6303980ecd4d"
      },
      "source": [
        "radian1=np.linspace(0, 2*mypi, 100) \n",
        "r=3\n",
        "x=r*np.cos(radian1)\n",
        "y=r*np.sin(radian1)\n",
        "plt.plot(x, y)\n",
        "plt.axis('equal')\n",
        "plt.show()"
      ],
      "execution_count": 27,
      "outputs": [
        {
          "output_type": "display_data",
          "data": {
            "image/png": "[encoded data removed]",
            "text/plain": [
              "<Figure size 432x288 with 1 Axes>"
            ]
          },
          "metadata": {
            "needs_background": "light"
          }
        }
      ]
    },
    {
      "cell_type": "code",
      "metadata": {
        "id": "O44AzwPgElM9",
        "outputId": "6bf45f89-b001-4250-f152-2a8d191da3d1",
        "colab": {
          "base_uri": "https://localhost:8080/",
          "height": 265
        }
      },
      "source": [
        "radian1=np.linspace(0, 6*mypi, 100) \n",
        "r=3\n",
        "x=r*np.cos(radian1)\n",
        "y=r*np.sin(radian1)\n",
        "plt.plot(x, y)\n",
        "plt.axis('equal')\n",
        "plt.show()"
      ],
      "execution_count": 33,
      "outputs": [
        {
          "output_type": "display_data",
          "data": {
            "image/png": "[encoded data removed]",
            "text/plain": [
              "<Figure size 432x288 with 1 Axes>"
            ]
          },
          "metadata": {
            "needs_background": "light"
          }
        }
      ]
    },
    {
      "cell_type": "code",
      "metadata": {
        "id": "74hf9FXYEnEY",
        "outputId": "f1afaf5c-af0d-4dc2-fce0-4bf94e5e7465",
        "colab": {
          "base_uri": "https://localhost:8080/",
          "height": 265
        }
      },
      "source": [
        "radian1=np.linspace(0, mypi, 100) \n",
        "r=3\n",
        "x=r*np.cos(radian1)\n",
        "y=r*np.sin(radian1)\n",
        "plt.plot(x, y)\n",
        "plt.axis('equal')\n",
        "plt.show()"
      ],
      "execution_count": 34,
      "outputs": [
        {
          "output_type": "display_data",
          "data": {
            "image/png": "[encoded data removed]",
            "text/plain": [
              "<Figure size 432x288 with 1 Axes>"
            ]
          },
          "metadata": {
            "needs_background": "light"
          }
        }
      ]
    },
    {
      "cell_type": "code",
      "metadata": {
        "id": "y9GFD9n1dpRm",
        "colab": {
          "base_uri": "https://localhost:8080/",
          "height": 265
        },
        "outputId": "6de09ae3-5be6-40a3-9466-4d1930a6a372"
      },
      "source": [
        "radian1=np.linspace(0, 2*mypi, 100) \n",
        "r=1-3.5*np.sin(radian1)\n",
        "x=r*np.cos(radian1)\n",
        "y=r*np.sin(radian1)\n",
        "plt.plot(x, y)\n",
        "plt.axis('equal')\n",
        "plt.show()"
      ],
      "execution_count": 31,
      "outputs": [
        {
          "output_type": "display_data",
          "data": {
            "image/png": "[encoded data removed]",
            "text/plain": [
              "<Figure size 432x288 with 1 Axes>"
            ]
          },
          "metadata": {
            "needs_background": "light"
          }
        }
      ]
    },
    {
      "cell_type": "code",
      "metadata": {
        "id": "vTMw_ZgqeemA",
        "colab": {
          "base_uri": "https://localhost:8080/",
          "height": 265
        },
        "outputId": "5cfe3140-c788-4b67-bc46-7c3cb573fc5c"
      },
      "source": [
        "radian1=np.linspace(0, 2*mypi, 100) \n",
        "r=1-np.sin(radian1)\n",
        "x=r*np.cos(radian1)\n",
        "y=r*np.sin(radian1)\n",
        "plt.plot(x, y, 'red')\n",
        "plt.axis('equal')\n",
        "plt.show()"
      ],
      "execution_count": 32,
      "outputs": [
        {
          "output_type": "display_data",
          "data": {
            "image/png": "[encoded data removed]",
            "text/plain": [
              "<Figure size 432x288 with 1 Axes>"
            ]
          },
          "metadata": {
            "needs_background": "light"
          }
        }
      ]
    },
    {
      "cell_type": "markdown",
      "metadata": {
        "id": "Ttm67LnpERQO"
      },
      "source": [
        "p.1-31 資料型態"
      ]
    },
    {
      "cell_type": "code",
      "metadata": {
        "id": "mISBFBfZe3DI"
      },
      "source": [
        "i=73\n",
        "str1 = \"你好\"\n",
        "lst = [9, 4, 8, 7]"
      ],
      "execution_count": null,
      "outputs": []
    },
    {
      "cell_type": "code",
      "metadata": {
        "colab": {
          "base_uri": "https://localhost:8080/",
          "height": 35
        },
        "id": "t6Ib5c43ETur",
        "outputId": "32ba9eca-d224-4681-8cda-52f186d2c122"
      },
      "source": [
        "str1"
      ],
      "execution_count": null,
      "outputs": [
        {
          "output_type": "execute_result",
          "data": {
            "application/vnd.google.colaboratory.intrinsic+json": {
              "type": "string"
            },
            "text/plain": [
              "'你好'"
            ]
          },
          "metadata": {},
          "execution_count": 35
        }
      ]
    },
    {
      "cell_type": "code",
      "metadata": {
        "id": "P_x9axB_EsFl",
        "colab": {
          "base_uri": "https://localhost:8080/",
          "height": 35
        },
        "outputId": "29dc6ff0-4da7-4122-b4bd-cbbb8f54d324"
      },
      "source": [
        "str1*3"
      ],
      "execution_count": null,
      "outputs": [
        {
          "output_type": "execute_result",
          "data": {
            "application/vnd.google.colaboratory.intrinsic+json": {
              "type": "string"
            },
            "text/plain": [
              "'你好你好你好'"
            ]
          },
          "metadata": {},
          "execution_count": 36
        }
      ]
    },
    {
      "cell_type": "code",
      "metadata": {
        "id": "2aJ5iZEoEtpO",
        "colab": {
          "base_uri": "https://localhost:8080/"
        },
        "outputId": "e478388c-2a69-41ba-ff8c-3a0e85d9d06f"
      },
      "source": [
        "lst*3"
      ],
      "execution_count": null,
      "outputs": [
        {
          "output_type": "execute_result",
          "data": {
            "text/plain": [
              "[9, 4, 8, 7, 9, 4, 8, 7, 9, 4, 8, 7]"
            ]
          },
          "metadata": {},
          "execution_count": 37
        }
      ]
    },
    {
      "cell_type": "code",
      "metadata": {
        "id": "IYVba0xNExVp"
      },
      "source": [
        "# this will give error\n",
        "# str1 + 87 "
      ],
      "execution_count": null,
      "outputs": []
    },
    {
      "cell_type": "code",
      "metadata": {
        "id": "cbvIHOn8E3Fz",
        "colab": {
          "base_uri": "https://localhost:8080/",
          "height": 35
        },
        "outputId": "705724b9-048e-46ec-dfbe-459814616e25"
      },
      "source": [
        "str1 + \"87\""
      ],
      "execution_count": null,
      "outputs": [
        {
          "output_type": "execute_result",
          "data": {
            "application/vnd.google.colaboratory.intrinsic+json": {
              "type": "string"
            },
            "text/plain": [
              "'你好87'"
            ]
          },
          "metadata": {},
          "execution_count": 42
        }
      ]
    },
    {
      "cell_type": "markdown",
      "metadata": {
        "id": "3YwxmqmJFPmr"
      },
      "source": [
        "p.1-34 字典"
      ]
    },
    {
      "cell_type": "code",
      "metadata": {
        "id": "B8BBM4PYE_5A"
      },
      "source": [
        "my_dict = {\"元智\":\"YZU\", \"工工管\": \"IEM\", \"大一\":\"Freshman\"}"
      ],
      "execution_count": null,
      "outputs": []
    },
    {
      "cell_type": "code",
      "metadata": {
        "id": "wSlW5UoDFp7b",
        "colab": {
          "base_uri": "https://localhost:8080/"
        },
        "outputId": "9980e370-4bbd-4e1b-8ca9-a6fd3f3c7cc1"
      },
      "source": [
        "print(my_dict)"
      ],
      "execution_count": null,
      "outputs": [
        {
          "output_type": "stream",
          "name": "stdout",
          "text": [
            "{'元智': 'YZU', '工工管': 'IEM', '大一': 'Freshman'}\n"
          ]
        }
      ]
    },
    {
      "cell_type": "code",
      "metadata": {
        "id": "h5os-YmmFrC9",
        "colab": {
          "base_uri": "https://localhost:8080/",
          "height": 35
        },
        "outputId": "74d41a6e-6abc-49a4-eff0-890b0e9f7741"
      },
      "source": [
        "my_dict[\"元智\"]"
      ],
      "execution_count": null,
      "outputs": [
        {
          "output_type": "execute_result",
          "data": {
            "application/vnd.google.colaboratory.intrinsic+json": {
              "type": "string"
            },
            "text/plain": [
              "'YZU'"
            ]
          },
          "metadata": {},
          "execution_count": 46
        }
      ]
    },
    {
      "cell_type": "code",
      "metadata": {
        "id": "SbpdOzCpFw8O"
      },
      "source": [
        "#this will give error\n",
        "#my_dict[\"YZU\"]"
      ],
      "execution_count": null,
      "outputs": []
    },
    {
      "cell_type": "code",
      "metadata": {
        "id": "8zJAWOAAF4BN"
      },
      "source": [
        "my_dict[\"蘋果\"]=\"apple\""
      ],
      "execution_count": null,
      "outputs": []
    },
    {
      "cell_type": "code",
      "metadata": {
        "id": "gEgrR8c_GCp_",
        "colab": {
          "base_uri": "https://localhost:8080/"
        },
        "outputId": "497face9-268b-48b8-ea88-bcb8694e09d4"
      },
      "source": [
        "print(my_dict)"
      ],
      "execution_count": null,
      "outputs": [
        {
          "output_type": "stream",
          "name": "stdout",
          "text": [
            "{'元智': 'YZU', '工工管': 'IEM', '大一': 'Freshman', '蘋果': 'apple'}\n"
          ]
        }
      ]
    },
    {
      "cell_type": "code",
      "metadata": {
        "id": "-JDtAxFUGEa4"
      },
      "source": [
        "del my_dict[\"蘋果\"]"
      ],
      "execution_count": null,
      "outputs": []
    },
    {
      "cell_type": "code",
      "metadata": {
        "id": "K0x0DMa_GMFx",
        "colab": {
          "base_uri": "https://localhost:8080/"
        },
        "outputId": "2758b3f0-67b3-458c-c066-6673e3ee2be4"
      },
      "source": [
        "my_dict"
      ],
      "execution_count": null,
      "outputs": [
        {
          "output_type": "execute_result",
          "data": {
            "text/plain": [
              "{'元智': 'YZU', '大一': 'Freshman', '工工管': 'IEM'}"
            ]
          },
          "metadata": {},
          "execution_count": 52
        }
      ]
    },
    {
      "cell_type": "code",
      "metadata": {
        "id": "bK6n67etGNHg",
        "colab": {
          "base_uri": "https://localhost:8080/"
        },
        "outputId": "3a44f9d0-6839-46b7-d372-6a760d089b26"
      },
      "source": [
        "my_dict.keys()"
      ],
      "execution_count": null,
      "outputs": [
        {
          "output_type": "execute_result",
          "data": {
            "text/plain": [
              "dict_keys(['元智', '工工管', '大一'])"
            ]
          },
          "metadata": {},
          "execution_count": 53
        }
      ]
    },
    {
      "cell_type": "code",
      "metadata": {
        "id": "geALnE4aGYZY",
        "colab": {
          "base_uri": "https://localhost:8080/"
        },
        "outputId": "19ada3d9-2ec2-448c-bf72-d6898ea46cdf"
      },
      "source": [
        "my_dict.values()"
      ],
      "execution_count": null,
      "outputs": [
        {
          "output_type": "execute_result",
          "data": {
            "text/plain": [
              "dict_values(['YZU', 'IEM', 'Freshman'])"
            ]
          },
          "metadata": {},
          "execution_count": 54
        }
      ]
    },
    {
      "cell_type": "code",
      "metadata": {
        "id": "EfuALSDeGb4q"
      },
      "source": [
        ""
      ],
      "execution_count": null,
      "outputs": []
    }
  ]
}