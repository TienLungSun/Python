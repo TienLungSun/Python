{
  "nbformat": 4,
  "nbformat_minor": 0,
  "metadata": {
    "colab": {
      "name": "Untitled3.ipynb",
      "provenance": [],
      "include_colab_link": true
    },
    "kernelspec": {
      "name": "python3",
      "display_name": "Python 3"
    },
    "language_info": {
      "name": "python"
    }
  },
  "cells": [
    {
      "cell_type": "markdown",
      "metadata": {
        "id": "view-in-github",
        "colab_type": "text"
      },
      "source": [
        "<a href=\"https://colab.research.google.com/github/TienLungSun/Python-/blob/main/IE118%20week3.ipynb\" target=\"_parent\"><img src=\"https://colab.research.google.com/assets/colab-badge.svg\" alt=\"Open In Colab\"/></a>"
      ]
    },
    {
      "cell_type": "markdown",
      "metadata": {
        "id": "AFMN7Yi0WtGQ"
      },
      "source": [
        "p.1-23 畫函數 y=f(x)"
      ]
    },
    {
      "cell_type": "code",
      "metadata": {
        "id": "pvYU5EpqzYsz"
      },
      "source": [
        "import numpy as np\n",
        "import matplotlib.pyplot as plt"
      ],
      "execution_count": 1,
      "outputs": []
    },
    {
      "cell_type": "code",
      "metadata": {
        "id": "jF0lcYUybgTh",
        "colab": {
          "base_uri": "https://localhost:8080/"
        },
        "outputId": "4219c378-67b1-42a5-dcfb-5b24185acebc"
      },
      "source": [
        "#     (min, max, min-max 取幾個數字)\n",
        "# 注意: 不是 linespace \n",
        "np.linspace(-1, 1, 5)"
      ],
      "execution_count": 3,
      "outputs": [
        {
          "output_type": "execute_result",
          "data": {
            "text/plain": [
              "array([-1. , -0.5,  0. ,  0.5,  1. ])"
            ]
          },
          "metadata": {},
          "execution_count": 3
        }
      ]
    },
    {
      "cell_type": "code",
      "metadata": {
        "colab": {
          "base_uri": "https://localhost:8080/"
        },
        "id": "BGSzdcWHzgEQ",
        "outputId": "a8e2bbcb-c344-477a-c21f-fb8602b64cae"
      },
      "source": [
        "# x - np.linspace(-10, 10, 5) error !!!\n",
        "x = np.linspace(-10, 10, 5)\n",
        "print(x) "
      ],
      "execution_count": 4,
      "outputs": [
        {
          "output_type": "stream",
          "name": "stdout",
          "text": [
            "[-10.  -5.   0.   5.  10.]\n"
          ]
        }
      ]
    },
    {
      "cell_type": "code",
      "metadata": {
        "colab": {
          "base_uri": "https://localhost:8080/"
        },
        "id": "vLCPQ4vY3NZW",
        "outputId": "68d50737-670f-4e8f-fd56-c4cb45f2348c"
      },
      "source": [
        "y = x**2 + 1\n",
        "print(y)"
      ],
      "execution_count": 5,
      "outputs": [
        {
          "output_type": "stream",
          "name": "stdout",
          "text": [
            "[101.  26.   1.  26. 101.]\n"
          ]
        }
      ]
    },
    {
      "cell_type": "code",
      "metadata": {
        "id": "ropyGohD3QUK",
        "colab": {
          "base_uri": "https://localhost:8080/",
          "height": 265
        },
        "outputId": "81df46b9-562c-4459-9d70-eba95c7316f7"
      },
      "source": [
        "x = np.linspace(-10, 10, 5)\n",
        "y = x**2 + 1\n",
        "plt.plot(x, y)\n",
        "plt.show()"
      ],
      "execution_count": 6,
      "outputs": [
        {
          "output_type": "display_data",
          "data": {
            "image/png": "[encoded data removed]",
            "text/plain": [
              "<Figure size 432x288 with 1 Axes>"
            ]
          },
          "metadata": {
            "needs_background": "light"
          }
        }
      ]
    },
    {
      "cell_type": "markdown",
      "metadata": {
        "id": "4eqQqLEIBBXv"
      },
      "source": [
        "畫三角函數"
      ]
    },
    {
      "cell_type": "code",
      "metadata": {
        "colab": {
          "base_uri": "https://localhost:8080/"
        },
        "id": "fOnnqU053faI",
        "outputId": "35cb6707-2529-4f56-a25c-bffde45c753c"
      },
      "source": [
        "np.pi"
      ],
      "execution_count": 7,
      "outputs": [
        {
          "output_type": "execute_result",
          "data": {
            "text/plain": [
              "3.141592653589793"
            ]
          },
          "metadata": {},
          "execution_count": 7
        }
      ]
    },
    {
      "cell_type": "code",
      "metadata": {
        "colab": {
          "base_uri": "https://localhost:8080/"
        },
        "id": "FJMWYccD3g12",
        "outputId": "25290ebf-c823-4710-f282-3cb128817707"
      },
      "source": [
        "MyPI = np.pi\n",
        "print(MyPI)"
      ],
      "execution_count": 8,
      "outputs": [
        {
          "output_type": "stream",
          "name": "stdout",
          "text": [
            "3.141592653589793\n"
          ]
        }
      ]
    },
    {
      "cell_type": "code",
      "metadata": {
        "colab": {
          "base_uri": "https://localhost:8080/"
        },
        "id": "SF6UH0i83s1D",
        "outputId": "cab34a3b-9bad-4b91-f7c1-8bceecc729d9"
      },
      "source": [
        "# numpy 的 sin(徑度角)\n",
        "np.sin(MyPI)"
      ],
      "execution_count": 9,
      "outputs": [
        {
          "output_type": "execute_result",
          "data": {
            "text/plain": [
              "1.2246467991473532e-16"
            ]
          },
          "metadata": {},
          "execution_count": 9
        }
      ]
    },
    {
      "cell_type": "code",
      "metadata": {
        "id": "Xz-3svOl4T7K",
        "colab": {
          "base_uri": "https://localhost:8080/"
        },
        "outputId": "1c098bbd-b1e6-4fd6-b9d1-d1aab4164dd0"
      },
      "source": [
        "np.sin(MyPI*0.5)"
      ],
      "execution_count": 11,
      "outputs": [
        {
          "output_type": "execute_result",
          "data": {
            "text/plain": [
              "1.0"
            ]
          },
          "metadata": {},
          "execution_count": 11
        }
      ]
    },
    {
      "cell_type": "code",
      "metadata": {
        "id": "1PdR3s_Hbw47",
        "colab": {
          "base_uri": "https://localhost:8080/",
          "height": 265
        },
        "outputId": "7e7c4364-f141-4ae4-8e1b-d1cecc7db341"
      },
      "source": [
        "theta = np.linspace(0, 8*MyPI, 100)\n",
        "y = np.sin(theta)\n",
        "plt.plot(theta, y)\n",
        "plt.show()"
      ],
      "execution_count": 12,
      "outputs": [
        {
          "output_type": "display_data",
          "data": {
            "image/png": "[encoded data removed]",
            "text/plain": [
              "<Figure size 432x288 with 1 Axes>"
            ]
          },
          "metadata": {
            "needs_background": "light"
          }
        }
      ]
    },
    {
      "cell_type": "markdown",
      "metadata": {
        "id": "D4yQs0WgB23a"
      },
      "source": [
        "p.1-27 畫圓"
      ]
    },
    {
      "cell_type": "code",
      "metadata": {
        "id": "nDHXx5ZOcFJG",
        "colab": {
          "base_uri": "https://localhost:8080/"
        },
        "outputId": "d7b59cfe-66b9-41bc-c89c-ab1384713695"
      },
      "source": [
        "r=3 #圓的半徑\n",
        "mypipi=np.pi\n",
        "print(r,\",\", mypipi)"
      ],
      "execution_count": 15,
      "outputs": [
        {
          "output_type": "stream",
          "name": "stdout",
          "text": [
            "3 , 3.141592653589793\n"
          ]
        }
      ]
    },
    {
      "cell_type": "code",
      "metadata": {
        "colab": {
          "base_uri": "https://localhost:8080/"
        },
        "id": "DkCKaos-CFKR",
        "outputId": "56dcca91-a954-4e0b-f3a1-8cc547ae1bfe"
      },
      "source": [
        "theta=90\n",
        "radian=(theta/180)*mypipi\n",
        "print(theta, radian)"
      ],
      "execution_count": 16,
      "outputs": [
        {
          "output_type": "stream",
          "name": "stdout",
          "text": [
            "90 1.5707963267948966\n"
          ]
        }
      ]
    },
    {
      "cell_type": "code",
      "metadata": {
        "id": "0_c9bN6WcWMH",
        "colab": {
          "base_uri": "https://localhost:8080/"
        },
        "outputId": "0ce0004e-d082-48c8-ed45-5b99599689ca"
      },
      "source": [
        "np.sin(radian)"
      ],
      "execution_count": 17,
      "outputs": [
        {
          "output_type": "execute_result",
          "data": {
            "text/plain": [
              "1.0"
            ]
          },
          "metadata": {},
          "execution_count": 17
        }
      ]
    },
    {
      "cell_type": "code",
      "metadata": {
        "id": "Ake0eCTJcv6i",
        "colab": {
          "base_uri": "https://localhost:8080/"
        },
        "outputId": "d5e67ee6-d8be-4e3d-dbf6-a9804c862db4"
      },
      "source": [
        "np.cos(radian)"
      ],
      "execution_count": 18,
      "outputs": [
        {
          "output_type": "execute_result",
          "data": {
            "text/plain": [
              "6.123233995736766e-17"
            ]
          },
          "metadata": {},
          "execution_count": 18
        }
      ]
    },
    {
      "cell_type": "code",
      "metadata": {
        "id": "HlsBx3tYdUDc",
        "colab": {
          "base_uri": "https://localhost:8080/",
          "height": 265
        },
        "outputId": "41fd68bf-d489-41be-ade8-bafbffde1def"
      },
      "source": [
        "radian1=np.linspace(0, 2*mypipi, 100) \n",
        "r=3\n",
        "x=r*np.cos(radian1)\n",
        "y=r*np.sin(radian1)\n",
        "plt.plot(x, y)\n",
        "plt.show()"
      ],
      "execution_count": 19,
      "outputs": [
        {
          "output_type": "display_data",
          "data": {
            "image/png": "[encoded data removed]",
            "text/plain": [
              "<Figure size 432x288 with 1 Axes>"
            ]
          },
          "metadata": {
            "needs_background": "light"
          }
        }
      ]
    },
    {
      "cell_type": "code",
      "metadata": {
        "id": "6_rsuLTgdeOj",
        "colab": {
          "base_uri": "https://localhost:8080/",
          "height": 265
        },
        "outputId": "f279b468-40ca-4890-b24a-4837dd49a67e"
      },
      "source": [
        "radian1=np.linspace(0, 2*mypipi, 100) \n",
        "r=3\n",
        "x=r*np.cos(radian1)\n",
        "y=r*np.sin(radian1)\n",
        "plt.plot(x, y)\n",
        "plt.axis('equal')\n",
        "plt.show()"
      ],
      "execution_count": 21,
      "outputs": [
        {
          "output_type": "display_data",
          "data": {
            "image/png": "[encoded data removed]",
            "text/plain": [
              "<Figure size 432x288 with 1 Axes>"
            ]
          },
          "metadata": {
            "needs_background": "light"
          }
        }
      ]
    },
    {
      "cell_type": "code",
      "metadata": {
        "id": "74hf9FXYEnEY",
        "colab": {
          "base_uri": "https://localhost:8080/",
          "height": 265
        },
        "outputId": "f74fc61f-7df2-4b30-a1cd-ff43a7709da9"
      },
      "source": [
        "radian1=np.linspace(0, mypipi, 100) \n",
        "r=3\n",
        "x=r*np.cos(radian1)\n",
        "y=r*np.sin(radian1)\n",
        "plt.plot(x, y)\n",
        "plt.axis('equal')\n",
        "plt.show()"
      ],
      "execution_count": 25,
      "outputs": [
        {
          "output_type": "display_data",
          "data": {
            "image/png": "[encoded data removed]",
            "text/plain": [
              "<Figure size 432x288 with 1 Axes>"
            ]
          },
          "metadata": {
            "needs_background": "light"
          }
        }
      ]
    },
    {
      "cell_type": "code",
      "metadata": {
        "id": "y9GFD9n1dpRm",
        "colab": {
          "base_uri": "https://localhost:8080/",
          "height": 265
        },
        "outputId": "1cc51003-7318-4ba7-feff-6bd5f53e2fcf"
      },
      "source": [
        "radian1=np.linspace(0, 2*mypipi, 100) \n",
        "r=1-3.5*np.sin(radian1)\n",
        "x=r*np.cos(radian1)\n",
        "y=r*np.sin(radian1)\n",
        "plt.plot(x, y)\n",
        "plt.axis('equal')\n",
        "plt.show()"
      ],
      "execution_count": 29,
      "outputs": [
        {
          "output_type": "display_data",
          "data": {
            "image/png": "[encoded data removed]",
            "text/plain": [
              "<Figure size 432x288 with 1 Axes>"
            ]
          },
          "metadata": {
            "needs_background": "light"
          }
        }
      ]
    },
    {
      "cell_type": "code",
      "metadata": {
        "id": "vTMw_ZgqeemA",
        "colab": {
          "base_uri": "https://localhost:8080/",
          "height": 265
        },
        "outputId": "2b0b8260-198c-48c2-f21d-c9086efb9f64"
      },
      "source": [
        "radian1=np.linspace(0, 2*mypipi, 100) \n",
        "r=1-np.sin(radian1)\n",
        "x=r*np.cos(radian1)\n",
        "y=r*np.sin(radian1)\n",
        "plt.plot(x, y, 'yellow') #red, green, black, blue\n",
        "plt.axis('equal')\n",
        "plt.show()"
      ],
      "execution_count": 33,
      "outputs": [
        {
          "output_type": "display_data",
          "data": {
            "image/png": "[encoded data removed]",
            "text/plain": [
              "<Figure size 432x288 with 1 Axes>"
            ]
          },
          "metadata": {
            "needs_background": "light"
          }
        }
      ]
    },
    {
      "cell_type": "markdown",
      "metadata": {
        "id": "Ttm67LnpERQO"
      },
      "source": [
        "p.1-31 資料型態"
      ]
    },
    {
      "cell_type": "code",
      "metadata": {
        "id": "mISBFBfZe3DI"
      },
      "source": [
        "i=73\n",
        "str1 = \"你好\"\n",
        "lst = [9, 4, 8, 7]"
      ],
      "execution_count": null,
      "outputs": []
    },
    {
      "cell_type": "code",
      "metadata": {
        "colab": {
          "base_uri": "https://localhost:8080/",
          "height": 35
        },
        "id": "t6Ib5c43ETur",
        "outputId": "32ba9eca-d224-4681-8cda-52f186d2c122"
      },
      "source": [
        "str1"
      ],
      "execution_count": null,
      "outputs": [
        {
          "output_type": "execute_result",
          "data": {
            "application/vnd.google.colaboratory.intrinsic+json": {
              "type": "string"
            },
            "text/plain": [
              "'你好'"
            ]
          },
          "metadata": {},
          "execution_count": 35
        }
      ]
    },
    {
      "cell_type": "code",
      "metadata": {
        "id": "P_x9axB_EsFl",
        "colab": {
          "base_uri": "https://localhost:8080/",
          "height": 35
        },
        "outputId": "29dc6ff0-4da7-4122-b4bd-cbbb8f54d324"
      },
      "source": [
        "str1*3"
      ],
      "execution_count": null,
      "outputs": [
        {
          "output_type": "execute_result",
          "data": {
            "application/vnd.google.colaboratory.intrinsic+json": {
              "type": "string"
            },
            "text/plain": [
              "'你好你好你好'"
            ]
          },
          "metadata": {},
          "execution_count": 36
        }
      ]
    },
    {
      "cell_type": "code",
      "metadata": {
        "id": "2aJ5iZEoEtpO",
        "colab": {
          "base_uri": "https://localhost:8080/"
        },
        "outputId": "e478388c-2a69-41ba-ff8c-3a0e85d9d06f"
      },
      "source": [
        "lst*3"
      ],
      "execution_count": null,
      "outputs": [
        {
          "output_type": "execute_result",
          "data": {
            "text/plain": [
              "[9, 4, 8, 7, 9, 4, 8, 7, 9, 4, 8, 7]"
            ]
          },
          "metadata": {},
          "execution_count": 37
        }
      ]
    },
    {
      "cell_type": "code",
      "metadata": {
        "id": "IYVba0xNExVp"
      },
      "source": [
        "# this will give error\n",
        "# str1 + 87 "
      ],
      "execution_count": null,
      "outputs": []
    },
    {
      "cell_type": "code",
      "metadata": {
        "id": "cbvIHOn8E3Fz",
        "colab": {
          "base_uri": "https://localhost:8080/",
          "height": 35
        },
        "outputId": "705724b9-048e-46ec-dfbe-459814616e25"
      },
      "source": [
        "str1 + \"87\""
      ],
      "execution_count": null,
      "outputs": [
        {
          "output_type": "execute_result",
          "data": {
            "application/vnd.google.colaboratory.intrinsic+json": {
              "type": "string"
            },
            "text/plain": [
              "'你好87'"
            ]
          },
          "metadata": {},
          "execution_count": 42
        }
      ]
    },
    {
      "cell_type": "markdown",
      "metadata": {
        "id": "3YwxmqmJFPmr"
      },
      "source": [
        "p.1-34 字典"
      ]
    },
    {
      "cell_type": "code",
      "metadata": {
        "id": "B8BBM4PYE_5A"
      },
      "source": [
        "my_dict = {\"元智\":\"YZU\", \"工工管\": \"IEM\", \"大一\":\"Freshman\"}"
      ],
      "execution_count": null,
      "outputs": []
    },
    {
      "cell_type": "code",
      "metadata": {
        "id": "wSlW5UoDFp7b",
        "colab": {
          "base_uri": "https://localhost:8080/"
        },
        "outputId": "9980e370-4bbd-4e1b-8ca9-a6fd3f3c7cc1"
      },
      "source": [
        "print(my_dict)"
      ],
      "execution_count": null,
      "outputs": [
        {
          "output_type": "stream",
          "name": "stdout",
          "text": [
            "{'元智': 'YZU', '工工管': 'IEM', '大一': 'Freshman'}\n"
          ]
        }
      ]
    },
    {
      "cell_type": "code",
      "metadata": {
        "id": "h5os-YmmFrC9",
        "colab": {
          "base_uri": "https://localhost:8080/",
          "height": 35
        },
        "outputId": "74d41a6e-6abc-49a4-eff0-890b0e9f7741"
      },
      "source": [
        "my_dict[\"元智\"]"
      ],
      "execution_count": null,
      "outputs": [
        {
          "output_type": "execute_result",
          "data": {
            "application/vnd.google.colaboratory.intrinsic+json": {
              "type": "string"
            },
            "text/plain": [
              "'YZU'"
            ]
          },
          "metadata": {},
          "execution_count": 46
        }
      ]
    },
    {
      "cell_type": "code",
      "metadata": {
        "id": "SbpdOzCpFw8O"
      },
      "source": [
        "#this will give error\n",
        "#my_dict[\"YZU\"]"
      ],
      "execution_count": null,
      "outputs": []
    },
    {
      "cell_type": "code",
      "metadata": {
        "id": "8zJAWOAAF4BN"
      },
      "source": [
        "my_dict[\"蘋果\"]=\"apple\""
      ],
      "execution_count": null,
      "outputs": []
    },
    {
      "cell_type": "code",
      "metadata": {
        "id": "gEgrR8c_GCp_",
        "colab": {
          "base_uri": "https://localhost:8080/"
        },
        "outputId": "497face9-268b-48b8-ea88-bcb8694e09d4"
      },
      "source": [
        "print(my_dict)"
      ],
      "execution_count": null,
      "outputs": [
        {
          "output_type": "stream",
          "name": "stdout",
          "text": [
            "{'元智': 'YZU', '工工管': 'IEM', '大一': 'Freshman', '蘋果': 'apple'}\n"
          ]
        }
      ]
    },
    {
      "cell_type": "code",
      "metadata": {
        "id": "-JDtAxFUGEa4"
      },
      "source": [
        "del my_dict[\"蘋果\"]"
      ],
      "execution_count": null,
      "outputs": []
    },
    {
      "cell_type": "code",
      "metadata": {
        "id": "K0x0DMa_GMFx",
        "colab": {
          "base_uri": "https://localhost:8080/"
        },
        "outputId": "2758b3f0-67b3-458c-c066-6673e3ee2be4"
      },
      "source": [
        "my_dict"
      ],
      "execution_count": null,
      "outputs": [
        {
          "output_type": "execute_result",
          "data": {
            "text/plain": [
              "{'元智': 'YZU', '大一': 'Freshman', '工工管': 'IEM'}"
            ]
          },
          "metadata": {},
          "execution_count": 52
        }
      ]
    },
    {
      "cell_type": "code",
      "metadata": {
        "id": "bK6n67etGNHg",
        "colab": {
          "base_uri": "https://localhost:8080/"
        },
        "outputId": "3a44f9d0-6839-46b7-d372-6a760d089b26"
      },
      "source": [
        "my_dict.keys()"
      ],
      "execution_count": null,
      "outputs": [
        {
          "output_type": "execute_result",
          "data": {
            "text/plain": [
              "dict_keys(['元智', '工工管', '大一'])"
            ]
          },
          "metadata": {},
          "execution_count": 53
        }
      ]
    },
    {
      "cell_type": "code",
      "metadata": {
        "id": "geALnE4aGYZY",
        "colab": {
          "base_uri": "https://localhost:8080/"
        },
        "outputId": "19ada3d9-2ec2-448c-bf72-d6898ea46cdf"
      },
      "source": [
        "my_dict.values()"
      ],
      "execution_count": null,
      "outputs": [
        {
          "output_type": "execute_result",
          "data": {
            "text/plain": [
              "dict_values(['YZU', 'IEM', 'Freshman'])"
            ]
          },
          "metadata": {},
          "execution_count": 54
        }
      ]
    },
    {
      "cell_type": "code",
      "metadata": {
        "id": "EfuALSDeGb4q"
      },
      "source": [
        ""
      ],
      "execution_count": null,
      "outputs": []
    }
  ]
}