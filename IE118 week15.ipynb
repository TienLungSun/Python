{
  "nbformat": 4,
  "nbformat_minor": 0,
  "metadata": {
    "colab": {
      "name": "Untitled3.ipynb",
      "provenance": [],
      "include_colab_link": true
    },
    "kernelspec": {
      "name": "python3",
      "display_name": "Python 3"
    },
    "language_info": {
      "name": "python"
    }
  },
  "cells": [
    {
      "cell_type": "markdown",
      "metadata": {
        "id": "view-in-github",
        "colab_type": "text"
      },
      "source": [
        "<a href=\"https://colab.research.google.com/github/TienLungSun/Python/blob/main/IE118%20week15.ipynb\" target=\"_parent\"><img src=\"https://colab.research.google.com/assets/colab-badge.svg\" alt=\"Open In Colab\"/></a>"
      ]
    },
    {
      "cell_type": "markdown",
      "metadata": {
        "id": "zdtnjov8kvzo"
      },
      "source": [
        "p.2-6 Class"
      ]
    },
    {
      "cell_type": "code",
      "metadata": {
        "id": "RkwxN3XCkckc"
      },
      "source": [
        "class Card:\n",
        "  suit=3  #花色\n",
        "  rank=5  #牌面點數"
      ],
      "execution_count": null,
      "outputs": []
    },
    {
      "cell_type": "code",
      "source": [
        "card01 = Card()"
      ],
      "metadata": {
        "id": "xJZ5W2wJXwoY"
      },
      "execution_count": null,
      "outputs": []
    },
    {
      "cell_type": "code",
      "source": [
        "type(card01)"
      ],
      "metadata": {
        "id": "vKV1fJxQUupU",
        "outputId": "cb20f885-cbeb-459a-c4f6-d9276060ed90",
        "colab": {
          "base_uri": "https://localhost:8080/"
        }
      },
      "execution_count": null,
      "outputs": [
        {
          "output_type": "execute_result",
          "data": {
            "text/plain": [
              "__main__.Card"
            ]
          },
          "metadata": {},
          "execution_count": 11
        }
      ]
    },
    {
      "cell_type": "code",
      "source": [
        "print(card01.suit, card01.rank)"
      ],
      "metadata": {
        "id": "j0ykFbIwUjhM",
        "outputId": "e53d8c50-ed12-4fb2-e07e-b0fe9dd840d5",
        "colab": {
          "base_uri": "https://localhost:8080/"
        }
      },
      "execution_count": null,
      "outputs": [
        {
          "output_type": "stream",
          "name": "stdout",
          "text": [
            "3 5\n"
          ]
        }
      ]
    },
    {
      "cell_type": "code",
      "source": [
        "card01.suit=2\n",
        "card01.rank=5"
      ],
      "metadata": {
        "id": "tkn02TzHtMrH"
      },
      "execution_count": null,
      "outputs": []
    },
    {
      "cell_type": "code",
      "source": [
        "print(card01.suit, card01.rank)"
      ],
      "metadata": {
        "id": "-3UK3LGytRbh",
        "outputId": "39147443-1f01-4dbd-cb76-59212f457398",
        "colab": {
          "base_uri": "https://localhost:8080/"
        }
      },
      "execution_count": null,
      "outputs": [
        {
          "output_type": "stream",
          "name": "stdout",
          "text": [
            "2 5\n"
          ]
        }
      ]
    },
    {
      "cell_type": "code",
      "source": [
        "class Card:\n",
        "  def __init__(self, s, r):\n",
        "    self.suit=s  #花色\n",
        "    self.rank=r  #牌面點數"
      ],
      "metadata": {
        "id": "q8aBSrEptV6m"
      },
      "execution_count": null,
      "outputs": []
    },
    {
      "cell_type": "code",
      "source": [
        "card01 = Card(2, 3)\n",
        "card02 = Card(3, 10)"
      ],
      "metadata": {
        "id": "jL7KGa5OtYm7"
      },
      "execution_count": null,
      "outputs": []
    },
    {
      "cell_type": "code",
      "source": [
        "print(card01.suit, card01.rank, card02.suit, card02.rank)"
      ],
      "metadata": {
        "id": "a7ixXdyLuQUg",
        "outputId": "2a593d73-8b5f-48d1-c6a1-1e07fb121c2f",
        "colab": {
          "base_uri": "https://localhost:8080/"
        }
      },
      "execution_count": null,
      "outputs": [
        {
          "output_type": "stream",
          "name": "stdout",
          "text": [
            "2 3 3 10\n"
          ]
        }
      ]
    },
    {
      "cell_type": "code",
      "source": [
        "SUITS = ['Spade', 'Dimand', 'Heart', 'Club']\n",
        "RANKS = ['A', '2', '3', '4', '5', '6', '7', '8', '9', '10', 'J', 'Q', 'K']"
      ],
      "metadata": {
        "id": "yIVvO3YqXNLM"
      },
      "execution_count": null,
      "outputs": []
    },
    {
      "cell_type": "code",
      "source": [
        "class Card:\n",
        "  def __init__(self, s, r):\n",
        "    self.suit=s  #花色\n",
        "    self.rank=r  #牌面點數\n",
        "\n",
        "  def show(self):\n",
        "    print(SUITS[self.suit] + RANKS[self.rank])"
      ],
      "metadata": {
        "id": "3b9Ig6mqtijA"
      },
      "execution_count": null,
      "outputs": []
    },
    {
      "cell_type": "code",
      "source": [
        "card01 = Card(2, 3)\n",
        "card02 = Card(3, 10)"
      ],
      "metadata": {
        "id": "rH2U-sTGtptq"
      },
      "execution_count": null,
      "outputs": []
    },
    {
      "cell_type": "code",
      "source": [
        "card01.show()"
      ],
      "metadata": {
        "id": "-FwpgPNoX_uE",
        "outputId": "6d1ddfe6-6b66-4eec-e805-a80cfc4ef43f",
        "colab": {
          "base_uri": "https://localhost:8080/"
        }
      },
      "execution_count": null,
      "outputs": [
        {
          "output_type": "stream",
          "name": "stdout",
          "text": [
            "Heart4\n"
          ]
        }
      ]
    },
    {
      "cell_type": "markdown",
      "metadata": {
        "id": "P3GZqZNDm5kG"
      },
      "source": [
        "p.2-12 print"
      ]
    },
    {
      "cell_type": "code",
      "metadata": {
        "id": "qb6XMz_vmhNj"
      },
      "source": [
        "lst = [\"台北\", \"桃園\", \"高雄\"]"
      ],
      "execution_count": null,
      "outputs": []
    },
    {
      "cell_type": "code",
      "metadata": {
        "colab": {
          "base_uri": "https://localhost:8080/",
          "height": 35
        },
        "id": "To5GG3EPnBs3",
        "outputId": "5663ab8b-462b-47fb-df88-5bb9a4a04bc9"
      },
      "source": [
        "\",\".join(lst)"
      ],
      "execution_count": null,
      "outputs": [
        {
          "output_type": "execute_result",
          "data": {
            "application/vnd.google.colaboratory.intrinsic+json": {
              "type": "string"
            },
            "text/plain": [
              "'台北,桃園,高雄'"
            ]
          },
          "metadata": {},
          "execution_count": 28
        }
      ]
    },
    {
      "cell_type": "code",
      "metadata": {
        "id": "dzCBgmminOw4",
        "outputId": "7d2f416c-24e6-45e7-e1ce-dc7751da8a7e",
        "colab": {
          "base_uri": "https://localhost:8080/"
        }
      },
      "source": [
        "print(\",\".join(lst))"
      ],
      "execution_count": null,
      "outputs": [
        {
          "output_type": "stream",
          "name": "stdout",
          "text": [
            "台北,桃園,高雄\n"
          ]
        }
      ]
    },
    {
      "cell_type": "code",
      "metadata": {
        "id": "XVLUbeOJeaNd",
        "outputId": "a757f560-00c5-4167-dfe5-66f50e89c9b1",
        "colab": {
          "base_uri": "https://localhost:8080/"
        }
      },
      "source": [
        "print(range(10))"
      ],
      "execution_count": null,
      "outputs": [
        {
          "output_type": "stream",
          "name": "stdout",
          "text": [
            "range(0, 10)\n"
          ]
        }
      ]
    },
    {
      "cell_type": "code",
      "source": [
        "list(map(str, range(10)))"
      ],
      "metadata": {
        "id": "h7iQZ_GBY_zd",
        "outputId": "022266a1-6dbc-4d13-8e32-e01a12126cd7",
        "colab": {
          "base_uri": "https://localhost:8080/"
        }
      },
      "execution_count": null,
      "outputs": [
        {
          "output_type": "execute_result",
          "data": {
            "text/plain": [
              "['0', '1', '2', '3', '4', '5', '6', '7', '8', '9']"
            ]
          },
          "metadata": {},
          "execution_count": 32
        }
      ]
    },
    {
      "cell_type": "code",
      "source": [
        "print(\",\".join(list(map(str, range(10)))))"
      ],
      "metadata": {
        "id": "cqPWgBZBv1ux",
        "outputId": "792e7375-eab5-4ff0-e4d3-aa092e4a234b",
        "colab": {
          "base_uri": "https://localhost:8080/"
        }
      },
      "execution_count": null,
      "outputs": [
        {
          "output_type": "stream",
          "name": "stdout",
          "text": [
            "0,1,2,3,4,5,6,7,8,9\n"
          ]
        }
      ]
    },
    {
      "cell_type": "code",
      "source": [
        "name = \"John\"\n",
        "age = 23\n",
        "msg = f\"你好, 我是{name}, 今年{age}歲\"\n",
        "print(msg)"
      ],
      "metadata": {
        "id": "zSguqcYHbPX-",
        "outputId": "2193ba89-4f4f-4289-81e6-20157520e905",
        "colab": {
          "base_uri": "https://localhost:8080/"
        }
      },
      "execution_count": null,
      "outputs": [
        {
          "output_type": "stream",
          "name": "stdout",
          "text": [
            "你好, 我是John, 今年23歲\n"
          ]
        }
      ]
    },
    {
      "cell_type": "code",
      "source": [
        "c = 30.032357\n",
        "print(f\"一美元 = 新台幣 {c}元\")"
      ],
      "metadata": {
        "colab": {
          "base_uri": "https://localhost:8080/"
        },
        "id": "cJqFl0m6bbb-",
        "outputId": "b6f00b6b-5f98-4cc7-cb0d-b625196f6d92"
      },
      "execution_count": null,
      "outputs": [
        {
          "output_type": "stream",
          "name": "stdout",
          "text": [
            "一美元 = 新台幣 30.032357元\n"
          ]
        }
      ]
    },
    {
      "cell_type": "code",
      "source": [
        "print(f\"一美元 = 新台幣 {c: .2f}元\")"
      ],
      "metadata": {
        "colab": {
          "base_uri": "https://localhost:8080/"
        },
        "id": "-cVEsUi4biHv",
        "outputId": "99eab563-75e8-4037-aca8-8ab40e62f29b"
      },
      "execution_count": null,
      "outputs": [
        {
          "output_type": "stream",
          "name": "stdout",
          "text": [
            "一美元 = 新台幣  30.03元\n"
          ]
        }
      ]
    },
    {
      "cell_type": "code",
      "source": [
        "print(f\"一美元 = 新台幣 {c: 5.2f}元\")"
      ],
      "metadata": {
        "id": "1Rz_Re-Wzzeo",
        "outputId": "423507fd-aefe-4984-d0ff-5013c05da0e2",
        "colab": {
          "base_uri": "https://localhost:8080/"
        }
      },
      "execution_count": null,
      "outputs": [
        {
          "output_type": "stream",
          "name": "stdout",
          "text": [
            "一美元 = 新台幣  30.03元\n"
          ]
        }
      ]
    },
    {
      "cell_type": "code",
      "source": [
        "star = \"*\"\n",
        "print(f\" {star:>9s}\")"
      ],
      "metadata": {
        "id": "nn6HuZ56b1Ae",
        "outputId": "275da7e2-b39a-4de7-b053-91464f72bc76",
        "colab": {
          "base_uri": "https://localhost:8080/"
        }
      },
      "execution_count": null,
      "outputs": [
        {
          "output_type": "stream",
          "name": "stdout",
          "text": [
            "         *\n"
          ]
        }
      ]
    },
    {
      "cell_type": "code",
      "source": [
        "print(f\" {star:<9s}\")"
      ],
      "metadata": {
        "id": "JPYKMYHtb39-",
        "outputId": "39f5ede8-7dba-4c18-94e0-fcd69b9b0851",
        "colab": {
          "base_uri": "https://localhost:8080/"
        }
      },
      "execution_count": null,
      "outputs": [
        {
          "output_type": "stream",
          "name": "stdout",
          "text": [
            " *        \n"
          ]
        }
      ]
    },
    {
      "cell_type": "code",
      "source": [
        "print(f\" {star:^9s}\")"
      ],
      "metadata": {
        "id": "ub-E-opCb7vu",
        "outputId": "c8093add-0bdc-41a9-ab2d-f3582da02c44",
        "colab": {
          "base_uri": "https://localhost:8080/"
        }
      },
      "execution_count": null,
      "outputs": [
        {
          "output_type": "stream",
          "name": "stdout",
          "text": [
            "     *    \n"
          ]
        }
      ]
    },
    {
      "cell_type": "code",
      "source": [
        "print(f\" {star:.>9s}\")"
      ],
      "metadata": {
        "id": "iJnVlyGccEge",
        "outputId": "f9e00a6f-88d2-4dbb-8157-0b5a08e7aaf8",
        "colab": {
          "base_uri": "https://localhost:8080/"
        }
      },
      "execution_count": null,
      "outputs": [
        {
          "output_type": "stream",
          "name": "stdout",
          "text": [
            " ........*\n"
          ]
        }
      ]
    },
    {
      "cell_type": "code",
      "source": [
        "m=2\n",
        "d=24\n",
        "print(f\"今天是{m:0>2d}月{d:0>2d}日\")"
      ],
      "metadata": {
        "id": "av-6GndycK4u",
        "outputId": "d9d7c680-1f8f-48e7-df7f-57aaf20c50ad",
        "colab": {
          "base_uri": "https://localhost:8080/"
        }
      },
      "execution_count": null,
      "outputs": [
        {
          "output_type": "stream",
          "name": "stdout",
          "text": [
            "今天是02月24日\n"
          ]
        }
      ]
    },
    {
      "cell_type": "code",
      "source": [
        "for i in range(1, 14, 2):\n",
        "  print(i, end = \",\")"
      ],
      "metadata": {
        "id": "hcPSAwjwa1GS",
        "outputId": "37b56b29-bb1b-4dbb-e165-70d6df890486",
        "colab": {
          "base_uri": "https://localhost:8080/"
        }
      },
      "execution_count": null,
      "outputs": [
        {
          "output_type": "stream",
          "name": "stdout",
          "text": [
            "1,3,5,7,9,11,13,"
          ]
        }
      ]
    },
    {
      "cell_type": "code",
      "source": [
        "for i in range(1, 14, 2):\n",
        "  stars = \"*\"*i\n",
        "  print(f\"{stars:^13s}\")"
      ],
      "metadata": {
        "id": "mt7LJFO7bAUJ",
        "outputId": "5857eab6-15e9-465c-c68d-94b25fe4e6c1",
        "colab": {
          "base_uri": "https://localhost:8080/"
        }
      },
      "execution_count": null,
      "outputs": [
        {
          "output_type": "stream",
          "name": "stdout",
          "text": [
            "      *      \n",
            "     ***     \n",
            "    *****    \n",
            "   *******   \n",
            "  *********  \n",
            " *********** \n",
            "*************\n"
          ]
        }
      ]
    },
    {
      "cell_type": "code",
      "source": [],
      "metadata": {
        "id": "_R6GB75DbMzy"
      },
      "execution_count": null,
      "outputs": []
    }
  ]
}