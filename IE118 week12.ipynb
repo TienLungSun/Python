{
  "nbformat": 4,
  "nbformat_minor": 0,
  "metadata": {
    "colab": {
      "name": "Untitled3.ipynb",
      "provenance": [],
      "include_colab_link": true
    },
    "kernelspec": {
      "name": "python3",
      "display_name": "Python 3"
    },
    "language_info": {
      "name": "python"
    },
    "widgets": {
      "application/vnd.jupyter.widget-state+json": {
        "f860b9d39a0840e5b08bcf6dccd02c4d": {
          "model_module": "@jupyter-widgets/controls",
          "model_name": "VBoxModel",
          "model_module_version": "1.5.0",
          "state": {
            "_view_name": "VBoxView",
            "_dom_classes": [
              "widget-interact"
            ],
            "_model_name": "VBoxModel",
            "_view_module": "@jupyter-widgets/controls",
            "_model_module_version": "1.5.0",
            "_view_count": null,
            "_view_module_version": "1.5.0",
            "box_style": "",
            "layout": "IPY_MODEL_98562bcdc8a544e99064ba9ce5476c92",
            "_model_module": "@jupyter-widgets/controls",
            "children": [
              "IPY_MODEL_4216590b536247ae8f49c5f268b6aaae",
              "IPY_MODEL_efb9d891ec054659bd9020ac076fbb4e"
            ]
          }
        },
        "98562bcdc8a544e99064ba9ce5476c92": {
          "model_module": "@jupyter-widgets/base",
          "model_name": "LayoutModel",
          "model_module_version": "1.2.0",
          "state": {
            "_view_name": "LayoutView",
            "grid_template_rows": null,
            "right": null,
            "justify_content": null,
            "_view_module": "@jupyter-widgets/base",
            "overflow": null,
            "_model_module_version": "1.2.0",
            "_view_count": null,
            "flex_flow": null,
            "width": null,
            "min_width": null,
            "border": null,
            "align_items": null,
            "bottom": null,
            "_model_module": "@jupyter-widgets/base",
            "top": null,
            "grid_column": null,
            "overflow_y": null,
            "overflow_x": null,
            "grid_auto_flow": null,
            "grid_area": null,
            "grid_template_columns": null,
            "flex": null,
            "_model_name": "LayoutModel",
            "justify_items": null,
            "grid_row": null,
            "max_height": null,
            "align_content": null,
            "visibility": null,
            "align_self": null,
            "height": null,
            "min_height": null,
            "padding": null,
            "grid_auto_rows": null,
            "grid_gap": null,
            "max_width": null,
            "order": null,
            "_view_module_version": "1.2.0",
            "grid_template_areas": null,
            "object_position": null,
            "object_fit": null,
            "grid_auto_columns": null,
            "margin": null,
            "display": null,
            "left": null
          }
        },
        "4216590b536247ae8f49c5f268b6aaae": {
          "model_module": "@jupyter-widgets/controls",
          "model_name": "IntSliderModel",
          "model_module_version": "1.5.0",
          "state": {
            "_view_name": "IntSliderView",
            "style": "IPY_MODEL_05be32e188d34114b63437058b56f3fa",
            "_dom_classes": [],
            "description": "x",
            "step": 1,
            "_model_name": "IntSliderModel",
            "orientation": "horizontal",
            "max": 9,
            "_view_module": "@jupyter-widgets/controls",
            "_model_module_version": "1.5.0",
            "value": 6,
            "_view_count": null,
            "disabled": false,
            "_view_module_version": "1.5.0",
            "min": -3,
            "continuous_update": true,
            "readout_format": "d",
            "description_tooltip": null,
            "readout": true,
            "_model_module": "@jupyter-widgets/controls",
            "layout": "IPY_MODEL_7de8421de6bb495f829663c3a8d710c4"
          }
        },
        "efb9d891ec054659bd9020ac076fbb4e": {
          "model_module": "@jupyter-widgets/output",
          "model_name": "OutputModel",
          "model_module_version": "1.0.0",
          "state": {
            "_view_name": "OutputView",
            "msg_id": "",
            "_dom_classes": [],
            "_model_name": "OutputModel",
            "outputs": [
              {
                "output_type": "stream",
                "name": "stdout",
                "text": [
                  "6\n"
                ]
              }
            ],
            "_view_module": "@jupyter-widgets/output",
            "_model_module_version": "1.0.0",
            "_view_count": null,
            "_view_module_version": "1.0.0",
            "layout": "IPY_MODEL_438cf853d43f44299db16f04b933ab4a",
            "_model_module": "@jupyter-widgets/output"
          }
        },
        "05be32e188d34114b63437058b56f3fa": {
          "model_module": "@jupyter-widgets/controls",
          "model_name": "SliderStyleModel",
          "model_module_version": "1.5.0",
          "state": {
            "_view_name": "StyleView",
            "handle_color": null,
            "_model_name": "SliderStyleModel",
            "description_width": "",
            "_view_module": "@jupyter-widgets/base",
            "_model_module_version": "1.5.0",
            "_view_count": null,
            "_view_module_version": "1.2.0",
            "_model_module": "@jupyter-widgets/controls"
          }
        },
        "7de8421de6bb495f829663c3a8d710c4": {
          "model_module": "@jupyter-widgets/base",
          "model_name": "LayoutModel",
          "model_module_version": "1.2.0",
          "state": {
            "_view_name": "LayoutView",
            "grid_template_rows": null,
            "right": null,
            "justify_content": null,
            "_view_module": "@jupyter-widgets/base",
            "overflow": null,
            "_model_module_version": "1.2.0",
            "_view_count": null,
            "flex_flow": null,
            "width": null,
            "min_width": null,
            "border": null,
            "align_items": null,
            "bottom": null,
            "_model_module": "@jupyter-widgets/base",
            "top": null,
            "grid_column": null,
            "overflow_y": null,
            "overflow_x": null,
            "grid_auto_flow": null,
            "grid_area": null,
            "grid_template_columns": null,
            "flex": null,
            "_model_name": "LayoutModel",
            "justify_items": null,
            "grid_row": null,
            "max_height": null,
            "align_content": null,
            "visibility": null,
            "align_self": null,
            "height": null,
            "min_height": null,
            "padding": null,
            "grid_auto_rows": null,
            "grid_gap": null,
            "max_width": null,
            "order": null,
            "_view_module_version": "1.2.0",
            "grid_template_areas": null,
            "object_position": null,
            "object_fit": null,
            "grid_auto_columns": null,
            "margin": null,
            "display": null,
            "left": null
          }
        },
        "438cf853d43f44299db16f04b933ab4a": {
          "model_module": "@jupyter-widgets/base",
          "model_name": "LayoutModel",
          "model_module_version": "1.2.0",
          "state": {
            "_view_name": "LayoutView",
            "grid_template_rows": null,
            "right": null,
            "justify_content": null,
            "_view_module": "@jupyter-widgets/base",
            "overflow": null,
            "_model_module_version": "1.2.0",
            "_view_count": null,
            "flex_flow": null,
            "width": null,
            "min_width": null,
            "border": null,
            "align_items": null,
            "bottom": null,
            "_model_module": "@jupyter-widgets/base",
            "top": null,
            "grid_column": null,
            "overflow_y": null,
            "overflow_x": null,
            "grid_auto_flow": null,
            "grid_area": null,
            "grid_template_columns": null,
            "flex": null,
            "_model_name": "LayoutModel",
            "justify_items": null,
            "grid_row": null,
            "max_height": null,
            "align_content": null,
            "visibility": null,
            "align_self": null,
            "height": null,
            "min_height": null,
            "padding": null,
            "grid_auto_rows": null,
            "grid_gap": null,
            "max_width": null,
            "order": null,
            "_view_module_version": "1.2.0",
            "grid_template_areas": null,
            "object_position": null,
            "object_fit": null,
            "grid_auto_columns": null,
            "margin": null,
            "display": null,
            "left": null
          }
        }
      }
    }
  },
  "cells": [
    {
      "cell_type": "markdown",
      "metadata": {
        "id": "view-in-github",
        "colab_type": "text"
      },
      "source": [
        "<a href=\"https://colab.research.google.com/github/TienLungSun/Python/blob/main/IE118%20week12.ipynb\" target=\"_parent\"><img src=\"https://colab.research.google.com/assets/colab-badge.svg\" alt=\"Open In Colab\"/></a>"
      ]
    },
    {
      "cell_type": "markdown",
      "metadata": {
        "id": "zdtnjov8kvzo"
      },
      "source": [
        "p.1-77 Function"
      ]
    },
    {
      "cell_type": "code",
      "metadata": {
        "id": "RkwxN3XCkckc"
      },
      "source": [
        "def square1 (x):\n",
        "  return x*x"
      ],
      "execution_count": 3,
      "outputs": []
    },
    {
      "cell_type": "code",
      "source": [
        "def square2 (x):\n",
        "  print(x*x)"
      ],
      "metadata": {
        "id": "tkn02TzHtMrH"
      },
      "execution_count": 4,
      "outputs": []
    },
    {
      "cell_type": "code",
      "source": [
        "square1(3)"
      ],
      "metadata": {
        "id": "-3UK3LGytRbh",
        "outputId": "8e0c01a1-4df5-4140-8dde-e2b601444bae",
        "colab": {
          "base_uri": "https://localhost:8080/"
        }
      },
      "execution_count": 6,
      "outputs": [
        {
          "output_type": "execute_result",
          "data": {
            "text/plain": [
              "9"
            ]
          },
          "metadata": {},
          "execution_count": 6
        }
      ]
    },
    {
      "cell_type": "code",
      "source": [
        "square2(3)"
      ],
      "metadata": {
        "id": "q8aBSrEptV6m",
        "outputId": "de219434-6d90-49a9-9083-253a0ef7a521",
        "colab": {
          "base_uri": "https://localhost:8080/"
        }
      },
      "execution_count": 7,
      "outputs": [
        {
          "output_type": "stream",
          "name": "stdout",
          "text": [
            "9\n"
          ]
        }
      ]
    },
    {
      "cell_type": "code",
      "source": [
        "a = square1(3)\n",
        "b = square2(3)\n",
        "print(a, b)"
      ],
      "metadata": {
        "id": "jL7KGa5OtYm7",
        "outputId": "f0ce4ae7-b23e-4e0a-e61c-dac2b4d45ab5",
        "colab": {
          "base_uri": "https://localhost:8080/"
        }
      },
      "execution_count": 8,
      "outputs": [
        {
          "output_type": "stream",
          "name": "stdout",
          "text": [
            "9\n",
            "9 None\n"
          ]
        }
      ]
    },
    {
      "cell_type": "code",
      "source": [
        "s = \"abcde\"\n",
        "print(s[-1], s[:-1], s[::], s[::1], s[::2], s[::3], s[::-1])"
      ],
      "metadata": {
        "id": "a7ixXdyLuQUg",
        "outputId": "85a4da5f-6bc7-4bb0-c7b3-e31c5b04e591",
        "colab": {
          "base_uri": "https://localhost:8080/"
        }
      },
      "execution_count": 21,
      "outputs": [
        {
          "output_type": "stream",
          "name": "stdout",
          "text": [
            "e abcd abcde abcde ace ad edcba\n"
          ]
        }
      ]
    },
    {
      "cell_type": "code",
      "source": [
        "def reverse(s):\n",
        "  return s[::-1]"
      ],
      "metadata": {
        "id": "3b9Ig6mqtijA"
      },
      "execution_count": 9,
      "outputs": []
    },
    {
      "cell_type": "code",
      "source": [
        "reverse(\"Apple\")"
      ],
      "metadata": {
        "id": "rH2U-sTGtptq",
        "outputId": "aee1a1d8-2071-453f-9f95-dbc31e4607ba",
        "colab": {
          "base_uri": "https://localhost:8080/",
          "height": 35
        }
      },
      "execution_count": 10,
      "outputs": [
        {
          "output_type": "execute_result",
          "data": {
            "application/vnd.google.colaboratory.intrinsic+json": {
              "type": "string"
            },
            "text/plain": [
              "'elppA'"
            ]
          },
          "metadata": {},
          "execution_count": 10
        }
      ]
    },
    {
      "cell_type": "code",
      "source": [
        "reverse([1, 2, 3, 4, 5])"
      ],
      "metadata": {
        "id": "-QaDTRWftxk7",
        "outputId": "24fbc41d-430e-421a-8c53-ad1af47a9b12",
        "colab": {
          "base_uri": "https://localhost:8080/"
        }
      },
      "execution_count": 11,
      "outputs": [
        {
          "output_type": "execute_result",
          "data": {
            "text/plain": [
              "[5, 4, 3, 2, 1]"
            ]
          },
          "metadata": {},
          "execution_count": 11
        }
      ]
    },
    {
      "cell_type": "code",
      "source": [
        "reverse(\"上海自來水來自海上\")"
      ],
      "metadata": {
        "id": "G1Ztm2YXt4oC",
        "outputId": "0205ca32-6b48-490e-96d7-94acae3829c6",
        "colab": {
          "base_uri": "https://localhost:8080/",
          "height": 35
        }
      },
      "execution_count": 12,
      "outputs": [
        {
          "output_type": "execute_result",
          "data": {
            "application/vnd.google.colaboratory.intrinsic+json": {
              "type": "string"
            },
            "text/plain": [
              "'上海自來水來自海上'"
            ]
          },
          "metadata": {},
          "execution_count": 12
        }
      ]
    },
    {
      "cell_type": "markdown",
      "metadata": {
        "id": "P3GZqZNDm5kG"
      },
      "source": [
        "p.1-81"
      ]
    },
    {
      "cell_type": "code",
      "metadata": {
        "id": "qb6XMz_vmhNj"
      },
      "source": [
        "from random import randint"
      ],
      "execution_count": 13,
      "outputs": []
    },
    {
      "cell_type": "code",
      "metadata": {
        "colab": {
          "base_uri": "https://localhost:8080/"
        },
        "id": "To5GG3EPnBs3",
        "outputId": "5df38e1e-5072-4bd5-8a74-00ba525313f7"
      },
      "source": [
        "for i in range(10):\n",
        "  print(randint(1, 5), end=\",\")"
      ],
      "execution_count": 22,
      "outputs": [
        {
          "output_type": "stream",
          "name": "stdout",
          "text": [
            "4,5,1,3,1,5,5,1,1,2,"
          ]
        }
      ]
    },
    {
      "cell_type": "code",
      "metadata": {
        "id": "dzCBgmminOw4"
      },
      "source": [
        "def game():\n",
        "  answer=randint(1, 100)\n",
        "  guess = -1\n",
        "  while(guess != answer):\n",
        "    guess = int(input (\"猜一1~100數字:\"))\n",
        "    if(guess > answer):\n",
        "      print(\"猜小一點!\")\n",
        "    elif (guess < answer):\n",
        "      print(\"猜大一點!\")\n",
        "    else:\n",
        "      print(\"Bingo !!\")"
      ],
      "execution_count": 23,
      "outputs": []
    },
    {
      "cell_type": "code",
      "metadata": {
        "id": "XVLUbeOJeaNd",
        "outputId": "4ca01069-22cb-4ba2-e333-6f8133365ad1",
        "colab": {
          "base_uri": "https://localhost:8080/"
        }
      },
      "source": [
        "game()"
      ],
      "execution_count": 24,
      "outputs": [
        {
          "output_type": "stream",
          "name": "stdout",
          "text": [
            "猜一1~100數字:32\n",
            "猜小一點!\n",
            "猜一1~100數字:28\n",
            "猜小一點!\n",
            "猜一1~100數字:12\n",
            "猜大一點!\n",
            "猜一1~100數字:16\n",
            "Bingo !!\n"
          ]
        }
      ]
    },
    {
      "cell_type": "code",
      "source": [
        "play = True\n",
        "while (play):\n",
        "  game()\n",
        "  again = input(\"再玩一次?\")\n",
        "  if(again == \"No\" or again == \"no\"):\n",
        "    play = False\n"
      ],
      "metadata": {
        "id": "cqPWgBZBv1ux",
        "outputId": "4fbb1223-f184-4004-bc31-09e8ecaedd65",
        "colab": {
          "base_uri": "https://localhost:8080/"
        }
      },
      "execution_count": 25,
      "outputs": [
        {
          "name": "stdout",
          "output_type": "stream",
          "text": [
            "猜一1~100數字:36\n",
            "猜小一點!\n",
            "猜一1~100數字:8\n",
            "猜大一點!\n",
            "猜一1~100數字:24\n",
            "猜大一點!\n",
            "猜一1~100數字:32\n",
            "猜大一點!\n",
            "猜一1~100數字:35\n",
            "猜小一點!\n",
            "猜一1~100數字:34\n",
            "Bingo !!\n",
            "再玩一次?no\n"
          ]
        }
      ]
    },
    {
      "cell_type": "markdown",
      "metadata": {
        "id": "XBarP80wfUmv"
      },
      "source": [
        "1-85 Save to py"
      ]
    },
    {
      "cell_type": "code",
      "metadata": {
        "id": "LgiQ-IHXfEfw",
        "outputId": "e65f5f50-d12b-43e0-e92a-974c1261b7b6",
        "colab": {
          "base_uri": "https://localhost:8080/"
        }
      },
      "source": [
        "%save \"test.py\" 13 23 25"
      ],
      "execution_count": 26,
      "outputs": [
        {
          "output_type": "stream",
          "name": "stdout",
          "text": [
            "The following commands were written to file `test.py`:\n",
            "from random import randint\n",
            "def game():\n",
            "  answer=randint(1, 100)\n",
            "  guess = -1\n",
            "  while(guess != answer):\n",
            "    guess = int(input (\"猜一1~100數字:\"))\n",
            "    if(guess > answer):\n",
            "      print(\"猜小一點!\")\n",
            "    elif (guess < answer):\n",
            "      print(\"猜大一點!\")\n",
            "    else:\n",
            "      print(\"Bingo !!\")\n",
            "play = True\n",
            "while (play):\n",
            "  game()\n",
            "  again = input(\"再玩一次?\")\n",
            "  if(again == \"No\" or again == \"no\"):\n",
            "    play = False\n"
          ]
        }
      ]
    },
    {
      "cell_type": "markdown",
      "source": [
        "下載 *.py 到本機. 打開 Anaconda prompt. cd 到 *.py 所在之位置. 執行 python *.py"
      ],
      "metadata": {
        "id": "dmvWNtv-ySBV"
      }
    },
    {
      "cell_type": "markdown",
      "source": [
        "p.1-89 互動"
      ],
      "metadata": {
        "id": "WjTOCaX4zdA4"
      }
    },
    {
      "cell_type": "code",
      "metadata": {
        "id": "1jj4VCSIfXkO"
      },
      "source": [
        "from ipywidgets import interact"
      ],
      "execution_count": 27,
      "outputs": []
    },
    {
      "cell_type": "code",
      "metadata": {
        "id": "lmTKWEAtfjHf"
      },
      "source": [
        "def f(x):\n",
        "  print(x)"
      ],
      "execution_count": 28,
      "outputs": []
    },
    {
      "cell_type": "code",
      "source": [
        "interact(f, x=3)"
      ],
      "metadata": {
        "id": "om2YgtwFzweT",
        "outputId": "699ab262-a82f-4103-a32b-376bd1e81f86",
        "colab": {
          "base_uri": "https://localhost:8080/",
          "height": 84,
          "referenced_widgets": [
            "f860b9d39a0840e5b08bcf6dccd02c4d",
            "98562bcdc8a544e99064ba9ce5476c92",
            "4216590b536247ae8f49c5f268b6aaae",
            "efb9d891ec054659bd9020ac076fbb4e",
            "05be32e188d34114b63437058b56f3fa",
            "7de8421de6bb495f829663c3a8d710c4",
            "438cf853d43f44299db16f04b933ab4a"
          ]
        }
      },
      "execution_count": 29,
      "outputs": [
        {
          "output_type": "display_data",
          "data": {
            "application/vnd.jupyter.widget-view+json": {
              "model_id": "f860b9d39a0840e5b08bcf6dccd02c4d",
              "version_minor": 0,
              "version_major": 2
            },
            "text/plain": [
              "interactive(children=(IntSlider(value=3, description='x', max=9, min=-3), Output()), _dom_classes=('widget-int…"
            ]
          },
          "metadata": {}
        },
        {
          "output_type": "execute_result",
          "data": {
            "text/plain": [
              "<function __main__.f>"
            ]
          },
          "metadata": {},
          "execution_count": 29
        }
      ]
    },
    {
      "cell_type": "code",
      "source": [
        ""
      ],
      "metadata": {
        "id": "1Rz_Re-Wzzeo"
      },
      "execution_count": null,
      "outputs": []
    }
  ]
}