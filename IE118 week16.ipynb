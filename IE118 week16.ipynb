{
  "nbformat": 4,
  "nbformat_minor": 0,
  "metadata": {
    "colab": {
      "name": "Untitled3.ipynb",
      "provenance": [],
      "include_colab_link": true
    },
    "kernelspec": {
      "name": "python3",
      "display_name": "Python 3"
    },
    "language_info": {
      "name": "python"
    }
  },
  "cells": [
    {
      "cell_type": "markdown",
      "metadata": {
        "id": "view-in-github",
        "colab_type": "text"
      },
      "source": [
        "<a href=\"https://colab.research.google.com/github/TienLungSun/Python/blob/main/IE118%20week16.ipynb\" target=\"_parent\"><img src=\"https://colab.research.google.com/assets/colab-badge.svg\" alt=\"Open In Colab\"/></a>"
      ]
    },
    {
      "cell_type": "code",
      "metadata": {
        "id": "RkwxN3XCkckc"
      },
      "source": [
        "class Calculator:\n",
        "  def MySum(self, x, y):\n",
        "    sum = 0\n",
        "    for i in range(x, y+1):\n",
        "      sum = sum + i\n",
        "    return sum\n",
        "\n",
        "  def MySum1(self, x, y, z):\n",
        "    sum = 0\n",
        "    for i in range(x, y+1):\n",
        "      if(i%z == 0):\n",
        "        sum = sum + i\n",
        "    return sum\n",
        "\n",
        "  def MyProduct(self, x, y):\n",
        "    prod = 1\n",
        "    for i in range(x, y+1):\n",
        "      prod = prod * i\n",
        "    return prod"
      ],
      "execution_count": 6,
      "outputs": []
    },
    {
      "cell_type": "code",
      "source": [
        "c = Calculator()"
      ],
      "metadata": {
        "id": "xJZ5W2wJXwoY"
      },
      "execution_count": 7,
      "outputs": []
    },
    {
      "cell_type": "code",
      "source": [
        "c.MySum(1,100)"
      ],
      "metadata": {
        "id": "vKV1fJxQUupU",
        "outputId": "09ed107b-4d83-47c5-afc6-9648a7bc4d2d",
        "colab": {
          "base_uri": "https://localhost:8080/"
        }
      },
      "execution_count": 8,
      "outputs": [
        {
          "output_type": "execute_result",
          "data": {
            "text/plain": [
              "5050"
            ]
          },
          "metadata": {},
          "execution_count": 8
        }
      ]
    },
    {
      "cell_type": "code",
      "source": [
        "c.MySum1(1,100, 7)"
      ],
      "metadata": {
        "id": "6-OEfnaxNLtq",
        "outputId": "e8cbd53b-4201-4dd7-a617-63c45e928d15",
        "colab": {
          "base_uri": "https://localhost:8080/"
        }
      },
      "execution_count": 9,
      "outputs": [
        {
          "output_type": "execute_result",
          "data": {
            "text/plain": [
              "735"
            ]
          },
          "metadata": {},
          "execution_count": 9
        }
      ]
    },
    {
      "cell_type": "code",
      "source": [],
      "metadata": {
        "id": "p48bg4VlNO1Y"
      },
      "execution_count": null,
      "outputs": []
    }
  ]
}